{
 "cells": [
  {
   "cell_type": "markdown",
   "metadata": {},
   "source": [
    "# An Introduction to Plotting and Data Analysis in Python 5"
   ]
  },
  {
   "cell_type": "markdown",
   "metadata": {},
   "source": [
    "Clyde Fare and João Pedro Malhado, Imperial College London (contact: [python@imperial.ac.uk](python@imperial.ac.uk))\n",
    "\n",
    "Exercise 1 uses material adapted from work by Paul Wilde. Exercise 2 is adapted and uses the dataset from the article <a href=\"http://dx.doi.org/10.2307/2682899\">F. J. Anscombe, The American Statistician, 27(1):17-21 (1973)</a>. This notebook is licensed under a [Creative Commons Attribution 4.0 (CC-by) license](http://creativecommons.org/licenses/by/4.0/)"
   ]
  },
  {
   "cell_type": "markdown",
   "metadata": {},
   "source": [
    "Let's load the pylab and non-linear fitting machinery and get that out of the way."
   ]
  },
  {
   "cell_type": "code",
   "execution_count": 1,
   "metadata": {
    "collapsed": false
   },
   "outputs": [
    {
     "name": "stdout",
     "output_type": "stream",
     "text": [
      "Populating the interactive namespace from numpy and matplotlib\n"
     ]
    }
   ],
   "source": [
    "%pylab inline\n",
    "import scipy.optimize"
   ]
  },
  {
   "cell_type": "code",
   "execution_count": 17,
   "metadata": {
    "collapsed": true
   },
   "outputs": [],
   "source": [
    "from scipy.optimize import curve_fit"
   ]
  },
  {
   "cell_type": "markdown",
   "metadata": {},
   "source": [
    "## Exercise 1"
   ]
  },
  {
   "cell_type": "markdown",
   "metadata": {},
   "source": [
    "In this exercise we will be studying the kinetics of the decomposition reaction of $N_2 O_5$\n",
    "\n",
    "$$2 N_2 O_{5 (g)} \\longrightarrow 4NO_{2 (g)} + O_{2 (g)}$$\n",
    "\n",
    "The rate of a chemical reaction is how fast the concentration of one of the reactants or products changes during the chemical reaction. In the case of the reaction under study the rate of the reaction is proportional to the concentration of $N_2 O_5$, it is said to obey a first order rate law:\n",
    "\n",
    "$$rate=- \\frac{d[N_2 O_5]}{d t} =k [N_2 O_5] ,$$\n",
    "\n",
    "where $k$ is the *rate constant*. This is a differential equation and its solution gives us the concentration of $N_2 O_5$ as a function of time.\n",
    "\n",
    "$$[N_2 O_5]=[N_2 O_5]_0 e^{-k t}￼$$\n",
    "\n",
    "where $[N_2 O_5]_0$ is the initial concentration and $t$ is the time. (If you want to know where the solution comes from click [here](https://wiki.ch.ic.ac.uk/wiki/index.php?title=Solving_the_Rate_Equation).)\n",
    "\n",
    "We are interested in determining the value of the rate constant $k$. In order to do this, the concentration of $N_2 O_5$ was recorded as a function of time at $65^{\\circ}C$, and stored in file [N2O5vst_65C.dat](files/N2O5vst_65C.dat), where the first column is time in seconds and the second column is concentration in $\\text{mol.dm}^{-3}$.\n",
    "\n",
    "* Load the data and plot the concentration of $N_2 O_5$ against time, label the axes and include the units in the label."
   ]
  },
  {
   "cell_type": "code",
   "execution_count": 2,
   "metadata": {
    "collapsed": false
   },
   "outputs": [],
   "source": [
    "data=loadtxt('N2O5vst_65C.dat')"
   ]
  },
  {
   "cell_type": "code",
   "execution_count": 3,
   "metadata": {
    "collapsed": false
   },
   "outputs": [
    {
     "data": {
      "image/png": "[encoded data removed]",
      "text/plain": [
       "<matplotlib.figure.Figure at 0x83a48d0>"
      ]
     },
     "metadata": {},
     "output_type": "display_data"
    }
   ],
   "source": [
    "data_time=data[:,0]\n",
    "data_conc=data[:,1]\n",
    "plot(data[:,0], data[:,1], linestyle='', marker='o')\n",
    "xlabel(\"Time /s\")\n",
    "ylabel(\"Concentration /moldm^-3\")\n",
    "show()"
   ]
  },
  {
   "cell_type": "markdown",
   "metadata": {},
   "source": [
    "* Create an appropriate python function for the variation of $[N_2 O_5]$ with time that through non linear fitting will allow us to extract the rate constant\n",
    "\n",
    "* Fit the function to the data and report the value of the rate constant and the uncertainty associated with it. \n",
    "\n",
    "* Superimpose the fit with the experimental data to check your fit is meaningful."
   ]
  },
  {
   "cell_type": "code",
   "execution_count": 29,
   "metadata": {
    "collapsed": false
   },
   "outputs": [],
   "source": [
    "def expon(x,k,a):\n",
    "    \"Exponential fitting data for [N2O5]\"\n",
    "    return a*e**(-k*x)"
   ]
  },
  {
   "cell_type": "code",
   "execution_count": 30,
   "metadata": {
    "collapsed": false
   },
   "outputs": [
    {
     "name": "stderr",
     "output_type": "stream",
     "text": [
      "C:\\anaconda\\lib\\site-packages\\ipykernel\\__main__.py:3: RuntimeWarning: overflow encountered in power\n",
      "  app.launch_new_instance()\n"
     ]
    }
   ],
   "source": [
    "curvy=curve_fit(expon, data_time, data_conc)"
   ]
  },
  {
   "cell_type": "code",
   "execution_count": 31,
   "metadata": {
    "collapsed": false
   },
   "outputs": [
    {
     "data": {
      "text/plain": [
       "array([ 0.00675609,  0.09547051])"
      ]
     },
     "execution_count": 31,
     "metadata": {},
     "output_type": "execute_result"
    }
   ],
   "source": [
    "cparams=curvy[0]\n",
    "cparams"
   ]
  },
  {
   "cell_type": "code",
   "execution_count": 32,
   "metadata": {
    "collapsed": true
   },
   "outputs": [],
   "source": [
    "a=cparams[1]\n",
    "k=cparams[0]"
   ]
  },
  {
   "cell_type": "code",
   "execution_count": 36,
   "metadata": {
    "collapsed": false
   },
   "outputs": [
    {
     "data": {
      "text/plain": [
       "0.00018612758934987529"
      ]
     },
     "execution_count": 36,
     "metadata": {},
     "output_type": "execute_result"
    }
   ],
   "source": [
    "unc=curvy[1]\n",
    "unc1=unc**0.5\n",
    "unck=unc1[0,0]\n",
    "unck"
   ]
  },
  {
   "cell_type": "code",
   "execution_count": 33,
   "metadata": {
    "collapsed": false
   },
   "outputs": [
    {
     "data": {
      "image/png": "[encoded data removed]",
      "text/plain": [
       "<matplotlib.figure.Figure at 0x9f1db00>"
      ]
     },
     "metadata": {},
     "output_type": "display_data"
    }
   ],
   "source": [
    "yt=a*e**(-k*data_time)\n",
    "plot(data_time, data_conc, marker='o', linestyle='')\n",
    "plot(data_time,yt, linestyle='-', marker='')\n",
    "show()"
   ]
  },
  {
   "cell_type": "markdown",
   "metadata": {},
   "source": [
    "Some other colleagues followed the same procedure as above but at different temperatures. The following table shows values of the rate constant and its uncertainty for different temperatures.\n",
    "\n",
    "<table>\n",
    "<tr><th>$T/^{\\circ} C$</th><th>$k/s^{-1}$</th><th>$\\sigma_k/s^{-1}$</th><tr>\n",
    "<tr><td>20</td><td>0.0000188</td><td>0.0000089</td></tr>\n",
    "<tr><td>30</td><td>0.0000694</td><td>0.0000073</td></tr>\n",
    "<tr><td>40</td><td>0.000260</td><td>0.000023</td></tr>\n",
    "<tr><td>50</td><td>0.000888</td><td>0.000067</td></tr>\n",
    "<tr><td>60</td><td>0.00293</td><td>0.00021</td></tr>\n",
    "</table>\n",
    "\n",
    "The variation of the rate constant with temperature can give important information about the chemical reaction. The rate constant of an elementary reaction varies in general with temperature according to the Arrhenius equation that you will cover in more detail in your kinetics lectures\n",
    "\n",
    "$$k(T)=A e^{-\\frac{E_a}{R T}} ,$$\n",
    "\n",
    "where $E_a$ is activation energy, $A$ is the so called pre-exponential factor (which is related to the frequency of molecular collisions) and $R$ is the ideal gas constant.\n",
    "\n",
    "* Create an appropriate function that through non linear fitting will allow us to extract the pre-exponential factor and the activation energy.\n",
    "\n",
    "* From the rate constant values on the table above, and the rate constant value you have determined, fit the data to the determine the pre-exponential factor and the activation energy for this reaction. \n",
    "\n",
    "* Plot values predicted from your fitted function alongside the experimental values to visualise your result.\n",
    "\n",
    "*Note 1*: The uncertainties associated with each rate constant are different, you should take this into account. \n",
    "\n",
    "*Note 2*: Units of temperature must be consistent with units of R."
   ]
  },
  {
   "cell_type": "code",
   "execution_count": 37,
   "metadata": {
    "collapsed": false
   },
   "outputs": [],
   "source": [
    "def rct(T,A,Ea):\n",
    "    \"k(T)\"\n",
    "    return A*e**(-Ea/(8.314*T))"
   ]
  },
  {
   "cell_type": "code",
   "execution_count": 50,
   "metadata": {
    "collapsed": false
   },
   "outputs": [],
   "source": [
    "temp2=linspace(293,335,100)\n",
    "temp=array([293,303,313,323,333])\n",
    "kta=array([0.0000188,0.0000694,0.000260,0.000888,0.00293])\n",
    "kerr=array([0.0000089,0.0000073,0.000023,0.000067,0.00021])"
   ]
  },
  {
   "cell_type": "code",
   "execution_count": 51,
   "metadata": {
    "collapsed": false
   },
   "outputs": [],
   "source": [
    "curvek=curve_fit(rct,temp,kta,sigma=kerr)"
   ]
  },
  {
   "cell_type": "code",
   "execution_count": 52,
   "metadata": {
    "collapsed": false
   },
   "outputs": [
    {
     "data": {
      "text/plain": [
       "array([  7.04766748e+13,   1.04457055e+05])"
      ]
     },
     "execution_count": 52,
     "metadata": {},
     "output_type": "execute_result"
    }
   ],
   "source": [
    "kparams=curvek[0]\n",
    "kparams"
   ]
  },
  {
   "cell_type": "code",
   "execution_count": 56,
   "metadata": {
    "collapsed": false
   },
   "outputs": [
    {
     "data": {
      "text/plain": [
       "104457.05467244275"
      ]
     },
     "execution_count": 56,
     "metadata": {},
     "output_type": "execute_result"
    }
   ],
   "source": [
    "A=kparams[0]\n",
    "Ea=kparams[1]\n",
    "Ea"
   ]
  },
  {
   "cell_type": "code",
   "execution_count": 101,
   "metadata": {
    "collapsed": false
   },
   "outputs": [
    {
     "data": {
      "text/plain": [
       "70476674843556.172"
      ]
     },
     "execution_count": 101,
     "metadata": {},
     "output_type": "execute_result"
    }
   ],
   "source": [
    "A"
   ]
  },
  {
   "cell_type": "code",
   "execution_count": 55,
   "metadata": {
    "collapsed": false,
    "scrolled": true
   },
   "outputs": [
    {
     "data": {
      "image/png": "[encoded data removed]",
      "text/plain": [
       "<matplotlib.figure.Figure at 0xa0c3240>"
      ]
     },
     "metadata": {},
     "output_type": "display_data"
    }
   ],
   "source": [
    "yk=A*e**(-Ea/(8.314*temp2))\n",
    "plot(temp,kta,marker='o', linestyle='')\n",
    "plot(temp2,yk, marker='', linestyle='-')\n",
    "show()"
   ]
  },
  {
   "cell_type": "markdown",
   "metadata": {},
   "source": [
    "If you are having difficulties finding a suitable initial guess for the non-linear Arrhenius fit, or if you managed to extract your activation energy quickly try a different approach:\n",
    "\n",
    "The Arrhenius equation is a non-linear function of $T$, but can be converted into a linear form by taking the natural logarithm of both sides of the equation:\n",
    "\n",
    "$$\\ln(k)=\\ln(A)-\\frac{E_a}{R}\\frac{1}{T} .$$\n",
    "\n",
    "We obtain a linear relationship between $\\ln(k)$ and $\\frac{1}{T}$, where the intercept is $\\ln(A)$ and the slope $-\\frac{E_a}{R}$. It should be noted that it is only possible in a few cases to transform a non-linear equation into a linear one in this way.\n",
    "\n",
    "* Plot $\\ln(k)$ against $\\frac{1}{T}$\n",
    "* Use polyfit to extract the gradient and intercept of the $\\ln(k)$ vs. $\\frac{1}{T}$ data (ignore any uncertainties associated with the data when performing this fit) \n",
    "* Use these to determine the activation energy and the pre-exponential factor. \n",
    "* How do your results compare with the non-linear fit above?"
   ]
  },
  {
   "cell_type": "code",
   "execution_count": 93,
   "metadata": {
    "collapsed": false
   },
   "outputs": [],
   "source": [
    "lk=log(kta)\n",
    "rt=1/temp"
   ]
  },
  {
   "cell_type": "code",
   "execution_count": 94,
   "metadata": {
    "collapsed": false
   },
   "outputs": [
    {
     "data": {
      "image/png": "[encoded data removed]",
      "text/plain": [
       "<matplotlib.figure.Figure at 0xa131320>"
      ]
     },
     "metadata": {},
     "output_type": "display_data"
    }
   ],
   "source": [
    "plot(rt,lk,linestyle='', marker='o')\n",
    "show()"
   ]
  },
  {
   "cell_type": "code",
   "execution_count": 95,
   "metadata": {
    "collapsed": false
   },
   "outputs": [],
   "source": [
    "pol=polyfit(rt, lk, 1)"
   ]
  },
  {
   "cell_type": "code",
   "execution_count": 98,
   "metadata": {
    "collapsed": false
   },
   "outputs": [
    {
     "data": {
      "text/plain": [
       "array([-12339.15860426,     31.18871176])"
      ]
     },
     "execution_count": 98,
     "metadata": {},
     "output_type": "execute_result"
    }
   ],
   "source": [
    "pol"
   ]
  },
  {
   "cell_type": "code",
   "execution_count": 99,
   "metadata": {
    "collapsed": false
   },
   "outputs": [
    {
     "data": {
      "text/plain": [
       "102587.76463581134"
      ]
     },
     "execution_count": 99,
     "metadata": {},
     "output_type": "execute_result"
    }
   ],
   "source": [
    "activation_energy=-pol[0]*8.314\n",
    "activation_energy"
   ]
  },
  {
   "cell_type": "code",
   "execution_count": 100,
   "metadata": {
    "collapsed": false
   },
   "outputs": [
    {
     "data": {
      "text/plain": [
       "35082086328474.43"
      ]
     },
     "execution_count": 100,
     "metadata": {},
     "output_type": "execute_result"
    }
   ],
   "source": [
    "preexponential_factor=e**pol[1]\n",
    "preexponential_factor"
   ]
  },
  {
   "cell_type": "code",
   "execution_count": null,
   "metadata": {
    "collapsed": true
   },
   "outputs": [],
   "source": [
    "#Ea is roughly the same, but A is about half the value of the curve above"
   ]
  },
  {
   "cell_type": "markdown",
   "metadata": {},
   "source": [
    "In the previous question we performed a fit without taking the uncertainties associated with the data into account. This is equivalent to considering all the $\\ln(k)$ data points have the same uncertainty. From the $T$ vs $k$ table above we know this is not the case, and we should take the uncertainties into account. Note however that $\\sigma_k$ is not the same as $\\sigma_{\\ln(k)}$, and also $\\sigma_{\\ln(k)}\\neq\\ln(\\sigma_k)$! There are [general methods](http://en.wikipedia.org/wiki/Propagation_of_uncertainty#Simplification) to propagate the uncertainty of a value upon a mathematical operation. For the present purposes however, we will focus on the case of the logarithm at hand:\n",
    "\n",
    "$$\\sigma_{\\ln(k)}=\\frac{\\sigma_k}{k} .$$\n",
    "\n",
    "* Plot the values of $\\ln(k)$ as a function of $\\frac{1}{T}$ with appropriate error bars. Note the values of the error bars at low $T$ values. What do you expect the relative contribution of these data points to the linear fit to be?\n",
    "\n",
    "* Fit the data taking into account the error bars (recall the differences between functions *polyfit* and *curve_fit* in dealing with data point uncertainty). How do the results obtained via this procedure compare with the ones obtained via direct exponential fit?"
   ]
  },
  {
   "cell_type": "code",
   "execution_count": 107,
   "metadata": {
    "collapsed": false
   },
   "outputs": [
    {
     "data": {
      "image/png": "[encoded data removed]",
      "text/plain": [
       "<matplotlib.figure.Figure at 0xa0fd1d0>"
      ]
     },
     "metadata": {},
     "output_type": "display_data"
    }
   ],
   "source": [
    "lnsigm=kerr/kta\n",
    "errorbar(rt,lk,marker='o',linestyle='',yerr=lnsigm)\n",
    "plot(rt, lk,marker='', linestyle='--')\n",
    "show()"
   ]
  },
  {
   "cell_type": "code",
   "execution_count": 108,
   "metadata": {
    "collapsed": false
   },
   "outputs": [
    {
     "data": {
      "text/plain": [
       "array([-12602.77743043,     32.00585773])"
      ]
     },
     "execution_count": 108,
     "metadata": {},
     "output_type": "execute_result"
    }
   ],
   "source": [
    "lin=polyfit(rt,lk,1,cov=True, w=1/(lnsigm**2))\n",
    "lparams=lin[0]\n",
    "lparams"
   ]
  },
  {
   "cell_type": "code",
   "execution_count": 110,
   "metadata": {
    "collapsed": false
   },
   "outputs": [
    {
     "data": {
      "text/plain": [
       "104779.4915565596"
      ]
     },
     "execution_count": 110,
     "metadata": {},
     "output_type": "execute_result"
    }
   ],
   "source": [
    "Ea2=-lparams[0]*8.314\n",
    "Ea2"
   ]
  },
  {
   "cell_type": "code",
   "execution_count": 111,
   "metadata": {
    "collapsed": false
   },
   "outputs": [
    {
     "data": {
      "text/plain": [
       "79426861171184.891"
      ]
     },
     "execution_count": 111,
     "metadata": {},
     "output_type": "execute_result"
    }
   ],
   "source": [
    "k2=e**(lparams[1])\n",
    "k2"
   ]
  },
  {
   "cell_type": "code",
   "execution_count": null,
   "metadata": {
    "collapsed": true
   },
   "outputs": [],
   "source": [
    "#This is now much closer to the curve values of k and Ea"
   ]
  },
  {
   "cell_type": "markdown",
   "metadata": {},
   "source": [
    "## Exercise 2"
   ]
  },
  {
   "cell_type": "markdown",
   "metadata": {},
   "source": [
    "The dataset in the CSV file <a href=\"anscombe.csv\">anscombe.csv</a> is formed by 4 sets of x and y values in the form\n",
    "\n",
    "<table>\n",
    "<tr><td colspan=2>Set 1</td><td colspan=2>Set 2</td><td colspan=2>Set 3</td><td colspan=2>Set 4</td></tr>\n",
    "<tr><td>x</td><td>y</td><td>x</td><td>y</td><td>x</td><td>y</td><td>x</td><td>y</td></tr>\n",
    "</table>\n",
    "\n",
    "* Load the data onto the notebook\n",
    "* Calculate the mean of x and y for all sets"
   ]
  },
  {
   "cell_type": "code",
   "execution_count": 61,
   "metadata": {
    "collapsed": false
   },
   "outputs": [
    {
     "data": {
      "text/plain": [
       "array([[ 10.  ,   8.04,  10.  ,   9.14,  10.  ,   7.46,   8.  ,   6.58],\n",
       "       [  8.  ,   6.95,   8.  ,   8.14,   8.  ,   6.77,   8.  ,   5.76],\n",
       "       [ 13.  ,   7.58,  13.  ,   8.74,  13.  ,  12.74,   8.  ,   7.71],\n",
       "       [  9.  ,   8.81,   9.  ,   8.77,   9.  ,   7.11,   8.  ,   8.84],\n",
       "       [ 11.  ,   8.33,  11.  ,   9.26,  11.  ,   7.81,   8.  ,   8.47],\n",
       "       [ 14.  ,   9.96,  14.  ,   8.1 ,  14.  ,   8.84,   8.  ,   7.04],\n",
       "       [  6.  ,   7.24,   6.  ,   6.13,   6.  ,   6.08,   8.  ,   5.25],\n",
       "       [  4.  ,   4.26,   4.  ,   3.1 ,   4.  ,   5.39,  19.  ,  12.5 ],\n",
       "       [ 12.  ,  10.84,  12.  ,   9.13,  12.  ,   8.15,   8.  ,   5.56],\n",
       "       [  7.  ,   4.82,   7.  ,   7.26,   7.  ,   6.42,   8.  ,   7.91],\n",
       "       [  5.  ,   5.68,   5.  ,   4.74,   5.  ,   5.73,   8.  ,   6.89]])"
      ]
     },
     "execution_count": 61,
     "metadata": {},
     "output_type": "execute_result"
    }
   ],
   "source": [
    "data=loadtxt('anscombe.csv', delimiter=',')\n",
    "data"
   ]
  },
  {
   "cell_type": "code",
   "execution_count": 67,
   "metadata": {
    "collapsed": false
   },
   "outputs": [
    {
     "data": {
      "text/plain": [
       "array([ 9.        ,  7.50090909,  9.        ,  7.50090909,  9.        ,\n",
       "        7.5       ,  9.        ,  7.50090909])"
      ]
     },
     "execution_count": 67,
     "metadata": {},
     "output_type": "execute_result"
    }
   ],
   "source": [
    "m=mean(data, axis=0)\n",
    "m"
   ]
  },
  {
   "cell_type": "markdown",
   "metadata": {},
   "source": [
    "* Do a linear fit of y against x for each set. (You may want to define a function that receives the data, does the fit, and returns an array with the desired parameters.)"
   ]
  },
  {
   "cell_type": "code",
   "execution_count": 65,
   "metadata": {
    "collapsed": false
   },
   "outputs": [],
   "source": [
    "x1=data[:,0]\n",
    "y1=data[:,1]\n",
    "x2=data[:,2]\n",
    "y2=data[:,3]\n",
    "x3=data[:,4]\n",
    "y3=data[:,5]\n",
    "x4=data[:,6]\n",
    "y4=data[:,7]\n",
    "arange=data[]"
   ]
  },
  {
   "cell_type": "code",
   "execution_count": 69,
   "metadata": {
    "collapsed": true
   },
   "outputs": [],
   "source": [
    "poly1=polyfit(x1,y1,1, cov=True)\n",
    "poly2=polyfit(x2,y2,1,cov=True)\n",
    "poly3=polyfit(x3,y3,1,cov=True)\n",
    "poly4=polyfit(x4,y4,1,cov=True)"
   ]
  },
  {
   "cell_type": "code",
   "execution_count": 71,
   "metadata": {
    "collapsed": true
   },
   "outputs": [],
   "source": [
    "p1=poly1[0]\n",
    "p2=poly2[0]\n",
    "p3=poly3[0]\n",
    "p4=poly4[0]"
   ]
  },
  {
   "cell_type": "code",
   "execution_count": 72,
   "metadata": {
    "collapsed": true
   },
   "outputs": [],
   "source": [
    "m1=p1[0]\n",
    "c1=p1[1]\n",
    "m2=p2[0]\n",
    "c2=p2[1]\n",
    "m3=p3[0]\n",
    "c3=p3[1]\n",
    "m4=p4[0]\n",
    "c4=p4[1]"
   ]
  },
  {
   "cell_type": "code",
   "execution_count": 73,
   "metadata": {
    "collapsed": false
   },
   "outputs": [
    {
     "data": {
      "image/png": "[encoded data removed]",
      "text/plain": [
       "<matplotlib.figure.Figure at 0xa12b630>"
      ]
     },
     "metadata": {},
     "output_type": "display_data"
    }
   ],
   "source": [
    "fit1=m1*x1+c1\n",
    "fit2=m2*x2+c2\n",
    "fit3=m3*x3+c3\n",
    "fit4=m4*x4+c4\n",
    "\n",
    "plot(x1,y1,marker='o', linestyle='')\n",
    "plot(x1,fit1, marker='', linestyle='-')\n",
    "show()"
   ]
  },
  {
   "cell_type": "code",
   "execution_count": 74,
   "metadata": {
    "collapsed": false,
    "scrolled": false
   },
   "outputs": [
    {
     "data": {
      "image/png": "[encoded data removed]",
      "text/plain": [
       "<matplotlib.figure.Figure at 0xa17b438>"
      ]
     },
     "metadata": {},
     "output_type": "display_data"
    }
   ],
   "source": [
    "plot(x2,y2,marker='o', linestyle='')\n",
    "plot(x2,fit2, marker='', linestyle='-')\n",
    "show()"
   ]
  },
  {
   "cell_type": "code",
   "execution_count": 77,
   "metadata": {
    "collapsed": false,
    "scrolled": true
   },
   "outputs": [
    {
     "data": {
      "image/png": "[encoded data removed]",
      "text/plain": [
       "<matplotlib.figure.Figure at 0x8d30c18>"
      ]
     },
     "metadata": {},
     "output_type": "display_data"
    }
   ],
   "source": [
    "plot(x3,y3,marker='o', linestyle='')\n",
    "plot(x3,fit3, marker='', linestyle='-')\n",
    "show()"
   ]
  },
  {
   "cell_type": "code",
   "execution_count": 78,
   "metadata": {
    "collapsed": false
   },
   "outputs": [
    {
     "data": {
      "image/png": "[encoded data removed]",
      "text/plain": [
       "<matplotlib.figure.Figure at 0xa149668>"
      ]
     },
     "metadata": {},
     "output_type": "display_data"
    }
   ],
   "source": [
    "plot(x4,y4,marker='o', linestyle='')\n",
    "plot(x4,fit4, marker='', linestyle='-')\n",
    "show()"
   ]
  },
  {
   "cell_type": "markdown",
   "metadata": {},
   "source": [
    "* To better organize the data, create an array of the form:\n",
    "\n",
    "$$\\begin{align}\\text{array}([&[\\bar{x}_1,\\bar{y}_1,m_1,b_1],\\\\&[\\bar{x}_2,\\bar{y}_2,m_2,b_2],\\\\&...])\\end{align}$$\n",
    "\n",
    "where m<sub>1</sub>, b<sub>1</sub>, etc. are respectively the slope and intercept of the fit to data set 1"
   ]
  },
  {
   "cell_type": "code",
   "execution_count": 80,
   "metadata": {
    "collapsed": false
   },
   "outputs": [
    {
     "data": {
      "text/plain": [
       "array([[ 9.        ,  7.50090909,  0.50009091,  3.00009091],\n",
       "       [ 9.        ,  7.50090909,  0.5       ,  3.00090909],\n",
       "       [ 9.        ,  7.5       ,  0.49972727,  3.00245455],\n",
       "       [ 9.        ,  7.50090909,  0.49990909,  3.00172727]])"
      ]
     },
     "execution_count": 80,
     "metadata": {},
     "output_type": "execute_result"
    }
   ],
   "source": [
    "d=array([[m[0],m[1],m1,c1],[m[2],m[3],m2,c2],[m[4],m[5],m3,c3],[m[6],m[7],m4,c4]])\n",
    "d"
   ]
  },
  {
   "cell_type": "markdown",
   "metadata": {},
   "source": [
    "Compare the values you obtained for each data set. Based on your analysis so far, could you conclude that the four sets of data correspond to the same experiment and agree with each other?\n",
    "\n",
    "* Plot your data along with your linear fit in each case."
   ]
  },
  {
   "cell_type": "code",
   "execution_count": null,
   "metadata": {
    "collapsed": false
   },
   "outputs": [],
   "source": []
  },
  {
   "cell_type": "markdown",
   "metadata": {},
   "source": [
    "Would you now reach the same conclusion to the question above?\n",
    "\n",
    "*Conclusion: You should always plot your data! Do not blindly rely on statistical measures.*\n",
    "\n",
    "For which of the datasets is the linear fit meaningful? Plotting the residuals helps you answering this question."
   ]
  },
  {
   "cell_type": "code",
   "execution_count": 81,
   "metadata": {
    "collapsed": false
   },
   "outputs": [],
   "source": [
    "res1=fit1-y1\n",
    "res2=fit2-y2\n",
    "res3=fit3-y3\n",
    "res4=fit4-y4"
   ]
  },
  {
   "cell_type": "code",
   "execution_count": 88,
   "metadata": {
    "collapsed": false
   },
   "outputs": [
    {
     "data": {
      "image/png": "[encoded data removed]",
      "text/plain": [
       "<matplotlib.figure.Figure at 0xa232278>"
      ]
     },
     "metadata": {},
     "output_type": "display_data"
    }
   ],
   "source": [
    "plot(x1, res1, marker='o', linestyle='')\n",
    "axhline(0, linestyle='--')\n",
    "show()"
   ]
  },
  {
   "cell_type": "code",
   "execution_count": 89,
   "metadata": {
    "collapsed": false
   },
   "outputs": [
    {
     "data": {
      "image/png": "[encoded data removed]",
      "text/plain": [
       "<matplotlib.figure.Figure at 0x843bf98>"
      ]
     },
     "metadata": {},
     "output_type": "display_data"
    }
   ],
   "source": [
    "plot(x2, res2, marker='o', linestyle='')\n",
    "axhline(0, linestyle='--')\n",
    "show()"
   ]
  },
  {
   "cell_type": "code",
   "execution_count": 90,
   "metadata": {
    "collapsed": false
   },
   "outputs": [
    {
     "data": {
      "image/png": "[encoded data removed]",
      "text/plain": [
       "<matplotlib.figure.Figure at 0xa0e00f0>"
      ]
     },
     "metadata": {},
     "output_type": "display_data"
    }
   ],
   "source": [
    "plot(x3, res3, marker='o', linestyle='')\n",
    "axhline(0, linestyle='--')\n",
    "show()"
   ]
  },
  {
   "cell_type": "code",
   "execution_count": 91,
   "metadata": {
    "collapsed": false
   },
   "outputs": [
    {
     "data": {
      "image/png": "[encoded data removed]",
      "text/plain": [
       "<matplotlib.figure.Figure at 0x83bb128>"
      ]
     },
     "metadata": {},
     "output_type": "display_data"
    }
   ],
   "source": [
    "plot(x4, res4, marker='o', linestyle='')\n",
    "axhline(0, linestyle='--')\n",
    "show()"
   ]
  },
  {
   "cell_type": "code",
   "execution_count": null,
   "metadata": {
    "collapsed": true
   },
   "outputs": [],
   "source": [
    "#Plot 3 looks to be the most meaningful as it is very linear with only one major outlier."
   ]
  }
 ],
 "metadata": {
  "anaconda-cloud": {},
  "kernelspec": {
   "display_name": "Python [default]",
   "language": "python",
   "name": "python3"
  },
  "language_info": {
   "codemirror_mode": {
    "name": "ipython",
    "version": 3
   },
   "file_extension": ".py",
   "mimetype": "text/x-python",
   "name": "python",
   "nbconvert_exporter": "python",
   "pygments_lexer": "ipython3",
   "version": "3.5.2"
  }
 },
 "nbformat": 4,
 "nbformat_minor": 0
}
