{
 "cells": [
  {
   "cell_type": "markdown",
   "metadata": {},
   "source": [
    "## Generation of the MgO bulk structure\n"
   ]
  },
  {
   "cell_type": "markdown",
   "metadata": {},
   "source": [
    "#### Input explanation\n",
    "The following code cell will generate the structure of MgO by using a set of python scripts called Atomic Simulation Environment [ASE](https://wiki.fysik.dtu.dk/ase/index.html):\n",
    "- In the top part of the script, the modules nedeed are imported;\n",
    "- The structural specifications for the MgO are given in the input;\n",
    "  - **basis** is a vector containing the position of the irreducible atoms in the primitive cell;\n",
    "  - **spacegroup** is the sequential number of the space group according to the [International Tables for Crystallography](https://it.iucr.org/);\n",
    "  - **a** is the length of the conventional cell in  Å.\n",
    "- Then the MgO crystal structure is created as the 'MgO' object. This is done by using the 'crystal' function, which was imported from the ase.spacegroup in the second line of the script;\n",
    "  - First the names of the irreducible atoms are specified;\n",
    "  - The cellpar is a list of the lattice vector lenghts and angles among them (a, b, c, $\\alpha$, $\\beta$, \n",
    "  $\\gamma$). Since the MgO phase that is being modelled here is cubic, a=b=c, so a is repeated three times.\n",
    "  The angles among the vectors are of 90$^o$;\n",
    "  - Primitive_cell is set equal to True in order to generate the primitive cell structure first.\n",
    "- The view(MgO) command calls the view module imported from [ase.visualize](https://wiki.fysik.dtu.dk/ase/ase/visualize/visualize.html?highlight=view#ase.visualize.view) and opens a GUI to show the\n",
    "MgO structure that has just been created. Mg and O atoms are shown in green and red, respectively.\n",
    "\n",
    "- Another object is then created through the crystal function. This time it is called 'MgO_c' and it is visualised in the GUI.\n",
    "\n",
    "The volume of the two cells is printed for you. There is a list of properties of the MgO (or MgO_c) object that you can print. They can be found [here](https://wiki.fysik.dtu.dk/ase/ase/atoms.html). For example, you might want to print the lattice vectors by using the *MgO.get_cell()* command$^*$ or the position of the atoms by using the *MgO.get_positions()* command$^*$.\n",
    "<br>\n",
    "<br>\n",
    "\n",
    "More information about the creation of crystal structures can be found [here](https://wiki.fysik.dtu.dk/ase/ase/spacegroup/spacegroup.html?highlight=spacegroup#). ASE also allows for the creation of other structures (molecules, slabs, nanostructures, etc.), please have a look at this [link](https://wiki.fysik.dtu.dk/ase/ase/build/build.html) to find out more.\n",
    "<br>\n",
    "<br>\n",
    "$^*$ If you want to see what is the result of a command in python, you need to print it (this only means that it will be printed to the screen, so printers involved!). Therefore, if you want to see what are the lattice vectors you need to type: print(MgO.get_cell()) . \n",
    "<br>\n"
   ]
  },
  {
   "cell_type": "code",
   "execution_count": 1,
   "metadata": {
    "scrolled": true
   },
   "outputs": [
    {
     "name": "stdout",
     "output_type": "stream",
     "text": [
      "Volume  of  the  primitive cell: 31.25 Å^3\n",
      "Volume of the conventional cell: 125.0 Å^3\n"
     ]
    }
   ],
   "source": [
    "import numpy as np\n",
    "from ase.spacegroup import crystal\n",
    "from ase.visualize import view\n",
    "from math import sqrt\n",
    "import re\n",
    "\n",
    "basis = [[0.0,0.0,0.0],[0.5,0.5,0.5]]\n",
    "spacegroup = 225\n",
    "a = 5\n",
    "MgO = crystal('MgO',basis=basis,spacegroup=225,cellpar=[a, a, a, 90, 90, 90],primitive_cell=True)\n",
    "view(MgO)\n",
    "\n",
    "MgO_c = crystal('MgO',basis=basis,spacegroup=225,cellpar=[a, a, a, 90, 90, 90],primitive_cell=False)\n",
    "view(MgO_c)\n",
    "\n",
    "print('Volume  of  the  primitive cell: {} Å^3'.format(round(MgO.get_volume(),5)))\n",
    "print('Volume of the conventional cell: {} Å^3'.format(round(MgO_c.get_volume(),5)))"
   ]
  },
  {
   "cell_type": "markdown",
   "metadata": {},
   "source": [
    "**Question:** <br>\n",
    "1. Describe the structures.\n",
    "    - What is the difference between the primitive cell and the conventional cell? <br>\n",
    "    - How many atoms belong to each cell?<br> \n",
    "    - What is the difference in volume? And density?<br> \n",
    "    - What is the shape of the cell?<br> \n",
    "2. What is the density of the structure with this lattice constant and how does that compare to the experimental one?\n",
    "    - Find the experimental density of MgO in the literature.\n"
   ]
  }
 ],
 "metadata": {
  "kernelspec": {
   "display_name": "Python 3",
   "language": "python",
   "name": "python3"
  },
  "language_info": {
   "codemirror_mode": {
    "name": "ipython",
    "version": 3
   },
   "file_extension": ".py",
   "mimetype": "text/x-python",
   "name": "python",
   "nbconvert_exporter": "python",
   "pygments_lexer": "ipython3",
   "version": "3.6.6"
  }
 },
 "nbformat": 4,
 "nbformat_minor": 2
}
