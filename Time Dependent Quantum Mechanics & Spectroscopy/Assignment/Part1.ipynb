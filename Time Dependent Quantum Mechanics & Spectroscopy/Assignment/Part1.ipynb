{
 "cells": [
  {
   "cell_type": "code",
   "execution_count": 99,
   "metadata": {
    "scrolled": true
   },
   "outputs": [
    {
     "name": "stdout",
     "output_type": "stream",
     "text": [
      "Using matplotlib backend: Qt5Agg\n",
      "Populating the interactive namespace from numpy and matplotlib\n"
     ]
    }
   ],
   "source": [
    "%pylab"
   ]
  },
  {
   "cell_type": "code",
   "execution_count": 101,
   "metadata": {
    "collapsed": true
   },
   "outputs": [],
   "source": [
    "x=linspace(0,5,10000)"
   ]
  },
  {
   "cell_type": "code",
   "execution_count": 81,
   "metadata": {
    "collapsed": true
   },
   "outputs": [],
   "source": [
    "def V0(x,D,re,a):\n",
    "    V0=D*(1-exp(-a*(x-re)))**2\n",
    "    return V0"
   ]
  },
  {
   "cell_type": "code",
   "execution_count": 82,
   "metadata": {
    "collapsed": true
   },
   "outputs": [],
   "source": [
    "D=0.15\n",
    "re=0.64\n",
    "a=6.5"
   ]
  },
  {
   "cell_type": "code",
   "execution_count": 83,
   "metadata": {
    "collapsed": true
   },
   "outputs": [],
   "source": [
    "def VHO(x,k,re,E0):\n",
    "    VHO=0.5*k*(x-re)**2+E0\n",
    "    return VHO"
   ]
  },
  {
   "cell_type": "code",
   "execution_count": 84,
   "metadata": {
    "collapsed": true
   },
   "outputs": [],
   "source": [
    "ka=6\n",
    "rea=0.55\n",
    "E0a=0.3\n",
    "kb=40\n",
    "reb=1\n",
    "E0b=0.55"
   ]
  },
  {
   "cell_type": "code",
   "execution_count": 85,
   "metadata": {
    "collapsed": true
   },
   "outputs": [],
   "source": [
    "gamma=0.75"
   ]
  },
  {
   "cell_type": "code",
   "execution_count": 86,
   "metadata": {
    "collapsed": true
   },
   "outputs": [],
   "source": [
    "def V1(x,ka,rea,E0a,kb,reb,E0b,gamma):\n",
    "    VHOa=0.5*ka*(x-rea)**2+E0a\n",
    "    VHOb=0.5*kb*(x-reb)**2+E0b\n",
    "    V1=0.5*(VHOa+VHOb)-0.5*sqrt((VHOa-VHOb)**2+2*gamma**2)\n",
    "    return V1"
   ]
  },
  {
   "cell_type": "code",
   "execution_count": 87,
   "metadata": {},
   "outputs": [],
   "source": [
    "plot(x,V0(x,D,re,a),label='Morse Potential')\n",
    "plot(x,V1(x,ka,rea,E0a,kb,reb,E0b,gamma), label='Excited State Potential')\n",
    "xlim(0.2,1.5)\n",
    "ylim(0,0.5)\n",
    "xlabel('$x/a_0$')\n",
    "ylabel('$V/E_h$')\n",
    "title('Ground and First Excited State Potentials')\n",
    "legend(loc='upper right')\n",
    "show()"
   ]
  },
  {
   "cell_type": "code",
   "execution_count": 9,
   "metadata": {
    "collapsed": true
   },
   "outputs": [],
   "source": [
    "from qdyn import propagator, animate_dynamics"
   ]
  },
  {
   "cell_type": "code",
   "execution_count": 10,
   "metadata": {
    "collapsed": true
   },
   "outputs": [],
   "source": [
    "from numpy.polynomial.hermite import hermval\n",
    "\n",
    "def eigen_ho(x,v,m,k,r):\n",
    "    \"\"\"Calculates the eigenfunction of the harmonic oscillator system.\n",
    "    \n",
    "    Arguments\n",
    "    x: is a space coordinate.\n",
    "    v: is the vibrational quantum number.\n",
    "    m: is the mas of the system.\n",
    "    k: is the force constant of the harmonic potential.\n",
    "    \"\"\"\n",
    "    \n",
    "    hermite_sum=zeros(v+1)\n",
    "    hermite_sum[-1]=1\n",
    "    return 1/(2**v * math.factorial(v))**0.5 * (((m*k)**0.5)/pi)**0.25 * np.e**(-(x-r)**2 * ((m*k)**0.5)/2) * hermval((m*k)**0.25 * (x-r),hermite_sum) "
   ]
  },
  {
   "cell_type": "markdown",
   "metadata": {},
   "source": [
    "Ground State Simulation"
   ]
  },
  {
   "cell_type": "code",
   "execution_count": 12,
   "metadata": {
    "collapsed": true
   },
   "outputs": [],
   "source": [
    "x=linspace(0,10,100000)\n",
    "dt=10\n",
    "x0=0\n",
    "v=0\n",
    "m=14583\n",
    "k=2*D*a**2\n",
    "r=0.64\n",
    "psi0=eigen_ho(x,x0,m,k,r)\n",
    "\n",
    "# Add the initial wavefunction to the array with the wavefunction evolution\n",
    "wf_dynamics=array([psi0])"
   ]
  },
  {
   "cell_type": "code",
   "execution_count": 40,
   "metadata": {},
   "outputs": [
    {
     "data": {
      "text/plain": [
       "<matplotlib.animation.FuncAnimation at 0x1b31e9ff320>"
      ]
     },
     "execution_count": 40,
     "metadata": {},
     "output_type": "execute_result"
    }
   ],
   "source": [
    "for steps in range(100): # How many time steps/how many times to apply the propagator\n",
    "    psi=propagator(x,wf_dynamics[-1],m,dt,V0,D,re,a) # Apply the propagator to the last element in the array\n",
    "    wf_dynamics=append(wf_dynamics,[psi],axis=0) # Add the new wavefunction to the array\n",
    "animate_dynamics(x,wf_dynamics,dt,V0(x,D,re,a), xlim(0,1.5),V_ylim=(0,0.3),psi_ylim=(-0.35,5))"
   ]
  },
  {
   "cell_type": "code",
   "execution_count": 11,
   "metadata": {
    "collapsed": true
   },
   "outputs": [],
   "source": [
    "from numpy import trapz"
   ]
  },
  {
   "cell_type": "code",
   "execution_count": 12,
   "metadata": {
    "collapsed": true
   },
   "outputs": [],
   "source": [
    "def auto(prop_wf):\n",
    "    auto=conj(prop_wf[0])*prop_wf\n",
    "    return trapz(auto,x)"
   ]
  },
  {
   "cell_type": "code",
   "execution_count": 79,
   "metadata": {},
   "outputs": [
    {
     "name": "stderr",
     "output_type": "stream",
     "text": [
      "C:\\Users\\sahil\\Anaconda3\\lib\\site-packages\\numpy\\core\\numeric.py:531: ComplexWarning: Casting complex values to real discards the imaginary part\n",
      "  return array(a, dtype, copy=False, order=order)\n"
     ]
    },
    {
     "data": {
      "text/plain": [
       "[<matplotlib.lines.Line2D at 0x1b301d2c780>]"
      ]
     },
     "execution_count": 79,
     "metadata": {},
     "output_type": "execute_result"
    }
   ],
   "source": [
    "t=linspace(0,dt*steps,101)\n",
    "plot(t,auto(wf_dynamics))"
   ]
  },
  {
   "cell_type": "code",
   "execution_count": 12,
   "metadata": {
    "collapsed": true
   },
   "outputs": [],
   "source": [
    "import pickle"
   ]
  },
  {
   "cell_type": "code",
   "execution_count": null,
   "metadata": {
    "collapsed": true
   },
   "outputs": [],
   "source": [
    "pickle.dump(wf_dynamics, open('gs data','wb'))"
   ]
  },
  {
   "cell_type": "code",
   "execution_count": 13,
   "metadata": {
    "collapsed": true
   },
   "outputs": [],
   "source": [
    "from numpy.fft import fft,ifft,fftshift,ifftshift,fftfreq"
   ]
  },
  {
   "cell_type": "code",
   "execution_count": 80,
   "metadata": {
    "collapsed": true
   },
   "outputs": [],
   "source": [
    "t_gs=linspace(0,dt*steps,len(auto(wf_dynamics)))\n",
    "omega_gs=ifftshift(ifft(auto(wf_dynamics),norm='ortho'))\n",
    "freq_gs=fftshift(fftfreq(len(t_gs),d=dt))"
   ]
  },
  {
   "cell_type": "markdown",
   "metadata": {},
   "source": [
    "Ground State Power Spectrum"
   ]
  },
  {
   "cell_type": "code",
   "execution_count": 81,
   "metadata": {},
   "outputs": [
    {
     "data": {
      "text/plain": [
       "[<matplotlib.lines.Line2D at 0x1b30513e588>]"
      ]
     },
     "execution_count": 81,
     "metadata": {},
     "output_type": "execute_result"
    }
   ],
   "source": [
    "plot(freq_gs,abs(omega_gs))"
   ]
  },
  {
   "cell_type": "markdown",
   "metadata": {},
   "source": [
    "Excited State Simulation"
   ]
  },
  {
   "cell_type": "code",
   "execution_count": 14,
   "metadata": {},
   "outputs": [
    {
     "data": {
      "text/plain": [
       "<matplotlib.animation.FuncAnimation at 0x1d64c0db320>"
      ]
     },
     "execution_count": 14,
     "metadata": {},
     "output_type": "execute_result"
    }
   ],
   "source": [
    "x=linspace(0,5,10000)\n",
    "dt=10\n",
    "x0=0\n",
    "v=0\n",
    "m=14583\n",
    "k=2*D*a**2\n",
    "r=0.64\n",
    "psi0=eigen_ho(x,x0,m,k,r)\n",
    "\n",
    "# Add the initial wavefunction to the array with the wavefunction evolution\n",
    "wf_dynamics1=array([psi0])\n",
    "\n",
    "for steps in range(1000): # How many time steps/how many times to apply the propagator\n",
    "    psi=propagator(x,wf_dynamics1[-1],m,dt,V1,ka,rea,E0a,kb,reb,E0b,gamma) # Apply the propagator to the last element in the array\n",
    "    wf_dynamics1=append(wf_dynamics1,[psi],axis=0) # Add the new wavefunction to the array\n",
    "animate_dynamics(x,wf_dynamics1,dt,V1(x,ka,rea,E0a,kb,reb,E0b,gamma), xlim(0,1.5),V_ylim=(0.15,0.3),psi_ylim=(-0.35,5))"
   ]
  },
  {
   "cell_type": "code",
   "execution_count": 65,
   "metadata": {
    "scrolled": true
   },
   "outputs": [
    {
     "name": "stderr",
     "output_type": "stream",
     "text": [
      "C:\\Users\\sahil\\Anaconda3\\lib\\site-packages\\numpy\\core\\numeric.py:538: ComplexWarning: Casting complex values to real discards the imaginary part\n",
      "  return array(a, dtype, copy=False, order=order)\n"
     ]
    },
    {
     "data": {
      "text/plain": [
       "[<matplotlib.lines.Line2D at 0x1d653e13550>]"
      ]
     },
     "execution_count": 65,
     "metadata": {},
     "output_type": "execute_result"
    }
   ],
   "source": [
    "excited=auto(wf_dynamics1)\n",
    "t=linspace(0,dt*steps,steps+2)\n",
    "plot(t,excited)"
   ]
  },
  {
   "cell_type": "code",
   "execution_count": 153,
   "metadata": {
    "collapsed": true
   },
   "outputs": [],
   "source": [
    "pickle.dump(wf_dynamics1, open('excited data2','wb'))"
   ]
  },
  {
   "cell_type": "code",
   "execution_count": 16,
   "metadata": {
    "collapsed": true
   },
   "outputs": [],
   "source": [
    "t_excited=linspace(0,dt*1000,len(excited))\n",
    "omega_excited=ifftshift(ifft(excited,norm='ortho'))\n",
    "freq_excited=2*pi*fftshift(fftfreq(len(t_excited),d=dt))"
   ]
  },
  {
   "cell_type": "markdown",
   "metadata": {},
   "source": [
    "Excited State Power Spectrum"
   ]
  },
  {
   "cell_type": "code",
   "execution_count": 17,
   "metadata": {},
   "outputs": [
    {
     "data": {
      "text/plain": [
       "[<matplotlib.lines.Line2D at 0x1d64d928ac8>]"
      ]
     },
     "execution_count": 17,
     "metadata": {},
     "output_type": "execute_result"
    }
   ],
   "source": [
    "plot(freq_excited,abs(omega_excited))"
   ]
  },
  {
   "cell_type": "code",
   "execution_count": 18,
   "metadata": {
    "collapsed": true
   },
   "outputs": [],
   "source": [
    "E0=0.5*sqrt(k/m)\n",
    "f=[]"
   ]
  },
  {
   "cell_type": "code",
   "execution_count": 19,
   "metadata": {},
   "outputs": [
    {
     "data": {
      "text/plain": [
       "array([   0.  ,    9.99,   19.98, ..., 9970.02, 9980.01, 9990.  ])"
      ]
     },
     "execution_count": 19,
     "metadata": {},
     "output_type": "execute_result"
    }
   ],
   "source": [
    "s=auto(wf_dynamics1)\n",
    "t"
   ]
  },
  {
   "cell_type": "code",
   "execution_count": 20,
   "metadata": {},
   "outputs": [
    {
     "data": {
      "text/plain": [
       "array([ 1.        +0.j        , -0.60106296-0.79442194j,\n",
       "       -0.27026609+0.94756127j, ..., -0.38182993-0.71501595j,\n",
       "       -0.37624459+0.73517733j,  0.83423955-0.1180039j ])"
      ]
     },
     "execution_count": 20,
     "metadata": {},
     "output_type": "execute_result"
    }
   ],
   "source": [
    "f=s*exp(1j*E0*t)\n",
    "f"
   ]
  },
  {
   "cell_type": "code",
   "execution_count": 21,
   "metadata": {
    "collapsed": true
   },
   "outputs": [],
   "source": [
    "f1=abs(ifftshift(ifft(f,norm=\"ortho\")))"
   ]
  },
  {
   "cell_type": "code",
   "execution_count": 22,
   "metadata": {
    "collapsed": true
   },
   "outputs": [],
   "source": [
    "f2=f1/(137*3)*(2*pi)**1.5*freq_excited"
   ]
  },
  {
   "cell_type": "markdown",
   "metadata": {},
   "source": [
    "correct for ortho fourier transform which multiplies by 1/sqrt(2pi)"
   ]
  },
  {
   "cell_type": "markdown",
   "metadata": {},
   "source": [
    "Excited State Vibronic Spectrum"
   ]
  },
  {
   "cell_type": "code",
   "execution_count": 118,
   "metadata": {
    "scrolled": true
   },
   "outputs": [
    {
     "data": {
      "text/plain": [
       "Text(0.5, 1.0, 'Vibronic Spectrum')"
      ]
     },
     "execution_count": 118,
     "metadata": {},
     "output_type": "execute_result"
    }
   ],
   "source": [
    "plot(freq_excited,abs(f2)/max(f2))\n",
    "xlabel('Angular Frequency/radau$^{-1}$')\n",
    "ylabel('Intensity (normalised)')\n",
    "title('Vibronic Spectrum')"
   ]
  },
  {
   "cell_type": "code",
   "execution_count": 24,
   "metadata": {
    "collapsed": true
   },
   "outputs": [],
   "source": [
    "from scipy.signal import find_peaks"
   ]
  },
  {
   "cell_type": "code",
   "execution_count": 25,
   "metadata": {},
   "outputs": [
    {
     "data": {
      "text/plain": [
       "[0.23003874099259464,\n",
       " 0.2344325768717412,\n",
       " 0.2538909929079617,\n",
       " 0.26456173718588905,\n",
       " 0.27711555398345067,\n",
       " 0.2896693707810123,\n",
       " 0.302850878418452]"
      ]
     },
     "execution_count": 25,
     "metadata": {},
     "output_type": "execute_result"
    }
   ],
   "source": [
    "E0_0=[]\n",
    "peak_index0=find_peaks(f2, height=0.001)[0]\n",
    "for i in peak_index0:\n",
    "    E0_0=E0_0 +[freq_excited[i]]\n",
    "E01=[]\n",
    "for i in E0_0:\n",
    "    E01.append(i+E0)\n",
    "E01"
   ]
  },
  {
   "cell_type": "code",
   "execution_count": 26,
   "metadata": {},
   "outputs": [
    {
     "data": {
      "text/plain": [
       "array([[ 2.35590348e-08+3.03285925e-07j, -8.70727897e-07-3.31048688e-07j,\n",
       "        -2.62120808e-07+2.40205350e-07j, ...,\n",
       "        -1.46538029e-07-1.02945528e-06j, -1.96258663e-07-1.99182985e-07j,\n",
       "        -1.97392121e-07-1.06015050e-06j],\n",
       "       [-2.37337219e-07-3.81992554e-07j,  2.53918558e-07+1.09151062e-07j,\n",
       "         6.46884754e-07+6.72666813e-07j, ...,\n",
       "        -9.46983298e-07+1.19471318e-07j,  3.90015556e-07-5.34059109e-07j,\n",
       "        -1.91920149e-07-5.83979585e-07j],\n",
       "       [-1.08983001e-08-1.48539077e-07j, -8.61588939e-07-1.32242391e-06j,\n",
       "        -1.65471477e-07-3.07652382e-07j, ...,\n",
       "        -1.62751318e-07+1.67375925e-08j,  2.68538048e-07-4.82567954e-07j,\n",
       "        -1.74197879e-08-7.19370682e-07j],\n",
       "       ...,\n",
       "       [-4.77764433e-08-4.08173394e-07j, -1.22719058e-07-1.54844999e-07j,\n",
       "         2.75568110e-07-2.52840846e-07j, ...,\n",
       "        -4.50655763e-07+3.81459044e-08j, -2.93392879e-08-2.75655212e-08j,\n",
       "        -3.96464284e-07-1.73865507e-07j],\n",
       "       [ 2.87655939e-06+2.34081838e-05j, -9.23451256e-07+1.96086798e-05j,\n",
       "        -1.01177821e-05+1.81946030e-05j, ...,\n",
       "         1.32916599e-05-5.93959636e-06j, -3.28596824e-06-1.07173282e-05j,\n",
       "         1.24467879e-05-3.41664705e-06j],\n",
       "       [ 5.55217280e-07-4.59599147e-08j, -5.97608374e-08-8.21641464e-08j,\n",
       "         1.60575251e-08-5.27199977e-07j, ...,\n",
       "         2.96420207e-07+3.18491134e-07j, -3.80771630e-07+3.51307411e-08j,\n",
       "        -6.33854328e-08-3.93831871e-07j]])"
      ]
     },
     "execution_count": 26,
     "metadata": {},
     "output_type": "execute_result"
    }
   ],
   "source": [
    "AC0e=[]\n",
    "for i in range(len(E01)):\n",
    "    AC0e.append(exp(E01[i]*1j*t)*transpose(wf_dynamics1))\n",
    "integral=trapz(AC0e,t)\n",
    "integral"
   ]
  },
  {
   "cell_type": "code",
   "execution_count": 27,
   "metadata": {
    "collapsed": true
   },
   "outputs": [],
   "source": [
    "for i in range(len(integral)):\n",
    "    plot(x,abs(integral[i]))"
   ]
  },
  {
   "cell_type": "markdown",
   "metadata": {},
   "source": [
    "Excited State Eigenstates"
   ]
  },
  {
   "cell_type": "code",
   "execution_count": 102,
   "metadata": {},
   "outputs": [
    {
     "data": {
      "text/plain": [
       "<matplotlib.legend.Legend at 0x1d652702eb8>"
      ]
     },
     "execution_count": 102,
     "metadata": {},
     "output_type": "execute_result"
    }
   ],
   "source": [
    "eigenstates=integral/(2*pi)\n",
    "for i in range(len(eigenstates)):\n",
    "    plot(x,abs(eigenstates[i]),label='$|\\Lambda^{}|$'.format(i,i))\n",
    "xlabel('$x/a_0$')\n",
    "ylabel('$|\\Lambda^{i}|$')\n",
    "legend(loc='upper right')"
   ]
  },
  {
   "cell_type": "code",
   "execution_count": 29,
   "metadata": {
    "scrolled": true
   },
   "outputs": [
    {
     "data": {
      "text/plain": [
       "array([11056.97715345+0.j, 58665.33106467+0.j,  6851.79745595+0.j,\n",
       "       10736.76798823+0.j,   397.76926295+0.j,   900.91002887+0.j,\n",
       "         263.07097638+0.j])"
      ]
     },
     "execution_count": 29,
     "metadata": {},
     "output_type": "execute_result"
    }
   ],
   "source": [
    "c_values=sqrt(trapz(conj(eigenstates)*eigenstates))\n",
    "c_values"
   ]
  },
  {
   "cell_type": "markdown",
   "metadata": {},
   "source": [
    "Normalised Eigenstates"
   ]
  },
  {
   "cell_type": "code",
   "execution_count": 66,
   "metadata": {},
   "outputs": [
    {
     "data": {
      "text/plain": [
       "<matplotlib.legend.Legend at 0x1d653c1d898>"
      ]
     },
     "execution_count": 66,
     "metadata": {},
     "output_type": "execute_result"
    }
   ],
   "source": [
    "fig=plt.figure()\n",
    "#create axes for potential plot\n",
    "potplot=plt.gca()\n",
    "potplot.plot(x,V1(x,ka,rea,E0a,kb,reb,E0b,gamma),color=\"gray\")\n",
    "potplot.set(xlabel=\"$x/a_0$\",ylabel=\"$V/E_h$\",ylim=(0.1,0.4))\n",
    "Lamplot=potplot.twinx()\n",
    "norm_eigenstates=[]\n",
    "for state in range(len(c_values)):\n",
    "    for i in eigenstates[state]:\n",
    "        norm_eigenstates.append(i/c_values[state])\n",
    "    graphical=0.05*state+abs(array(norm_eigenstates))\n",
    "    plot(x,graphical,label='$|\\Lambda^{}|$'.format(state,state))\n",
    "    norm_eigenstates=[]\n",
    "Lamplot.set(ylabel='$|\\Lambda$|', ylim=(-0.05,0.35))\n",
    "xlim(0,1.5)\n",
    "legend(loc='upper right')"
   ]
  },
  {
   "cell_type": "markdown",
   "metadata": {},
   "source": [
    "Dynamics"
   ]
  },
  {
   "cell_type": "code",
   "execution_count": 56,
   "metadata": {},
   "outputs": [
    {
     "data": {
      "text/plain": [
       "(0, 0.3)"
      ]
     },
     "execution_count": 56,
     "metadata": {},
     "output_type": "execute_result"
    }
   ],
   "source": [
    "V1list=V1(x,ka,rea,E0a,kb,reb,E0b,gamma).tolist()\n",
    "plot(V1(x,ka,rea,E0a,kb,reb,E0b,gamma))\n",
    "ylim(0,0.3)"
   ]
  },
  {
   "cell_type": "code",
   "execution_count": 57,
   "metadata": {
    "collapsed": true
   },
   "outputs": [],
   "source": [
    "def find(v,x):\n",
    "    for i in range(len(x)):\n",
    "        if x[i] > v:\n",
    "            return i"
   ]
  },
  {
   "cell_type": "code",
   "execution_count": 58,
   "metadata": {},
   "outputs": [
    {
     "data": {
      "text/plain": [
       "1100"
      ]
     },
     "execution_count": 58,
     "metadata": {},
     "output_type": "execute_result"
    }
   ],
   "source": [
    "find(0.55,x)"
   ]
  },
  {
   "cell_type": "code",
   "execution_count": 105,
   "metadata": {},
   "outputs": [],
   "source": [
    "V1max=max(V1list[1100:2000])\n",
    "split=V1list.index(V1max)"
   ]
  },
  {
   "cell_type": "code",
   "execution_count": 106,
   "metadata": {
    "collapsed": true
   },
   "outputs": [],
   "source": [
    "wf_CC=conj(wf_dynamics1[:1500])*(wf_dynamics1[:1500])"
   ]
  },
  {
   "cell_type": "code",
   "execution_count": 122,
   "metadata": {},
   "outputs": [],
   "source": [
    "pop1=[]\n",
    "pop2=[]\n",
    "\n",
    "\n",
    "for i in range(len(wf_CC)):\n",
    "    totI=(trapz(abs(wf_CC[i])))\n",
    "    pop1+=[(trapz(abs(wf_CC[i][:split])))/totI]\n",
    "    pop2+=[(trapz(abs(wf_CC[i][split:])))/totI]\n",
    "pop1avg=mean(pop1[200:])\n",
    "pop2avg=mean(pop2[200:])\n",
    "plot(t,pop1, label='Higher Well Population')\n",
    "plot(t,pop2, label='Lower Well Population')\n",
    "title('Well Populations')\n",
    "xlabel('Time/au')\n",
    "ylabel('Population fraction')\n",
    "legend(loc='center right')\n",
    "axhline(pop1avg,linestyle='-')\n",
    "axhline(pop2avg, linestyle='-')\n",
    "for i in range(len(pop1)):\n",
    "    if pop1[i]<pop1avg:\n",
    "        tte=i\n",
    "        break"
   ]
  },
  {
   "cell_type": "code",
   "execution_count": 111,
   "metadata": {},
   "outputs": [
    {
     "data": {
      "text/plain": [
       "130"
      ]
     },
     "execution_count": 111,
     "metadata": {},
     "output_type": "execute_result"
    }
   ],
   "source": [
    "tte*dt"
   ]
  },
  {
   "cell_type": "code",
   "execution_count": null,
   "metadata": {
    "collapsed": true
   },
   "outputs": [],
   "source": []
  }
 ],
 "metadata": {
  "kernelspec": {
   "display_name": "Python 3",
   "language": "python",
   "name": "python3"
  },
  "language_info": {
   "codemirror_mode": {
    "name": "ipython",
    "version": 3
   },
   "file_extension": ".py",
   "mimetype": "text/x-python",
   "name": "python",
   "nbconvert_exporter": "python",
   "pygments_lexer": "ipython3",
   "version": "3.6.3"
  }
 },
 "nbformat": 4,
 "nbformat_minor": 2
}
