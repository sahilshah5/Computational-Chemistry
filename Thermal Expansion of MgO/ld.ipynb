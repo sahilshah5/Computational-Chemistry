{
 "cells": [
  {
   "cell_type": "markdown",
   "metadata": {},
   "source": [
    "# The Thermal Expansion of MgO - Lattice Dynamics"
   ]
  },
  {
   "cell_type": "markdown",
   "metadata": {},
   "source": [
    "In this part of the lab we will optimise the structure (volume) of the MgO crystal by using its free energy and see how this varies with the temperature.<br>\n",
    "You will need to input the converged grid size from the provious exercise.\n",
    "Change the temperature (T) from 0K using 100K intervals. You can do this by changing the value of \"T\" in the script below or you could use a \"for loop\", like in the previous exercise. GULP does not calculate the expansion of MgO for temperatures higher than 3000K.\n",
    "<br><br>"
   ]
  },
  {
   "cell_type": "code",
   "execution_count": 6,
   "metadata": {},
   "outputs": [
    {
     "name": "stdout",
     "output_type": "stream",
     "text": [
      "Gibbs free energy (0 K)  = -40.90190630 eV/(Unit cell)\n",
      "Volume of the unit cell (0 K)  = 18.83646 Angstrom^3/(Unit cell)\n",
      "Gibbs free energy (100 K)  = -40.90241964 eV/(Unit cell)\n",
      "Volume of the unit cell (100 K)  = 18.838231 Angstrom^3/(Unit cell)\n",
      "Gibbs free energy (200 K)  = -40.90937708 eV/(Unit cell)\n",
      "Volume of the unit cell (200 K)  = 18.856162 Angstrom^3/(Unit cell)\n",
      "Gibbs free energy (300 K)  = -40.92812427 eV/(Unit cell)\n",
      "Volume of the unit cell (300 K)  = 18.88998 Angstrom^3/(Unit cell)\n",
      "Gibbs free energy (400 K)  = -40.95859358 eV/(Unit cell)\n",
      "Volume of the unit cell (400 K)  = 18.932453 Angstrom^3/(Unit cell)\n",
      "Gibbs free energy (500 K)  = -40.99943521 eV/(Unit cell)\n",
      "Volume of the unit cell (500 K)  = 18.980046 Angstrom^3/(Unit cell)\n",
      "Gibbs free energy (600 K)  = -41.04931455 eV/(Unit cell)\n",
      "Volume of the unit cell (600 K)  = 19.031143 Angstrom^3/(Unit cell)\n",
      "Gibbs free energy (700 K)  = -41.10711819 eV/(Unit cell)\n",
      "Volume of the unit cell (700 K)  = 19.084962 Angstrom^3/(Unit cell)\n",
      "Gibbs free energy (800 K)  = -41.17189069 eV/(Unit cell)\n",
      "Volume of the unit cell (800 K)  = 19.141205 Angstrom^3/(Unit cell)\n",
      "Gibbs free energy (900 K)  = -41.24301683 eV/(Unit cell)\n",
      "Volume of the unit cell (900 K)  = 19.1995 Angstrom^3/(Unit cell)\n",
      "Gibbs free energy (1000 K)  = -41.31984692 eV/(Unit cell)\n",
      "Volume of the unit cell (1000 K)  = 19.25986 Angstrom^3/(Unit cell)\n",
      "Gibbs free energy (1100 K)  = -41.40189070 eV/(Unit cell)\n",
      "Volume of the unit cell (1100 K)  = 19.322305 Angstrom^3/(Unit cell)\n",
      "Gibbs free energy (1200 K)  = -41.48873844 eV/(Unit cell)\n",
      "Volume of the unit cell (1200 K)  = 19.387173 Angstrom^3/(Unit cell)\n",
      "Gibbs free energy (1300 K)  = -41.58004404 eV/(Unit cell)\n",
      "Volume of the unit cell (1300 K)  = 19.454059 Angstrom^3/(Unit cell)\n",
      "Gibbs free energy (1400 K)  = -41.67551241 eV/(Unit cell)\n",
      "Volume of the unit cell (1400 K)  = 19.523336 Angstrom^3/(Unit cell)\n",
      "Gibbs free energy (1500 K)  = -41.77489002 eV/(Unit cell)\n",
      "Volume of the unit cell (1500 K)  = 19.595184 Angstrom^3/(Unit cell)\n",
      "Gibbs free energy (1600 K)  = -41.87795764 eV/(Unit cell)\n",
      "Volume of the unit cell (1600 K)  = 19.66983 Angstrom^3/(Unit cell)\n",
      "Gibbs free energy (1700 K)  = -41.98452482 eV/(Unit cell)\n",
      "Volume of the unit cell (1700 K)  = 19.747549 Angstrom^3/(Unit cell)\n",
      "Gibbs free energy (1800 K)  = -42.09442570 eV/(Unit cell)\n",
      "Volume of the unit cell (1800 K)  = 19.828679 Angstrom^3/(Unit cell)\n",
      "Gibbs free energy (1900 K)  = -42.20751569 eV/(Unit cell)\n",
      "Volume of the unit cell (1900 K)  = 19.913637 Angstrom^3/(Unit cell)\n",
      "Gibbs free energy (2000 K)  = -42.32366916 eV/(Unit cell)\n",
      "Volume of the unit cell (2000 K)  = 20.002943 Angstrom^3/(Unit cell)\n",
      "Gibbs free energy (2100 K)  = -42.44277763 eV/(Unit cell)\n",
      "Volume of the unit cell (2100 K)  = 20.097259 Angstrom^3/(Unit cell)\n",
      "Gibbs free energy (2200 K)  = -42.56474882 eV/(Unit cell)\n",
      "Volume of the unit cell (2200 K)  = 20.197442 Angstrom^3/(Unit cell)\n",
      "Gibbs free energy (2300 K)  = -42.68950629 eV/(Unit cell)\n",
      "Volume of the unit cell (2300 K)  = 20.304633 Angstrom^3/(Unit cell)\n",
      "Gibbs free energy (2400 K)  = -42.81699011 eV/(Unit cell)\n",
      "Volume of the unit cell (2400 K)  = 20.420411 Angstrom^3/(Unit cell)\n",
      "Gibbs free energy (2500 K)  = -42.94715888 eV/(Unit cell)\n",
      "Volume of the unit cell (2500 K)  = 20.547053 Angstrom^3/(Unit cell)\n",
      "Gibbs free energy (2600 K)  = -43.07999424 eV/(Unit cell)\n",
      "Volume of the unit cell (2600 K)  = 20.688043 Angstrom^3/(Unit cell)\n",
      "Gibbs free energy (2700 K)  = -43.21551070 eV/(Unit cell)\n",
      "Volume of the unit cell (2700 K)  = 20.851781 Angstrom^3/(Unit cell)\n",
      "Gibbs free energy (2800 K)  = -43.35355345 eV/(Unit cell)\n",
      "Volume of the unit cell (2800 K)  = 21.04992 Angstrom^3/(Unit cell)\n",
      "Gibbs free energy (2900 K)  = -43.49478246 eV/(Unit cell)\n",
      "Volume of the unit cell (2900 K)  = 21.319006 Angstrom^3/(Unit cell)\n"
     ]
    }
   ],
   "source": [
    "from ase.calculators.gulp import GULP\n",
    "import matplotlib.pyplot as plt\n",
    "from math import ceil\n",
    "from ase.spacegroup import crystal\n",
    "import numpy as np\n",
    "import re\n",
    "\n",
    "T_range = np.arange(0,3000,100) \n",
    "# USE THE CONVERGED GRID SIZE FROM THE PREVIOUS EXERCISE\n",
    "k = 16\n",
    "\n",
    "#we can start from a geometry that is close to the optimised one since we are\n",
    "#going to optimise it again taking into account the effect of temperature\n",
    "a = 4\n",
    "MgO_LD = crystal('MgO',basis=[[0.0,0.0,0.0],[0.5,0.5,0.5]],spacegroup=225,cellpar=[a, a, a, 90, 90, 90],primitive_cell=True)\n",
    "for T in T_range:\n",
    "#the name of the calculation including the T\n",
    "    label='mgo_LD_{}'.format(T)\n",
    "\n",
    "#setting the options fot the LD calculation\n",
    "    options = ['shrink {} {} {}'.format(k, k, k), 'temperature {}'.format(T)]\n",
    "    calc = GULP(label=label ,keywords='conp opti free_energy', library='ionic.lib', options=options)\n",
    "    opt = calc.get_optimizer(MgO_LD)\n",
    "    opt.run(fmax=0.05)\n",
    "#look for the optimised volume in the output\n",
    "    for line in reversed(list(open(label+'.got'))):\n",
    "        m = re.match(r'\\s*\\S+\\s*cell volume =\\s*(\\S+)\\s*\\S+', line)\n",
    "        if m:\n",
    "            volume_f = float(m.group(1))\n",
    "            break\n",
    "#look for the free energy in the output\n",
    "    first_match_found = False\n",
    "    with open(label+'.got') as o:\n",
    "        lines = o.readlines()\n",
    "    for i,line in enumerate(lines):\n",
    "        if line.find('  Total free energy          =         -') != -1:\n",
    "            free_energy_LD = line.split()[4]\n",
    "            if first_match_found:\n",
    "                break\n",
    "            else:\n",
    "                first_match_found = True\n",
    "    \n",
    "    print('Gibbs free energy ({} K)  ='.format(T),free_energy_LD,'eV/(Unit cell)')\n",
    "    print('Volume of the unit cell ({} K)  ='.format(T),volume_f,'Angstrom^3/(Unit cell)')"
   ]
  },
  {
   "cell_type": "markdown",
   "metadata": {},
   "source": [
    "**Questions**:<br>\n",
    "1. Describe your results:\n",
    "    - Plot the free energy against temperature<br>\n",
    "    - Plot the lattice constant against temperature<br>\n",
    "    - Comment on the shape of these curves.<br>\n",
    "<br>\n",
    "2. Compute the coefficient of thermal expansion for MgO<br>\n",
    "    - How does this compare to that measured? Find a measurement in the literature or on the web.<br>\n",
    "    - At what temperature was the measurement made?<br>\n",
    "    - What are the main approximations in your calculation?<br>\n",
    "    - As the temperature approaches the melting point of MgO how well do the phonon modes represent the actual motions of the ions?<br>\n",
    "<br>\n",
    "\n",
    "3. Why does a solid expand when we are using the quasi-harmonic approximation and not with the harmonic approximation?<br>\n",
    "    <br>\n",
    "4. What is the physical origin of thermal expansion?<br>\n",
    "\n",
    "<br>"
   ]
  },
  {
   "cell_type": "code",
   "execution_count": 3,
   "metadata": {},
   "outputs": [
    {
     "name": "stdout",
     "output_type": "stream",
     "text": [
      "Populating the interactive namespace from numpy and matplotlib\n"
     ]
    },
    {
     "data": {
      "text/plain": [
       "Text(0,0.5,'Gibbs Free Energy /eV/(Unit cell)')"
      ]
     },
     "execution_count": 3,
     "metadata": {},
     "output_type": "execute_result"
    },
    {
     "data": {
      "image/png": "[encoded data removed]",
      "text/plain": [
       "<Figure size 432x288 with 1 Axes>"
      ]
     },
     "metadata": {
      "needs_background": "light"
     },
     "output_type": "display_data"
    }
   ],
   "source": [
    "%pylab inline\n",
    "G=[-40.90190630,-40.90241964,-40.90937708, -40.92812427, -40.95859358, \n",
    "   -40.99943521, -41.04931455, -41.10711819, -41.17189069, -41.24301683, \n",
    "   -41.31984692, -41.40189070, -41.48873844, -41.58004404, -41.67551241,\n",
    "   -41.77489002, -41.87795764, -41.98452482, -42.09442570, -42.20751569,\n",
    "   -42.32366916, -42.44277763, -42.56474882, -42.68950629, -42.81699011,\n",
    "   -42.94715888, -43.07999424, -43.21551070, -43.35355345, -43.49478246]\n",
    "T=[0,100,200,300,400,500,600,700,800,900,1000,1100,1200,1300,1400,1500,1600,1700,1800,1900,2000,2100,2200,2300,2400,2500,2600,2700,2800,2900]\n",
    "plt.plot(T,G)\n",
    "plt.xlabel('Temperature /K')\n",
    "plt.ylabel('Gibbs Free Energy /eV/(Unit cell)')"
   ]
  },
  {
   "cell_type": "code",
   "execution_count": 4,
   "metadata": {},
   "outputs": [],
   "source": [
    "a3=[18.83646, 18.838231, 18.856162, 18.88998, 18.932453,\n",
    "    18.980046, 19.031143, 19.084962, 19.141205, 19.1995,\n",
    "    19.25986, 19.322305, 19.387173, 19.454059, 19.523336,\n",
    "    19.595184, 19.66983, 19.747549, 19.828679, 19.913637,\n",
    "    20.002943, 20.097259,20.197442, 20.304633, 20.420411,\n",
    "    20.547053, 20.688043,20.851781, 21.04992, 21.319006]\n",
    "a=np.array(a3)**(1/3)"
   ]
  },
  {
   "cell_type": "code",
   "execution_count": 5,
   "metadata": {},
   "outputs": [
    {
     "data": {
      "text/plain": [
       "Text(0,0.5,'Lattice Parameter /Å/(Unit Cell)')"
      ]
     },
     "execution_count": 5,
     "metadata": {},
     "output_type": "execute_result"
    },
    {
     "data": {
      "image/png": "[encoded data removed]",
      "text/plain": [
       "<Figure size 432x288 with 1 Axes>"
      ]
     },
     "metadata": {
      "needs_background": "light"
     },
     "output_type": "display_data"
    }
   ],
   "source": [
    "plt.plot(T,a)\n",
    "plt.xlabel('Temperature /K')\n",
    "plt.ylabel('Lattice Parameter /Å/(Unit Cell)')"
   ]
  },
  {
   "cell_type": "code",
   "execution_count": 7,
   "metadata": {},
   "outputs": [
    {
     "data": {
      "text/plain": [
       "Text(0,0.5,'Volume /Å^3/(Unit Cell)')"
      ]
     },
     "execution_count": 7,
     "metadata": {},
     "output_type": "execute_result"
    },
    {
     "data": {
      "image/png": "[encoded data removed]",
      "text/plain": [
       "<Figure size 432x288 with 1 Axes>"
      ]
     },
     "metadata": {
      "needs_background": "light"
     },
     "output_type": "display_data"
    }
   ],
   "source": [
    "plt.plot(T,a3)\n",
    "plt.xlabel('Temperature /K')\n",
    "plt.ylabel('Volume /Å^3/(Unit Cell)')"
   ]
  },
  {
   "cell_type": "code",
   "execution_count": 43,
   "metadata": {},
   "outputs": [],
   "source": [
    "from scipy import interpolate\n",
    "\n",
    "spl = interpolate.splrep(T,a3)\n",
    "small_t = arange(1200-5,1200+5)\n",
    "fa = interpolate.splev(1200,spl,der=0)     # f(a)\n",
    "fprime = interpolate.splev(1200,spl,der=1) # f'(a)"
   ]
  },
  {
   "cell_type": "code",
   "execution_count": 44,
   "metadata": {},
   "outputs": [
    {
     "data": {
      "text/plain": [
       "3.49820494469989e-05"
      ]
     },
     "execution_count": 44,
     "metadata": {},
     "output_type": "execute_result"
    }
   ],
   "source": [
    "alpha = fprime/18.83646\n",
    "alpha"
   ]
  },
  {
   "cell_type": "code",
   "execution_count": null,
   "metadata": {},
   "outputs": [],
   "source": []
  }
 ],
 "metadata": {
  "kernelspec": {
   "display_name": "Python 3",
   "language": "python",
   "name": "python3"
  },
  "language_info": {
   "codemirror_mode": {
    "name": "ipython",
    "version": 3
   },
   "file_extension": ".py",
   "mimetype": "text/x-python",
   "name": "python",
   "nbconvert_exporter": "python",
   "pygments_lexer": "ipython3",
   "version": "3.6.6"
  }
 },
 "nbformat": 4,
 "nbformat_minor": 2
}
