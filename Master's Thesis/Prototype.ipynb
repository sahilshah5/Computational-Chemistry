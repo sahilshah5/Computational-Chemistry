{
 "cells": [
  {
   "cell_type": "code",
   "execution_count": 4,
   "metadata": {
    "collapsed": true
   },
   "outputs": [],
   "source": [
    "import numpy as np\n",
    "import scipy as sp\n",
    "import matplotlib.pyplot as plt\n",
    "import ase\n",
    "import ase.io\n",
    "from ase.visualize import view"
   ]
  },
  {
   "cell_type": "code",
   "execution_count": 2,
   "metadata": {
    "collapsed": true
   },
   "outputs": [],
   "source": [
    "input_file = 'me-rigid-shortaug3-gscc.xyz'\n",
    "energy = \"energy\"\n",
    "frames = ase.io.read(input_file,\":\")\n",
    "energies = np.array([cc.info[energy] for cc in frames[:100]])"
   ]
  },
  {
   "cell_type": "code",
   "execution_count": 3,
   "metadata": {},
   "outputs": [
    {
     "data": {
      "text/plain": [
       "array([[0.        , 1.08814377, 1.08800326, 1.08800193, 1.08811616,\n",
       "        4.70320931, 5.43436821, 4.06440486, 4.28393093, 5.36770046],\n",
       "       [1.08814377, 0.        , 1.77649564, 1.77651711, 1.77691627,\n",
       "        3.70468279, 4.37772004, 3.11946921, 3.28993702, 4.46261608],\n",
       "       [1.08800326, 1.77649564, 0.        , 1.77694096, 1.77697233,\n",
       "        4.83972331, 5.67589402, 4.0920397 , 4.58040323, 5.33727068],\n",
       "       [1.08800193, 1.77651711, 1.77694096, 0.        , 1.77698604,\n",
       "        5.41222747, 6.01097761, 4.69971652, 5.05589973, 6.17435446],\n",
       "       [1.08811616, 1.77691627, 1.77697233, 1.77698604, 0.        ,\n",
       "        5.17364266, 5.94482894, 4.71607217, 4.5573349 , 5.78358821],\n",
       "       [4.70320931, 3.70468279, 4.83972331, 5.41222747, 5.17364266,\n",
       "        0.        , 1.08812518, 1.08815328, 1.08816171, 1.08810723],\n",
       "       [5.43436821, 4.37772004, 5.67589402, 6.01097761, 5.94482894,\n",
       "        1.08812518, 0.        , 1.77692718, 1.77691601, 1.77690041],\n",
       "       [4.06440486, 3.11946921, 4.0920397 , 4.69971652, 4.71607217,\n",
       "        1.08815328, 1.77692718, 0.        , 1.77693338, 1.77691597],\n",
       "       [4.28393093, 3.28993702, 4.58040323, 5.05589973, 4.5573349 ,\n",
       "        1.08816171, 1.77691601, 1.77693338, 0.        , 1.77692728],\n",
       "       [5.36770046, 4.46261608, 5.33727068, 6.17435446, 5.78358821,\n",
       "        1.08810723, 1.77690041, 1.77691597, 1.77692728, 0.        ]])"
      ]
     },
     "execution_count": 3,
     "metadata": {},
     "output_type": "execute_result"
    }
   ],
   "source": [
    "frames[0].get_all_distances()"
   ]
  },
  {
   "cell_type": "code",
   "execution_count": 4,
   "metadata": {
    "collapsed": true
   },
   "outputs": [],
   "source": [
    "CC_distances = []\n",
    "CH_distances = []\n",
    "HH_distances = []\n",
    "CH_intra_distances = []\n",
    "CH_inter_distances = []\n",
    "HH_intra_distances = []\n",
    "HH_inter_distances = []\n",
    "for frame in frames[:100]:\n",
    "    distances = frame.get_all_distances()\n",
    "    CC_distances.append(distances[5][0])\n",
    "    \n",
    "    CH_intra_distances.append(distances[0][1])\n",
    "    CH_inter_distances.append(distances[0][6])\n",
    "    HH_intra_distances.append(distances[1][2])\n",
    "    HH_inter_distances.append(distances[1][6])\n",
    "    \n",
    "    CH_distances.append(distances[0][6])\n",
    "    CH_distances.append(distances[0][7])\n",
    "    CH_distances.append(distances[0][8])\n",
    "    CH_distances.append(distances[0][9])\n",
    "    CH_distances.append(distances[5][1])\n",
    "    CH_distances.append(distances[5][2])\n",
    "    CH_distances.append(distances[5][3])\n",
    "    CH_distances.append(distances[5][4])\n",
    "    \n",
    "    HH_distances.append(distances[1][6])\n",
    "    HH_distances.append(distances[1][7])\n",
    "    HH_distances.append(distances[1][8])\n",
    "    HH_distances.append(distances[1][9])\n",
    "    HH_distances.append(distances[2][6])\n",
    "    HH_distances.append(distances[2][7])\n",
    "    HH_distances.append(distances[2][8])\n",
    "    HH_distances.append(distances[2][9])\n",
    "    HH_distances.append(distances[3][6])\n",
    "    HH_distances.append(distances[3][7])\n",
    "    HH_distances.append(distances[3][8])\n",
    "    HH_distances.append(distances[3][9])\n",
    "    HH_distances.append(distances[4][6])\n",
    "    HH_distances.append(distances[4][7])\n",
    "    HH_distances.append(distances[4][8])\n",
    "    HH_distances.append(distances[4][9])"
   ]
  },
  {
   "cell_type": "code",
   "execution_count": 5,
   "metadata": {
    "collapsed": true
   },
   "outputs": [],
   "source": [
    "def radial_basis_function(delta,x, x_j, theta):\n",
    "    \"Calculate Gaussian kernel\"\n",
    "    return delta*np.exp(-((x-x_j)**2)/theta**2)"
   ]
  },
  {
   "cell_type": "code",
   "execution_count": 6,
   "metadata": {
    "collapsed": true
   },
   "outputs": [],
   "source": [
    "def k_NM_builder(CC_k_MM, CH_k_MM, HH_k_MM):\n",
    "    \"Build a NM kernel matrix for any data set from the k_MM matrix\"\n",
    "    k_NM = np.zeros((100,2500))\n",
    "    for i in range(100):\n",
    "        CC_row = CC_k_MM[i]\n",
    "        CH_row = CH_k_MM[8*i:8*(i+1)]\n",
    "        HH_row = HH_k_MM[16*i:16*(i+1)]\n",
    "        row = np.concatenate((CC_row, CH_row.sum(axis = 0), HH_row.sum(axis = 0)))\n",
    "        k_NM[i] = row\n",
    "    return k_NM"
   ]
  },
  {
   "cell_type": "code",
   "execution_count": 7,
   "metadata": {
    "collapsed": true
   },
   "outputs": [],
   "source": [
    "def k_MM_builder(distances, delta):\n",
    "    \"Build a MM kernel matrix for any data set\"\n",
    "    kernel = []\n",
    "    for i in distances:\n",
    "        k = []\n",
    "        for j in distances:\n",
    "            k.append(radial_basis_function(delta,i,j,1))\n",
    "        kernel.append(k)\n",
    "    kernel = np.asarray(kernel)\n",
    "    return kernel"
   ]
  },
  {
   "cell_type": "code",
   "execution_count": 8,
   "metadata": {},
   "outputs": [
    {
     "name": "stdout",
     "output_type": "stream",
     "text": [
      "(100, 100) (800, 800) (1600, 1600)\n"
     ]
    }
   ],
   "source": [
    "CC_k_MM = k_MM_builder(CC_distances, 10)\n",
    "CH_k_MM = k_MM_builder(CH_distances, 1)\n",
    "HH_k_MM = k_MM_builder(HH_distances, 1)\n",
    "print(CC_k_MM.shape, CH_k_MM.shape, HH_k_MM.shape)"
   ]
  },
  {
   "cell_type": "code",
   "execution_count": 9,
   "metadata": {},
   "outputs": [
    {
     "name": "stdout",
     "output_type": "stream",
     "text": [
      "(2500, 2500) (100, 2500)\n"
     ]
    }
   ],
   "source": [
    "k_MM = np.block([[CC_k_MM,np.zeros((len(CC_k_MM),len(CH_k_MM))) ,np.zeros((len(CC_k_MM),len(HH_k_MM))) ],\n",
    "                 [np.zeros((len(CH_k_MM),len(CC_k_MM))), CH_k_MM,np.zeros((len(CH_k_MM),len(HH_k_MM)))],\n",
    "                 [np.zeros((len(HH_k_MM),len(CC_k_MM))),np.zeros((len(HH_k_MM),len(CH_k_MM))) , HH_k_MM]])\n",
    "k_NM = k_NM_builder(CC_k_MM, CH_k_MM, HH_k_MM)\n",
    "print(k_MM.shape, k_NM.shape)"
   ]
  },
  {
   "cell_type": "code",
   "execution_count": 10,
   "metadata": {},
   "outputs": [
    {
     "name": "stdout",
     "output_type": "stream",
     "text": [
      "[[10.          0.12851964  9.95364106 ...  0.          0.\n",
      "   0.        ]\n",
      " [ 0.12851964 10.          0.17002054 ...  0.          0.\n",
      "   0.        ]\n",
      " [ 9.95364106  0.17002054 10.         ...  0.          0.\n",
      "   0.        ]\n",
      " ...\n",
      " [ 0.          0.          0.         ...  1.          0.58682437\n",
      "   0.70248744]\n",
      " [ 0.          0.          0.         ...  0.58682437  1.\n",
      "   0.98171582]\n",
      " [ 0.          0.          0.         ...  0.70248744  0.98171582\n",
      "   1.        ]]\n"
     ]
    }
   ],
   "source": [
    "print(k_MM)"
   ]
  },
  {
   "cell_type": "code",
   "execution_count": 11,
   "metadata": {
    "collapsed": true
   },
   "outputs": [],
   "source": [
    "def kernel_regression(energies, k_MM, k_NM, sigma):\n",
    "    N = len(energies)\n",
    "    alpha = np.linalg.lstsq(k_MM + np.transpose(k_NM).dot(np.linalg.inv(np.eye(N)*sigma**2)).dot(k_NM), np.transpose(k_NM).dot(np.linalg.inv(np.eye(N)*sigma**2)).dot(np.transpose(energies)))[0]\n",
    "    return alpha"
   ]
  },
  {
   "cell_type": "code",
   "execution_count": 12,
   "metadata": {},
   "outputs": [
    {
     "data": {
      "text/plain": [
       "47"
      ]
     },
     "execution_count": 12,
     "metadata": {},
     "output_type": "execute_result"
    }
   ],
   "source": [
    "sigma = 1\n",
    "np.linalg.matrix_rank(np.transpose(k_NM).dot(np.linalg.inv(np.eye(len(energies))*sigma**2)).dot(k_NM))"
   ]
  },
  {
   "cell_type": "code",
   "execution_count": 13,
   "metadata": {},
   "outputs": [
    {
     "data": {
      "text/plain": [
       "87"
      ]
     },
     "execution_count": 13,
     "metadata": {},
     "output_type": "execute_result"
    }
   ],
   "source": [
    "np.linalg.matrix_rank(k_MM)"
   ]
  },
  {
   "cell_type": "code",
   "execution_count": 14,
   "metadata": {},
   "outputs": [
    {
     "name": "stdout",
     "output_type": "stream",
     "text": [
      "414.34512453807855\n",
      "297.75396658976086\n",
      "554.4313199750887\n"
     ]
    }
   ],
   "source": [
    "sigma = 1\n",
    "print(np.linalg.cond(CC_k_MM + sigma**2*np.eye(len(CC_k_MM[0]))))\n",
    "print(np.linalg.cond(CH_k_MM + sigma**2*np.eye(len(CH_k_MM[0]))))\n",
    "print(np.linalg.cond(HH_k_MM + sigma**2*np.eye(len(HH_k_MM[0]))))"
   ]
  },
  {
   "cell_type": "code",
   "execution_count": 15,
   "metadata": {},
   "outputs": [
    {
     "name": "stdout",
     "output_type": "stream",
     "text": [
      "554.4313199750887\n"
     ]
    }
   ],
   "source": [
    "print(np.linalg.cond(k_MM + sigma**2*np.eye(len(k_MM[0]))))"
   ]
  },
  {
   "cell_type": "code",
   "execution_count": 16,
   "metadata": {},
   "outputs": [
    {
     "name": "stderr",
     "output_type": "stream",
     "text": [
      "C:\\Users\\sahil\\Anaconda3\\lib\\site-packages\\ipykernel_launcher.py:3: FutureWarning: `rcond` parameter will change to the default of machine precision times ``max(M, N)`` where M and N are the input matrix dimensions.\n",
      "To use the future default and silence this warning we advise to pass `rcond=None`, to keep using the old, explicitly pass `rcond=-1`.\n",
      "  This is separate from the ipykernel package so we can avoid doing imports until\n"
     ]
    }
   ],
   "source": [
    "alpha = kernel_regression(energies, k_MM, k_NM, sigma)"
   ]
  },
  {
   "cell_type": "code",
   "execution_count": 17,
   "metadata": {
    "collapsed": true
   },
   "outputs": [],
   "source": [
    "def energy_fit(k_NM, alpha):\n",
    "    \"Return the kernel fit of the energies\"\n",
    "    return k_NM.dot(alpha)"
   ]
  },
  {
   "cell_type": "code",
   "execution_count": 18,
   "metadata": {
    "collapsed": true
   },
   "outputs": [],
   "source": [
    "fitted_energies = energy_fit(k_NM, alpha)"
   ]
  },
  {
   "cell_type": "code",
   "execution_count": 19,
   "metadata": {
    "scrolled": true
   },
   "outputs": [
    {
     "data": {
      "image/png": "[encoded data removed]",
      "text/plain": [
       "<Figure size 432x288 with 1 Axes>"
      ]
     },
     "metadata": {},
     "output_type": "display_data"
    }
   ],
   "source": [
    "plt.scatter(CC_distances, energies, marker = \"x\", label=\"Dataset\")\n",
    "plt.scatter(CC_distances, fitted_energies, linestyle = \"-\", label=\"Fit\", alpha=0.5)\n",
    "plt.xlabel(\"r /Å\")\n",
    "plt.ylabel(\"V /eV\")\n",
    "plt.title(\"Total Energy vs C-C Pair Distances for 100 Methane Dimers\")\n",
    "plt.legend()\n",
    "plt.show()"
   ]
  },
  {
   "cell_type": "code",
   "execution_count": 20,
   "metadata": {},
   "outputs": [
    {
     "data": {
      "image/png": "[encoded data removed]",
      "text/plain": [
       "<Figure size 432x288 with 1 Axes>"
      ]
     },
     "metadata": {},
     "output_type": "display_data"
    }
   ],
   "source": [
    "plt.scatter(CC_distances, fitted_energies-energies, alpha=0.5)\n",
    "plt.hlines(0, 3,9.5)\n",
    "plt.xlabel(\"r /Å\")\n",
    "plt.ylabel(\"Error /eV\")\n",
    "plt.title(\"Total Energy Error vs C-C Distances\")\n",
    "plt.show()"
   ]
  },
  {
   "cell_type": "code",
   "execution_count": 21,
   "metadata": {},
   "outputs": [
    {
     "data": {
      "text/plain": [
       "0.0007584375744440012"
      ]
     },
     "execution_count": 21,
     "metadata": {},
     "output_type": "execute_result"
    }
   ],
   "source": [
    "np.sqrt(np.mean((fitted_energies-energies)**2))/2"
   ]
  }
 ],
 "metadata": {
  "kernelspec": {
   "display_name": "Python 3",
   "language": "python",
   "name": "python3"
  },
  "language_info": {
   "codemirror_mode": {
    "name": "ipython",
    "version": 3
   },
   "file_extension": ".py",
   "mimetype": "text/x-python",
   "name": "python",
   "nbconvert_exporter": "python",
   "pygments_lexer": "ipython3",
   "version": "3.6.3"
  }
 },
 "nbformat": 4,
 "nbformat_minor": 2
}
