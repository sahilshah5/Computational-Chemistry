{
 "cells": [
  {
   "cell_type": "markdown",
   "metadata": {},
   "source": [
    "# Computing the Free Energy - The Harmonic Approximation"
   ]
  },
  {
   "cell_type": "markdown",
   "metadata": {},
   "source": [
    "In this exercise you will calculate the Gibbs free energy of a MgO crystal. As you will observe, the free energy depends on the number of vibrations that are taken into account. Therefore, the first step is a convergence test wrt the number of k points sampled (like you did in the previous exercise for the DOS).\n",
    "### GRID CONVERGENCE TEST\n",
    "Input one by one the grid size *s* you want to use. If you feel confident with python you could write a \"for loop\" to automatise the procedure. (Hint: a for loop was used in the previous part of the lab for the DOS convergence tests).\n",
    "<br><br>\n"
   ]
  },
  {
   "cell_type": "code",
   "execution_count": 3,
   "metadata": {
    "scrolled": true
   },
   "outputs": [
    {
     "name": "stdout",
     "output_type": "stream",
     "text": [
      "Gibbs free energy (0 K) 1x1x1 grid  = -40.90325632 eV/(Unit cell)\n",
      "Time to calculate the free energy:  0.1406 s\n",
      "Gibbs free energy (0 K) 2x2x2 grid  = -40.90111098 eV/(Unit cell)\n",
      "Time to calculate the free energy:  0.1563 s\n",
      "Gibbs free energy (0 K) 3x3x3 grid  = -40.90098879 eV/(Unit cell)\n",
      "Time to calculate the free energy:  0.1406 s\n",
      "Gibbs free energy (0 K) 4x4x4 grid  = -40.90098041 eV/(Unit cell)\n",
      "Time to calculate the free energy:  0.1562 s\n",
      "Gibbs free energy (0 K) 5x5x5 grid  = -40.90097949 eV/(Unit cell)\n",
      "Time to calculate the free energy:  0.1875 s\n",
      "Gibbs free energy (0 K) 6x6x6 grid  = -40.90097939 eV/(Unit cell)\n",
      "Time to calculate the free energy:  0.2187 s\n",
      "Gibbs free energy (0 K) 7x7x7 grid  = -40.90097941 eV/(Unit cell)\n",
      "Time to calculate the free energy:  0.2812 s\n",
      "Gibbs free energy (0 K) 8x8x8 grid  = -40.90097944 eV/(Unit cell)\n",
      "Time to calculate the free energy:  0.3125 s\n",
      "Gibbs free energy (0 K) 9x9x9 grid  = -40.90097947 eV/(Unit cell)\n",
      "Time to calculate the free energy:  0.5938 s\n",
      "Gibbs free energy (0 K) 10x10x10 grid  = -40.90097949 eV/(Unit cell)\n",
      "Time to calculate the free energy:  0.4844 s\n",
      "Gibbs free energy (0 K) 11x11x11 grid  = -40.90097950 eV/(Unit cell)\n",
      "Time to calculate the free energy:  0.625 s\n",
      "Gibbs free energy (0 K) 12x12x12 grid  = -40.90097951 eV/(Unit cell)\n",
      "Time to calculate the free energy:  0.7187 s\n",
      "Gibbs free energy (0 K) 13x13x13 grid  = -40.90097951 eV/(Unit cell)\n",
      "Time to calculate the free energy:  0.9375 s\n",
      "Gibbs free energy (0 K) 14x14x14 grid  = -40.90097952 eV/(Unit cell)\n",
      "Time to calculate the free energy:  1.0625 s\n",
      "Gibbs free energy (0 K) 15x15x15 grid  = -40.90097952 eV/(Unit cell)\n",
      "Time to calculate the free energy:  1.4062 s\n",
      "Gibbs free energy (0 K) 16x16x16 grid  = -40.90097952 eV/(Unit cell)\n",
      "Time to calculate the free energy:  1.5469 s\n",
      "Gibbs free energy (0 K) 17x17x17 grid  = -40.90097952 eV/(Unit cell)\n",
      "Time to calculate the free energy:  1.9375 s\n",
      "Gibbs free energy (0 K) 18x18x18 grid  = -40.90097953 eV/(Unit cell)\n",
      "Time to calculate the free energy:  2.125 s\n",
      "Gibbs free energy (0 K) 19x19x19 grid  = -40.90097953 eV/(Unit cell)\n",
      "Time to calculate the free energy:  2.5937 s\n",
      "Gibbs free energy (0 K) 20x20x20 grid  = -40.90097953 eV/(Unit cell)\n",
      "Time to calculate the free energy:  2.9844 s\n"
     ]
    }
   ],
   "source": [
    "# first the imports, always\n",
    "import numpy as np\n",
    "import matplotlib.pyplot as plt\n",
    "from ase.calculators.gulp import GULP\n",
    "from math import ceil\n",
    "from ase.spacegroup import crystal\n",
    "from time import time\n",
    "\n",
    "# INPUT THE GRID SIZE YOU WANT TO TEST\n",
    "for k in range(1,21):\n",
    "\n",
    "# the name of the calculation\n",
    "    label = 'mgo_G'.format()\n",
    "#INSTERT HERE THE VALUE FOR THE OPTIMISED LATTICE CONSTANT\n",
    "    a_opt = 4.212\n",
    "    MgO_G = crystal('MgO',basis=[[0.0,0.0,0.0],[0.5,0.5,0.5]],spacegroup=225,cellpar=[a_opt, a_opt, a_opt, 90, 90, 90],primitive_cell=True)\n",
    "\n",
    "#setting the options to run the free energy calculation\n",
    "    options = ['temperature 0','shrink {} {} {}'.format(k,k,k),'output phon '+label]\n",
    "    calc = GULP(label=label ,keywords='conp free_energy', library='ionic.lib',options=options)\n",
    "    calc.set(options = options)\n",
    "    MgO_G.calc = calc\n",
    "    b = time()\n",
    "    MgO_G.get_potential_energy()\n",
    "    e = time()-b\n",
    "\n",
    "#read the output\n",
    "    with open('mgo_G.got') as o:\n",
    "        lines = o.readlines()\n",
    "\n",
    "#look for the free energy in the output\n",
    "    for i,line in enumerate(lines):\n",
    "        if line.find('  Total free energy          =         ') != -1:\n",
    "            free_energy = line.split()[4]\n",
    "            break\n",
    "    \n",
    "    print('Gibbs free energy (0 K) {}x{}x{} grid  ='.format(k,k,k),free_energy,'eV/(Unit cell)')\n",
    "    print('Time to calculate the free energy: ',round(e,4),'s')\n"
   ]
  },
  {
   "cell_type": "markdown",
   "metadata": {},
   "source": [
    "**Questions:**<br>\n",
    "1. How does the free energy vary with the grid size? <br>\n",
    "    - Which grid size is appropriate for calculations accurate to 1 meV, 0.01 meV and 0.0001 meV per cell? <br>\n",
    "    <br>\n",
    "1. Would this optimal grid size for MgO be optimal for a calculation on...<br>\n",
    "    - similar oxide like BaO?<br>\n",
    "    - metal like Ag?<br>\n",
    "    - metal like Li?<br>\n",
    "         *Think about the relation between the real space and the reciprocal space.<br>"
   ]
  },
  {
   "cell_type": "code",
   "execution_count": 1,
   "metadata": {},
   "outputs": [
    {
     "name": "stdout",
     "output_type": "stream",
     "text": [
      "Populating the interactive namespace from numpy and matplotlib\n"
     ]
    },
    {
     "data": {
      "text/plain": [
       "Text(0,0.5,'Gibbs Free Energy /eV/(Unit Cell)')"
      ]
     },
     "execution_count": 1,
     "metadata": {},
     "output_type": "execute_result"
    },
    {
     "data": {
      "image/png": "[encoded data removed]",
      "text/plain": [
       "<Figure size 432x288 with 1 Axes>"
      ]
     },
     "metadata": {
      "needs_background": "light"
     },
     "output_type": "display_data"
    }
   ],
   "source": [
    "%pylab inline\n",
    "N=[1,2,3,4,5,6,7,8,9,10,11,12,13,14,15,16,17,18,19,20]\n",
    "G=[-40.90325632, -40.90111098, -40.90098879, -40.90098041, -40.90097949,\n",
    "   -40.90097939, -40.90097941, -40.90097944, -40.90097947, -40.90097949,\n",
    "   -40.90097950, -40.90097951, -40.90097951, -40.90097952, -40.90097952,\n",
    "   -40.90097952, -40.90097952, -40.90097953, -40.90097953, -40.90097953]\n",
    "plt.plot(N,G)\n",
    "plt.xlabel('Grid Size, N')\n",
    "plt.ylabel('Gibbs Free Energy /eV/(Unit Cell)')"
   ]
  },
  {
   "cell_type": "code",
   "execution_count": null,
   "metadata": {},
   "outputs": [],
   "source": []
  }
 ],
 "metadata": {
  "kernelspec": {
   "display_name": "Python 3",
   "language": "python",
   "name": "python3"
  },
  "language_info": {
   "codemirror_mode": {
    "name": "ipython",
    "version": 3
   },
   "file_extension": ".py",
   "mimetype": "text/x-python",
   "name": "python",
   "nbconvert_exporter": "python",
   "pygments_lexer": "ipython3",
   "version": "3.6.6"
  }
 },
 "nbformat": 4,
 "nbformat_minor": 2
}
