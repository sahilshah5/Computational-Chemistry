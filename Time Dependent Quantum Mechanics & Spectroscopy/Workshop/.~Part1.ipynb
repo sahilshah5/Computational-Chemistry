{
 "cells": [
  {
   "cell_type": "code",
   "execution_count": 1,
   "metadata": {},
   "outputs": [
    {
     "name": "stdout",
     "output_type": "stream",
     "text": [
      "Populating the interactive namespace from numpy and matplotlib\n"
     ]
    }
   ],
   "source": [
    "%pylab inline"
   ]
  },
  {
   "cell_type": "code",
   "execution_count": 2,
   "metadata": {},
   "outputs": [],
   "source": [
    "x=linspace(0.3,1.5,100)"
   ]
  },
  {
   "cell_type": "code",
   "execution_count": 3,
   "metadata": {},
   "outputs": [],
   "source": [
    "def V0(x,D,re,a):\n",
    "    V0=D*(1-exp(-a*(x-re)))**2\n",
    "    return V0"
   ]
  },
  {
   "cell_type": "code",
   "execution_count": 4,
   "metadata": {},
   "outputs": [],
   "source": [
    "D=0.15\n",
    "re=0.64\n",
    "a=6.5"
   ]
  },
  {
   "cell_type": "code",
   "execution_count": 5,
   "metadata": {},
   "outputs": [],
   "source": [
    "def VHO(x,k,re,E0):\n",
    "    VHO=0.5*k*(x-re)**2+E0\n",
    "    return VHO"
   ]
  },
  {
   "cell_type": "code",
   "execution_count": 6,
   "metadata": {},
   "outputs": [],
   "source": [
    "ka=6\n",
    "rea=0.55\n",
    "E0a=0.3\n",
    "kb=40\n",
    "reb=1\n",
    "E0b=0.55"
   ]
  },
  {
   "cell_type": "code",
   "execution_count": 7,
   "metadata": {},
   "outputs": [],
   "source": [
    "gamma=0.75"
   ]
  },
  {
   "cell_type": "code",
   "execution_count": 8,
   "metadata": {},
   "outputs": [],
   "source": [
    "def V1(x,ka,rea,E0a,kb,reb,E0b,gamma):\n",
    "    VHOa=0.5*ka*(x-rea)**2+E0a\n",
    "    VHOb=0.5*kb*(x-reb)**2+E0b\n",
    "    V1=0.5*(VHOa+VHOb)-0.5*sqrt((VHOa-VHOb)**2+2*gamma**2)\n",
    "    return V1"
   ]
  },
  {
   "cell_type": "code",
   "execution_count": 9,
   "metadata": {},
   "outputs": [],
   "source": [
    "from qdyn import propagator, animate_dynamics"
   ]
  },
  {
   "cell_type": "code",
   "execution_count": 10,
   "metadata": {},
   "outputs": [],
   "source": [
    "from numpy.polynomial.hermite import hermval\n",
    "\n",
    "def eigen_ho(x,v,m,k,r):\n",
    "    \"\"\"Calculates the eigenfunction of the harmonic oscillator system.\n",
    "    \n",
    "    Arguments\n",
    "    x: is a space coordinate.\n",
    "    v: is the vibrational quantum number.\n",
    "    m: is the mas of the system.\n",
    "    k: is the force constant of the harmonic potential.\n",
    "    \"\"\"\n",
    "    \n",
    "    hermite_sum=zeros(v+1)\n",
    "    hermite_sum[-1]=1\n",
    "    return 1/(2**v * math.factorial(v))**0.5 * (((m*k)**0.5)/pi)**0.25 * np.e**(-(x-r)**2 * ((m*k)**0.5)/2) * hermval((m*k)**0.25 * (x-r),hermite_sum) "
   ]
  },
  {
   "cell_type": "code",
   "execution_count": 11,
   "metadata": {},
   "outputs": [],
   "source": [
    "def LC(x,c0,c1,v,m,k):\n",
    "    lc=c0*eigen_ho(x,v,m,k)+c1*eigen_ho(x,v,m,k)\n",
    "    return lc"
   ]
  },
  {
   "cell_type": "code",
   "execution_count": 12,
   "metadata": {},
   "outputs": [
    {
     "data": {
      "text/plain": [
       "<matplotlib.animation.FuncAnimation at 0x28cdb1c93c8>"
      ]
     },
     "execution_count": 12,
     "metadata": {},
     "output_type": "execute_result"
    },
    {
     "data": {
      "image/png": "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\n",
      "text/plain": [
       "<Figure size 432x288 with 1 Axes>"
      ]
     },
     "metadata": {
      "needs_background": "light"
     },
     "output_type": "display_data"
    },
    {
     "data": {
      "image/png": "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