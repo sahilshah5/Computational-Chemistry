{
 "cells": [
  {
   "cell_type": "markdown",
   "metadata": {},
   "source": [
    "# Introduction to programming 4"
   ]
  },
  {
   "cell_type": "markdown",
   "metadata": {},
   "source": [
    "William Vigor, Clyde Fare and João Pedro Malhado, Imperial College London (contact: [python@imperial.ac.uk](mailto:python@imperial.ac.uk))\n",
    "\n",
    "Notebook is licensed under a [Creative Commons Attribution 4.0 (CC-by) license](http://creativecommons.org/licenses/by/4.0/)."
   ]
  },
  {
   "cell_type": "markdown",
   "metadata": {},
   "source": [
    "## Overview"
   ]
  },
  {
   "cell_type": "markdown",
   "metadata": {},
   "source": [
    "Up to now all our programs have run in their little bubble: they define the variable values they use and after they finish they leave little trace that they were ever run. Things changed a little in the last workshop where we introduced the possibility of the user passing on some information for the program to process. We will go a step further in seeing how we can interact with files.\n",
    "\n",
    "Dealing and interacting with files is a very common way of processing information stored in a computer, and is something that your programs might often do. When we deal with files and our programs go beyond their \"logical bubble\", is when we can start doing some damage: delete information on files, delete files all together, fill up the hard disk, damage your installation (the operating system should actually have safeguards for this). This should not intimidate you, it is just that with power it comes responsibility.\n",
    "\n",
    "In this workshop we will first go over the basic operations on files. Then we will look at a case study of a common case scenario where we want to process a file to extract information in a useful format."
   ]
  },
  {
   "cell_type": "markdown",
   "metadata": {},
   "source": [
    "## Dealing with files"
   ]
  },
  {
   "cell_type": "markdown",
   "metadata": {},
   "source": [
    "In any computer hard-disk there are typically two types of files: text files and binary files. Text files are those you can read with a text editor program (think of Notepad, not Microsoft Word), and do not necessarily contain prose. (If you open this notebook, which has an extension \\*.ipynb, on a text editor you will see that it is text in some form. The Jupyter notebook is a text file.) Binary files on the other end cannot be opened on a text editor, or when they do open they show up as ununderstandable characters. (Picture files like PNG or JPEG, music files like MP3, video files, Word DOC files, are all binary files.)\n",
    "\n",
    "We will only be looking at manipulating text files. Although Python can also manipulate binary files, the caveat of such files is that the programmer needs to know *a priori* how the content of the file is structured, and since one cannot just look at the file on a text editor, this task is harder. Binary files further require knowledge of some low level computer architecture which is beyond the scope of this course. Manipulating text files will however illustrate the process, and most instruments and computer programs are able to write data in some form of text file."
   ]
  },
  {
   "cell_type": "markdown",
   "metadata": {},
   "source": [
    "We will start by loading the content of the file <a href=\"test.out\">test.out</a> (you can open the file to look at its content). First we need to open a stream to the file content and set it to a variable. This is done with function *open()*\n",
    "\n",
    "    stream1=open('test.out','r')"
   ]
  },
  {
   "cell_type": "code",
   "execution_count": 1,
   "metadata": {
    "collapsed": true
   },
   "outputs": [],
   "source": [
    "stream1=open('test.out','r')"
   ]
  },
  {
   "cell_type": "markdown",
   "metadata": {},
   "source": [
    "This takes a string containing the name of our file (including the full path if the file is not in the same directory as the notebook/script) and as a second argument a flag telling Python whether we are going to read or write to the file. ('r' for reading and 'w' for writing).\n",
    "\n",
    "Via the variable *stream1* we now have direct access to the content of the file. If we loop over the file stream we can read the lines of the file one by one as strings\n",
    "\n",
    "    for line in stream1:\n",
    "        print(line)"
   ]
  },
  {
   "cell_type": "code",
   "execution_count": 2,
   "metadata": {},
   "outputs": [
    {
     "name": "stdout",
     "output_type": "stream",
     "text": [
      "All the leaves are brown,\n",
      "\n",
      "and the sky is grey,\n",
      "\n",
      "I went for a walk on a winter's day.\n",
      "\n"
     ]
    }
   ],
   "source": [
    "for line in stream1:\n",
    "    print(line)"
   ]
  },
  {
   "cell_type": "markdown",
   "metadata": {},
   "source": [
    "Once we are done with the file we should tidy up, close the stream and leave the file in peace\n",
    "\n",
    "    stream1.close()"
   ]
  },
  {
   "cell_type": "code",
   "execution_count": 3,
   "metadata": {
    "collapsed": true
   },
   "outputs": [],
   "source": [
    "stream1.close()"
   ]
  },
  {
   "cell_type": "markdown",
   "metadata": {},
   "source": [
    "If we are interested in a list with every line in the file we could build a list with a loop, or simply operate with the function *list()* on the stream\n",
    "\n",
    "    stream2=open('test.out','r')\n",
    "    list_content=list(stream2)\n",
    "    stream2.close()\n",
    "    list_content"
   ]
  },
  {
   "cell_type": "code",
   "execution_count": 4,
   "metadata": {},
   "outputs": [
    {
     "data": {
      "text/plain": [
       "['All the leaves are brown,\\n',\n",
       " 'and the sky is grey,\\n',\n",
       " \"I went for a walk on a winter's day.\\n\"]"
      ]
     },
     "execution_count": 4,
     "metadata": {},
     "output_type": "execute_result"
    }
   ],
   "source": [
    "stream2=open('test.out','r')\n",
    "list_content=list(stream2)\n",
    "stream2.close()\n",
    "list_content"
   ]
  },
  {
   "cell_type": "markdown",
   "metadata": {},
   "source": [
    "Note at the end of each line/list element the linebreak represented by '\\n' which counts as a single character.\n",
    "\n",
    "We should be slightly careful when performing this operations as it puts all the content of the file into a list, which will be unmanageable if the file is several gigabytes in size.\n",
    "\n",
    "It is just as simple to read a specific number of lines, using a loop and the method *.readline()*\n",
    "\n",
    "    stream3=open('test.out','r')\n",
    "    for i in range(2):\n",
    "        line=stream3.readline()\n",
    "        print(line)\n",
    "    stream3.close()"
   ]
  },
  {
   "cell_type": "code",
   "execution_count": 5,
   "metadata": {},
   "outputs": [
    {
     "name": "stdout",
     "output_type": "stream",
     "text": [
      "All the leaves are brown,\n",
      "\n",
      "and the sky is grey,\n",
      "\n"
     ]
    }
   ],
   "source": [
    "stream3=open('test.out','r')\n",
    "for i in range(2):\n",
    "    line=stream3.readline()\n",
    "    print(line)\n",
    "stream3.close()"
   ]
  },
  {
   "cell_type": "markdown",
   "metadata": {},
   "source": [
    "The house keeping step of closing the stream can be a bit tedious an easily forgotten. The following construct will close the stream for us when we are done\n",
    "\n",
    "    with open('test.out','r') as stream:\n",
    "        list_content_again=list(stream)\n",
    "    list_content_again"
   ]
  },
  {
   "cell_type": "code",
   "execution_count": 6,
   "metadata": {},
   "outputs": [
    {
     "data": {
      "text/plain": [
       "['All the leaves are brown,\\n',\n",
       " 'and the sky is grey,\\n',\n",
       " \"I went for a walk on a winter's day.\\n\"]"
      ]
     },
     "execution_count": 6,
     "metadata": {},
     "output_type": "execute_result"
    }
   ],
   "source": [
    "with open('test.out','r') as stream:\n",
    "    list_content_again=list(stream)\n",
    "list_content_again"
   ]
  },
  {
   "cell_type": "markdown",
   "metadata": {},
   "source": [
    "If we are just interested in some specific information in the file we can search for it as we read it.\n",
    "\n",
    "The following code looks for the line with the substring 'leaves' and extracts the colour of the leaves in the text."
   ]
  },
  {
   "cell_type": "code",
   "execution_count": 7,
   "metadata": {},
   "outputs": [
    {
     "ename": "NameError",
     "evalue": "name 'leaf_colour' is not defined",
     "output_type": "error",
     "traceback": [
      "\u001b[1;31m---------------------------------------------------------------------------\u001b[0m",
      "\u001b[1;31mNameError\u001b[0m                                 Traceback (most recent call last)",
      "\u001b[1;32m<ipython-input-7-2fe22c9e5bab>\u001b[0m in \u001b[0;36m<module>\u001b[1;34m()\u001b[0m\n\u001b[0;32m      4\u001b[0m             \u001b[0msky_colour\u001b[0m \u001b[1;33m=\u001b[0m \u001b[0mline\u001b[0m\u001b[1;33m.\u001b[0m\u001b[0msplit\u001b[0m\u001b[1;33m(\u001b[0m\u001b[1;33m)\u001b[0m\u001b[1;33m[\u001b[0m\u001b[1;36m4\u001b[0m\u001b[1;33m]\u001b[0m\u001b[1;33m\u001b[0m\u001b[0m\n\u001b[0;32m      5\u001b[0m \u001b[1;33m\u001b[0m\u001b[0m\n\u001b[1;32m----> 6\u001b[1;33m \u001b[0mleaf_colour\u001b[0m\u001b[1;33m[\u001b[0m\u001b[1;33m:\u001b[0m\u001b[1;33m-\u001b[0m\u001b[1;36m1\u001b[0m\u001b[1;33m]\u001b[0m\u001b[1;33m\u001b[0m\u001b[0m\n\u001b[0m",
      "\u001b[1;31mNameError\u001b[0m: name 'leaf_colour' is not defined"
     ]
    }
   ],
   "source": [
    "with open('test.out','r') as stream:\n",
    "    for line in stream:\n",
    "        if 'sky' in line:\n",
    "            sky_colour = line.split()[4]\n",
    "        \n",
    "leaf_colour[:-1]"
   ]
  },
  {
   "cell_type": "markdown",
   "metadata": {},
   "source": [
    "Note that the variable *line* is a string with each line in the file. If we are interested in individual words, we can form a list from a string with the **.split()** method.\n",
    "\n",
    "    \"Read my words. One by one.\".split()"
   ]
  },
  {
   "cell_type": "code",
   "execution_count": 8,
   "metadata": {},
   "outputs": [
    {
     "data": {
      "text/plain": [
       "['Read', 'my', 'words,', 'One', 'by', 'one.']"
      ]
     },
     "execution_count": 8,
     "metadata": {},
     "output_type": "execute_result"
    }
   ],
   "source": [
    "\"Read my words, One by one.\".split()"
   ]
  },
  {
   "cell_type": "markdown",
   "metadata": {},
   "source": [
    "By default *.split()* separates the string on the blank spaces (space or tab characters), but we can choose any other character\n",
    "\n",
    "    \"Read my words. One by one.\".split(\".\")"
   ]
  },
  {
   "cell_type": "code",
   "execution_count": 9,
   "metadata": {},
   "outputs": [
    {
     "data": {
      "text/plain": [
       "['Read my words', ' One by one', '']"
      ]
     },
     "execution_count": 9,
     "metadata": {},
     "output_type": "execute_result"
    }
   ],
   "source": [
    "\"Read my words. One by one.\".split(\".\")"
   ]
  },
  {
   "cell_type": "markdown",
   "metadata": {},
   "source": [
    "For completeness, the opposite operation to *.split()* is performed by *.join()*\n",
    "\n",
    "    \"--\".join(['three','two','one','go'])"
   ]
  },
  {
   "cell_type": "code",
   "execution_count": 10,
   "metadata": {},
   "outputs": [
    {
     "data": {
      "text/plain": [
       "'three--two--one--go'"
      ]
     },
     "execution_count": 10,
     "metadata": {},
     "output_type": "execute_result"
    }
   ],
   "source": [
    "\"--\".join(['three','two','one','go'])"
   ]
  },
  {
   "cell_type": "markdown",
   "metadata": {},
   "source": [
    "Is it clear how we are obtaining the colour of the leaves? Write some code below that extracts the colour of the sky instead."
   ]
  },
  {
   "cell_type": "code",
   "execution_count": 11,
   "metadata": {},
   "outputs": [
    {
     "data": {
      "text/plain": [
       "'grey'"
      ]
     },
     "execution_count": 11,
     "metadata": {},
     "output_type": "execute_result"
    }
   ],
   "source": [
    "with open('test.out','r') as stream:\n",
    "    for line in stream:\n",
    "        if 'sky' in line:\n",
    "            sky_colour = line.split()[4]\n",
    "        \n",
    "sky_colour[:-1]"
   ]
  },
  {
   "cell_type": "markdown",
   "metadata": {},
   "source": [
    "The authors of those words were probably not in their best mood. So we are going to change the text to make it more cheerful (even if slightly psychedelic). The goal is thus to construct a list of the verses in the lyrics, but with *blue* leaves, a *bay* sky and a *glorious* day. Let us call this list *cheerful*.\n",
    "\n",
    "This task could be done in one go with a single *for* loop (if you are feeling confortable you can try to implement such solution). We will however break the task into two. First, create the list *cheerful* where each element is a verse of the original text split into words."
   ]
  },
  {
   "cell_type": "code",
   "execution_count": 12,
   "metadata": {},
   "outputs": [
    {
     "data": {
      "text/plain": [
       "['All',\n",
       " 'the',\n",
       " 'leaves',\n",
       " 'are',\n",
       " 'brown,',\n",
       " 'and',\n",
       " 'the',\n",
       " 'sky',\n",
       " 'is',\n",
       " 'grey,',\n",
       " 'I',\n",
       " 'went',\n",
       " 'for',\n",
       " 'a',\n",
       " 'walk',\n",
       " 'on',\n",
       " 'a',\n",
       " \"winter's\",\n",
       " 'day.']"
      ]
     },
     "execution_count": 12,
     "metadata": {},
     "output_type": "execute_result"
    }
   ],
   "source": [
    "cheerful=[]\n",
    "with open('test.out','r') as stream:\n",
    "    for i in stream:\n",
    "        cheerful=cheerful + i.split()\n",
    "cheerful"
   ]
  },
  {
   "cell_type": "markdown",
   "metadata": {},
   "source": [
    "Now change your list such that you replace the wanted words in the text, and put each verse together using the *.join()* mehtod such that *cheerful* is a list of strings with the verses of the lyrics."
   ]
  },
  {
   "cell_type": "code",
   "execution_count": 13,
   "metadata": {},
   "outputs": [
    {
     "data": {
      "text/plain": [
       "'All the leaves are blue, and the sky is bay, I went for a walk on a glorious day.'"
      ]
     },
     "execution_count": 13,
     "metadata": {},
     "output_type": "execute_result"
    }
   ],
   "source": [
    "cheerful1=[]\n",
    "for i in cheerful:\n",
    "    if i == 'brown,':\n",
    "        i= \"blue,\"\n",
    "    if i == 'grey,':\n",
    "        i='bay,'\n",
    "    if i == \"winter's\":\n",
    "        i=\"glorious\"\n",
    "    cheerful1=cheerful1+[i]\n",
    "cheerful1\n",
    "\n",
    "' '.join(cheerful1)"
   ]
  },
  {
   "cell_type": "markdown",
   "metadata": {},
   "source": [
    "If we want to write our cheerful version to a file, we just do\n",
    "\n",
    "    with open('cheerful.out','w') as stream:\n",
    "        stream.writelines(cheerful)"
   ]
  },
  {
   "cell_type": "code",
   "execution_count": 14,
   "metadata": {
    "collapsed": true
   },
   "outputs": [],
   "source": [
    "with open('cheerful.out','w') as stream:\n",
    "    stream.writelines(cheerful1)"
   ]
  },
  {
   "cell_type": "markdown",
   "metadata": {},
   "source": [
    "Note that if you open a file for writing you **will overwrite whatever was initially in the file**.\n",
    "\n",
    "The <a href\"https://docs.python.org/3/library/os.html\">os module</a> provides many functions for interaction with the operating system, including the file system. We can get the list of the files in the current directory and see if our new created file is in place\n",
    "\n",
    "    import os\n",
    "    os.listdir()"
   ]
  },
  {
   "cell_type": "code",
   "execution_count": 15,
   "metadata": {},
   "outputs": [
    {
     "data": {
      "text/plain": [
       "['Ar2.out',\n",
       " 'Ar.out',\n",
       " 'He2.out',\n",
       " 'He.out',\n",
       " 'Kr2.out',\n",
       " 'Kr.out',\n",
       " 'Ne.out',\n",
       " 'Ne2.out',\n",
       " 'H2S.xyz',\n",
       " 'molecule_angle.svg',\n",
       " 'test.out',\n",
       " 'prog_workshop4.ipynb',\n",
       " '.ipynb_checkpoints',\n",
       " 'cheerful.out']"
      ]
     },
     "execution_count": 15,
     "metadata": {},
     "output_type": "execute_result"
    }
   ],
   "source": [
    "import os\n",
    "os.listdir()"
   ]
  },
  {
   "cell_type": "markdown",
   "metadata": {},
   "source": [
    "### XYZ molecular structure files"
   ]
  },
  {
   "cell_type": "markdown",
   "metadata": {},
   "source": [
    "A very common type of text file used in chemistry is the <a href=\"http://openbabel.org/wiki/XYZ_(format)\">XYZ file</a> to represent chemical structures. The <a href=\"H2S.xyz\">H2S.xyz</a> file, present in the same directory as the notebook, is an example of such file (you can open it using a molecular viewer program such as Avogadro). If we open the H2S.xyz file on a text editor, we can clearly note the general structure of such files:\n",
    "\n",
    "* The first line of the file is formed by a single integer number *n* indicating the number atoms present in the chemical structure in the file.\n",
    "* The second line is a string containing a comment about the file. It is often left blank, but this line must be present.\n",
    "* It follows *n* lines with the chemical symbol of each atom and its position in space in Cartesian coordinates in Ångström.\n",
    "\n",
    "In this exercise, we will want to determine what is the bond angle of the H<sub>2</sub>S molecule represented in the H2S.xyz.\n",
    "\n",
    "First, write some code to extract the position of each atom in the molecule, in the form of a list where each element is another list with the atom coordinates."
   ]
  },
  {
   "cell_type": "code",
   "execution_count": 16,
   "metadata": {},
   "outputs": [
    {
     "data": {
      "text/plain": [
       "[['S', '0.00000000', '0.00000000', '0.10224900'],\n",
       " ['H', '0.00000000', '0.96805900', '-0.81799200'],\n",
       " ['H', '0.00000000', '-0.96805900', '-0.81799200']]"
      ]
     },
     "execution_count": 16,
     "metadata": {},
     "output_type": "execute_result"
    }
   ],
   "source": [
    "coord=[]\n",
    "with open('H2S.xyz','r') as molecule:\n",
    "    mol=list(molecule)\n",
    "    for line in mol[2:]:\n",
    "        coord=coord+[line.split()]\n",
    "coord  "
   ]
  },
  {
   "cell_type": "code",
   "execution_count": 17,
   "metadata": {},
   "outputs": [
    {
     "data": {
      "text/plain": [
       "[['0.00000000', '0.00000000', '0.10224900'],\n",
       " ['0.00000000', '0.96805900', '-0.81799200'],\n",
       " ['0.00000000', '-0.96805900', '-0.81799200']]"
      ]
     },
     "execution_count": 17,
     "metadata": {},
     "output_type": "execute_result"
    }
   ],
   "source": [
    "coord1=[]\n",
    "for i in coord:\n",
    "    coord1=coord1 + [i[1:]]\n",
    "coord1"
   ]
  },
  {
   "cell_type": "markdown",
   "metadata": {},
   "source": [
    "Note that the bond angle can be determined with relative ease, by thinking of the vectors that connect the atom positions:\n",
    "\n",
    "<img src=\"molecule_angle.svg\" style=\"width:30%\" />\n",
    "\n",
    "Using arrays from the Numpy module, obtain the two relevant vectors from the atoms' coordinates previously taken from the file."
   ]
  },
  {
   "cell_type": "code",
   "execution_count": 18,
   "metadata": {
    "scrolled": true
   },
   "outputs": [
    {
     "name": "stdout",
     "output_type": "stream",
     "text": [
      "Populating the interactive namespace from numpy and matplotlib\n"
     ]
    }
   ],
   "source": [
    "%pylab inline"
   ]
  },
  {
   "cell_type": "code",
   "execution_count": 19,
   "metadata": {},
   "outputs": [
    {
     "data": {
      "text/plain": [
       "1.3356577875945619"
      ]
     },
     "execution_count": 19,
     "metadata": {},
     "output_type": "execute_result"
    }
   ],
   "source": [
    "v1=array(coord1[0], dtype=float)\n",
    "v2=array(coord1[1], dtype=float)\n",
    "v3=array(coord1[2],dtype=float)\n",
    "vector1=v2-v1\n",
    "vector2=v3-v1\n",
    "dot_prod=dot(vector1, vector2)\n",
    "n1=norm(vector1)\n",
    "n2=norm(vector2)\n",
    "n2"
   ]
  },
  {
   "cell_type": "markdown",
   "metadata": {},
   "source": [
    "Using the <a href=\"http://docs.scipy.org/doc/numpy/reference/generated/numpy.dot.html\">dot()</a> and <a href=\"http://docs.scipy.org/doc/numpy/reference/generated/numpy.linalg.norm.html\">norm()</a> functions from the Numpy module, determine the bond angle on the H<sub>2</sub>S molecule."
   ]
  },
  {
   "cell_type": "code",
   "execution_count": 20,
   "metadata": {},
   "outputs": [
    {
     "data": {
      "text/plain": [
       "92.901217143568132"
      ]
     },
     "execution_count": 20,
     "metadata": {},
     "output_type": "execute_result"
    }
   ],
   "source": [
    "bond_angle=arccos((dot_prod)/(n1*n2))\n",
    "bond_angle/pi*180"
   ]
  },
  {
   "cell_type": "markdown",
   "metadata": {},
   "source": [
    "# Part 2"
   ]
  },
  {
   "cell_type": "markdown",
   "metadata": {},
   "source": [
    "## Ne<sub>2</sub> dissociation: extracting information from files"
   ]
  },
  {
   "cell_type": "markdown",
   "metadata": {},
   "source": [
    "In this mini-project we will be looking at the dissociation curve of two neon atoms, i.e. how their electronic energy varies with the distance between the two atoms. By analysing this curve, beyond other quantities, it is possible to determine the equilibrium distance between atoms at low temperature.\n",
    "\n",
    "This task will involve extracting the relevant information from the output file of a quantum chemistry calculation. The file <a href=\"Ne.out\">Ne.out</a> is a fairly typical log file of an electronic structure calculation program, in this case from the <a href=\"http://www.psicode.org\">Psi4</a> program, and corresponds to a calculation of the electronic energy of a single neon atom. By looking at the file one notices that a lot of detail is given about the electronic structure of neon and about the calculation itself. We want to write a program that extracts from the file the relevant information to accomplish the task in hand.\n",
    "\n",
    "The situation where we have a text file generated by a program or an instrument, and wish to extract some relevant information (for example to make a plot), is a fairly common one both when working in an experimental or computational setting. We will look at how to address this problem."
   ]
  },
  {
   "cell_type": "markdown",
   "metadata": {},
   "source": [
    "We will first focus our attention on the energy of an isolated neon atom. We can find this energy expressed in <a href=\"http://physics.nist.gov/cgi-bin/cuu/Value?hrj\">Hartrees</a> towards the end of the Ne.out file on the line\n",
    "\n",
    "      Total Energy              =    -128.6763534151176600 [H]\n",
    "\n",
    "Note that the substring \"Total Energies\" shows up several times in the file, so it is important to search for a substring with the correct number of spaces.\n",
    "In the cell below remove 'pass' and in its place write some code that will read the log file and set a variable named 'energy_str' to the string with the energy of the neon atom"
   ]
  },
  {
   "cell_type": "code",
   "execution_count": 116,
   "metadata": {},
   "outputs": [
    {
     "data": {
      "text/plain": [
       "'\\t Total Energy              =    -128.6763534151176600 [H]\\n'"
      ]
     },
     "execution_count": 116,
     "metadata": {},
     "output_type": "execute_result"
    }
   ],
   "source": [
    "with open('Ne.out', 'r') as f:\n",
    "    for line in f:\n",
    "        if \"Total Energy              =\" in line:\n",
    "            energy_str=line\n",
    "energy_str"
   ]
  },
  {
   "cell_type": "markdown",
   "metadata": {},
   "source": [
    "Now we have extracted the energy as a string, modify the code to generate a new variable named 'ne_energy' which contains the energy as a floating point number."
   ]
  },
  {
   "cell_type": "code",
   "execution_count": 117,
   "metadata": {},
   "outputs": [
    {
     "data": {
      "text/plain": [
       "-128.67635341511766"
      ]
     },
     "execution_count": 117,
     "metadata": {},
     "output_type": "execute_result"
    }
   ],
   "source": [
    "with open('Ne.out', 'r') as f:\n",
    "    f1=list(f)\n",
    "    for line in f1:\n",
    "        if \"Total Energy              =\" in line:\n",
    "            energy_str=line\n",
    "l=energy_str.split()\n",
    "ne_energy=float(l[3])\n",
    "ne_energy"
   ]
  },
  {
   "cell_type": "markdown",
   "metadata": {},
   "source": [
    "Based on the code above, define a function *get_atom_energy()* which receives a string with the name of a file of an atom electronic structure calculation and returns the MP2 total energy from that file."
   ]
  },
  {
   "cell_type": "code",
   "execution_count": 118,
   "metadata": {
    "collapsed": true
   },
   "outputs": [],
   "source": [
    "def get_atom_energy(filename):\n",
    "    \"Return Total Energy\"\n",
    "    with open(filename, 'r') as f:\n",
    "        f1=list(f)\n",
    "        for line in f1:\n",
    "            if \"Total Energy              =\" in line:\n",
    "                energy_str=line\n",
    "    l=energy_str.split()\n",
    "    ne_energy=float(l[3])\n",
    "    return ne_energy"
   ]
  },
  {
   "cell_type": "markdown",
   "metadata": {},
   "source": [
    "We now have a way to extract the energy of a single atom, but we are interested in the energy of 2 atoms as a function of the energy. The file <a href=\"Ne2.out\">Ne2.out</a> contains energies for a neon dimer for different positions of the two atoms.\n",
    "\n",
    "You can open the file and note that is has the following format:"
   ]
  },
  {
   "cell_type": "raw",
   "metadata": {},
   "source": [
    ".\n",
    ".\n",
    ".       Some irrelevant stuff\n",
    ".\n",
    ".\n",
    "\n",
    "   Center              X                  Y                   Z\n",
    "------------   -----------------  -----------------  -----------------\n",
    "      NE          0.000000000000     0.000000000000    -0.250000000000\n",
    "      NE          0.000000000000     0.000000000000     0.250000000000\n",
    "\n",
    ".\n",
    ".\n",
    ".       Some more irrelevant stuff\n",
    ".\n",
    ".\n",
    "         ==================> DF-MP2 Energies <===================\n",
    "        ----------------------------------------------------------\n",
    "         Reference Energy          =    -256.9755260598059294 [H]\n",
    "         Singles Energy            =      -0.0000000000000000 [H]\n",
    "         Same-Spin Energy          =      -0.1032374376641407 [H]\n",
    "         Opposite-Spin Energy      =      -0.2721124831543129 [H]\n",
    "         Correlation Energy        =      -0.3753499208184536 [H]\n",
    "         Total Energy              =    -257.3508759806243802 [H]\n",
    "\n",
    ".\n",
    ".\n",
    ".       Some more irrelevant stuff\n",
    ".\n",
    "."
   ]
  },
  {
   "cell_type": "markdown",
   "metadata": {},
   "source": [
    "This format is then repeated giving data for several different coordinates of neon atom pairs. Our task is to extract both the information about atom position (from which we will obtain the distance) and the energy. We will tackle these two problems seperately at first."
   ]
  },
  {
   "cell_type": "markdown",
   "metadata": {},
   "source": [
    "The coordinates of the two Ne atoms are specified in Å:\n",
    "\n",
    "       Center              X                  Y                   Z\n",
    "    ------------   -----------------  -----------------  -----------------\n",
    "          NE          0.000000000000     0.000000000000    -0.250000000000\n",
    "          NE          0.000000000000     0.000000000000     0.250000000000\n",
    "\n",
    "Unfortunately the two lines have the same format so it is not quite as easy as before to distinguish between lines and extract the data. But we do know that whenever we find a 'Ne' symbol on the line we want to extract the coordinates, but we need a mechanism to distinguish between atom 1 and atom 2.\n",
    "\n",
    "Study the following cell. In it the code goes through the file line by line, and prints out the neon coordinates specifying which neon atom the coordinates refer to:"
   ]
  },
  {
   "cell_type": "code",
   "execution_count": 119,
   "metadata": {},
   "outputs": [
    {
     "name": "stdout",
     "output_type": "stream",
     "text": [
      "1:           NE          0.000000000000     0.000000000000    -1.150000000000\n",
      "\n",
      "2:           NE          0.000000000000     0.000000000000     1.150000000000\n",
      "\n",
      "1:           NE          0.000000000000     0.000000000000    -1.175000000000\n",
      "\n",
      "2:           NE          0.000000000000     0.000000000000     1.175000000000\n",
      "\n",
      "1:           NE          0.000000000000     0.000000000000    -1.200000000000\n",
      "\n",
      "2:           NE          0.000000000000     0.000000000000     1.200000000000\n",
      "\n",
      "1:           NE          0.000000000000     0.000000000000    -1.225000000000\n",
      "\n",
      "2:           NE          0.000000000000     0.000000000000     1.225000000000\n",
      "\n",
      "1:           NE          0.000000000000     0.000000000000    -1.250000000000\n",
      "\n",
      "2:           NE          0.000000000000     0.000000000000     1.250000000000\n",
      "\n",
      "1:           NE          0.000000000000     0.000000000000    -1.275000000000\n",
      "\n",
      "2:           NE          0.000000000000     0.000000000000     1.275000000000\n",
      "\n",
      "1:           NE          0.000000000000     0.000000000000    -1.300000000000\n",
      "\n",
      "2:           NE          0.000000000000     0.000000000000     1.300000000000\n",
      "\n",
      "1:           NE          0.000000000000     0.000000000000    -1.325000000000\n",
      "\n",
      "2:           NE          0.000000000000     0.000000000000     1.325000000000\n",
      "\n",
      "1:           NE          0.000000000000     0.000000000000    -1.350000000000\n",
      "\n",
      "2:           NE          0.000000000000     0.000000000000     1.350000000000\n",
      "\n",
      "1:           NE          0.000000000000     0.000000000000    -1.375000000000\n",
      "\n",
      "2:           NE          0.000000000000     0.000000000000     1.375000000000\n",
      "\n",
      "1:           NE          0.000000000000     0.000000000000    -1.400000000000\n",
      "\n",
      "2:           NE          0.000000000000     0.000000000000     1.400000000000\n",
      "\n",
      "1:           NE          0.000000000000     0.000000000000    -1.475000000000\n",
      "\n",
      "2:           NE          0.000000000000     0.000000000000     1.475000000000\n",
      "\n",
      "1:           NE          0.000000000000     0.000000000000    -1.500000000000\n",
      "\n",
      "2:           NE          0.000000000000     0.000000000000     1.500000000000\n",
      "\n",
      "1:           NE          0.000000000000     0.000000000000    -1.525000000000\n",
      "\n",
      "2:           NE          0.000000000000     0.000000000000     1.525000000000\n",
      "\n",
      "1:           NE          0.000000000000     0.000000000000    -1.550000000000\n",
      "\n",
      "2:           NE          0.000000000000     0.000000000000     1.550000000000\n",
      "\n",
      "1:           NE          0.000000000000     0.000000000000    -1.575000000000\n",
      "\n",
      "2:           NE          0.000000000000     0.000000000000     1.575000000000\n",
      "\n",
      "1:           NE          0.000000000000     0.000000000000    -1.600000000000\n",
      "\n",
      "2:           NE          0.000000000000     0.000000000000     1.600000000000\n",
      "\n",
      "1:           NE          0.000000000000     0.000000000000    -1.625000000000\n",
      "\n",
      "2:           NE          0.000000000000     0.000000000000     1.625000000000\n",
      "\n",
      "1:           NE          0.000000000000     0.000000000000    -1.650000000000\n",
      "\n",
      "2:           NE          0.000000000000     0.000000000000     1.650000000000\n",
      "\n",
      "1:           NE          0.000000000000     0.000000000000    -1.675000000000\n",
      "\n",
      "2:           NE          0.000000000000     0.000000000000     1.675000000000\n",
      "\n"
     ]
    }
   ],
   "source": [
    "#we use the variable first_Ne as a flag to indicate whether the next line with an 'Ne' in it\n",
    "#will be the first or the second Neon atom. It is initiated to True\n",
    "first_Ne = True\n",
    "\n",
    "with open('Ne2.out', 'r') as f:\n",
    "    for line in f:\n",
    "        #if we are on the line with the first Ne\n",
    "        if 'NE' in line.split() and first_Ne:\n",
    "            print('1: ' + line)\n",
    "        \n",
    "            #set the flag to false because the next line with Ne on will be the second Ne\n",
    "            first_Ne=False\n",
    "        \n",
    "        #we are on the line with second Ne\n",
    "        elif 'NE' in line.split() and not first_Ne:\n",
    "            print('2: ' + line)\n",
    "\n",
    "            #set the flag to true because the next line will Ne on with be the first Ne\n",
    "            first_Ne=True"
   ]
  },
  {
   "cell_type": "markdown",
   "metadata": {},
   "source": [
    "Modify the cell below so that instead of printing the whole line out every time we find Neon coordinates, instead we just print out a list with the x,y and z coordinates."
   ]
  },
  {
   "cell_type": "code",
   "execution_count": 120,
   "metadata": {},
   "outputs": [
    {
     "data": {
      "text/plain": [
       "[['0.000000000000', '0.000000000000', '-1.150000000000'],\n",
       " ['0.000000000000', '0.000000000000', '1.150000000000'],\n",
       " ['0.000000000000', '0.000000000000', '-1.175000000000'],\n",
       " ['0.000000000000', '0.000000000000', '1.175000000000'],\n",
       " ['0.000000000000', '0.000000000000', '-1.200000000000'],\n",
       " ['0.000000000000', '0.000000000000', '1.200000000000'],\n",
       " ['0.000000000000', '0.000000000000', '-1.225000000000'],\n",
       " ['0.000000000000', '0.000000000000', '1.225000000000'],\n",
       " ['0.000000000000', '0.000000000000', '-1.250000000000'],\n",
       " ['0.000000000000', '0.000000000000', '1.250000000000'],\n",
       " ['0.000000000000', '0.000000000000', '-1.275000000000'],\n",
       " ['0.000000000000', '0.000000000000', '1.275000000000'],\n",
       " ['0.000000000000', '0.000000000000', '-1.300000000000'],\n",
       " ['0.000000000000', '0.000000000000', '1.300000000000'],\n",
       " ['0.000000000000', '0.000000000000', '-1.325000000000'],\n",
       " ['0.000000000000', '0.000000000000', '1.325000000000'],\n",
       " ['0.000000000000', '0.000000000000', '-1.350000000000'],\n",
       " ['0.000000000000', '0.000000000000', '1.350000000000'],\n",
       " ['0.000000000000', '0.000000000000', '-1.375000000000'],\n",
       " ['0.000000000000', '0.000000000000', '1.375000000000'],\n",
       " ['0.000000000000', '0.000000000000', '-1.400000000000'],\n",
       " ['0.000000000000', '0.000000000000', '1.400000000000'],\n",
       " ['0.000000000000', '0.000000000000', '-1.475000000000'],\n",
       " ['0.000000000000', '0.000000000000', '1.475000000000'],\n",
       " ['0.000000000000', '0.000000000000', '-1.500000000000'],\n",
       " ['0.000000000000', '0.000000000000', '1.500000000000'],\n",
       " ['0.000000000000', '0.000000000000', '-1.525000000000'],\n",
       " ['0.000000000000', '0.000000000000', '1.525000000000'],\n",
       " ['0.000000000000', '0.000000000000', '-1.550000000000'],\n",
       " ['0.000000000000', '0.000000000000', '1.550000000000'],\n",
       " ['0.000000000000', '0.000000000000', '-1.575000000000'],\n",
       " ['0.000000000000', '0.000000000000', '1.575000000000'],\n",
       " ['0.000000000000', '0.000000000000', '-1.600000000000'],\n",
       " ['0.000000000000', '0.000000000000', '1.600000000000'],\n",
       " ['0.000000000000', '0.000000000000', '-1.625000000000'],\n",
       " ['0.000000000000', '0.000000000000', '1.625000000000'],\n",
       " ['0.000000000000', '0.000000000000', '-1.650000000000'],\n",
       " ['0.000000000000', '0.000000000000', '1.650000000000'],\n",
       " ['0.000000000000', '0.000000000000', '-1.675000000000'],\n",
       " ['0.000000000000', '0.000000000000', '1.675000000000']]"
      ]
     },
     "execution_count": 120,
     "metadata": {},
     "output_type": "execute_result"
    }
   ],
   "source": [
    "first_Ne= True\n",
    "coordinates=[]\n",
    "with open('Ne2.out','r') as f:\n",
    "    for line in f:\n",
    "        #we are on the line with the first Ne\n",
    "        if 'NE' in line.split() and first_Ne:\n",
    "            #set the flag to false because the next line with Ne on will be the second Ne\n",
    "            first_Ne=False\n",
    "            coordinates=coordinates+[line.split()[1:]]\n",
    "        #we are on the line with second Ne\n",
    "        elif 'NE' in line.split() and not first_Ne:\n",
    "\n",
    "            #set the flag to true because the next line with Ne on will be the first Ne\n",
    "            first_Ne=True\n",
    "            coordinates=coordinates+[line.split()[1:]]\n",
    "coordinates"
   ]
  },
  {
   "cell_type": "markdown",
   "metadata": {},
   "source": [
    "OK, the task now is to generate a list of distances between the Neon atoms in the dimers. Above you have found a method for distinguishing between the first and second atoms in each dimer and have used it to print out the coordinates of each atom. Below, the function *vect_dist()* calculates the distance between two atoms given the coordinates of each in Cartesian coordinates. (This function could have been defined using arrays, but here we take a more explicit approach)"
   ]
  },
  {
   "cell_type": "code",
   "execution_count": 121,
   "metadata": {
    "collapsed": true
   },
   "outputs": [],
   "source": [
    "def vect_dist(x1, y1, z1, x2, y2, z2):\n",
    "    distance = ( (x1-x2)**2 + (y1-y2)**2 + (z1-z2)**2 )**0.5\n",
    "    return distance"
   ]
  },
  {
   "cell_type": "markdown",
   "metadata": {},
   "source": [
    "Adapt the code we wrote before such that we call the *vect_dist()* every time we find the second neon atom, and in this way build a list *dist* with all distances between neon atoms."
   ]
  },
  {
   "cell_type": "code",
   "execution_count": 122,
   "metadata": {},
   "outputs": [
    {
     "data": {
      "text/plain": [
       "[2.3,\n",
       " 2.35,\n",
       " 2.4,\n",
       " 2.45,\n",
       " 2.5,\n",
       " 2.55,\n",
       " 2.6,\n",
       " 2.65,\n",
       " 2.7,\n",
       " 2.75,\n",
       " 2.8,\n",
       " 2.95,\n",
       " 3.0,\n",
       " 3.05,\n",
       " 3.1,\n",
       " 3.15,\n",
       " 3.2,\n",
       " 3.25,\n",
       " 3.3,\n",
       " 3.35]"
      ]
     },
     "execution_count": 122,
     "metadata": {},
     "output_type": "execute_result"
    }
   ],
   "source": [
    "dist=[]\n",
    "first_Ne= True\n",
    "with open('Ne2.out','r') as f:\n",
    "    for line in f:\n",
    "        #we are on the line with the first Ne\n",
    "        if 'NE' in line.split() and first_Ne:\n",
    "            l=line.split()[1:]\n",
    "            x1=float(l[0])\n",
    "            y1=float(l[1])\n",
    "            z1=float(l[2])\n",
    "            first_Ne=False\n",
    "        #we are on the line with second Ne\n",
    "        elif 'NE' in line.split() and not first_Ne:\n",
    "            t=line.split()[1:]\n",
    "            x2=float(t[0])\n",
    "            y2=float(t[1])\n",
    "            z2=float(t[2])\n",
    "            first_Ne=True\n",
    "\n",
    "            distance=vect_dist(x1,y1,z1,x2,y2,z2)\n",
    "            dist=dist+[distance]\n",
    "dist"
   ]
  },
  {
   "cell_type": "markdown",
   "metadata": {},
   "source": [
    "Here is a good point to check your answer. The function *check_float()* checks if two numbers are equal with a tolerance of 1&times;10<sup>-8</sup>."
   ]
  },
  {
   "cell_type": "code",
   "execution_count": 123,
   "metadata": {
    "collapsed": true
   },
   "outputs": [],
   "source": [
    "def check_float(float_number, exact_answer):\n",
    "    tol = 1e-8\n",
    "    return abs(float_number - exact_answer) < tol"
   ]
  },
  {
   "cell_type": "markdown",
   "metadata": {},
   "source": [
    "Run the cell bellow and check the output is the same:"
   ]
  },
  {
   "cell_type": "code",
   "execution_count": 124,
   "metadata": {},
   "outputs": [
    {
     "name": "stdout",
     "output_type": "stream",
     "text": [
      "Success\n",
      "Success\n",
      "Success\n",
      "Success\n",
      "Success\n",
      "Success\n",
      "Success\n",
      "Success\n",
      "Success\n",
      "Success\n",
      "Success\n",
      "Success\n",
      "Success\n",
      "Success\n",
      "Success\n",
      "Success\n",
      "Success\n",
      "Success\n",
      "Success\n",
      "Success\n"
     ]
    }
   ],
   "source": [
    "correct_answer = [2.3, 2.35, 2.40, 2.45, 2.5, 2.55, 2.60, 2.65, 2.70, 2.75, 2.80, 2.95, 3.00, 3.05 , 3.10, 3.15, 3.20, 3.25, 3.3, 3.35]\n",
    "\n",
    "for i,d in enumerate(dist):\n",
    "    if check_float(d, correct_answer[i]):\n",
    "        print('Success')\n",
    "    else:\n",
    "        print(\"The lists don't match, check your above solutions.\")"
   ]
  },
  {
   "cell_type": "markdown",
   "metadata": {},
   "source": [
    "We have now successfully extracted the distances between neon atoms from the log file. The next step is to also extract the energies (we already addressed this problem when extracting the energy of a single neon).\n",
    "\n",
    "Adapt the code you wrote before such that you build both the *dist* and *energies* lists with a single loop through the file."
   ]
  },
  {
   "cell_type": "code",
   "execution_count": 125,
   "metadata": {},
   "outputs": [
    {
     "data": {
      "text/plain": [
       "[2.3,\n",
       " 2.35,\n",
       " 2.4,\n",
       " 2.45,\n",
       " 2.5,\n",
       " 2.55,\n",
       " 2.6,\n",
       " 2.65,\n",
       " 2.7,\n",
       " 2.75,\n",
       " 2.8,\n",
       " 2.95,\n",
       " 3.0,\n",
       " 3.05,\n",
       " 3.1,\n",
       " 3.15,\n",
       " 3.2,\n",
       " 3.25,\n",
       " 3.3,\n",
       " 3.35,\n",
       " -257.3508759806244,\n",
       " -257.3515014203482,\n",
       " -257.3519632198754,\n",
       " -257.3522960563401,\n",
       " -257.352528591264,\n",
       " -257.35268443113716,\n",
       " -257.3527828598417,\n",
       " -257.3528394280591,\n",
       " -257.3528664678371,\n",
       " -257.3528735535761,\n",
       " -257.3528679338847,\n",
       " -257.3528206560993,\n",
       " -257.3528035490452,\n",
       " -257.3527879372218,\n",
       " -257.3527742712665,\n",
       " -257.35276267714795,\n",
       " -257.35275307746934,\n",
       " -257.352745280255,\n",
       " -257.35273904093765,\n",
       " -257.35273410329955]"
      ]
     },
     "execution_count": 125,
     "metadata": {},
     "output_type": "execute_result"
    }
   ],
   "source": [
    "dist=[]\n",
    "energies=[]\n",
    "dist=[]\n",
    "first_Ne= True\n",
    "mol_energy= False\n",
    "with open('Ne2.out','r') as f:\n",
    "    for line in f:\n",
    "        #we are on the line with the first Ne\n",
    "        if 'NE' in line.split() and first_Ne:\n",
    "            l=line.split()[1:]\n",
    "            x1=float(l[0])\n",
    "            y1=float(l[1])\n",
    "            z1=float(l[2])\n",
    "            first_Ne=False\n",
    "        #we are on the line with second Ne\n",
    "        elif 'NE' in line.split() and not first_Ne:\n",
    "            t=line.split()[1:]\n",
    "            x2=float(t[0])\n",
    "            y2=float(t[1])\n",
    "            z2=float(t[2])\n",
    "            first_Ne=True\n",
    "            mol_energy=True\n",
    "            distance=vect_dist(x1,y1,z1,x2,y2,z2)\n",
    "            dist=dist+[distance]\n",
    "        elif 'Total Energy              =  ' in line and mol_energy:\n",
    "            energies=energies+[float(line.split()[-2])]\n",
    "            mol_energy=False\n",
    "dist+energies"
   ]
  },
  {
   "cell_type": "markdown",
   "metadata": {},
   "source": [
    "Again here is a good point to check you answer. Run the cell below and check the output is the same:"
   ]
  },
  {
   "cell_type": "code",
   "execution_count": 126,
   "metadata": {},
   "outputs": [
    {
     "name": "stdout",
     "output_type": "stream",
     "text": [
      "Success\n",
      "Success\n",
      "Success\n",
      "Success\n",
      "Success\n",
      "Success\n",
      "Success\n",
      "Success\n",
      "Success\n",
      "Success\n",
      "Success\n",
      "Success\n",
      "Success\n",
      "Success\n",
      "Success\n",
      "Success\n",
      "Success\n",
      "Success\n",
      "Success\n",
      "Success\n",
      "Success\n",
      "Success\n",
      "Success\n",
      "Success\n",
      "Success\n",
      "Success\n",
      "Success\n",
      "Success\n",
      "Success\n",
      "Success\n",
      "Success\n",
      "Success\n",
      "Success\n",
      "Success\n",
      "Success\n",
      "Success\n",
      "Success\n",
      "Success\n",
      "Success\n",
      "Success\n"
     ]
    }
   ],
   "source": [
    "correct_answer = [-257.3508759806243802,-257.3515014203481996,-257.3519632198754152,-257.3522960563400943,-257.3525285912639902,-257.3526844311371633,-257.3527828598416818,-257.3528394280590987,-257.3528664678370887,-257.3528735535761029,-257.3528679338846814,-257.3528206560993112,-257.3528035490451771,-257.3527879372218194,-257.3527742712665258,-257.3527626771479504,-257.3527530774693446,-257.3527452802550215,-257.3527390409376494,-257.3527341032995537]\n",
    "\n",
    "for i,d in enumerate(energies):\n",
    "    if check_float(d, correct_answer[i]):\n",
    "        print('Success')\n",
    "    else:\n",
    "        print(\"The lists don't match, check your above solutions.\")\n",
    "\n",
    "        \n",
    "correct_answer = [2.3, 2.35, 2.40, 2.45, 2.5, 2.55, 2.60, 2.65, 2.70, 2.75, 2.80, 2.95, 3.00, 3.05 , 3.10, 3.15, 3.20, 3.25, 3.3, 3.35]\n",
    "\n",
    "for i,d in enumerate(dist):\n",
    "    if check_float(d, correct_answer[i]):\n",
    "        print('Success')\n",
    "    else:\n",
    "        print(\"The lists don't match, check your above solutions.\")"
   ]
  },
  {
   "cell_type": "markdown",
   "metadata": {},
   "source": [
    "Let us now make our solution reusable by defining a function *get_dimer_distance_energy()*, that should receive two strings as arguments: a file name, chemical symbol search pattern. The function should return a list where the first element is a list of distances and the second element a list of energies."
   ]
  },
  {
   "cell_type": "code",
   "execution_count": 127,
   "metadata": {
    "collapsed": true
   },
   "outputs": [],
   "source": [
    "def get_dimer_distance_energy(filename, symbol):\n",
    "    \"Get list of distances and energies from a file\"\n",
    "    dist=[]\n",
    "    energies=[]\n",
    "    dist=[]\n",
    "    g=[]\n",
    "    first_Ne= True\n",
    "    mol_energy= False\n",
    "    with open(filename,'r') as f:\n",
    "        for line in f:\n",
    "            #we are on the line with the first Ne\n",
    "            if symbol in line.split() and first_Ne:\n",
    "                l=line.split()[1:]\n",
    "                x1=float(l[0])\n",
    "                y1=float(l[1])\n",
    "                z1=float(l[2])\n",
    "                first_Ne=False\n",
    "            #we are on the line with second Ne\n",
    "            elif symbol in line.split() and not first_Ne:\n",
    "                t=line.split()[1:]\n",
    "                x2=float(t[0])\n",
    "                y2=float(t[1])\n",
    "                z2=float(t[2])\n",
    "                first_Ne=True\n",
    "                mol_energy=True\n",
    "                distance=vect_dist(x1,y1,z1,x2,y2,z2)\n",
    "                dist=dist+[distance]\n",
    "            elif 'Total Energy              =  ' in line and mol_energy:\n",
    "                energies=energies+[float(line.split()[-2])]\n",
    "                mol_energy=False\n",
    "            g=[dist]+[energies]\n",
    "    return g"
   ]
  },
  {
   "cell_type": "code",
   "execution_count": 128,
   "metadata": {},
   "outputs": [
    {
     "data": {
      "text/plain": [
       "[[2.5,\n",
       "  2.612903225806,\n",
       "  2.725806451612,\n",
       "  2.83870967742,\n",
       "  2.951612903226,\n",
       "  3.064516129032,\n",
       "  3.177419354838,\n",
       "  3.290322580646,\n",
       "  3.403225806452,\n",
       "  3.516129032258,\n",
       "  3.629032258064,\n",
       "  3.74193548387,\n",
       "  3.854838709678,\n",
       "  3.967741935484,\n",
       "  4.08064516129,\n",
       "  4.193548387096,\n",
       "  4.306451612904,\n",
       "  4.41935483871,\n",
       "  4.532258064516,\n",
       "  4.645161290322,\n",
       "  4.75806451613,\n",
       "  4.870967741936,\n",
       "  4.983870967742,\n",
       "  5.096774193548,\n",
       "  5.209677419354,\n",
       "  5.322580645162,\n",
       "  5.435483870968,\n",
       "  5.548387096774,\n",
       "  5.66129032258,\n",
       "  5.774193548388,\n",
       "  5.887096774194,\n",
       "  6.0],\n",
       " [-5.76184784023732,\n",
       "  -5.761916417982681,\n",
       "  -5.761951314270527,\n",
       "  -5.761967620501213,\n",
       "  -5.761974162146721,\n",
       "  -5.761975944492495,\n",
       "  -5.761975676552606,\n",
       "  -5.761974723999278,\n",
       "  -5.761973702586694,\n",
       "  -5.7619728384737465,\n",
       "  -5.761972176212938,\n",
       "  -5.7619716899322935,\n",
       "  -5.76197133640903,\n",
       "  -5.761971076455339,\n",
       "  -5.761970880735439,\n",
       "  -5.761970729233256,\n",
       "  -5.761970608884886,\n",
       "  -5.7619705112520805,\n",
       "  -5.761970430791741,\n",
       "  -5.761970363727911,\n",
       "  -5.7619703073695705,\n",
       "  -5.761970259713693,\n",
       "  -5.761970219215967,\n",
       "  -5.761970184655164,\n",
       "  -5.761970155048887,\n",
       "  -5.761970129597786,\n",
       "  -5.761970107646291,\n",
       "  -5.761970088653571,\n",
       "  -5.761970072171287,\n",
       "  -5.761970057826256,\n",
       "  -5.76197004530662,\n",
       "  -5.761970034350857]]"
      ]
     },
     "execution_count": 128,
     "metadata": {},
     "output_type": "execute_result"
    }
   ],
   "source": [
    "get_dimer_distance_energy('He2.out','HE')"
   ]
  },
  {
   "cell_type": "markdown",
   "metadata": {},
   "source": [
    "## Ne<sub>2</sub> dissociation: analysing the result"
   ]
  },
  {
   "cell_type": "markdown",
   "metadata": {},
   "source": [
    "Now that we created a mechanism for extracting the data from the text file, let us use it to do some interesting things. First we will plot the data to find the characteristic diatomic energy pattern."
   ]
  },
  {
   "cell_type": "code",
   "execution_count": 129,
   "metadata": {},
   "outputs": [
    {
     "name": "stdout",
     "output_type": "stream",
     "text": [
      "Populating the interactive namespace from numpy and matplotlib\n"
     ]
    },
    {
     "name": "stderr",
     "output_type": "stream",
     "text": [
      "C:\\anaconda\\lib\\site-packages\\IPython\\core\\magics\\pylab.py:161: UserWarning: pylab import has clobbered these variables: ['dist', 'f']\n",
      "`%matplotlib` prevents importing * from pylab and numpy\n",
      "  \"\\n`%matplotlib` prevents importing * from pylab and numpy\"\n"
     ]
    },
    {
     "data": {
      "image/png": "[encoded data removed]",
      "text/plain": [
       "<matplotlib.figure.Figure at 0x98e62b0>"
      ]
     },
     "metadata": {},
     "output_type": "display_data"
    }
   ],
   "source": [
    "%pylab inline\n",
    "\n",
    "ne2_data=get_dimer_distance_energy('Ne2.out','NE')\n",
    "dist=ne2_data[0]\n",
    "energy=ne2_data[1]\n",
    "\n",
    "plot(dist, energy, marker='+')\n",
    "xlabel('Ne - Ne Bond Distance ($\\AA$)')\n",
    "ylabel('Energy (Hartree)')\n",
    "show()"
   ]
  },
  {
   "cell_type": "markdown",
   "metadata": {},
   "source": [
    "In chemistry we are more interested in the interaction energy of the two atoms, i.e. the relative energy with respect to 2 separate atoms in space. Subtract twice the energy of a free Ne atom (which we can obtain via the get_atom_energy() function) and plot how interaction energy varies with distance. (It is convenient here to work with arrays instead of lists)."
   ]
  },
  {
   "cell_type": "code",
   "execution_count": 130,
   "metadata": {},
   "outputs": [
    {
     "data": {
      "image/png": "[encoded data removed]",
      "text/plain": [
       "<matplotlib.figure.Figure at 0xaa5ddd8>"
      ]
     },
     "metadata": {},
     "output_type": "display_data"
    }
   ],
   "source": [
    "free_energy=get_atom_energy('Ne.out')\n",
    "energy1=array(energy)-2*free_energy\n",
    "plot(dist, energy1, marker='+')\n",
    "xlabel('Ne - Ne Bond Distance ($\\AA$)')\n",
    "ylabel('Energy (Hartree)')\n",
    "show()"
   ]
  },
  {
   "cell_type": "markdown",
   "metadata": {},
   "source": [
    "This shape of dissociation curve can be modeled mathematically by the Morse potential:\n",
    "\n",
    "$$V(r) = d ((1 - e^{-a(r - r_e)})^2 - 1),$$\n",
    "\n",
    "where *r<sub>e</sub>* is the equilibrium distance, *d* is the dissociation energy, and the *a* is related to the frequency of the potential well.\n",
    "\n",
    "Write a function to compute the Morse potential with *r*, *r<sub>e</sub>*, *d* and *a* as arguments to the function, making sure the arguments are defined in this order."
   ]
  },
  {
   "cell_type": "code",
   "execution_count": 131,
   "metadata": {
    "collapsed": true
   },
   "outputs": [],
   "source": [
    "def morse(r,re,d,a):\n",
    "    \"Show the Morse potential curve with the above variables\"\n",
    "    V=d*((1-e**-a*(r-re))**2-1)\n",
    "    return V"
   ]
  },
  {
   "cell_type": "markdown",
   "metadata": {},
   "source": [
    "Run the cell below to check if your function is defined correctly."
   ]
  },
  {
   "cell_type": "code",
   "execution_count": 132,
   "metadata": {},
   "outputs": [
    {
     "name": "stdout",
     "output_type": "stream",
     "text": [
      "Well Done your Morse function works.\n"
     ]
    }
   ],
   "source": [
    "if check_float(morse(2.0, 1.0, 3.2, 5.2) , -0.035208628347242053 ):\n",
    "    print('Well Done your Morse function works.')\n",
    "else:\n",
    "    print('Your Morse function is wrong!')"
   ]
  },
  {
   "cell_type": "markdown",
   "metadata": {},
   "source": [
    "We are interested on the equilibrium distance and dissociation energy of the neon dimer. In order to obtain these we can use the function *curve_fit()* from the scipy.optimize module. (You may want to revise how to do this from you 1st year course notebooks: if you don't have them in an accessible place you can get them from <a href=\"https://github.com/imperialchem/python-data-viz-intro/tree/v1.0/workshop3\">here</a>).\n",
    "\n",
    "In the process of fitting you will want to pay attention to the initial parameter guess. How can you extract good guesses for *r<sub>e</sub>* and *d* from the data?"
   ]
  },
  {
   "cell_type": "code",
   "execution_count": 148,
   "metadata": {
    "scrolled": true
   },
   "outputs": [
    {
     "data": {
      "text/plain": [
       "(array([  2.65890590e+00,   3.31129088e-04,  -1.22052179e+00]),\n",
       " array([[  1.11172917e-03,  -2.13716232e-06,  -1.58339510e-03],\n",
       "        [ -2.13716232e-06,   6.15275630e-09,   5.04521305e-06],\n",
       "        [ -1.58339510e-03,   5.04521305e-06,   7.12155355e-03]]))"
      ]
     },
     "execution_count": 148,
     "metadata": {},
     "output_type": "execute_result"
    }
   ],
   "source": [
    "from scipy.optimize import curve_fit\n",
    "curvy=curve_fit(morse,array(dist), energy1, p0=[2.7,1e-4,0.1])\n",
    "curvy"
   ]
  },
  {
   "cell_type": "code",
   "execution_count": 149,
   "metadata": {},
   "outputs": [
    {
     "data": {
      "text/plain": [
       "array([  1.83084961e-03,   1.20540989e-03,   7.43610360e-04,\n",
       "         4.10773895e-04,   1.78238971e-04,   2.23990982e-05,\n",
       "        -7.60296064e-05,  -1.32597824e-04,  -1.59637602e-04,\n",
       "        -1.66723341e-04,  -1.61103649e-04,  -1.13825864e-04,\n",
       "        -9.67188099e-05,  -8.11069865e-05,  -6.74410312e-05,\n",
       "        -5.58469126e-05,  -4.62472340e-05,  -3.84500197e-05,\n",
       "        -3.22107023e-05,  -2.72730642e-05])"
      ]
     },
     "execution_count": 149,
     "metadata": {},
     "output_type": "execute_result"
    }
   ],
   "source": [
    "energy1"
   ]
  },
  {
   "cell_type": "code",
   "execution_count": 150,
   "metadata": {
    "scrolled": true
   },
   "outputs": [
    {
     "data": {
      "image/png": "[encoded data removed]",
      "text/plain": [
       "<matplotlib.figure.Figure at 0x8956128>"
      ]
     },
     "metadata": {},
     "output_type": "display_data"
    }
   ],
   "source": [
    "plot(dist, morse(dist, curvy[0][0], curvy[0][1], curvy[0][2]), marker='+')\n",
    "show()"
   ]
  },
  {
   "cell_type": "markdown",
   "metadata": {},
   "source": [
    "To check that the fit makes sense. Plot the fitted curve along with original data (to get a smooth curve we should use the function linspace() to plot the fitted curve)."
   ]
  },
  {
   "cell_type": "markdown",
   "metadata": {},
   "source": [
    "## Extra: Trends along the group"
   ]
  },
  {
   "cell_type": "markdown",
   "metadata": {},
   "source": [
    "You will find on the same directory as the notebook, besides the log file for the Ne dimer, also log files for He, Ar and Kr. It is interesting to observe the trend of equilibrium distance and dissociation energy along the group. In order to do this it is useful that we automatise the analysis done above.\n",
    "\n",
    "We shall define two functions, *eqdist_dissenergy()* and *disscurve()* both receiving the same arguments as *get_dimer_distance_energy()*. The *eqdist_dissenergy()* should call *get_dimer_distance_energy()* and *get_atom_energy()*, fit the data to a Morse potential (it should provide adequate guesses for the fit), and returns the values of the equilibrium distance and dissociation energy."
   ]
  },
  {
   "cell_type": "code",
   "execution_count": null,
   "metadata": {
    "collapsed": true
   },
   "outputs": [],
   "source": []
  },
  {
   "cell_type": "markdown",
   "metadata": {},
   "source": [
    "Because fitting blindly is a dangerous thing to do, we should define *disscurve()* which should do most of the same work as *eqdist_dissenergy()* but show us instead the plot of the fitted dissociation curve and original data."
   ]
  },
  {
   "cell_type": "code",
   "execution_count": null,
   "metadata": {
    "collapsed": true
   },
   "outputs": [],
   "source": []
  },
  {
   "cell_type": "markdown",
   "metadata": {},
   "source": [
    "Use the functions defined above to plot the variation of dimer equilibrium distance and dissociation energy along the nobel gas group."
   ]
  },
  {
   "cell_type": "code",
   "execution_count": null,
   "metadata": {
    "collapsed": true
   },
   "outputs": [],
   "source": []
  },
  {
   "cell_type": "code",
   "execution_count": null,
   "metadata": {
    "collapsed": true
   },
   "outputs": [],
   "source": []
  },
  {
   "cell_type": "markdown",
   "metadata": {},
   "source": [
    "## Summary"
   ]
  },
  {
   "cell_type": "markdown",
   "metadata": {},
   "source": [
    "Files are an important way of permanent storage of data. Handling files is important not only for processing data generated by instruments or other programs, but also to store results generated by your own programs.\n",
    "\n",
    "In this workshop we have seen how to access data in files files. The function *open()* creates a stream to access the file content, which can be looped line by line. Each line is retrieved as a string, in which context the string method *.split()* becomes useful for further processing.\n",
    "\n",
    "We used file processing techniques to extract the data of the dissociation curve of a dimer from a complex file. We further analysed this data to obtain the dissociation energy and equilibrium distance of the dimer."
   ]
  }
 ],
 "metadata": {
  "kernelspec": {
   "display_name": "Python 3",
   "language": "python",
   "name": "python3"
  },
  "language_info": {
   "codemirror_mode": {
    "name": "ipython",
    "version": 3
   },
   "file_extension": ".py",
   "mimetype": "text/x-python",
   "name": "python",
   "nbconvert_exporter": "python",
   "pygments_lexer": "ipython3",
   "version": "3.6.1"
  }
 },
 "nbformat": 4,
 "nbformat_minor": 1
}
