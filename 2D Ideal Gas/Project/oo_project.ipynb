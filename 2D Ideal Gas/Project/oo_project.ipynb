{
 "cells": [
  {
   "cell_type": "markdown",
   "metadata": {},
   "source": [
    "# Project: Hard disks molecular dynamics simulations"
   ]
  },
  {
   "cell_type": "markdown",
   "metadata": {},
   "source": [
    "Clyde Fare and João Pedro Malhado, Imperial College London (contact: [python@imperial.ac.uk](mailto:python@imperial.ac.uk))\n",
    "\n",
    "Notebook is licensed under a [Creative Commons Attribution 4.0 (CC-by) license](http://creativecommons.org/licenses/by/4.0/)."
   ]
  },
  {
   "cell_type": "markdown",
   "metadata": {},
   "source": [
    "A computational chemist friend of mine once defined simulations in the following terms:\n",
    "\n",
    "<blockquote>Experimental work resembles the actions of a child that receives a big wrapped present, and without opening it, by shaking it in his hands and hearing the sound it makes, has to infer what is inside the box and how it works. Simulation on the other hand, is like starting with an empty box, fill it with pieces that we know well, close and wrap the box, and shake it to hear the sound it makes. By comparing the two sounds, we may be able to understand nature a little better.\n",
    "(Philipp Marquetand, sometime around 2009)</blockquote>\n",
    "\n",
    "This project is about building a 2D box, filling it with disks, and hearing what sound it makes."
   ]
  },
  {
   "cell_type": "markdown",
   "metadata": {},
   "source": [
    "## The model\n",
    "\n",
    "We are aiming to create a program to describe the motion of an ensemble of classical particles in a 2 dimensional space. Unlike the ideal gas model, we will consider that the particles possess volume (area in 2D) and therefore collide with each other. Apart from these collisions we consider no other interaction between particles. Such a system is identical to that programmed by Nick Brooks as [demonstrations for the Chemical Equilibria course](http://www.imperial.ac.uk/chemistry-teaching/chemicalequilibria/).\n",
    "\n",
    "Such simulation is one of the simplest examples of a class of simulation methods called [molecular dynamics](https://en.wikipedia.org/wiki/Molecular_dynamics), describing the time evolution of an ensemble of particles according to classical dynamics. In spite of its simplicity, such hard disks model is able to give insight on important results from thermodynamics, reaction kinetics, the structure of dense fluids, or phase transition.\n",
    "\n",
    "The description of the dynamical state of the system involves the determination of the position $\\vec{r}_i(t)$ and momentum $\\vec{p}_i(t)$ (or velocity) of each particle of the system at each moment of time. For systems of N particles (where N is usually fairly large) it is in general not possible to write a closed form mathematical expression for how these quantities vary in time. The solution to this problem is to use numerical methods by which, starting from a given initial state, the system is propagated forward in time by a small discrete amount $\\Delta t$ (called a time step), and new the position and momentum are calculated for every particle for time $t+\\Delta t$. By repeating this process over and over again, it is possible to obtain a \"picture\" of the system at small intervals of time and thus monitor its evolution.\n",
    "\n",
    "Our simulation will thus be:\n",
    "\n",
    "* Create an ensemble of particles with positions in a bound region of space with size L&times;L, each with a well defined momentum and mass.\n",
    "* Sequentially updating the position and momenta of these particles in small time steps, keeping a registry of the configurations taken by the system over time."
   ]
  },
  {
   "cell_type": "markdown",
   "metadata": {},
   "source": [
    "## Outline of the program design\n",
    "\n",
    "Our task is thus to write a program to implement the simulation of the system outlined above. The object-oriented approach is actually quite helpful in these early stages of the design in deciding how to structure our program. This exercise is usually better done with pen and paper with a few schematics than in front of a computer keyboard.\n",
    "\n",
    "In the most simple terms, our simulation can be viewed as an ensemble of particles that need to be propagated in time. We can thus think of two distinct classes of objects:\n",
    "\n",
    "* Particle class, denoting the state of an individual particle at a given moment in time. This should be a fairly simple class.\n",
    "* Simulation class, responsible for the time propagation of an ensemble of Particle objects. This is where most of the work will be done.\n",
    "\n",
    "The time evolution of the particles should be a relatively simple affair since particles don't interact (except for collisions), each particle should follow uniform linear motion (constant velocity) until an elastic collision occurs with another particle or the container walls, in which case we need to work out how to update the momenta.\n",
    "\n",
    "Note that this 2 class design is not unique. There could for example be several advantages in creating a third class representing the state of the box as a collection of particles at each time step. A Simulation object would then propagate these box objects in time. We will however stick to two class design.\n",
    "\n",
    "We shall slowly build all the functionality of the simulation.\n",
    "\n",
    "* First we will create a Particle class with the particle attributes.\n",
    "* We will then see how to propagate this particle in time in the absence of collisions.\n",
    "* The create a Simulation class to propagate an ensemble of non-colliding particles.\n",
    "* The most tricky bit of the simulation will be to implement the behaviour when collisions occur. First, collisions with the container walls (easier), then between particles (less simple).\n",
    "* After having a working simulation, we will look at some properties of the systems we are simulating."
   ]
  },
  {
   "cell_type": "markdown",
   "metadata": {},
   "source": [
    "## Some preliminaries\n",
    "\n",
    "Rather than working directly in the notebook we will build our classes inside a file: gas_2d.py using an editor. We will then visualise and test the code inside the notebook.\n",
    "\n",
    "Open gas_2d.py using the Python editor Spyder (you can find it in your list of programs). Inside gas_2d.py you will find three class definitions, Vector, Particle and Simulation. \n",
    "\n",
    "We will be making heavy use of the Vector class, which is already filled out and is much the same as the Vector class we developed in the last workshop with a few additional methods that allow us to add and subtract vectors and multiply and divide vetors by numbers using the usual +-/\\* operators. Particle and Simulation are just the outlines of the class. You will need to replace *pass* with code as you as you progress through the project.\n",
    "\n",
    "Each time we update our code we need to run the command\n",
    "\n",
    "    %run gas_2d.py\n",
    "\n",
    "before our changes can be used in the notebook."
   ]
  },
  {
   "cell_type": "markdown",
   "metadata": {},
   "source": [
    "We now import some auxiliar functions which will help to visualise the simulation that you will construct."
   ]
  },
  {
   "cell_type": "code",
   "execution_count": 1,
   "metadata": {},
   "outputs": [
    {
     "name": "stdout",
     "output_type": "stream",
     "text": [
      "Using matplotlib backend: Qt5Agg\n"
     ]
    }
   ],
   "source": [
    "%matplotlib\n",
    "from aux_functions import animate_trajectory, display_particle, display_vecs, display_trajectory"
   ]
  },
  {
   "cell_type": "markdown",
   "metadata": {},
   "source": [
    "## Building a Particle Class"
   ]
  },
  {
   "cell_type": "markdown",
   "metadata": {},
   "source": [
    "The first class we need to fill out is the Particle class which will unsurprisingly represent... *drum roll* ...particles. Once we can create particle objects we can start building our Simulation class which will represent the total simulation and will include multiple Particle objects.\n",
    "\n",
    "For our purposes the properties that define a single particle will be position and momentum (both of them are vectors), as well as mass and radius (both of them are scalars). In the skeleton of the class below replace *pass* with code so that the particle class has position/momentum/radius attributes.\n",
    "\n",
    "We will want a method *velocity* which will return the velocity of the particle (recall that our expanded Vector class allows us to divide vectors by scalars). We will also want a method *copy* which will return an identical copy of the Particle shown below is a skeleton of the class we want to construct. Edit gas_2d.py by filling out the particle class.\n",
    "\n",
    "    class Particle():\n",
    "        def __init__(self, position, momentum, radius, mass):\n",
    "            pass\n",
    "\n",
    "        def velocity(self):\n",
    "            pass\n",
    "            \n",
    "        def copy(self):\n",
    "            pass"
   ]
  },
  {
   "cell_type": "markdown",
   "metadata": {},
   "source": [
    "In the cell below use your particle class to create a particle object and then use the display_particle auxiliar function on it to display it. (Remember to %run gas_2d.py)\n",
    "\n",
    "In order to initialise your particle you'll need to create two vectors one for position and one for momentum and provide your particle with a radius and a mass."
   ]
  },
  {
   "cell_type": "code",
   "execution_count": 2,
   "metadata": {
    "collapsed": true
   },
   "outputs": [],
   "source": [
    "%run gas_2d.py"
   ]
  },
  {
   "cell_type": "code",
   "execution_count": 3,
   "metadata": {
    "collapsed": true
   },
   "outputs": [],
   "source": [
    "particle=Particle(Vector(0,0), Vector(2,2), 1, 2)\n",
    "display_particle(particle)"
   ]
  },
  {
   "cell_type": "markdown",
   "metadata": {},
   "source": [
    "A plot showing your particle should have popped up. Bask in the glory of the particle you have created."
   ]
  },
  {
   "cell_type": "markdown",
   "metadata": {},
   "source": [
    "## Making our particle move"
   ]
  },
  {
   "cell_type": "markdown",
   "metadata": {},
   "source": [
    "Ok now we can create individual particles but they aren't doing too much. Let's try generate a trajectory. As our particle is a free particle experiencing no forces the momentum will not change with time. The position however will change. In a small amount of time $\\Delta t$ the position will change via:\n",
    "\n",
    "$$\\vec{r}(t+\\Delta t)=\\vec{r}(t)+\\vec{v}(t)\\times \\Delta t$$\n",
    "\n",
    "where $\\vec{r}(t)$ is the position at time $t$, $\\vec{v}(t)$ is velocity and $\\Delta t$ is the time step.\n",
    "\n",
    "The trajectory of the particle, understood in this context as a sequence of particle positions recorded in consecutive time steps, is obtained by running our simulation for a certain number of time steps. During each step we will use the velocity to update the position and then record the particle using the list.\n",
    "\n",
    "Fill out the cell so that during each iteration the particle's position is updated, you'll also want to append a copy of the particle object to the trajectory list so that we have a record of the particle at every time step."
   ]
  },
  {
   "cell_type": "code",
   "execution_count": 4,
   "metadata": {},
   "outputs": [
    {
     "data": {
      "text/plain": [
       "[<__main__.Particle at 0x83967f0>,\n",
       " <__main__.Particle at 0x83da2e8>,\n",
       " <__main__.Particle at 0x83da358>,\n",
       " <__main__.Particle at 0x83da3c8>,\n",
       " <__main__.Particle at 0x83da438>,\n",
       " <__main__.Particle at 0x83da4a8>,\n",
       " <__main__.Particle at 0x83da518>,\n",
       " <__main__.Particle at 0x83da588>,\n",
       " <__main__.Particle at 0x83da5f8>,\n",
       " <__main__.Particle at 0x83da668>,\n",
       " <__main__.Particle at 0x83da6d8>,\n",
       " <__main__.Particle at 0x83da748>,\n",
       " <__main__.Particle at 0x83da7b8>,\n",
       " <__main__.Particle at 0x83da828>,\n",
       " <__main__.Particle at 0x83da898>,\n",
       " <__main__.Particle at 0x83da908>,\n",
       " <__main__.Particle at 0x83da978>,\n",
       " <__main__.Particle at 0x83da9e8>,\n",
       " <__main__.Particle at 0x83daa58>,\n",
       " <__main__.Particle at 0x83daac8>,\n",
       " <__main__.Particle at 0x83dab38>,\n",
       " <__main__.Particle at 0x83daba8>,\n",
       " <__main__.Particle at 0x83dac18>,\n",
       " <__main__.Particle at 0x83dac88>,\n",
       " <__main__.Particle at 0x83dacf8>,\n",
       " <__main__.Particle at 0x83dad68>,\n",
       " <__main__.Particle at 0x83dadd8>,\n",
       " <__main__.Particle at 0x83dae48>,\n",
       " <__main__.Particle at 0x83daeb8>,\n",
       " <__main__.Particle at 0x83daf28>,\n",
       " <__main__.Particle at 0x83daf98>,\n",
       " <__main__.Particle at 0x83df048>,\n",
       " <__main__.Particle at 0x83df0b8>,\n",
       " <__main__.Particle at 0x83df128>,\n",
       " <__main__.Particle at 0x83df198>,\n",
       " <__main__.Particle at 0x83df208>,\n",
       " <__main__.Particle at 0x83df278>,\n",
       " <__main__.Particle at 0x83df2e8>,\n",
       " <__main__.Particle at 0x83df358>,\n",
       " <__main__.Particle at 0x83df3c8>,\n",
       " <__main__.Particle at 0x83df438>,\n",
       " <__main__.Particle at 0x83df4a8>,\n",
       " <__main__.Particle at 0x83df518>,\n",
       " <__main__.Particle at 0x83df588>,\n",
       " <__main__.Particle at 0x83df5f8>,\n",
       " <__main__.Particle at 0x83df668>,\n",
       " <__main__.Particle at 0x83df6d8>,\n",
       " <__main__.Particle at 0x83df748>,\n",
       " <__main__.Particle at 0x83df7b8>,\n",
       " <__main__.Particle at 0x83df828>,\n",
       " <__main__.Particle at 0x83df898>,\n",
       " <__main__.Particle at 0x83df908>,\n",
       " <__main__.Particle at 0x83df978>,\n",
       " <__main__.Particle at 0x83df9e8>,\n",
       " <__main__.Particle at 0x83dfa58>,\n",
       " <__main__.Particle at 0x83dfac8>,\n",
       " <__main__.Particle at 0x83dfb38>,\n",
       " <__main__.Particle at 0x83dfba8>,\n",
       " <__main__.Particle at 0x83dfc18>,\n",
       " <__main__.Particle at 0x83dfc88>,\n",
       " <__main__.Particle at 0x83dfcf8>,\n",
       " <__main__.Particle at 0x83dfd68>,\n",
       " <__main__.Particle at 0x83dfdd8>,\n",
       " <__main__.Particle at 0x83dfe48>,\n",
       " <__main__.Particle at 0x83dfeb8>,\n",
       " <__main__.Particle at 0x83dff28>,\n",
       " <__main__.Particle at 0x83dff98>,\n",
       " <__main__.Particle at 0x83e1048>,\n",
       " <__main__.Particle at 0x83e10b8>,\n",
       " <__main__.Particle at 0x83e1128>,\n",
       " <__main__.Particle at 0x83e1198>,\n",
       " <__main__.Particle at 0x83e1208>,\n",
       " <__main__.Particle at 0x83e1278>,\n",
       " <__main__.Particle at 0x83e12e8>,\n",
       " <__main__.Particle at 0x83e1358>,\n",
       " <__main__.Particle at 0x83e13c8>,\n",
       " <__main__.Particle at 0x83e1438>,\n",
       " <__main__.Particle at 0x83e14a8>,\n",
       " <__main__.Particle at 0x83e1518>,\n",
       " <__main__.Particle at 0x83e1588>,\n",
       " <__main__.Particle at 0x83d5390>,\n",
       " <__main__.Particle at 0x83e1630>,\n",
       " <__main__.Particle at 0x83e16a0>,\n",
       " <__main__.Particle at 0x83e1710>,\n",
       " <__main__.Particle at 0x83e1780>,\n",
       " <__main__.Particle at 0x83e17f0>,\n",
       " <__main__.Particle at 0x83e1860>,\n",
       " <__main__.Particle at 0x83e18d0>,\n",
       " <__main__.Particle at 0x83e1940>,\n",
       " <__main__.Particle at 0x83e19b0>,\n",
       " <__main__.Particle at 0x83e1a20>,\n",
       " <__main__.Particle at 0x83e1a90>,\n",
       " <__main__.Particle at 0x83e1b00>,\n",
       " <__main__.Particle at 0x83e1b70>,\n",
       " <__main__.Particle at 0x83e1be0>,\n",
       " <__main__.Particle at 0x83e1c50>,\n",
       " <__main__.Particle at 0x83e1cc0>,\n",
       " <__main__.Particle at 0x83e1d30>,\n",
       " <__main__.Particle at 0x83e1da0>,\n",
       " <__main__.Particle at 0x83e1e10>,\n",
       " <__main__.Particle at 0x83e1e80>,\n",
       " <__main__.Particle at 0x83e1ef0>,\n",
       " <__main__.Particle at 0x83e1f60>,\n",
       " <__main__.Particle at 0x83e1fd0>,\n",
       " <__main__.Particle at 0x83e7080>,\n",
       " <__main__.Particle at 0x83e70f0>,\n",
       " <__main__.Particle at 0x83e7160>,\n",
       " <__main__.Particle at 0x83e71d0>,\n",
       " <__main__.Particle at 0x83e7240>,\n",
       " <__main__.Particle at 0x83e72b0>,\n",
       " <__main__.Particle at 0x83e7320>,\n",
       " <__main__.Particle at 0x83e7390>,\n",
       " <__main__.Particle at 0x83e7400>,\n",
       " <__main__.Particle at 0x83e7470>,\n",
       " <__main__.Particle at 0x83e74e0>,\n",
       " <__main__.Particle at 0x83e7550>,\n",
       " <__main__.Particle at 0x83e75c0>,\n",
       " <__main__.Particle at 0x83e7630>,\n",
       " <__main__.Particle at 0x83e76a0>,\n",
       " <__main__.Particle at 0x83e7710>,\n",
       " <__main__.Particle at 0x83e7780>,\n",
       " <__main__.Particle at 0x83e77f0>,\n",
       " <__main__.Particle at 0x83e7860>,\n",
       " <__main__.Particle at 0x83e78d0>,\n",
       " <__main__.Particle at 0x83e7940>,\n",
       " <__main__.Particle at 0x83e79b0>,\n",
       " <__main__.Particle at 0x83e7a20>,\n",
       " <__main__.Particle at 0x83e7a90>,\n",
       " <__main__.Particle at 0x83e7b00>,\n",
       " <__main__.Particle at 0x83e7b70>,\n",
       " <__main__.Particle at 0x83e7be0>,\n",
       " <__main__.Particle at 0x83e7c50>,\n",
       " <__main__.Particle at 0x83e7cc0>,\n",
       " <__main__.Particle at 0x83e7d30>,\n",
       " <__main__.Particle at 0x83e7da0>,\n",
       " <__main__.Particle at 0x83e7e10>,\n",
       " <__main__.Particle at 0x83e7e80>,\n",
       " <__main__.Particle at 0x83e7ef0>,\n",
       " <__main__.Particle at 0x83e7f60>,\n",
       " <__main__.Particle at 0x83e7fd0>,\n",
       " <__main__.Particle at 0x83ea080>,\n",
       " <__main__.Particle at 0x83ea0f0>,\n",
       " <__main__.Particle at 0x83ea160>,\n",
       " <__main__.Particle at 0x83ea1d0>,\n",
       " <__main__.Particle at 0x83ea240>,\n",
       " <__main__.Particle at 0x83ea2b0>,\n",
       " <__main__.Particle at 0x83ea320>,\n",
       " <__main__.Particle at 0x83ea390>,\n",
       " <__main__.Particle at 0x83ea400>,\n",
       " <__main__.Particle at 0x83ea470>,\n",
       " <__main__.Particle at 0x83ea4e0>,\n",
       " <__main__.Particle at 0x83ea550>,\n",
       " <__main__.Particle at 0x83ea5c0>,\n",
       " <__main__.Particle at 0x83ea630>,\n",
       " <__main__.Particle at 0x83ea6a0>,\n",
       " <__main__.Particle at 0x83ea710>,\n",
       " <__main__.Particle at 0x83ea780>,\n",
       " <__main__.Particle at 0x83ea7f0>,\n",
       " <__main__.Particle at 0x83ea860>,\n",
       " <__main__.Particle at 0x83ea8d0>,\n",
       " <__main__.Particle at 0x83ea940>,\n",
       " <__main__.Particle at 0x83ea9b0>,\n",
       " <__main__.Particle at 0x83eaa20>,\n",
       " <__main__.Particle at 0x83eaa90>,\n",
       " <__main__.Particle at 0x83eab00>,\n",
       " <__main__.Particle at 0x83eab70>,\n",
       " <__main__.Particle at 0x83eabe0>,\n",
       " <__main__.Particle at 0x83eac50>,\n",
       " <__main__.Particle at 0x83eacc0>,\n",
       " <__main__.Particle at 0x83ead30>,\n",
       " <__main__.Particle at 0x83eada0>,\n",
       " <__main__.Particle at 0x83eae10>,\n",
       " <__main__.Particle at 0x83eae80>,\n",
       " <__main__.Particle at 0x83eaef0>,\n",
       " <__main__.Particle at 0x83eaf60>,\n",
       " <__main__.Particle at 0x83eafd0>,\n",
       " <__main__.Particle at 0x83ed080>,\n",
       " <__main__.Particle at 0x83ed0f0>,\n",
       " <__main__.Particle at 0x83ed160>,\n",
       " <__main__.Particle at 0x83ed1d0>,\n",
       " <__main__.Particle at 0x83ed240>,\n",
       " <__main__.Particle at 0x83ed2b0>,\n",
       " <__main__.Particle at 0x83ed320>,\n",
       " <__main__.Particle at 0x83ed390>,\n",
       " <__main__.Particle at 0x83ed400>,\n",
       " <__main__.Particle at 0x83ed470>,\n",
       " <__main__.Particle at 0x83ed4e0>,\n",
       " <__main__.Particle at 0x83ed550>,\n",
       " <__main__.Particle at 0x83ed5c0>,\n",
       " <__main__.Particle at 0x83ed630>,\n",
       " <__main__.Particle at 0x83ed6a0>,\n",
       " <__main__.Particle at 0x83ed710>,\n",
       " <__main__.Particle at 0x83ed780>,\n",
       " <__main__.Particle at 0x83ed7f0>,\n",
       " <__main__.Particle at 0x83ed860>,\n",
       " <__main__.Particle at 0x83ed8d0>,\n",
       " <__main__.Particle at 0x83ed940>,\n",
       " <__main__.Particle at 0x83ed9b0>,\n",
       " <__main__.Particle at 0x83eda20>,\n",
       " <__main__.Particle at 0x83eda90>,\n",
       " <__main__.Particle at 0x83edb00>,\n",
       " <__main__.Particle at 0x83edb70>,\n",
       " <__main__.Particle at 0x83edbe0>,\n",
       " <__main__.Particle at 0x83edc50>,\n",
       " <__main__.Particle at 0x83edcc0>,\n",
       " <__main__.Particle at 0x83edd30>,\n",
       " <__main__.Particle at 0x83edda0>,\n",
       " <__main__.Particle at 0x83ede10>,\n",
       " <__main__.Particle at 0x83ede80>,\n",
       " <__main__.Particle at 0x83edef0>,\n",
       " <__main__.Particle at 0x83edf60>,\n",
       " <__main__.Particle at 0x83edfd0>,\n",
       " <__main__.Particle at 0x83f0080>,\n",
       " <__main__.Particle at 0x83f00f0>,\n",
       " <__main__.Particle at 0x83f0160>,\n",
       " <__main__.Particle at 0x83f01d0>,\n",
       " <__main__.Particle at 0x83f0240>,\n",
       " <__main__.Particle at 0x83f02b0>,\n",
       " <__main__.Particle at 0x83f0320>,\n",
       " <__main__.Particle at 0x83f0390>,\n",
       " <__main__.Particle at 0x83f0400>,\n",
       " <__main__.Particle at 0x83f0470>,\n",
       " <__main__.Particle at 0x83f04e0>,\n",
       " <__main__.Particle at 0x83f0550>,\n",
       " <__main__.Particle at 0x83f05c0>,\n",
       " <__main__.Particle at 0x83f0630>,\n",
       " <__main__.Particle at 0x83f06a0>,\n",
       " <__main__.Particle at 0x83f0710>,\n",
       " <__main__.Particle at 0x83f0780>,\n",
       " <__main__.Particle at 0x83f07f0>,\n",
       " <__main__.Particle at 0x83f0860>,\n",
       " <__main__.Particle at 0x83f08d0>,\n",
       " <__main__.Particle at 0x83f0940>,\n",
       " <__main__.Particle at 0x83f09b0>,\n",
       " <__main__.Particle at 0x83f0a20>,\n",
       " <__main__.Particle at 0x83f0a90>,\n",
       " <__main__.Particle at 0x83f0b00>,\n",
       " <__main__.Particle at 0x83f0b70>,\n",
       " <__main__.Particle at 0x83f0be0>,\n",
       " <__main__.Particle at 0x83f0c50>,\n",
       " <__main__.Particle at 0x83f0cc0>,\n",
       " <__main__.Particle at 0x83f0d30>,\n",
       " <__main__.Particle at 0x83f0da0>,\n",
       " <__main__.Particle at 0x83f0e10>,\n",
       " <__main__.Particle at 0x83f0e80>,\n",
       " <__main__.Particle at 0x83f0ef0>,\n",
       " <__main__.Particle at 0x83f0f60>,\n",
       " <__main__.Particle at 0x83f0fd0>,\n",
       " <__main__.Particle at 0x83f4080>,\n",
       " <__main__.Particle at 0x83f40f0>,\n",
       " <__main__.Particle at 0x83f4160>,\n",
       " <__main__.Particle at 0x83f41d0>,\n",
       " <__main__.Particle at 0x83f4240>,\n",
       " <__main__.Particle at 0x83f42b0>,\n",
       " <__main__.Particle at 0x83f4320>,\n",
       " <__main__.Particle at 0x83f4390>,\n",
       " <__main__.Particle at 0x83f4400>,\n",
       " <__main__.Particle at 0x83f4470>,\n",
       " <__main__.Particle at 0x83f44e0>,\n",
       " <__main__.Particle at 0x83f4550>,\n",
       " <__main__.Particle at 0x83f45c0>,\n",
       " <__main__.Particle at 0x83f4630>,\n",
       " <__main__.Particle at 0x83f46a0>,\n",
       " <__main__.Particle at 0x83f4710>,\n",
       " <__main__.Particle at 0x83f4780>,\n",
       " <__main__.Particle at 0x83f47f0>,\n",
       " <__main__.Particle at 0x83f4860>,\n",
       " <__main__.Particle at 0x83f48d0>,\n",
       " <__main__.Particle at 0x83f4940>,\n",
       " <__main__.Particle at 0x83f49b0>,\n",
       " <__main__.Particle at 0x83f4a20>,\n",
       " <__main__.Particle at 0x83f4a90>,\n",
       " <__main__.Particle at 0x83f4b00>,\n",
       " <__main__.Particle at 0x83f4b70>,\n",
       " <__main__.Particle at 0x83f4be0>,\n",
       " <__main__.Particle at 0x83f4c50>,\n",
       " <__main__.Particle at 0x83f4cc0>,\n",
       " <__main__.Particle at 0x83f4d30>,\n",
       " <__main__.Particle at 0x83f4da0>,\n",
       " <__main__.Particle at 0x83f4e10>,\n",
       " <__main__.Particle at 0x83f4e80>,\n",
       " <__main__.Particle at 0x83f4ef0>,\n",
       " <__main__.Particle at 0x83f4f60>,\n",
       " <__main__.Particle at 0x83f4fd0>,\n",
       " <__main__.Particle at 0x83f7080>,\n",
       " <__main__.Particle at 0x83f70f0>,\n",
       " <__main__.Particle at 0x83f7160>,\n",
       " <__main__.Particle at 0x83f71d0>,\n",
       " <__main__.Particle at 0x83f7240>,\n",
       " <__main__.Particle at 0x83f72b0>,\n",
       " <__main__.Particle at 0x83f7320>,\n",
       " <__main__.Particle at 0x83f7390>,\n",
       " <__main__.Particle at 0x83f7400>,\n",
       " <__main__.Particle at 0x83f7470>,\n",
       " <__main__.Particle at 0x83f74e0>,\n",
       " <__main__.Particle at 0x83f7550>,\n",
       " <__main__.Particle at 0x83f75c0>,\n",
       " <__main__.Particle at 0x83f7630>,\n",
       " <__main__.Particle at 0x83f76a0>,\n",
       " <__main__.Particle at 0x83f7710>,\n",
       " <__main__.Particle at 0x83f7780>,\n",
       " <__main__.Particle at 0x83f77f0>,\n",
       " <__main__.Particle at 0x83f7860>,\n",
       " <__main__.Particle at 0x83f78d0>,\n",
       " <__main__.Particle at 0x83f7940>,\n",
       " <__main__.Particle at 0x83f79b0>,\n",
       " <__main__.Particle at 0x83f7a20>,\n",
       " <__main__.Particle at 0x83f7a90>,\n",
       " <__main__.Particle at 0x83f7b00>,\n",
       " <__main__.Particle at 0x83f7b70>,\n",
       " <__main__.Particle at 0x83f7be0>,\n",
       " <__main__.Particle at 0x83f7c50>,\n",
       " <__main__.Particle at 0x83f7cc0>,\n",
       " <__main__.Particle at 0x83f7d30>,\n",
       " <__main__.Particle at 0x83f7da0>,\n",
       " <__main__.Particle at 0x83f7e10>,\n",
       " <__main__.Particle at 0x83f7e80>,\n",
       " <__main__.Particle at 0x83f7ef0>,\n",
       " <__main__.Particle at 0x83f7f60>,\n",
       " <__main__.Particle at 0x83f7fd0>,\n",
       " <__main__.Particle at 0x83fa080>,\n",
       " <__main__.Particle at 0x83fa0f0>,\n",
       " <__main__.Particle at 0x83fa160>,\n",
       " <__main__.Particle at 0x83fa1d0>,\n",
       " <__main__.Particle at 0x83fa240>,\n",
       " <__main__.Particle at 0x83fa2b0>,\n",
       " <__main__.Particle at 0x83fa320>,\n",
       " <__main__.Particle at 0x83fa390>,\n",
       " <__main__.Particle at 0x83fa400>,\n",
       " <__main__.Particle at 0x83fa470>,\n",
       " <__main__.Particle at 0x83fa4e0>,\n",
       " <__main__.Particle at 0x83fa550>,\n",
       " <__main__.Particle at 0x83fa5c0>,\n",
       " <__main__.Particle at 0x83fa630>,\n",
       " <__main__.Particle at 0x83fa6a0>,\n",
       " <__main__.Particle at 0x83fa710>,\n",
       " <__main__.Particle at 0x83fa780>,\n",
       " <__main__.Particle at 0x83fa7f0>,\n",
       " <__main__.Particle at 0x83fa860>,\n",
       " <__main__.Particle at 0x83fa8d0>,\n",
       " <__main__.Particle at 0x83fa940>,\n",
       " <__main__.Particle at 0x83fa9b0>,\n",
       " <__main__.Particle at 0x83faa20>,\n",
       " <__main__.Particle at 0x83faa90>,\n",
       " <__main__.Particle at 0x83fab00>,\n",
       " <__main__.Particle at 0x83fab70>,\n",
       " <__main__.Particle at 0x83fabe0>,\n",
       " <__main__.Particle at 0x83fac50>,\n",
       " <__main__.Particle at 0x83facc0>,\n",
       " <__main__.Particle at 0x83fad30>,\n",
       " <__main__.Particle at 0x83fada0>,\n",
       " <__main__.Particle at 0x83fae10>,\n",
       " <__main__.Particle at 0x83fae80>,\n",
       " <__main__.Particle at 0x83faef0>,\n",
       " <__main__.Particle at 0x83faf60>,\n",
       " <__main__.Particle at 0x83fafd0>,\n",
       " <__main__.Particle at 0x83ff080>,\n",
       " <__main__.Particle at 0x83ff0f0>,\n",
       " <__main__.Particle at 0x83ff160>,\n",
       " <__main__.Particle at 0x83ff1d0>,\n",
       " <__main__.Particle at 0x83ff240>,\n",
       " <__main__.Particle at 0x83ff2b0>,\n",
       " <__main__.Particle at 0x83ff320>,\n",
       " <__main__.Particle at 0x83ff390>,\n",
       " <__main__.Particle at 0x83ff400>,\n",
       " <__main__.Particle at 0x83ff470>,\n",
       " <__main__.Particle at 0x83ff4e0>,\n",
       " <__main__.Particle at 0x83ff550>,\n",
       " <__main__.Particle at 0x83ff5c0>,\n",
       " <__main__.Particle at 0x83ff630>,\n",
       " <__main__.Particle at 0x83ff6a0>,\n",
       " <__main__.Particle at 0x83ff710>,\n",
       " <__main__.Particle at 0x83ff780>,\n",
       " <__main__.Particle at 0x83ff7f0>,\n",
       " <__main__.Particle at 0x83ff860>,\n",
       " <__main__.Particle at 0x83ff8d0>,\n",
       " <__main__.Particle at 0x83ff940>,\n",
       " <__main__.Particle at 0x83ff9b0>,\n",
       " <__main__.Particle at 0x83ffa20>,\n",
       " <__main__.Particle at 0x83ffa90>,\n",
       " <__main__.Particle at 0x83ffb00>,\n",
       " <__main__.Particle at 0x83ffb70>,\n",
       " <__main__.Particle at 0x83ffbe0>,\n",
       " <__main__.Particle at 0x83ffc50>,\n",
       " <__main__.Particle at 0x83ffcc0>,\n",
       " <__main__.Particle at 0x83ffd30>,\n",
       " <__main__.Particle at 0x83ffda0>,\n",
       " <__main__.Particle at 0x83ffe10>,\n",
       " <__main__.Particle at 0x83ffe80>,\n",
       " <__main__.Particle at 0x83ffef0>,\n",
       " <__main__.Particle at 0x83fff60>,\n",
       " <__main__.Particle at 0x83fffd0>,\n",
       " <__main__.Particle at 0x8402080>,\n",
       " <__main__.Particle at 0x84020f0>,\n",
       " <__main__.Particle at 0x8402160>,\n",
       " <__main__.Particle at 0x84021d0>,\n",
       " <__main__.Particle at 0x8402240>,\n",
       " <__main__.Particle at 0x84022b0>,\n",
       " <__main__.Particle at 0x8402320>,\n",
       " <__main__.Particle at 0x8402390>,\n",
       " <__main__.Particle at 0x8402400>,\n",
       " <__main__.Particle at 0x8402470>,\n",
       " <__main__.Particle at 0x84024e0>,\n",
       " <__main__.Particle at 0x8402550>,\n",
       " <__main__.Particle at 0x84025c0>,\n",
       " <__main__.Particle at 0x8402630>,\n",
       " <__main__.Particle at 0x84026a0>,\n",
       " <__main__.Particle at 0x8402710>,\n",
       " <__main__.Particle at 0x8402780>,\n",
       " <__main__.Particle at 0x84027f0>,\n",
       " <__main__.Particle at 0x8402860>,\n",
       " <__main__.Particle at 0x84028d0>,\n",
       " <__main__.Particle at 0x8402940>,\n",
       " <__main__.Particle at 0x84029b0>,\n",
       " <__main__.Particle at 0x8402a20>,\n",
       " <__main__.Particle at 0x8402a90>,\n",
       " <__main__.Particle at 0x8402b00>,\n",
       " <__main__.Particle at 0x8402b70>,\n",
       " <__main__.Particle at 0x8402be0>,\n",
       " <__main__.Particle at 0x8402c50>,\n",
       " <__main__.Particle at 0x8402cc0>,\n",
       " <__main__.Particle at 0x8402d30>,\n",
       " <__main__.Particle at 0x8402da0>,\n",
       " <__main__.Particle at 0x8402e10>,\n",
       " <__main__.Particle at 0x8402e80>,\n",
       " <__main__.Particle at 0x8402ef0>,\n",
       " <__main__.Particle at 0x8402f60>,\n",
       " <__main__.Particle at 0x8402fd0>,\n",
       " <__main__.Particle at 0x8405080>,\n",
       " <__main__.Particle at 0x84050f0>,\n",
       " <__main__.Particle at 0x8405160>,\n",
       " <__main__.Particle at 0x84051d0>,\n",
       " <__main__.Particle at 0x8405240>,\n",
       " <__main__.Particle at 0x84052b0>,\n",
       " <__main__.Particle at 0x8405320>,\n",
       " <__main__.Particle at 0x8405390>,\n",
       " <__main__.Particle at 0x8405400>,\n",
       " <__main__.Particle at 0x8405470>,\n",
       " <__main__.Particle at 0x84054e0>,\n",
       " <__main__.Particle at 0x8405550>,\n",
       " <__main__.Particle at 0x84055c0>,\n",
       " <__main__.Particle at 0x8405630>,\n",
       " <__main__.Particle at 0x84056a0>,\n",
       " <__main__.Particle at 0x8405710>,\n",
       " <__main__.Particle at 0x8405780>,\n",
       " <__main__.Particle at 0x84057f0>,\n",
       " <__main__.Particle at 0x8405860>,\n",
       " <__main__.Particle at 0x84058d0>,\n",
       " <__main__.Particle at 0x8405940>,\n",
       " <__main__.Particle at 0x84059b0>,\n",
       " <__main__.Particle at 0x8405a20>,\n",
       " <__main__.Particle at 0x8405a90>,\n",
       " <__main__.Particle at 0x8405b00>,\n",
       " <__main__.Particle at 0x8405b70>,\n",
       " <__main__.Particle at 0x8405be0>,\n",
       " <__main__.Particle at 0x8405c50>,\n",
       " <__main__.Particle at 0x8405cc0>,\n",
       " <__main__.Particle at 0x8405d30>,\n",
       " <__main__.Particle at 0x8405da0>,\n",
       " <__main__.Particle at 0x8405e10>,\n",
       " <__main__.Particle at 0x8405e80>,\n",
       " <__main__.Particle at 0x8405ef0>,\n",
       " <__main__.Particle at 0x8405f60>,\n",
       " <__main__.Particle at 0x8405fd0>,\n",
       " <__main__.Particle at 0x8408080>,\n",
       " <__main__.Particle at 0x84080f0>,\n",
       " <__main__.Particle at 0x8408160>,\n",
       " <__main__.Particle at 0x84081d0>,\n",
       " <__main__.Particle at 0x8408240>,\n",
       " <__main__.Particle at 0x84082b0>,\n",
       " <__main__.Particle at 0x8408320>,\n",
       " <__main__.Particle at 0x8408390>,\n",
       " <__main__.Particle at 0x8408400>,\n",
       " <__main__.Particle at 0x8408470>,\n",
       " <__main__.Particle at 0x84084e0>,\n",
       " <__main__.Particle at 0x8408550>,\n",
       " <__main__.Particle at 0x84085c0>,\n",
       " <__main__.Particle at 0x8408630>,\n",
       " <__main__.Particle at 0x84086a0>,\n",
       " <__main__.Particle at 0x8408710>,\n",
       " <__main__.Particle at 0x8408780>,\n",
       " <__main__.Particle at 0x84087f0>,\n",
       " <__main__.Particle at 0x8408860>,\n",
       " <__main__.Particle at 0x84088d0>,\n",
       " <__main__.Particle at 0x8408940>,\n",
       " <__main__.Particle at 0x84089b0>,\n",
       " <__main__.Particle at 0x8408a20>,\n",
       " <__main__.Particle at 0x8408a90>,\n",
       " <__main__.Particle at 0x8408b00>,\n",
       " <__main__.Particle at 0x8408b70>,\n",
       " <__main__.Particle at 0x8408be0>,\n",
       " <__main__.Particle at 0x8408c50>,\n",
       " <__main__.Particle at 0x8408cc0>,\n",
       " <__main__.Particle at 0x8408d30>,\n",
       " <__main__.Particle at 0x8408da0>,\n",
       " <__main__.Particle at 0x8408e10>,\n",
       " <__main__.Particle at 0x8408e80>,\n",
       " <__main__.Particle at 0x8408ef0>,\n",
       " <__main__.Particle at 0x8408f60>,\n",
       " <__main__.Particle at 0x8408fd0>,\n",
       " <__main__.Particle at 0x840c080>,\n",
       " <__main__.Particle at 0x840c0f0>,\n",
       " <__main__.Particle at 0x840c160>,\n",
       " <__main__.Particle at 0x840c1d0>,\n",
       " <__main__.Particle at 0x840c240>,\n",
       " <__main__.Particle at 0x840c2b0>,\n",
       " <__main__.Particle at 0x840c320>,\n",
       " <__main__.Particle at 0x840c390>,\n",
       " <__main__.Particle at 0x840c400>,\n",
       " <__main__.Particle at 0x840c470>,\n",
       " <__main__.Particle at 0x840c4e0>,\n",
       " <__main__.Particle at 0x840c550>,\n",
       " <__main__.Particle at 0x840c5c0>,\n",
       " <__main__.Particle at 0x840c630>,\n",
       " <__main__.Particle at 0x840c6a0>,\n",
       " <__main__.Particle at 0x840c710>,\n",
       " <__main__.Particle at 0x840c780>,\n",
       " <__main__.Particle at 0x840c7f0>,\n",
       " <__main__.Particle at 0x840c860>,\n",
       " <__main__.Particle at 0x840c8d0>,\n",
       " <__main__.Particle at 0x840c940>,\n",
       " <__main__.Particle at 0x840c9b0>,\n",
       " <__main__.Particle at 0x840ca20>,\n",
       " <__main__.Particle at 0x840ca90>,\n",
       " <__main__.Particle at 0x840cb00>,\n",
       " <__main__.Particle at 0x840cb70>,\n",
       " <__main__.Particle at 0x840cbe0>,\n",
       " <__main__.Particle at 0x840cc50>,\n",
       " <__main__.Particle at 0x840ccc0>,\n",
       " <__main__.Particle at 0x840cd30>,\n",
       " <__main__.Particle at 0x840cda0>,\n",
       " <__main__.Particle at 0x840ce10>,\n",
       " <__main__.Particle at 0x840ce80>,\n",
       " <__main__.Particle at 0x840cef0>,\n",
       " <__main__.Particle at 0x840cf60>,\n",
       " <__main__.Particle at 0x840cfd0>,\n",
       " <__main__.Particle at 0x840f080>,\n",
       " <__main__.Particle at 0x840f0f0>,\n",
       " <__main__.Particle at 0x840f160>,\n",
       " <__main__.Particle at 0x840f1d0>,\n",
       " <__main__.Particle at 0x840f240>,\n",
       " <__main__.Particle at 0x840f2b0>,\n",
       " <__main__.Particle at 0x840f320>,\n",
       " <__main__.Particle at 0x840f390>,\n",
       " <__main__.Particle at 0x840f400>,\n",
       " <__main__.Particle at 0x840f470>,\n",
       " <__main__.Particle at 0x840f4e0>,\n",
       " <__main__.Particle at 0x840f550>,\n",
       " <__main__.Particle at 0x840f5c0>,\n",
       " <__main__.Particle at 0x840f630>,\n",
       " <__main__.Particle at 0x840f6a0>,\n",
       " <__main__.Particle at 0x840f710>,\n",
       " <__main__.Particle at 0x840f780>,\n",
       " <__main__.Particle at 0x840f7f0>,\n",
       " <__main__.Particle at 0x840f860>,\n",
       " <__main__.Particle at 0x840f8d0>,\n",
       " <__main__.Particle at 0x840f940>,\n",
       " <__main__.Particle at 0x840f9b0>,\n",
       " <__main__.Particle at 0x840fa20>,\n",
       " <__main__.Particle at 0x840fa90>,\n",
       " <__main__.Particle at 0x840fb00>,\n",
       " <__main__.Particle at 0x840fb70>,\n",
       " <__main__.Particle at 0x840fbe0>,\n",
       " <__main__.Particle at 0x840fc50>,\n",
       " <__main__.Particle at 0x840fcc0>,\n",
       " <__main__.Particle at 0x840fd30>,\n",
       " <__main__.Particle at 0x840fda0>,\n",
       " <__main__.Particle at 0x840fe10>,\n",
       " <__main__.Particle at 0x840fe80>,\n",
       " <__main__.Particle at 0x840fef0>,\n",
       " <__main__.Particle at 0x840ff60>,\n",
       " <__main__.Particle at 0x840ffd0>,\n",
       " <__main__.Particle at 0x84d2080>,\n",
       " <__main__.Particle at 0x84d20f0>,\n",
       " <__main__.Particle at 0x84d2160>,\n",
       " <__main__.Particle at 0x84d21d0>,\n",
       " <__main__.Particle at 0x84d2240>,\n",
       " <__main__.Particle at 0x84d22b0>,\n",
       " <__main__.Particle at 0x84d2320>,\n",
       " <__main__.Particle at 0x84d2390>,\n",
       " <__main__.Particle at 0x84d2400>,\n",
       " <__main__.Particle at 0x84d2470>,\n",
       " <__main__.Particle at 0x84d24e0>,\n",
       " <__main__.Particle at 0x84d2550>,\n",
       " <__main__.Particle at 0x84d25c0>,\n",
       " <__main__.Particle at 0x84d2630>,\n",
       " <__main__.Particle at 0x84d26a0>,\n",
       " <__main__.Particle at 0x84d2710>,\n",
       " <__main__.Particle at 0x84d2780>,\n",
       " <__main__.Particle at 0x84d27f0>,\n",
       " <__main__.Particle at 0x84d2860>,\n",
       " <__main__.Particle at 0x84d28d0>,\n",
       " <__main__.Particle at 0x84d2940>,\n",
       " <__main__.Particle at 0x84d29b0>,\n",
       " <__main__.Particle at 0x84d2a20>,\n",
       " <__main__.Particle at 0x84d2a90>,\n",
       " <__main__.Particle at 0x84d2b00>,\n",
       " <__main__.Particle at 0x84d2b70>,\n",
       " <__main__.Particle at 0x84d2be0>,\n",
       " <__main__.Particle at 0x84d2c50>,\n",
       " <__main__.Particle at 0x84d2cc0>,\n",
       " <__main__.Particle at 0x84d2d30>,\n",
       " <__main__.Particle at 0x84d2da0>,\n",
       " <__main__.Particle at 0x84d2e10>,\n",
       " <__main__.Particle at 0x84d2e80>,\n",
       " <__main__.Particle at 0x84d2ef0>,\n",
       " <__main__.Particle at 0x84d2f60>,\n",
       " <__main__.Particle at 0x84d2fd0>,\n",
       " <__main__.Particle at 0x84d7080>,\n",
       " <__main__.Particle at 0x84d70f0>,\n",
       " <__main__.Particle at 0x84d7160>,\n",
       " <__main__.Particle at 0x84d71d0>,\n",
       " <__main__.Particle at 0x84d7240>,\n",
       " <__main__.Particle at 0x84d72b0>,\n",
       " <__main__.Particle at 0x84d7320>,\n",
       " <__main__.Particle at 0x84d7390>,\n",
       " <__main__.Particle at 0x84d7400>,\n",
       " <__main__.Particle at 0x84d7470>,\n",
       " <__main__.Particle at 0x84d74e0>,\n",
       " <__main__.Particle at 0x84d7550>,\n",
       " <__main__.Particle at 0x84d75c0>,\n",
       " <__main__.Particle at 0x84d7630>,\n",
       " <__main__.Particle at 0x84d76a0>,\n",
       " <__main__.Particle at 0x84d7710>,\n",
       " <__main__.Particle at 0x84d7780>,\n",
       " <__main__.Particle at 0x84d77f0>,\n",
       " <__main__.Particle at 0x84d7860>,\n",
       " <__main__.Particle at 0x84d78d0>,\n",
       " <__main__.Particle at 0x84d7940>,\n",
       " <__main__.Particle at 0x84d79b0>,\n",
       " <__main__.Particle at 0x84d7a20>,\n",
       " <__main__.Particle at 0x84d7a90>,\n",
       " <__main__.Particle at 0x84d7b00>,\n",
       " <__main__.Particle at 0x84d7b70>,\n",
       " <__main__.Particle at 0x84d7be0>,\n",
       " <__main__.Particle at 0x84d7c50>,\n",
       " <__main__.Particle at 0x84d7cc0>,\n",
       " <__main__.Particle at 0x84d7d30>,\n",
       " <__main__.Particle at 0x84d7da0>,\n",
       " <__main__.Particle at 0x84d7e10>,\n",
       " <__main__.Particle at 0x84d7e80>,\n",
       " <__main__.Particle at 0x84d7ef0>,\n",
       " <__main__.Particle at 0x84d7f60>,\n",
       " <__main__.Particle at 0x84d7fd0>,\n",
       " <__main__.Particle at 0x84da080>,\n",
       " <__main__.Particle at 0x84da0f0>,\n",
       " <__main__.Particle at 0x84da160>,\n",
       " <__main__.Particle at 0x84da1d0>,\n",
       " <__main__.Particle at 0x84da240>,\n",
       " <__main__.Particle at 0x84da2b0>,\n",
       " <__main__.Particle at 0x84da320>,\n",
       " <__main__.Particle at 0x84da390>,\n",
       " <__main__.Particle at 0x84da400>,\n",
       " <__main__.Particle at 0x84da470>,\n",
       " <__main__.Particle at 0x84da4e0>,\n",
       " <__main__.Particle at 0x84da550>,\n",
       " <__main__.Particle at 0x84da5c0>,\n",
       " <__main__.Particle at 0x84da630>,\n",
       " <__main__.Particle at 0x84da6a0>,\n",
       " <__main__.Particle at 0x84da710>,\n",
       " <__main__.Particle at 0x84da780>,\n",
       " <__main__.Particle at 0x84da7f0>,\n",
       " <__main__.Particle at 0x84da860>,\n",
       " <__main__.Particle at 0x84da8d0>,\n",
       " <__main__.Particle at 0x84da940>,\n",
       " <__main__.Particle at 0x84da9b0>,\n",
       " <__main__.Particle at 0x84daa20>,\n",
       " <__main__.Particle at 0x84daa90>,\n",
       " <__main__.Particle at 0x84dab00>,\n",
       " <__main__.Particle at 0x84dab70>,\n",
       " <__main__.Particle at 0x84dabe0>,\n",
       " <__main__.Particle at 0x84dac50>,\n",
       " <__main__.Particle at 0x84dacc0>,\n",
       " <__main__.Particle at 0x84dad30>,\n",
       " <__main__.Particle at 0x84dada0>,\n",
       " <__main__.Particle at 0x84dae10>,\n",
       " <__main__.Particle at 0x84dae80>,\n",
       " <__main__.Particle at 0x84daef0>,\n",
       " <__main__.Particle at 0x84daf60>,\n",
       " <__main__.Particle at 0x84dafd0>,\n",
       " <__main__.Particle at 0x84dd080>,\n",
       " <__main__.Particle at 0x84dd0f0>,\n",
       " <__main__.Particle at 0x84dd160>,\n",
       " <__main__.Particle at 0x84dd1d0>,\n",
       " <__main__.Particle at 0x84dd240>,\n",
       " <__main__.Particle at 0x84dd2b0>,\n",
       " <__main__.Particle at 0x84dd320>,\n",
       " <__main__.Particle at 0x84dd390>,\n",
       " <__main__.Particle at 0x84dd400>,\n",
       " <__main__.Particle at 0x84dd470>,\n",
       " <__main__.Particle at 0x84dd4e0>,\n",
       " <__main__.Particle at 0x84dd550>,\n",
       " <__main__.Particle at 0x84dd5c0>,\n",
       " <__main__.Particle at 0x84dd630>,\n",
       " <__main__.Particle at 0x84dd6a0>,\n",
       " <__main__.Particle at 0x84dd710>,\n",
       " <__main__.Particle at 0x84dd780>,\n",
       " <__main__.Particle at 0x84dd7f0>,\n",
       " <__main__.Particle at 0x84dd860>,\n",
       " <__main__.Particle at 0x84dd8d0>,\n",
       " <__main__.Particle at 0x84dd940>,\n",
       " <__main__.Particle at 0x84dd9b0>,\n",
       " <__main__.Particle at 0x84dda20>,\n",
       " <__main__.Particle at 0x84dda90>,\n",
       " <__main__.Particle at 0x84ddb00>,\n",
       " <__main__.Particle at 0x84ddb70>,\n",
       " <__main__.Particle at 0x84ddbe0>,\n",
       " <__main__.Particle at 0x84ddc50>,\n",
       " <__main__.Particle at 0x84ddcc0>,\n",
       " <__main__.Particle at 0x84ddd30>,\n",
       " <__main__.Particle at 0x84ddda0>,\n",
       " <__main__.Particle at 0x84dde10>,\n",
       " <__main__.Particle at 0x84dde80>,\n",
       " <__main__.Particle at 0x84ddef0>,\n",
       " <__main__.Particle at 0x84ddf60>,\n",
       " <__main__.Particle at 0x84ddfd0>,\n",
       " <__main__.Particle at 0x84e0080>,\n",
       " <__main__.Particle at 0x84e00f0>,\n",
       " <__main__.Particle at 0x84e0160>,\n",
       " <__main__.Particle at 0x84e01d0>,\n",
       " <__main__.Particle at 0x84e0240>,\n",
       " <__main__.Particle at 0x84e02b0>,\n",
       " <__main__.Particle at 0x84e0320>,\n",
       " <__main__.Particle at 0x84e0390>,\n",
       " <__main__.Particle at 0x84e0400>,\n",
       " <__main__.Particle at 0x84e0470>,\n",
       " <__main__.Particle at 0x84e04e0>,\n",
       " <__main__.Particle at 0x84e0550>,\n",
       " <__main__.Particle at 0x84e05c0>,\n",
       " <__main__.Particle at 0x84e0630>,\n",
       " <__main__.Particle at 0x84e06a0>,\n",
       " <__main__.Particle at 0x84e0710>,\n",
       " <__main__.Particle at 0x84e0780>,\n",
       " <__main__.Particle at 0x84e07f0>,\n",
       " <__main__.Particle at 0x84e0860>,\n",
       " <__main__.Particle at 0x84e08d0>,\n",
       " <__main__.Particle at 0x84e0940>,\n",
       " <__main__.Particle at 0x84e09b0>,\n",
       " <__main__.Particle at 0x84e0a20>,\n",
       " <__main__.Particle at 0x84e0a90>,\n",
       " <__main__.Particle at 0x84e0b00>,\n",
       " <__main__.Particle at 0x84e0b70>,\n",
       " <__main__.Particle at 0x84e0be0>,\n",
       " <__main__.Particle at 0x84e0c50>,\n",
       " <__main__.Particle at 0x84e0cc0>,\n",
       " <__main__.Particle at 0x84e0d30>,\n",
       " <__main__.Particle at 0x84e0da0>,\n",
       " <__main__.Particle at 0x84e0e10>,\n",
       " <__main__.Particle at 0x84e0e80>,\n",
       " <__main__.Particle at 0x84e0ef0>,\n",
       " <__main__.Particle at 0x84e0f60>,\n",
       " <__main__.Particle at 0x84e0fd0>,\n",
       " <__main__.Particle at 0x84e4080>,\n",
       " <__main__.Particle at 0x84e40f0>,\n",
       " <__main__.Particle at 0x84e4160>,\n",
       " <__main__.Particle at 0x84e41d0>,\n",
       " <__main__.Particle at 0x84e4240>,\n",
       " <__main__.Particle at 0x84e42b0>,\n",
       " <__main__.Particle at 0x84e4320>,\n",
       " <__main__.Particle at 0x84e4390>,\n",
       " <__main__.Particle at 0x84e4400>,\n",
       " <__main__.Particle at 0x84e4470>,\n",
       " <__main__.Particle at 0x84e44e0>,\n",
       " <__main__.Particle at 0x84e4550>,\n",
       " <__main__.Particle at 0x84e45c0>,\n",
       " <__main__.Particle at 0x84e4630>,\n",
       " <__main__.Particle at 0x84e46a0>,\n",
       " <__main__.Particle at 0x84e4710>,\n",
       " <__main__.Particle at 0x84e4780>,\n",
       " <__main__.Particle at 0x84e47f0>,\n",
       " <__main__.Particle at 0x84e4860>,\n",
       " <__main__.Particle at 0x84e48d0>,\n",
       " <__main__.Particle at 0x84e4940>,\n",
       " <__main__.Particle at 0x84e49b0>,\n",
       " <__main__.Particle at 0x84e4a20>,\n",
       " <__main__.Particle at 0x84e4a90>,\n",
       " <__main__.Particle at 0x84e4b00>,\n",
       " <__main__.Particle at 0x84e4b70>,\n",
       " <__main__.Particle at 0x84e4be0>,\n",
       " <__main__.Particle at 0x84e4c50>,\n",
       " <__main__.Particle at 0x84e4cc0>,\n",
       " <__main__.Particle at 0x84e4d30>,\n",
       " <__main__.Particle at 0x84e4da0>,\n",
       " <__main__.Particle at 0x84e4e10>,\n",
       " <__main__.Particle at 0x84e4e80>,\n",
       " <__main__.Particle at 0x84e4ef0>,\n",
       " <__main__.Particle at 0x84e4f60>,\n",
       " <__main__.Particle at 0x84e4fd0>,\n",
       " <__main__.Particle at 0x84e7080>,\n",
       " <__main__.Particle at 0x84e70f0>,\n",
       " <__main__.Particle at 0x84e7160>,\n",
       " <__main__.Particle at 0x84e71d0>,\n",
       " <__main__.Particle at 0x84e7240>,\n",
       " <__main__.Particle at 0x84e72b0>,\n",
       " <__main__.Particle at 0x84e7320>,\n",
       " <__main__.Particle at 0x84e7390>,\n",
       " <__main__.Particle at 0x84e7400>,\n",
       " <__main__.Particle at 0x84e7470>,\n",
       " <__main__.Particle at 0x84e74e0>,\n",
       " <__main__.Particle at 0x84e7550>,\n",
       " <__main__.Particle at 0x84e75c0>,\n",
       " <__main__.Particle at 0x84e7630>,\n",
       " <__main__.Particle at 0x84e76a0>,\n",
       " <__main__.Particle at 0x84e7710>,\n",
       " <__main__.Particle at 0x84e7780>,\n",
       " <__main__.Particle at 0x84e77f0>,\n",
       " <__main__.Particle at 0x84e7860>,\n",
       " <__main__.Particle at 0x84e78d0>,\n",
       " <__main__.Particle at 0x84e7940>,\n",
       " <__main__.Particle at 0x84e79b0>,\n",
       " <__main__.Particle at 0x84e7a20>,\n",
       " <__main__.Particle at 0x84e7a90>,\n",
       " <__main__.Particle at 0x84e7b00>,\n",
       " <__main__.Particle at 0x84e7b70>,\n",
       " <__main__.Particle at 0x84e7be0>,\n",
       " <__main__.Particle at 0x84e7c50>,\n",
       " <__main__.Particle at 0x84e7cc0>,\n",
       " <__main__.Particle at 0x84e7d30>,\n",
       " <__main__.Particle at 0x84e7da0>,\n",
       " <__main__.Particle at 0x84e7e10>,\n",
       " <__main__.Particle at 0x84e7e80>,\n",
       " <__main__.Particle at 0x84e7ef0>,\n",
       " <__main__.Particle at 0x84e7f60>,\n",
       " <__main__.Particle at 0x84e7fd0>,\n",
       " <__main__.Particle at 0x84ea080>,\n",
       " <__main__.Particle at 0x84ea0f0>,\n",
       " <__main__.Particle at 0x84ea160>,\n",
       " <__main__.Particle at 0x84ea1d0>,\n",
       " <__main__.Particle at 0x84ea240>,\n",
       " <__main__.Particle at 0x84ea2b0>,\n",
       " <__main__.Particle at 0x84ea320>,\n",
       " <__main__.Particle at 0x84ea390>,\n",
       " <__main__.Particle at 0x84ea400>,\n",
       " <__main__.Particle at 0x84ea470>,\n",
       " <__main__.Particle at 0x84ea4e0>,\n",
       " <__main__.Particle at 0x84ea550>,\n",
       " <__main__.Particle at 0x84ea5c0>,\n",
       " <__main__.Particle at 0x84ea630>,\n",
       " <__main__.Particle at 0x84ea6a0>,\n",
       " <__main__.Particle at 0x84ea710>,\n",
       " <__main__.Particle at 0x84ea780>,\n",
       " <__main__.Particle at 0x84ea7f0>,\n",
       " <__main__.Particle at 0x84ea860>,\n",
       " <__main__.Particle at 0x84ea8d0>,\n",
       " <__main__.Particle at 0x84ea940>,\n",
       " <__main__.Particle at 0x84ea9b0>,\n",
       " <__main__.Particle at 0x84eaa20>,\n",
       " <__main__.Particle at 0x84eaa90>,\n",
       " <__main__.Particle at 0x84eab00>,\n",
       " <__main__.Particle at 0x84eab70>,\n",
       " <__main__.Particle at 0x84eabe0>,\n",
       " <__main__.Particle at 0x84eac50>,\n",
       " <__main__.Particle at 0x84eacc0>,\n",
       " <__main__.Particle at 0x84ead30>,\n",
       " <__main__.Particle at 0x84eada0>,\n",
       " <__main__.Particle at 0x84eae10>,\n",
       " <__main__.Particle at 0x84eae80>,\n",
       " <__main__.Particle at 0x84eaef0>,\n",
       " <__main__.Particle at 0x84eaf60>,\n",
       " <__main__.Particle at 0x84eafd0>,\n",
       " <__main__.Particle at 0x84ef080>,\n",
       " <__main__.Particle at 0x84ef0f0>,\n",
       " <__main__.Particle at 0x84ef160>,\n",
       " <__main__.Particle at 0x84ef1d0>,\n",
       " <__main__.Particle at 0x84ef240>,\n",
       " <__main__.Particle at 0x84ef2b0>,\n",
       " <__main__.Particle at 0x84ef320>,\n",
       " <__main__.Particle at 0x84ef390>,\n",
       " <__main__.Particle at 0x84ef400>,\n",
       " <__main__.Particle at 0x84ef470>,\n",
       " <__main__.Particle at 0x84ef4e0>,\n",
       " <__main__.Particle at 0x84ef550>,\n",
       " <__main__.Particle at 0x84ef5c0>,\n",
       " <__main__.Particle at 0x84ef630>,\n",
       " <__main__.Particle at 0x84ef6a0>,\n",
       " <__main__.Particle at 0x84ef710>,\n",
       " <__main__.Particle at 0x84ef780>,\n",
       " <__main__.Particle at 0x84ef7f0>,\n",
       " <__main__.Particle at 0x84ef860>,\n",
       " <__main__.Particle at 0x84ef8d0>,\n",
       " <__main__.Particle at 0x84ef940>,\n",
       " <__main__.Particle at 0x84ef9b0>,\n",
       " <__main__.Particle at 0x84efa20>,\n",
       " <__main__.Particle at 0x84efa90>,\n",
       " <__main__.Particle at 0x84efb00>,\n",
       " <__main__.Particle at 0x84efb70>,\n",
       " <__main__.Particle at 0x84efbe0>,\n",
       " <__main__.Particle at 0x84efc50>,\n",
       " <__main__.Particle at 0x84efcc0>,\n",
       " <__main__.Particle at 0x84efd30>,\n",
       " <__main__.Particle at 0x84efda0>,\n",
       " <__main__.Particle at 0x84efe10>,\n",
       " <__main__.Particle at 0x84efe80>,\n",
       " <__main__.Particle at 0x84efef0>,\n",
       " <__main__.Particle at 0x84eff60>,\n",
       " <__main__.Particle at 0x84effd0>,\n",
       " <__main__.Particle at 0x84f2080>,\n",
       " <__main__.Particle at 0x84f20f0>,\n",
       " <__main__.Particle at 0x84f2160>,\n",
       " <__main__.Particle at 0x84f21d0>,\n",
       " <__main__.Particle at 0x84f2240>,\n",
       " <__main__.Particle at 0x84f22b0>,\n",
       " <__main__.Particle at 0x84f2320>,\n",
       " <__main__.Particle at 0x84f2390>,\n",
       " <__main__.Particle at 0x84f2400>,\n",
       " <__main__.Particle at 0x84f2470>,\n",
       " <__main__.Particle at 0x84f24e0>,\n",
       " <__main__.Particle at 0x84f2550>,\n",
       " <__main__.Particle at 0x84f25c0>,\n",
       " <__main__.Particle at 0x84f2630>,\n",
       " <__main__.Particle at 0x84f26a0>,\n",
       " <__main__.Particle at 0x84f2710>,\n",
       " <__main__.Particle at 0x84f2780>,\n",
       " <__main__.Particle at 0x84f27f0>,\n",
       " <__main__.Particle at 0x84f2860>,\n",
       " <__main__.Particle at 0x84f28d0>,\n",
       " <__main__.Particle at 0x84f2940>,\n",
       " <__main__.Particle at 0x84f29b0>,\n",
       " <__main__.Particle at 0x84f2a20>,\n",
       " <__main__.Particle at 0x84f2a90>,\n",
       " <__main__.Particle at 0x84f2b00>,\n",
       " <__main__.Particle at 0x84f2b70>,\n",
       " <__main__.Particle at 0x84f2be0>,\n",
       " <__main__.Particle at 0x84f2c50>,\n",
       " <__main__.Particle at 0x84f2cc0>,\n",
       " <__main__.Particle at 0x84f2d30>,\n",
       " <__main__.Particle at 0x84f2da0>,\n",
       " <__main__.Particle at 0x84f2e10>,\n",
       " <__main__.Particle at 0x84f2e80>,\n",
       " <__main__.Particle at 0x84f2ef0>,\n",
       " <__main__.Particle at 0x84f2f60>,\n",
       " <__main__.Particle at 0x84f2fd0>,\n",
       " <__main__.Particle at 0x84f5080>,\n",
       " <__main__.Particle at 0x84f50f0>,\n",
       " <__main__.Particle at 0x84f5160>,\n",
       " <__main__.Particle at 0x84f51d0>,\n",
       " <__main__.Particle at 0x84f5240>,\n",
       " <__main__.Particle at 0x84f52b0>,\n",
       " <__main__.Particle at 0x84f5320>,\n",
       " <__main__.Particle at 0x84f5390>,\n",
       " <__main__.Particle at 0x84f5400>,\n",
       " <__main__.Particle at 0x84f5470>,\n",
       " <__main__.Particle at 0x84f54e0>,\n",
       " <__main__.Particle at 0x84f5550>,\n",
       " <__main__.Particle at 0x84f55c0>,\n",
       " <__main__.Particle at 0x84f5630>,\n",
       " <__main__.Particle at 0x84f56a0>,\n",
       " <__main__.Particle at 0x84f5710>,\n",
       " <__main__.Particle at 0x84f5780>,\n",
       " <__main__.Particle at 0x84f57f0>,\n",
       " <__main__.Particle at 0x84f5860>,\n",
       " <__main__.Particle at 0x84f58d0>,\n",
       " <__main__.Particle at 0x84f5940>,\n",
       " <__main__.Particle at 0x84f59b0>,\n",
       " <__main__.Particle at 0x84f5a20>,\n",
       " <__main__.Particle at 0x84f5a90>,\n",
       " <__main__.Particle at 0x84f5b00>,\n",
       " <__main__.Particle at 0x84f5b70>,\n",
       " <__main__.Particle at 0x84f5be0>,\n",
       " <__main__.Particle at 0x84f5c50>,\n",
       " <__main__.Particle at 0x84f5cc0>,\n",
       " <__main__.Particle at 0x84f5d30>,\n",
       " <__main__.Particle at 0x84f5da0>,\n",
       " <__main__.Particle at 0x84f5e10>,\n",
       " <__main__.Particle at 0x84f5e80>,\n",
       " <__main__.Particle at 0x84f5ef0>,\n",
       " <__main__.Particle at 0x84f5f60>,\n",
       " <__main__.Particle at 0x84f5fd0>,\n",
       " <__main__.Particle at 0x84f8080>,\n",
       " <__main__.Particle at 0x84f80f0>,\n",
       " <__main__.Particle at 0x84f8160>,\n",
       " <__main__.Particle at 0x84f81d0>,\n",
       " <__main__.Particle at 0x84f8240>,\n",
       " <__main__.Particle at 0x84f82b0>,\n",
       " <__main__.Particle at 0x84f8320>,\n",
       " <__main__.Particle at 0x84f8390>,\n",
       " <__main__.Particle at 0x84f8400>,\n",
       " <__main__.Particle at 0x84f8470>,\n",
       " <__main__.Particle at 0x84f84e0>,\n",
       " <__main__.Particle at 0x84f8550>,\n",
       " <__main__.Particle at 0x84f85c0>,\n",
       " <__main__.Particle at 0x84f8630>,\n",
       " <__main__.Particle at 0x84f86a0>,\n",
       " <__main__.Particle at 0x84f8710>,\n",
       " <__main__.Particle at 0x84f8780>,\n",
       " <__main__.Particle at 0x84f87f0>,\n",
       " <__main__.Particle at 0x84f8860>,\n",
       " <__main__.Particle at 0x84f88d0>,\n",
       " <__main__.Particle at 0x84f8940>,\n",
       " <__main__.Particle at 0x84f89b0>,\n",
       " <__main__.Particle at 0x84f8a20>,\n",
       " <__main__.Particle at 0x84f8a90>,\n",
       " <__main__.Particle at 0x84f8b00>,\n",
       " <__main__.Particle at 0x84f8b70>,\n",
       " <__main__.Particle at 0x84f8be0>,\n",
       " <__main__.Particle at 0x84f8c50>,\n",
       " <__main__.Particle at 0x84f8cc0>,\n",
       " <__main__.Particle at 0x84f8d30>,\n",
       " <__main__.Particle at 0x84f8da0>,\n",
       " <__main__.Particle at 0x84f8e10>]"
      ]
     },
     "execution_count": 4,
     "metadata": {},
     "output_type": "execute_result"
    }
   ],
   "source": [
    "%run gas_2d.py\n",
    "\n",
    "no_steps = 1000\n",
    "dt = 0.01\n",
    "\n",
    "trajectory = []\n",
    "for step in range(no_steps):\n",
    "    particle.position=particle.position+particle.velocity()*dt\n",
    "    trajectory.append(particle.copy())\n",
    "trajectory"
   ]
  },
  {
   "cell_type": "markdown",
   "metadata": {},
   "source": [
    "Use the display_trajectory function on the positions list to view the motion of your particle"
   ]
  },
  {
   "cell_type": "code",
   "execution_count": 5,
   "metadata": {},
   "outputs": [
    {
     "data": {
      "text/plain": [
       "<matplotlib.animation.FuncAnimation at 0x8581b00>"
      ]
     },
     "execution_count": 5,
     "metadata": {},
     "output_type": "execute_result"
    }
   ],
   "source": [
    "display_trajectory(trajectory)"
   ]
  },
  {
   "cell_type": "markdown",
   "metadata": {},
   "source": [
    "## Building a Simulation class"
   ]
  },
  {
   "cell_type": "markdown",
   "metadata": {},
   "source": [
    "Great! We're going to take a step sideways now and introduce our main simulation class. The code you wrote above calculated the position of a single particle for multiple time steps.\n",
    "\n",
    "This time we're going to have many particles but we're only going to calculate their position for a single time step. Below is a skeleton for our simulation class, it will be initialised with a list of particles, a number box_length and another number dt. It includes a method *step* which is where the action takes place. The step method should loop over every particle and update the particle's position using it's momentum and the time step dt.\n",
    "\n",
    "    class Simulation():\n",
    "        def __init__(self, particles, box_length, dt):\n",
    "            pass\n",
    "\n",
    "        def step(self):\n",
    "            pass"
   ]
  },
  {
   "cell_type": "markdown",
   "metadata": {},
   "source": [
    "Test your simulation class using the code below (we're printing out the y coordinate of the first particle at the start of the simulation and after we have updated the positions). Do you understand what's being printed out?"
   ]
  },
  {
   "cell_type": "code",
   "execution_count": 23,
   "metadata": {},
   "outputs": [
    {
     "name": "stdout",
     "output_type": "stream",
     "text": [
      "0\n",
      "1.0\n",
      "2.0\n"
     ]
    }
   ],
   "source": [
    "%run gas_2d.py\n",
    "\n",
    "particles = [Particle(Vector(0.5,0),Vector(0,1),1,1),\n",
    "             Particle(Vector(0.5,1),Vector(0,-1),1,1),\n",
    "             Particle(Vector(0,0), Vector(0.5,0.5),1,1)]\n",
    "\n",
    "s=Simulation(particles, 100,1)\n",
    "\n",
    "print(s.particles[0].position.y)\n",
    "s.step()\n",
    "print(s.particles[0].position.y)\n",
    "s.step()\n",
    "print(s.particles[0].position.y)"
   ]
  },
  {
   "cell_type": "markdown",
   "metadata": {},
   "source": [
    "## Recording the state of the simulation"
   ]
  },
  {
   "cell_type": "markdown",
   "metadata": {},
   "source": [
    "We also want to record the state of the particles so we can have a look at the trajectories our particles have taken during the simulation and process our data.\n",
    "\n",
    "The code below shows another simulation class skeleton, which has added a record_state method. This method should loop over each particle and append a copy of the particle to the state list. Once done it should append the state list to the trajectory attribute.\n",
    "\n",
    "You will want to call the record\\_state method in the initialization method such that the initial state of the system is the first element of the trajectory list. More importantly, you should call record\\_state at the end of step method so that every time we update the particles we record them. Update your Simulation class to include the record\\_state method and call it from your \\_\\_init\\_\\_ and step methods.\n",
    "\n",
    "    class Simulation():\n",
    "        def __init__(self, particles, box_length, dt):\n",
    "            self.trajectory = []\n",
    "\n",
    "        def step(self):\n",
    "            pass\n",
    "\n",
    "        def record_state(self):\n",
    "            state = []"
   ]
  },
  {
   "cell_type": "markdown",
   "metadata": {},
   "source": [
    "Test your code using the cell below:"
   ]
  },
  {
   "cell_type": "code",
   "execution_count": 5,
   "metadata": {},
   "outputs": [
    {
     "data": {
      "text/plain": [
       "<matplotlib.animation.FuncAnimation at 0x4972748>"
      ]
     },
     "execution_count": 5,
     "metadata": {},
     "output_type": "execute_result"
    }
   ],
   "source": [
    "%run gas_2d.py\n",
    "\n",
    "particles = [Particle(Vector(10,0),Vector(0,0.75),1,1),\n",
    "             Particle(Vector(50,10),Vector(0,0.5),1,1),\n",
    "             Particle(Vector(0,0), Vector(0.5,0.75),1,1)]\n",
    "\n",
    "no_steps = 300\n",
    "\n",
    "s=Simulation(particles, 100, 0.5)\n",
    "for i in range(no_steps):\n",
    "    s.step()\n",
    "\n",
    "animate_trajectory(s)"
   ]
  },
  {
   "cell_type": "markdown",
   "metadata": {},
   "source": [
    "## Generating initial conditions"
   ]
  },
  {
   "cell_type": "markdown",
   "metadata": {},
   "source": [
    "The outcome of each simulation will depend strongly on the initial state of the system. Note that each Simulation object is created with initial conditions specified by a list of particle objects.\n",
    "\n",
    "If we were to create a set of initial conditions with 100 particles, with radius and mass equal to 1, all equally spaced just above the bottom of the box, and with momentum with components along x and y equal to 0.5, we could write\n",
    "\n",
    "    box_length=500\n",
    "    N=100\n",
    "    init_ordered=[]\n",
    "    for p in range(1,N+1):\n",
    "        pos=Vector(p*(N-1)/box_length,2)\n",
    "        mom=Vector(0.5,0.5)\n",
    "        init_ordered.append(Particle(pos,mom,1,1))"
   ]
  },
  {
   "cell_type": "code",
   "execution_count": 22,
   "metadata": {
    "collapsed": true
   },
   "outputs": [],
   "source": [
    "box_length=500\n",
    "N=100\n",
    "init_ordered=[]\n",
    "for p in range(1,N+1):\n",
    "    pos=Vector(p*(N-1)/box_length,2)\n",
    "    mom=Vector(0.5,0.5)\n",
    "    init_ordered.append(Particle(pos,mom,1,1))"
   ]
  },
  {
   "cell_type": "markdown",
   "metadata": {},
   "source": [
    "Create a simulation object with the init_ordered list, make a few simulation steps, and look at your results with animate_trajectory()."
   ]
  },
  {
   "cell_type": "markdown",
   "metadata": {},
   "source": [
    "A useful set of initial conditions will be one where particles are randomly distributed in the box and random momenta in an interval \\[-p<sub>max</sub>,p<sub>max</sub>\\]. The [random()](http://docs.scipy.org/doc/numpy/reference/generated/numpy.random.random.html) function from numpy, which returns a random number between 0 and 1, is useful in this context.\n",
    "\n",
    "    from numpy.random import random\n",
    "    \n",
    "    box_length=500\n",
    "    N=100\n",
    "    radius=1\n",
    "    p_max=2\n",
    "    init_random=[]\n",
    "    for p in range(1,N+1):\n",
    "        pos_x=random()*(box_length-2*radius)+radius   #avoid initial position too close to the walls\n",
    "        pos_y=random()*(box_length-2*radius)+radius\n",
    "        pos=Vector(pos_x,pos_y)\n",
    "        mom_x=(random()-0.5)*2*p_max                  #allow for positive and negative momenta\n",
    "        mom_y=(random()-0.5)*2*p_max\n",
    "        mom=Vector(mom_x,mom_y)\n",
    "        init_random.append(Particle(pos,mom,radius,1))"
   ]
  },
  {
   "cell_type": "code",
   "execution_count": 6,
   "metadata": {
    "collapsed": true
   },
   "outputs": [],
   "source": [
    "from numpy.random import random\n",
    "\n",
    "box_length=500\n",
    "N=100\n",
    "radius=1\n",
    "p_max=2\n",
    "init_random=[]\n",
    "for p in range(1,N+1):\n",
    "    pos_x=random()*(box_length-2*radius)+radius   #avoid initial position too close to the walls\n",
    "    pos_y=random()*(box_length-2*radius)+radius\n",
    "    pos=Vector(pos_x,pos_y)\n",
    "    mom_x=(random()-0.5)*2*p_max                  #allow for positive and negative momenta\n",
    "    mom_y=(random()-0.5)*2*p_max\n",
    "    mom=Vector(mom_x,mom_y)\n",
    "    init_random.append(Particle(pos,mom,radius,1))"
   ]
  },
  {
   "cell_type": "markdown",
   "metadata": {},
   "source": [
    "Run a few time steps of a simulation initialized with init_random, and see the result of your simulation."
   ]
  },
  {
   "cell_type": "code",
   "execution_count": 26,
   "metadata": {},
   "outputs": [
    {
     "data": {
      "text/plain": [
       "<matplotlib.animation.FuncAnimation at 0x9c84940>"
      ]
     },
     "execution_count": 26,
     "metadata": {},
     "output_type": "execute_result"
    }
   ],
   "source": [
    "display_trajectory(init_random)"
   ]
  },
  {
   "cell_type": "markdown",
   "metadata": {},
   "source": [
    "You may find yourself using the random set of initial conditions often, so you may consider to define a function to generate these."
   ]
  },
  {
   "cell_type": "markdown",
   "metadata": {},
   "source": [
    "# Collisions"
   ]
  },
  {
   "cell_type": "markdown",
   "metadata": {},
   "source": [
    "We're making great progress but our simulation faces two problems:\n",
    "\n",
    "   * Our particles pass through the boundaries of our box\n",
    "   * Our particles pass through each other.\n",
    "   \n",
    "Let's focus on the boundaries problem to begin with. First execute the simple test we have below involving particles going through the boundary. We'll use this to test our code is behaving the way we want."
   ]
  },
  {
   "cell_type": "markdown",
   "metadata": {},
   "source": [
    "## Boundary Collision"
   ]
  },
  {
   "cell_type": "code",
   "execution_count": 27,
   "metadata": {},
   "outputs": [
    {
     "data": {
      "text/plain": [
       "<matplotlib.animation.FuncAnimation at 0xb178390>"
      ]
     },
     "execution_count": 27,
     "metadata": {},
     "output_type": "execute_result"
    }
   ],
   "source": [
    "def test_box():\n",
    "    '''Test case for particle collisions with boundary walls.\n",
    "    Generate 4 particles colliding with each wall and animate the result.'''\n",
    "    box_length = 100\n",
    "    no_steps = 300\n",
    "    \n",
    "    p1 = Particle(position=Vector(10,50), momentum=Vector(-1,0),radius=1,mass=1)\n",
    "    p2 = Particle(position=Vector(50,90), momentum=Vector(0,1) ,radius=1,mass=1)\n",
    "    p3 = Particle(position=Vector(50,10), momentum=Vector(0,-1),radius=1,mass=1)\n",
    "    p4 = Particle(position=Vector(90,50), momentum=Vector(1,0) ,radius=1,mass=1)\n",
    "\n",
    "    box_particles = [p1,p2,p3,p4]\n",
    "\n",
    "    s = Simulation(box_particles, box_length=100, dt=0.1)\n",
    "    for i in range(300):\n",
    "        s.step()\n",
    "    return animate_trajectory(s,loop=True)\n",
    "\n",
    "test_box()"
   ]
  },
  {
   "cell_type": "markdown",
   "metadata": {},
   "source": [
    "Ok, let's update our simulation class so that instead of passing through our box they bounce off the edges. Our simulation class will now make use of the previously unused attribute *box_length* and it will need an additional method *apply_box_collisions*.\n",
    "\n",
    "At the moment our particles' momenta remain unaltered no matter what happens. But we would like the momentum of a particle along the x-axis to reverse if it goes past the sides of our box, likewise we would like the momentum of a particle along the y-axis to reverse if it goes past the top or the bottom of our box.\n",
    "\n",
    "Try implementing an apply_box_collisions method as outlined in the skeleton below. This method will receive as its argument a particle and then it will check whether that particle is past the boundaries of the box and if it is change it's momentum accordingly.\n",
    "\n",
    "We'll then add in a call to apply_box_collisions in our step method that loops over all the particles.\n",
    "\n",
    "    class Simulation():\n",
    "        def __init__(self, particles, box_length, dt):        \n",
    "            pass\n",
    "\n",
    "        def apply_box_collisions(self, particle):\n",
    "            pass\n",
    "\n",
    "        def step(self):\n",
    "            pass\n",
    "\n",
    "        def record_state(self):\n",
    "            pass"
   ]
  },
  {
   "cell_type": "markdown",
   "metadata": {},
   "source": [
    "Test your simulation class by executing the cell below"
   ]
  },
  {
   "cell_type": "code",
   "execution_count": 29,
   "metadata": {},
   "outputs": [
    {
     "data": {
      "text/plain": [
       "<matplotlib.animation.FuncAnimation at 0x9560470>"
      ]
     },
     "execution_count": 29,
     "metadata": {},
     "output_type": "execute_result"
    }
   ],
   "source": [
    "%run gas_2d.py\n",
    "\n",
    "test_box()"
   ]
  },
  {
   "cell_type": "markdown",
   "metadata": {},
   "source": [
    "## Particle Collisions"
   ]
  },
  {
   "cell_type": "markdown",
   "metadata": {},
   "source": [
    "The final problem, and the most challenging is implementing inter-particle collisions.\n",
    "\n",
    "The following 2 test cases show us the problem which we will addressing."
   ]
  },
  {
   "cell_type": "code",
   "execution_count": 3,
   "metadata": {},
   "outputs": [
    {
     "data": {
      "text/plain": [
       "<matplotlib.animation.FuncAnimation at 0x2d6a02aae80>"
      ]
     },
     "execution_count": 3,
     "metadata": {},
     "output_type": "execute_result"
    }
   ],
   "source": [
    "def test_1d_collision():\n",
    "    '''Test case for particle collisions along the coordinate axis.\n",
    "    Animate 2 particles, one moving and one at rest, colling along the x axis.'''\n",
    "    box_length = 100\n",
    "    no_steps = 300\n",
    "\n",
    "    p1 = Particle(position = Vector(10,10), momentum=Vector(1,0),radius=1,mass=1)\n",
    "    p2 = Particle(position = Vector(20,10), momentum=Vector(0,0) ,radius=1,mass=1)\n",
    "    \n",
    "    test_case = [p1,p2]\n",
    "    s=Simulation(particles=test_case,box_length=100,dt=0.05)\n",
    "\n",
    "    for i in range(500):\n",
    "        s.step()\n",
    "    return animate_trajectory(s,loop=True)\n",
    "\n",
    "test_1d_collision()"
   ]
  },
  {
   "cell_type": "code",
   "execution_count": 12,
   "metadata": {},
   "outputs": [
    {
     "data": {
      "text/plain": [
       "<matplotlib.animation.FuncAnimation at 0x2d6a6fbed68>"
      ]
     },
     "execution_count": 12,
     "metadata": {},
     "output_type": "execute_result"
    }
   ],
   "source": [
    "def test_2d_collision():\n",
    "    '''Test case for general particle collisions in 2D.\n",
    "    Animate 2 particles, one moving and one at rest, colliding in a diagonal direction.'''\n",
    "    box_length = 100\n",
    "    no_steps = 300\n",
    "\n",
    "    p1 = Particle(position = Vector(10,10), momentum=Vector(1,0.5),radius=1,mass=1)\n",
    "    p2 = Particle(position = Vector(20,15), momentum=Vector(0,0) ,radius=1,mass=1)\n",
    "    \n",
    "    test_case = [p1,p2]\n",
    "    s=Simulation(particles=test_case,box_length=100,dt=0.05)\n",
    "\n",
    "    for i in range(500):\n",
    "        s.step()\n",
    "    return animate_trajectory(s,loop=True)\n",
    "\n",
    "test_2d_collision()"
   ]
  },
  {
   "cell_type": "markdown",
   "metadata": {},
   "source": [
    "### Enhancing the Particle class first"
   ]
  },
  {
   "cell_type": "markdown",
   "metadata": {},
   "source": [
    "One thing that will make our life easier is if we add another method to our particle class. In order to check whether two particles are going to collide we need to check whether they overlap. So we'll want to add an overlap method to our Particle class. This method will receive as it's second argument another particle (as always the first argument a method receives is always self). Our method will then return True if the distance between this other particle and itself is less than the sum of the two particle's radii otherwise it will return False. Extend the class in gas_2d.py in accordance with the class skeleton below:\n",
    "\n",
    "    class Particle():\n",
    "        def __init__(self, position, momentum, radius, mass):\n",
    "            pass\n",
    "\n",
    "        def velocity(self):\n",
    "            pass\n",
    "        \n",
    "        def copy(self):\n",
    "            pass\n",
    "            \n",
    "        def overlap(self, other_particle):\n",
    "            pass"
   ]
  },
  {
   "cell_type": "markdown",
   "metadata": {},
   "source": [
    "In the cell below create some particle objects and see if your overlap method behaves the way you expect it to."
   ]
  },
  {
   "cell_type": "code",
   "execution_count": 8,
   "metadata": {},
   "outputs": [
    {
     "data": {
      "text/plain": [
       "True"
      ]
     },
     "execution_count": 8,
     "metadata": {},
     "output_type": "execute_result"
    }
   ],
   "source": [
    "%run gas_2d\n",
    "p3=Particle(Vector(0,0), Vector(0,0),1,1)\n",
    "p4=Particle(Vector(0,0), Vector(0,0),1,1)\n",
    "p3.overlap(p4)\n"
   ]
  },
  {
   "cell_type": "markdown",
   "metadata": {},
   "source": [
    "### 1D collisions"
   ]
  },
  {
   "cell_type": "markdown",
   "metadata": {
    "collapsed": true
   },
   "source": [
    "Now we can think about the collisions themselves. We're going to focus on perfectly elastic collisions and to start with we are going to make two additional simplifications: \n",
    "\n",
    "* We're going to pretend for now that we're dealing with [1 dimensional particles](https://en.wikipedia.org/wiki/Elastic_collision#One-dimensional_Newtonian) that only move along the x-axis.\n",
    "* We're going to pretend that the masses of both particles are equal. \n",
    "\n",
    "Under these conditions the result of an elastic collision is that the momenta of the two particles simply swap over after the collision as illustrated from the following animation (by Simon Steinmann, on [wikimedia commons](https://commons.wikimedia.org/wiki/File:Elastischer_sto%C3%9F.gif)):\n",
    "\n",
    "<img src=https://upload.wikimedia.org/wikipedia/commons/c/c6/Elastischer_sto%C3%9F.gif />\n",
    "\n",
    "I.e.: \n",
    "$$\\vec{p}_1: m\\vec{v}_1 \\rightarrow m\\vec{v}_2$$ \n",
    "$$\\vec{p}_2: m\\vec{v}_2 \\rightarrow m\\vec{v}_1$$ "
   ]
  },
  {
   "cell_type": "markdown",
   "metadata": {},
   "source": [
    "Our particles are 2D as they have both x and y components for position and momentum, but if we make sure all the particles we're dealing with have the same y position and have 0 y momenta then they are effectively behaving like 1D particles.\n",
    "\n",
    "Add a method *apply_particle_collision* to your simulation class that receives as its arguments two particles and if they overlap alters their momentum along the x-axis in line with an elastic collision.\n",
    "\n",
    "\n",
    "    class Simulation():\n",
    "        def __init__(self, particles, dt, box_length):\n",
    "            pass\n",
    "\n",
    "        def apply_particle_collision(self, particle1, particle2):\n",
    "            pass\n",
    "\n",
    "        def apply_box_collisions(self, particle):\n",
    "            pass\n",
    "\n",
    "        def step(self):\n",
    "            pass\n",
    "\n",
    "        def record_state(self):\n",
    "            pass"
   ]
  },
  {
   "cell_type": "markdown",
   "metadata": {},
   "source": [
    "In the cell below create a few particle objects and check that your method behaves the way you expect it to."
   ]
  },
  {
   "cell_type": "code",
   "execution_count": 12,
   "metadata": {},
   "outputs": [
    {
     "data": {
      "text/plain": [
       "<matplotlib.animation.FuncAnimation at 0x90d1dd8>"
      ]
     },
     "execution_count": 12,
     "metadata": {},
     "output_type": "execute_result"
    }
   ],
   "source": [
    "% run gas_2d\n",
    "p5=Particle(Vector(0,0), Vector(1,0),1,1)\n",
    "p6=Particle(Vector(5,0), Vector(-1,0),1,1)\n",
    "ps=[p5,p6]\n",
    "s2=Simulation(ps, 20, 0.1)\n",
    "for i in range(500):\n",
    "    s2.step()\n",
    "animate_trajectory(s2,loop=True)"
   ]
  },
  {
   "cell_type": "markdown",
   "metadata": {},
   "source": [
    "Now we want our step method to apply particle collisions. But to do that we need to chack (loop over) all pairs of particles. Note that we want to avoid colliding particle i with particle j and then also separately colliding particle j with particle i (if we collide the same particles twice we will end up swapping their momenta twice, hence undoing the collision).\n",
    "\n",
    "There are several different ways of looping over pairs, but perhaps the easiest is to use the function **combinations** from the itertools library. See example below:"
   ]
  },
  {
   "cell_type": "code",
   "execution_count": 13,
   "metadata": {},
   "outputs": [
    {
     "name": "stdout",
     "output_type": "stream",
     "text": [
      "1 2\n",
      "1 3\n",
      "1 4\n",
      "1 5\n",
      "2 3\n",
      "2 4\n",
      "2 5\n",
      "3 4\n",
      "3 5\n",
      "4 5\n"
     ]
    }
   ],
   "source": [
    "from itertools import combinations\n",
    "\n",
    "example_list = [1,2,3,4,5]\n",
    "for p1,p2 in combinations(example_list,2):\n",
    "    print(p1,p2)"
   ]
  },
  {
   "cell_type": "markdown",
   "metadata": {},
   "source": [
    "Amend your step method so that it calls apply_particle_collision on all pairs of particles (you will need to import combinations at the top of your gas_2d.py file) and test your solution below:"
   ]
  },
  {
   "cell_type": "code",
   "execution_count": 16,
   "metadata": {},
   "outputs": [
    {
     "data": {
      "text/plain": [
       "<matplotlib.animation.FuncAnimation at 0xa970cf8>"
      ]
     },
     "execution_count": 16,
     "metadata": {},
     "output_type": "execute_result"
    }
   ],
   "source": [
    "%run gas_2d.py\n",
    "\n",
    "test_1d_collision()"
   ]
  },
  {
   "cell_type": "markdown",
   "metadata": {},
   "source": [
    "Before tackling 2D collisions, let us take a breath, for our enjoyment generate some particles and create a simulation object *sim_1d* with 200 time steps."
   ]
  },
  {
   "cell_type": "code",
   "execution_count": 21,
   "metadata": {
    "collapsed": true
   },
   "outputs": [],
   "source": [
    "particles = [Particle(Vector(0,0), Vector(2,0),1,1),\n",
    "            Particle(Vector(4,0), Vector(6,0),1,1),\n",
    "            Particle(Vector(7,0), Vector(1,0),1,1)]\n",
    "\n",
    "sim_1d = Simulation(particles,40,0.1)\n",
    "for step in range(200):\n",
    "    sim_1d.step()\n"
   ]
  },
  {
   "cell_type": "markdown",
   "metadata": {},
   "source": [
    "Animate your simulation in the cell below (your code can now simulate a 1D gas!):"
   ]
  },
  {
   "cell_type": "code",
   "execution_count": 22,
   "metadata": {},
   "outputs": [
    {
     "data": {
      "text/plain": [
       "<matplotlib.animation.FuncAnimation at 0xaa58b00>"
      ]
     },
     "execution_count": 22,
     "metadata": {},
     "output_type": "execute_result"
    }
   ],
   "source": [
    "animate_trajectory(sim_1d, loop=True)"
   ]
  },
  {
   "cell_type": "markdown",
   "metadata": {},
   "source": [
    "## 2D collisions"
   ]
  },
  {
   "cell_type": "markdown",
   "metadata": {},
   "source": [
    "Ok back to collisions! Currently we represent our momentum in terms of two directions x and y. What we're going to do for our 2D case is to work out a different representation of the momentum in terms of two different directions. We will choose these directions in such a way that the collision will leave the second component completely unchanged, this essentially turns the 2D problem into the 1D problem we already know how to solve.\n",
    "\n",
    "What are these two directions? The first is the inter-particle direction at the moment the collision take place. We'll call this the *collision axis*. The other will be at 90 degrees to the collision axis and we'll call the *orthogonal axis*.\n",
    "\n",
    "What we expect in our simplified case then is that following collision the components of the momentum of the particles along the collision axis will swap over whilst components along the  orthogonal axes will remain unchanged.\n",
    "\n",
    "To make this a bit clearer let's look at the following animation (by Simon Steinmann, from [wikimedia commons](https://commons.wikimedia.org/wiki/File:Elastischer_sto%C3%9F_2D.gif)):\n",
    "\n",
    "<img src=https://upload.wikimedia.org/wikipedia/commons/2/2c/Elastischer_sto%C3%9F_2D.gif />\n",
    "\n",
    "What you are seeing is one particle in motion and another at rest. At the point where the two particles collide, the animation displays the collision and orthogonal axes as perpendicular black lines. \n",
    "\n",
    "The momentum of the moving particle (displayed as a red arrow) is expressed as components along these two axes (these are displayed as two blue arrows).\n",
    "\n",
    "The stationary particle initially has no momentum, which means that both its collision and orthogonal component are initially zero.\n",
    "\n",
    "During the collision the two particles swap momenta along the collision axis.\n",
    "\n",
    "In the case illustrated, for the initially moving particle, the collision component of the momentum becomes zero, leaving only its initial orthogonal component contributing to the final momentum. \n",
    "\n",
    "For the initially stationary particle, the initial orthogonal component is zero so the final momentum is equal to the collision component of initially moving particle prior to collision.\n",
    "\n",
    "You may need to read this section a few times and stare at the animation for it to make sense. If after doing so it is still unclear please ask a demonstrator!"
   ]
  },
  {
   "cell_type": "markdown",
   "metadata": {},
   "source": [
    "### Projecting the momentum along the collision and orthogonal axes"
   ]
  },
  {
   "cell_type": "markdown",
   "metadata": {},
   "source": [
    "Luckily our vector class includes all the necessary methods to calculate the collision and orthogonal axes and express the momentum in terms of components along them."
   ]
  },
  {
   "cell_type": "markdown",
   "metadata": {},
   "source": [
    "To workout the component of a vector in the direction of a particular axis, we need only calculate the dot product of the vector with that particular axis (a scalar), multiplied by the axis vector itself. Shown below is a figure (by user Acdx, from [wikimedia commons](https://upload.wikimedia.org/wikipedia/commons/f/fd/3D_Vector.svg)) for a 3 dimensional vector **a**, axis vectors **i**,**j**, and **k** and vector components **a<sub>x</sub>**, **a<sub>y</sub>** and **a<sub>z</sub>**.\n",
    "\n",
    "<img src=\"https://upload.wikimedia.org/wikipedia/commons/f/fd/3D_Vector.svg\" />\n",
    "\n",
    "E.g. to calculate the component of a particular vector *vec* along the x-axis we would compute:\n",
    "    \n",
    "    vec = Vector(3,4)\n",
    "\n",
    "    xaxis = Vector(1,0)\n",
    "    vec_proj_x = xaxis * vec.dot(xaxis)\n",
    "    vec_proj_x"
   ]
  },
  {
   "cell_type": "code",
   "execution_count": 23,
   "metadata": {},
   "outputs": [
    {
     "data": {
      "text/plain": [
       "3 0"
      ]
     },
     "execution_count": 23,
     "metadata": {},
     "output_type": "execute_result"
    }
   ],
   "source": [
    "vec=Vector(3,4)\n",
    "xaxis=Vector(1,0)\n",
    "vec_proj_x=xaxis*vec.dot(xaxis)\n",
    "vec_proj_x"
   ]
  },
  {
   "cell_type": "markdown",
   "metadata": {},
   "source": [
    "Like wise to calculate the component of a vector *vec* along the y-axis we would compute:\n",
    "    \n",
    "    yaxis = Vector(0,1)\n",
    "    vec_proj_y = yaxis * vec.dot(yaxis)\n",
    "    vec_proj_y"
   ]
  },
  {
   "cell_type": "code",
   "execution_count": 24,
   "metadata": {},
   "outputs": [
    {
     "data": {
      "text/plain": [
       "0 4"
      ]
     },
     "execution_count": 24,
     "metadata": {},
     "output_type": "execute_result"
    }
   ],
   "source": [
    "yaxis = Vector(0,1)\n",
    "vec_proj_y = yaxis * vec.dot(yaxis)\n",
    "vec_proj_y"
   ]
  },
  {
   "cell_type": "markdown",
   "metadata": {},
   "source": [
    "Of course for x and y we have an easier option for working out the magnitude of along the x and y axes: we can simply use the .x and .y attributes. However this only works for x and y, whereas our general dot product approach works for any axes with might like to consider.\n",
    "\n",
    "    new_axis = Vector(0.6,0.8)\n",
    "    vec_proj_new_axis = new_axis * vec.dot(new_axis)\n",
    "    vec_proj_new_axis"
   ]
  },
  {
   "cell_type": "code",
   "execution_count": 25,
   "metadata": {},
   "outputs": [
    {
     "data": {
      "text/plain": [
       "3.0 4.0"
      ]
     },
     "execution_count": 25,
     "metadata": {},
     "output_type": "execute_result"
    }
   ],
   "source": [
    "new_axis = Vector(0.6,0.8)\n",
    "vec_proj_new_axis = new_axis * vec.dot(new_axis)\n",
    "vec_proj_new_axis"
   ]
  },
  {
   "cell_type": "markdown",
   "metadata": {},
   "source": [
    "An important point to bear in mind is that an axis vector **must always have a length of 1**. If we have a vector whose direction we would like to use as an axis, we must first normalise it such that it's length is 1 leaving its direction unchanged. To do this we divide the vector by its own length:\n",
    "\n",
    "    normalised_vec = vec/vec.norm()\n",
    "    print(vec)\n",
    "    print(normalised_vec)"
   ]
  },
  {
   "cell_type": "code",
   "execution_count": 27,
   "metadata": {},
   "outputs": [
    {
     "name": "stdout",
     "output_type": "stream",
     "text": [
      "3 4\n",
      "0.6 0.8\n"
     ]
    }
   ],
   "source": [
    "normalised_vec = vec/vec.norm()\n",
    "print(vec)\n",
    "print(normalised_vec)"
   ]
  },
  {
   "cell_type": "markdown",
   "metadata": {},
   "source": [
    "Having chosen one axis, we can work out the component in the direction perpendicular to it by subtracting the component along our chosen axis from our initial vector.\n",
    "\n",
    "    new_xaxis = Vector(0.6,0.8)\n",
    "    vec_proj_newx = new_xaxis * vec.dot(new_xaxis)\n",
    "    vec_proj_newy = vec - vec_proj_newx"
   ]
  },
  {
   "cell_type": "code",
   "execution_count": 29,
   "metadata": {},
   "outputs": [
    {
     "name": "stdout",
     "output_type": "stream",
     "text": [
      "3.0 4.0\n",
      "0.0 0.0\n"
     ]
    }
   ],
   "source": [
    "new_xaxis = Vector(0.6,0.8)\n",
    "vec_proj_newx = new_xaxis * vec.dot(new_xaxis)\n",
    "vec_proj_newy = vec - vec_proj_newx\n",
    "print(vec_proj_newx)\n",
    "print(vec_proj_newy)"
   ]
  },
  {
   "cell_type": "markdown",
   "metadata": {},
   "source": [
    "We now have assembled all the pieces we need to update our apply_particle_collision method for 2D collisions.\n",
    "\n",
    "For colliding particles you will want to: \n",
    "\n",
    "* compute the collision axis\n",
    "* compute the projection of the momentum onto the collision and orthogonal axes\n",
    "* update the collision projected momentum\n",
    "* compute the new total momentum\n",
    "\n",
    "Have a go updating your simulation class then execute the cell below to test your code."
   ]
  },
  {
   "cell_type": "code",
   "execution_count": 2,
   "metadata": {},
   "outputs": [
    {
     "ename": "NameError",
     "evalue": "name 'test_2d_collision' is not defined",
     "output_type": "error",
     "traceback": [
      "\u001b[1;31m---------------------------------------------------------------------------\u001b[0m",
      "\u001b[1;31mNameError\u001b[0m                                 Traceback (most recent call last)",
      "\u001b[1;32m<ipython-input-2-b890bcf5b4c4>\u001b[0m in \u001b[0;36m<module>\u001b[1;34m()\u001b[0m\n\u001b[0;32m      1\u001b[0m \u001b[0mget_ipython\u001b[0m\u001b[1;33m(\u001b[0m\u001b[1;33m)\u001b[0m\u001b[1;33m.\u001b[0m\u001b[0mmagic\u001b[0m\u001b[1;33m(\u001b[0m\u001b[1;34m'run gas_2d.py'\u001b[0m\u001b[1;33m)\u001b[0m\u001b[1;33m\u001b[0m\u001b[0m\n\u001b[0;32m      2\u001b[0m \u001b[1;33m\u001b[0m\u001b[0m\n\u001b[1;32m----> 3\u001b[1;33m \u001b[0mtest_2d_collision\u001b[0m\u001b[1;33m(\u001b[0m\u001b[1;33m)\u001b[0m\u001b[1;33m\u001b[0m\u001b[0m\n\u001b[0m",
      "\u001b[1;31mNameError\u001b[0m: name 'test_2d_collision' is not defined"
     ]
    }
   ],
   "source": [
    "%run gas_2d.py\n",
    "\n",
    "test_2d_collision()"
   ]
  },
  {
   "cell_type": "markdown",
   "metadata": {},
   "source": [
    "Fantastic, we can simulate 2D collisions!"
   ]
  },
  {
   "cell_type": "markdown",
   "metadata": {},
   "source": [
    "## Fixing a bug"
   ]
  },
  {
   "cell_type": "markdown",
   "metadata": {},
   "source": [
    "We've tested our code in the most obvious way but there is a final test case we need to take a look at.\n",
    "\n",
    "Execute the cell below and watch the animation of the simulation. What do you think is going on?"
   ]
  },
  {
   "cell_type": "code",
   "execution_count": 4,
   "metadata": {},
   "outputs": [
    {
     "data": {
      "text/plain": [
       "<matplotlib.animation.FuncAnimation at 0x91f50f0>"
      ]
     },
     "execution_count": 4,
     "metadata": {},
     "output_type": "execute_result"
    }
   ],
   "source": [
    "def test_collision_bug():\n",
    "    '''Test case for sticking particles bug. Animate the collision of 5 particles\n",
    "    that could result in particles trapping each other.'''\n",
    "    box_length = 100\n",
    "    no_steps = 300\n",
    "\n",
    "    p1 = Particle(position = Vector(45,50), momentum=Vector(1,1),radius=3,mass=1)\n",
    "    p2 = Particle(position = Vector(55,60), momentum=Vector(0,0) ,radius=3,mass=1)\n",
    "    p3 = Particle(position = Vector(35,39.75), momentum=Vector(2,2),radius=3,mass=1)\n",
    "    p4 = Particle(position = Vector(65,70.25), momentum=Vector(-1,-1),radius=3,mass=1)\n",
    "    p5 = Particle(position = Vector(54,30), momentum=Vector(0.5,2.5),radius=3,mass=1)\n",
    "    \n",
    "    test_case = [p1,p2,p3,p4,p5]\n",
    "    \n",
    "    s=Simulation(particles=test_case,box_length=100,dt=0.25)\n",
    "\n",
    "    for i in range(500):\n",
    "        s.step()\n",
    "    return animate_trajectory(s,loop=True, interval=85)\n",
    "\n",
    "test_collision_bug()"
   ]
  },
  {
   "cell_type": "markdown",
   "metadata": {},
   "source": [
    "Our particles are binding even though we haven't implemented atractive interactions?! What the juice?\n",
    "\n",
    "Think about what would happen if you initialised your particles so that they started off moving slowly but already overlapping with one another? What would happen to their momenta on every step?\n",
    "\n",
    "To solve this problem we need to check whether or not two particles are actually moving towards one another before deciding to collide them. As you know how to determine the the momentum components along the collision axis, you should be able to add a check to make sure they are moving towards each other prior to switching their momenta.\n",
    "\n",
    "The same problem can manifest along the boundaries (where particles can also get stuck) so you'll want to apply the same solution to your box_collisions method. Modify *apply_box_collisions* and *apply_particle_collisions* to solve the bug and test your solution below:"
   ]
  },
  {
   "cell_type": "code",
   "execution_count": 8,
   "metadata": {},
   "outputs": [
    {
     "data": {
      "text/plain": [
       "<matplotlib.animation.FuncAnimation at 0x2d6a2a07a20>"
      ]
     },
     "execution_count": 8,
     "metadata": {},
     "output_type": "execute_result"
    }
   ],
   "source": [
    "%run gas_2d.py\n",
    "\n",
    "test_collision_bug()"
   ]
  },
  {
   "cell_type": "markdown",
   "metadata": {},
   "source": [
    "**Congratulations you've written a particle simulation!**\n",
    "\n",
    "Try out simulations with different initial conditions to see what happens. (Warning if you create a simulation with too many particles it will take a long time to run!)"
   ]
  },
  {
   "cell_type": "code",
   "execution_count": null,
   "metadata": {
    "collapsed": true
   },
   "outputs": [],
   "source": []
  },
  {
   "cell_type": "markdown",
   "metadata": {},
   "source": [
    "## Allowing for particles with different masses"
   ]
  },
  {
   "cell_type": "markdown",
   "metadata": {},
   "source": [
    "This part of the project offers less guidance, so you're on your own from here!"
   ]
  },
  {
   "cell_type": "markdown",
   "metadata": {},
   "source": [
    "We have assumed so far that all particles have the same mass and hence that:\n",
    "\n",
    "$$\\vec{p'}_1 = \\vec{p}_2 $$\n",
    "$$\\vec{p'}_2 = \\vec{p}_1 $$\n",
    "\n",
    "where the subscripts indicate the particle. $\\vec{p'}$ is the momentum after the collision and $\\vec{p}$ is the momentum before the collision.\n",
    "\n",
    "But there is no reason to make this assumption. The correct formula for a 1D collision in the case of different particle masses is:\n",
    "    \n",
    "$$\\vec{p'}_1 = \\frac{(m_1-m_2)\\vec{p}_1+2m_1\\vec{p}_2}{m_1+m_2}$$\n",
    "$$\\vec{p'}_2 = \\frac{(m_2-m_1)\\vec{p}_2+2m_2\\vec{p}_1}{m_1+m_2}$$\n",
    "\n",
    "Update your Simulation so that it can handle cases where particles have different masses and test it out on a suitable test case of your own devising."
   ]
  },
  {
   "cell_type": "code",
   "execution_count": 9,
   "metadata": {},
   "outputs": [
    {
     "data": {
      "text/plain": [
       "<matplotlib.animation.FuncAnimation at 0x2d6a322da90>"
      ]
     },
     "execution_count": 9,
     "metadata": {},
     "output_type": "execute_result"
    }
   ],
   "source": [
    "%run gas_2d\n",
    "def test_collision3():\n",
    "    '''Test case for sticking particles bug. Animate the collision of 5 particles\n",
    "    that could result in particles trapping each other.'''\n",
    "    box_length = 100\n",
    "    no_steps = 300\n",
    "\n",
    "    p1 = Particle(position = Vector(45,50), momentum=Vector(1,1),radius=3,mass=3)\n",
    "    p2 = Particle(position = Vector(55,60), momentum=Vector(0,0) ,radius=3,mass=2)\n",
    "    p3 = Particle(position = Vector(35,39.75), momentum=Vector(2,2),radius=3,mass=1)\n",
    "    p4 = Particle(position = Vector(65,70.25), momentum=Vector(-1,-1),radius=3,mass=4)\n",
    "    p5 = Particle(position = Vector(54,30), momentum=Vector(0.5,2.5),radius=3,mass=5)\n",
    "    \n",
    "    test_case = [p1,p2,p3,p4,p5]\n",
    "    \n",
    "    s=Simulation(particles=test_case,box_length=100,dt=0.25)\n",
    "\n",
    "    for i in range(500):\n",
    "        s.step()\n",
    "    return animate_trajectory(s,loop=True, interval=85)\n",
    "\n",
    "test_collision3()"
   ]
  },
  {
   "cell_type": "markdown",
   "metadata": {},
   "source": [
    "## Generating a longer simulation"
   ]
  },
  {
   "cell_type": "markdown",
   "metadata": {},
   "source": [
    "Our goal is to generate a larger simulation to try to derive some statistical information of the system. You might have noticed from your trials however that these simulations are somewhat slow. Yes, Python does not generate the fastest programs.\n",
    "\n",
    "We have tried some black magic by coding special fast Vector and Particle classes. If they load, your simulations may accelerate significantly."
   ]
  },
  {
   "cell_type": "code",
   "execution_count": 14,
   "metadata": {},
   "outputs": [
    {
     "ename": "ImportError",
     "evalue": "Building module fast_classes failed: ['distutils.errors.DistutilsPlatformError: Unable to find vcvarsall.bat\\n']",
     "output_type": "error",
     "traceback": [
      "\u001b[1;31m---------------------------------------------------------------------------\u001b[0m",
      "\u001b[1;31mDistutilsPlatformError\u001b[0m                    Traceback (most recent call last)",
      "\u001b[1;32m~\\Anaconda3\\lib\\site-packages\\pyximport\\pyximport.py\u001b[0m in \u001b[0;36mload_module\u001b[1;34m(name, pyxfilename, pyxbuild_dir, is_package, build_inplace, language_level, so_path)\u001b[0m\n\u001b[0;32m    214\u001b[0m             so_path = build_module(module_name, pyxfilename, pyxbuild_dir,\n\u001b[1;32m--> 215\u001b[1;33m                                    inplace=build_inplace, language_level=language_level)\n\u001b[0m\u001b[0;32m    216\u001b[0m         \u001b[0mmod\u001b[0m \u001b[1;33m=\u001b[0m \u001b[0mimp\u001b[0m\u001b[1;33m.\u001b[0m\u001b[0mload_dynamic\u001b[0m\u001b[1;33m(\u001b[0m\u001b[0mname\u001b[0m\u001b[1;33m,\u001b[0m \u001b[0mso_path\u001b[0m\u001b[1;33m)\u001b[0m\u001b[1;33m\u001b[0m\u001b[0m\n",
      "\u001b[1;32m~\\Anaconda3\\lib\\site-packages\\pyximport\\pyximport.py\u001b[0m in \u001b[0;36mbuild_module\u001b[1;34m(name, pyxfilename, pyxbuild_dir, inplace, language_level)\u001b[0m\n\u001b[0;32m    190\u001b[0m                                   \u001b[0minplace\u001b[0m\u001b[1;33m=\u001b[0m\u001b[0minplace\u001b[0m\u001b[1;33m,\u001b[0m\u001b[1;33m\u001b[0m\u001b[0m\n\u001b[1;32m--> 191\u001b[1;33m                                   reload_support=pyxargs.reload_support)\n\u001b[0m\u001b[0;32m    192\u001b[0m     \u001b[1;32massert\u001b[0m \u001b[0mos\u001b[0m\u001b[1;33m.\u001b[0m\u001b[0mpath\u001b[0m\u001b[1;33m.\u001b[0m\u001b[0mexists\u001b[0m\u001b[1;33m(\u001b[0m\u001b[0mso_path\u001b[0m\u001b[1;33m)\u001b[0m\u001b[1;33m,\u001b[0m \u001b[1;34m\"Cannot find: %s\"\u001b[0m \u001b[1;33m%\u001b[0m \u001b[0mso_path\u001b[0m\u001b[1;33m\u001b[0m\u001b[0m\n",
      "\u001b[1;32m~\\Anaconda3\\lib\\site-packages\\pyximport\\pyxbuild.py\u001b[0m in \u001b[0;36mpyx_to_dll\u001b[1;34m(filename, ext, force_rebuild, build_in_temp, pyxbuild_dir, setup_args, reload_support, inplace)\u001b[0m\n\u001b[0;32m    101\u001b[0m         \u001b[0mobj_build_ext\u001b[0m \u001b[1;33m=\u001b[0m \u001b[0mdist\u001b[0m\u001b[1;33m.\u001b[0m\u001b[0mget_command_obj\u001b[0m\u001b[1;33m(\u001b[0m\u001b[1;34m\"build_ext\"\u001b[0m\u001b[1;33m)\u001b[0m\u001b[1;33m\u001b[0m\u001b[0m\n\u001b[1;32m--> 102\u001b[1;33m         \u001b[0mdist\u001b[0m\u001b[1;33m.\u001b[0m\u001b[0mrun_commands\u001b[0m\u001b[1;33m(\u001b[0m\u001b[1;33m)\u001b[0m\u001b[1;33m\u001b[0m\u001b[0m\n\u001b[0m\u001b[0;32m    103\u001b[0m         \u001b[0mso_path\u001b[0m \u001b[1;33m=\u001b[0m \u001b[0mobj_build_ext\u001b[0m\u001b[1;33m.\u001b[0m\u001b[0mget_outputs\u001b[0m\u001b[1;33m(\u001b[0m\u001b[1;33m)\u001b[0m\u001b[1;33m[\u001b[0m\u001b[1;36m0\u001b[0m\u001b[1;33m]\u001b[0m\u001b[1;33m\u001b[0m\u001b[0m\n",
      "\u001b[1;32m~\\Anaconda3\\lib\\distutils\\dist.py\u001b[0m in \u001b[0;36mrun_commands\u001b[1;34m(self)\u001b[0m\n\u001b[0;32m    954\u001b[0m         \u001b[1;32mfor\u001b[0m \u001b[0mcmd\u001b[0m \u001b[1;32min\u001b[0m \u001b[0mself\u001b[0m\u001b[1;33m.\u001b[0m\u001b[0mcommands\u001b[0m\u001b[1;33m:\u001b[0m\u001b[1;33m\u001b[0m\u001b[0m\n\u001b[1;32m--> 955\u001b[1;33m             \u001b[0mself\u001b[0m\u001b[1;33m.\u001b[0m\u001b[0mrun_command\u001b[0m\u001b[1;33m(\u001b[0m\u001b[0mcmd\u001b[0m\u001b[1;33m)\u001b[0m\u001b[1;33m\u001b[0m\u001b[0m\n\u001b[0m\u001b[0;32m    956\u001b[0m \u001b[1;33m\u001b[0m\u001b[0m\n",
      "\u001b[1;32m~\\Anaconda3\\lib\\distutils\\dist.py\u001b[0m in \u001b[0;36mrun_command\u001b[1;34m(self, command)\u001b[0m\n\u001b[0;32m    973\u001b[0m         \u001b[0mcmd_obj\u001b[0m\u001b[1;33m.\u001b[0m\u001b[0mensure_finalized\u001b[0m\u001b[1;33m(\u001b[0m\u001b[1;33m)\u001b[0m\u001b[1;33m\u001b[0m\u001b[0m\n\u001b[1;32m--> 974\u001b[1;33m         \u001b[0mcmd_obj\u001b[0m\u001b[1;33m.\u001b[0m\u001b[0mrun\u001b[0m\u001b[1;33m(\u001b[0m\u001b[1;33m)\u001b[0m\u001b[1;33m\u001b[0m\u001b[0m\n\u001b[0m\u001b[0;32m    975\u001b[0m         \u001b[0mself\u001b[0m\u001b[1;33m.\u001b[0m\u001b[0mhave_run\u001b[0m\u001b[1;33m[\u001b[0m\u001b[0mcommand\u001b[0m\u001b[1;33m]\u001b[0m \u001b[1;33m=\u001b[0m \u001b[1;36m1\u001b[0m\u001b[1;33m\u001b[0m\u001b[0m\n",
      "\u001b[1;32m~\\Anaconda3\\lib\\site-packages\\Cython\\Distutils\\old_build_ext.py\u001b[0m in \u001b[0;36mrun\u001b[1;34m(self)\u001b[0m\n\u001b[0;32m    184\u001b[0m \u001b[1;33m\u001b[0m\u001b[0m\n\u001b[1;32m--> 185\u001b[1;33m         \u001b[0m_build_ext\u001b[0m\u001b[1;33m.\u001b[0m\u001b[0mbuild_ext\u001b[0m\u001b[1;33m.\u001b[0m\u001b[0mrun\u001b[0m\u001b[1;33m(\u001b[0m\u001b[0mself\u001b[0m\u001b[1;33m)\u001b[0m\u001b[1;33m\u001b[0m\u001b[0m\n\u001b[0m\u001b[0;32m    186\u001b[0m \u001b[1;33m\u001b[0m\u001b[0m\n",
      "\u001b[1;32m~\\Anaconda3\\lib\\distutils\\command\\build_ext.py\u001b[0m in \u001b[0;36mrun\u001b[1;34m(self)\u001b[0m\n\u001b[0;32m    338\u001b[0m         \u001b[1;31m# Now actually compile and link everything.\u001b[0m\u001b[1;33m\u001b[0m\u001b[1;33m\u001b[0m\u001b[0m\n\u001b[1;32m--> 339\u001b[1;33m         \u001b[0mself\u001b[0m\u001b[1;33m.\u001b[0m\u001b[0mbuild_extensions\u001b[0m\u001b[1;33m(\u001b[0m\u001b[1;33m)\u001b[0m\u001b[1;33m\u001b[0m\u001b[0m\n\u001b[0m\u001b[0;32m    340\u001b[0m \u001b[1;33m\u001b[0m\u001b[0m\n",
      "\u001b[1;32m~\\Anaconda3\\lib\\site-packages\\Cython\\Distutils\\old_build_ext.py\u001b[0m in \u001b[0;36mbuild_extensions\u001b[1;34m(self)\u001b[0m\n\u001b[0;32m    192\u001b[0m             \u001b[0mext\u001b[0m\u001b[1;33m.\u001b[0m\u001b[0msources\u001b[0m \u001b[1;33m=\u001b[0m \u001b[0mself\u001b[0m\u001b[1;33m.\u001b[0m\u001b[0mcython_sources\u001b[0m\u001b[1;33m(\u001b[0m\u001b[0mext\u001b[0m\u001b[1;33m.\u001b[0m\u001b[0msources\u001b[0m\u001b[1;33m,\u001b[0m \u001b[0mext\u001b[0m\u001b[1;33m)\u001b[0m\u001b[1;33m\u001b[0m\u001b[0m\n\u001b[1;32m--> 193\u001b[1;33m             \u001b[0mself\u001b[0m\u001b[1;33m.\u001b[0m\u001b[0mbuild_extension\u001b[0m\u001b[1;33m(\u001b[0m\u001b[0mext\u001b[0m\u001b[1;33m)\u001b[0m\u001b[1;33m\u001b[0m\u001b[0m\n\u001b[0m\u001b[0;32m    194\u001b[0m \u001b[1;33m\u001b[0m\u001b[0m\n",
      "\u001b[1;32m~\\Anaconda3\\lib\\distutils\\command\\build_ext.py\u001b[0m in \u001b[0;36mbuild_extension\u001b[1;34m(self, ext)\u001b[0m\n\u001b[0;32m    532\u001b[0m                                          \u001b[0mextra_postargs\u001b[0m\u001b[1;33m=\u001b[0m\u001b[0mextra_args\u001b[0m\u001b[1;33m,\u001b[0m\u001b[1;33m\u001b[0m\u001b[0m\n\u001b[1;32m--> 533\u001b[1;33m                                          depends=ext.depends)\n\u001b[0m\u001b[0;32m    534\u001b[0m \u001b[1;33m\u001b[0m\u001b[0m\n",
      "\u001b[1;32m~\\Anaconda3\\lib\\distutils\\_msvccompiler.py\u001b[0m in \u001b[0;36mcompile\u001b[1;34m(self, sources, output_dir, macros, include_dirs, debug, extra_preargs, extra_postargs, depends)\u001b[0m\n\u001b[0;32m    344\u001b[0m         \u001b[1;32mif\u001b[0m \u001b[1;32mnot\u001b[0m \u001b[0mself\u001b[0m\u001b[1;33m.\u001b[0m\u001b[0minitialized\u001b[0m\u001b[1;33m:\u001b[0m\u001b[1;33m\u001b[0m\u001b[0m\n\u001b[1;32m--> 345\u001b[1;33m             \u001b[0mself\u001b[0m\u001b[1;33m.\u001b[0m\u001b[0minitialize\u001b[0m\u001b[1;33m(\u001b[0m\u001b[1;33m)\u001b[0m\u001b[1;33m\u001b[0m\u001b[0m\n\u001b[0m\u001b[0;32m    346\u001b[0m         compile_info = self._setup_compile(output_dir, macros, include_dirs,\n",
      "\u001b[1;32m~\\Anaconda3\\lib\\distutils\\_msvccompiler.py\u001b[0m in \u001b[0;36minitialize\u001b[1;34m(self, plat_name)\u001b[0m\n\u001b[0;32m    237\u001b[0m \u001b[1;33m\u001b[0m\u001b[0m\n\u001b[1;32m--> 238\u001b[1;33m         \u001b[0mvc_env\u001b[0m \u001b[1;33m=\u001b[0m \u001b[0m_get_vc_env\u001b[0m\u001b[1;33m(\u001b[0m\u001b[0mplat_spec\u001b[0m\u001b[1;33m)\u001b[0m\u001b[1;33m\u001b[0m\u001b[0m\n\u001b[0m\u001b[0;32m    239\u001b[0m         \u001b[1;32mif\u001b[0m \u001b[1;32mnot\u001b[0m \u001b[0mvc_env\u001b[0m\u001b[1;33m:\u001b[0m\u001b[1;33m\u001b[0m\u001b[0m\n",
      "\u001b[1;32m~\\Anaconda3\\lib\\distutils\\_msvccompiler.py\u001b[0m in \u001b[0;36m_get_vc_env\u001b[1;34m(plat_spec)\u001b[0m\n\u001b[0;32m    133\u001b[0m     \u001b[1;32mif\u001b[0m \u001b[1;32mnot\u001b[0m \u001b[0mvcvarsall\u001b[0m\u001b[1;33m:\u001b[0m\u001b[1;33m\u001b[0m\u001b[0m\n\u001b[1;32m--> 134\u001b[1;33m         \u001b[1;32mraise\u001b[0m \u001b[0mDistutilsPlatformError\u001b[0m\u001b[1;33m(\u001b[0m\u001b[1;34m\"Unable to find vcvarsall.bat\"\u001b[0m\u001b[1;33m)\u001b[0m\u001b[1;33m\u001b[0m\u001b[0m\n\u001b[0m\u001b[0;32m    135\u001b[0m \u001b[1;33m\u001b[0m\u001b[0m\n",
      "\u001b[1;31mDistutilsPlatformError\u001b[0m: Unable to find vcvarsall.bat",
      "\nDuring handling of the above exception, another exception occurred:\n",
      "\u001b[1;31mImportError\u001b[0m                               Traceback (most recent call last)",
      "\u001b[1;32m<ipython-input-14-a3ca38bb6a54>\u001b[0m in \u001b[0;36m<module>\u001b[1;34m()\u001b[0m\n\u001b[0;32m      2\u001b[0m \u001b[0mpyximport\u001b[0m\u001b[1;33m.\u001b[0m\u001b[0minstall\u001b[0m\u001b[1;33m(\u001b[0m\u001b[1;33m)\u001b[0m\u001b[1;33m\u001b[0m\u001b[0m\n\u001b[0;32m      3\u001b[0m \u001b[1;33m\u001b[0m\u001b[0m\n\u001b[1;32m----> 4\u001b[1;33m \u001b[1;32mfrom\u001b[0m \u001b[0mfast_classes\u001b[0m \u001b[1;32mimport\u001b[0m \u001b[0mVector\u001b[0m\u001b[1;33m,\u001b[0m\u001b[0mParticle\u001b[0m\u001b[1;33m\u001b[0m\u001b[0m\n\u001b[0m",
      "\u001b[1;32m~\\Anaconda3\\lib\\site-packages\\pyximport\\pyximport.py\u001b[0m in \u001b[0;36mload_module\u001b[1;34m(self, fullname)\u001b[0m\n\u001b[0;32m    456\u001b[0m                                  \u001b[0mself\u001b[0m\u001b[1;33m.\u001b[0m\u001b[0mpyxbuild_dir\u001b[0m\u001b[1;33m,\u001b[0m\u001b[1;33m\u001b[0m\u001b[0m\n\u001b[0;32m    457\u001b[0m                                  \u001b[0mbuild_inplace\u001b[0m\u001b[1;33m=\u001b[0m\u001b[0mself\u001b[0m\u001b[1;33m.\u001b[0m\u001b[0minplace\u001b[0m\u001b[1;33m,\u001b[0m\u001b[1;33m\u001b[0m\u001b[0m\n\u001b[1;32m--> 458\u001b[1;33m                                  language_level=self.language_level)\n\u001b[0m\u001b[0;32m    459\u001b[0m         \u001b[1;32mreturn\u001b[0m \u001b[0mmodule\u001b[0m\u001b[1;33m\u001b[0m\u001b[0m\n\u001b[0;32m    460\u001b[0m \u001b[1;33m\u001b[0m\u001b[0m\n",
      "\u001b[1;32m~\\Anaconda3\\lib\\site-packages\\pyximport\\pyximport.py\u001b[0m in \u001b[0;36mload_module\u001b[1;34m(name, pyxfilename, pyxbuild_dir, is_package, build_inplace, language_level, so_path)\u001b[0m\n\u001b[0;32m    229\u001b[0m                 name, traceback.format_exception_only(*sys.exc_info()[:2])))\n\u001b[0;32m    230\u001b[0m             \u001b[1;32mif\u001b[0m \u001b[0msys\u001b[0m\u001b[1;33m.\u001b[0m\u001b[0mversion_info\u001b[0m\u001b[1;33m[\u001b[0m\u001b[1;36m0\u001b[0m\u001b[1;33m]\u001b[0m \u001b[1;33m>=\u001b[0m \u001b[1;36m3\u001b[0m\u001b[1;33m:\u001b[0m\u001b[1;33m\u001b[0m\u001b[0m\n\u001b[1;32m--> 231\u001b[1;33m                 \u001b[1;32mraise\u001b[0m \u001b[0mexc\u001b[0m\u001b[1;33m.\u001b[0m\u001b[0mwith_traceback\u001b[0m\u001b[1;33m(\u001b[0m\u001b[0mtb\u001b[0m\u001b[1;33m)\u001b[0m\u001b[1;33m\u001b[0m\u001b[0m\n\u001b[0m\u001b[0;32m    232\u001b[0m             \u001b[1;32melse\u001b[0m\u001b[1;33m:\u001b[0m\u001b[1;33m\u001b[0m\u001b[0m\n\u001b[0;32m    233\u001b[0m                 \u001b[0mexec\u001b[0m\u001b[1;33m(\u001b[0m\u001b[1;34m\"raise exc, None, tb\"\u001b[0m\u001b[1;33m,\u001b[0m \u001b[1;33m{\u001b[0m\u001b[1;34m'exc'\u001b[0m\u001b[1;33m:\u001b[0m \u001b[0mexc\u001b[0m\u001b[1;33m,\u001b[0m \u001b[1;34m'tb'\u001b[0m\u001b[1;33m:\u001b[0m \u001b[0mtb\u001b[0m\u001b[1;33m}\u001b[0m\u001b[1;33m)\u001b[0m\u001b[1;33m\u001b[0m\u001b[0m\n",
      "\u001b[1;32m~\\Anaconda3\\lib\\site-packages\\pyximport\\pyximport.py\u001b[0m in \u001b[0;36mload_module\u001b[1;34m(name, pyxfilename, pyxbuild_dir, is_package, build_inplace, language_level, so_path)\u001b[0m\n\u001b[0;32m    213\u001b[0m                 \u001b[0mmodule_name\u001b[0m \u001b[1;33m=\u001b[0m \u001b[0mname\u001b[0m\u001b[1;33m\u001b[0m\u001b[0m\n\u001b[0;32m    214\u001b[0m             so_path = build_module(module_name, pyxfilename, pyxbuild_dir,\n\u001b[1;32m--> 215\u001b[1;33m                                    inplace=build_inplace, language_level=language_level)\n\u001b[0m\u001b[0;32m    216\u001b[0m         \u001b[0mmod\u001b[0m \u001b[1;33m=\u001b[0m \u001b[0mimp\u001b[0m\u001b[1;33m.\u001b[0m\u001b[0mload_dynamic\u001b[0m\u001b[1;33m(\u001b[0m\u001b[0mname\u001b[0m\u001b[1;33m,\u001b[0m \u001b[0mso_path\u001b[0m\u001b[1;33m)\u001b[0m\u001b[1;33m\u001b[0m\u001b[0m\n\u001b[0;32m    217\u001b[0m         \u001b[1;32mif\u001b[0m \u001b[0mis_package\u001b[0m \u001b[1;32mand\u001b[0m \u001b[1;32mnot\u001b[0m \u001b[0mhasattr\u001b[0m\u001b[1;33m(\u001b[0m\u001b[0mmod\u001b[0m\u001b[1;33m,\u001b[0m \u001b[1;34m'__path__'\u001b[0m\u001b[1;33m)\u001b[0m\u001b[1;33m:\u001b[0m\u001b[1;33m\u001b[0m\u001b[0m\n",
      "\u001b[1;32m~\\Anaconda3\\lib\\site-packages\\pyximport\\pyximport.py\u001b[0m in \u001b[0;36mbuild_module\u001b[1;34m(name, pyxfilename, pyxbuild_dir, inplace, language_level)\u001b[0m\n\u001b[0;32m    189\u001b[0m                                   \u001b[0msetup_args\u001b[0m\u001b[1;33m=\u001b[0m\u001b[0msargs\u001b[0m\u001b[1;33m,\u001b[0m\u001b[1;33m\u001b[0m\u001b[0m\n\u001b[0;32m    190\u001b[0m                                   \u001b[0minplace\u001b[0m\u001b[1;33m=\u001b[0m\u001b[0minplace\u001b[0m\u001b[1;33m,\u001b[0m\u001b[1;33m\u001b[0m\u001b[0m\n\u001b[1;32m--> 191\u001b[1;33m                                   reload_support=pyxargs.reload_support)\n\u001b[0m\u001b[0;32m    192\u001b[0m     \u001b[1;32massert\u001b[0m \u001b[0mos\u001b[0m\u001b[1;33m.\u001b[0m\u001b[0mpath\u001b[0m\u001b[1;33m.\u001b[0m\u001b[0mexists\u001b[0m\u001b[1;33m(\u001b[0m\u001b[0mso_path\u001b[0m\u001b[1;33m)\u001b[0m\u001b[1;33m,\u001b[0m \u001b[1;34m\"Cannot find: %s\"\u001b[0m \u001b[1;33m%\u001b[0m \u001b[0mso_path\u001b[0m\u001b[1;33m\u001b[0m\u001b[0m\n\u001b[0;32m    193\u001b[0m \u001b[1;33m\u001b[0m\u001b[0m\n",
      "\u001b[1;32m~\\Anaconda3\\lib\\site-packages\\pyximport\\pyxbuild.py\u001b[0m in \u001b[0;36mpyx_to_dll\u001b[1;34m(filename, ext, force_rebuild, build_in_temp, pyxbuild_dir, setup_args, reload_support, inplace)\u001b[0m\n\u001b[0;32m    100\u001b[0m     \u001b[1;32mtry\u001b[0m\u001b[1;33m:\u001b[0m\u001b[1;33m\u001b[0m\u001b[0m\n\u001b[0;32m    101\u001b[0m         \u001b[0mobj_build_ext\u001b[0m \u001b[1;33m=\u001b[0m \u001b[0mdist\u001b[0m\u001b[1;33m.\u001b[0m\u001b[0mget_command_obj\u001b[0m\u001b[1;33m(\u001b[0m\u001b[1;34m\"build_ext\"\u001b[0m\u001b[1;33m)\u001b[0m\u001b[1;33m\u001b[0m\u001b[0m\n\u001b[1;32m--> 102\u001b[1;33m         \u001b[0mdist\u001b[0m\u001b[1;33m.\u001b[0m\u001b[0mrun_commands\u001b[0m\u001b[1;33m(\u001b[0m\u001b[1;33m)\u001b[0m\u001b[1;33m\u001b[0m\u001b[0m\n\u001b[0m\u001b[0;32m    103\u001b[0m         \u001b[0mso_path\u001b[0m \u001b[1;33m=\u001b[0m \u001b[0mobj_build_ext\u001b[0m\u001b[1;33m.\u001b[0m\u001b[0mget_outputs\u001b[0m\u001b[1;33m(\u001b[0m\u001b[1;33m)\u001b[0m\u001b[1;33m[\u001b[0m\u001b[1;36m0\u001b[0m\u001b[1;33m]\u001b[0m\u001b[1;33m\u001b[0m\u001b[0m\n\u001b[0;32m    104\u001b[0m         \u001b[1;32mif\u001b[0m \u001b[0mobj_build_ext\u001b[0m\u001b[1;33m.\u001b[0m\u001b[0minplace\u001b[0m\u001b[1;33m:\u001b[0m\u001b[1;33m\u001b[0m\u001b[0m\n",
      "\u001b[1;32m~\\Anaconda3\\lib\\distutils\\dist.py\u001b[0m in \u001b[0;36mrun_commands\u001b[1;34m(self)\u001b[0m\n\u001b[0;32m    953\u001b[0m         \"\"\"\n\u001b[0;32m    954\u001b[0m         \u001b[1;32mfor\u001b[0m \u001b[0mcmd\u001b[0m \u001b[1;32min\u001b[0m \u001b[0mself\u001b[0m\u001b[1;33m.\u001b[0m\u001b[0mcommands\u001b[0m\u001b[1;33m:\u001b[0m\u001b[1;33m\u001b[0m\u001b[0m\n\u001b[1;32m--> 955\u001b[1;33m             \u001b[0mself\u001b[0m\u001b[1;33m.\u001b[0m\u001b[0mrun_command\u001b[0m\u001b[1;33m(\u001b[0m\u001b[0mcmd\u001b[0m\u001b[1;33m)\u001b[0m\u001b[1;33m\u001b[0m\u001b[0m\n\u001b[0m\u001b[0;32m    956\u001b[0m \u001b[1;33m\u001b[0m\u001b[0m\n\u001b[0;32m    957\u001b[0m     \u001b[1;31m# -- Methods that operate on its Commands --------------------------\u001b[0m\u001b[1;33m\u001b[0m\u001b[1;33m\u001b[0m\u001b[0m\n",
      "\u001b[1;32m~\\Anaconda3\\lib\\distutils\\dist.py\u001b[0m in \u001b[0;36mrun_command\u001b[1;34m(self, command)\u001b[0m\n\u001b[0;32m    972\u001b[0m         \u001b[0mcmd_obj\u001b[0m \u001b[1;33m=\u001b[0m \u001b[0mself\u001b[0m\u001b[1;33m.\u001b[0m\u001b[0mget_command_obj\u001b[0m\u001b[1;33m(\u001b[0m\u001b[0mcommand\u001b[0m\u001b[1;33m)\u001b[0m\u001b[1;33m\u001b[0m\u001b[0m\n\u001b[0;32m    973\u001b[0m         \u001b[0mcmd_obj\u001b[0m\u001b[1;33m.\u001b[0m\u001b[0mensure_finalized\u001b[0m\u001b[1;33m(\u001b[0m\u001b[1;33m)\u001b[0m\u001b[1;33m\u001b[0m\u001b[0m\n\u001b[1;32m--> 974\u001b[1;33m         \u001b[0mcmd_obj\u001b[0m\u001b[1;33m.\u001b[0m\u001b[0mrun\u001b[0m\u001b[1;33m(\u001b[0m\u001b[1;33m)\u001b[0m\u001b[1;33m\u001b[0m\u001b[0m\n\u001b[0m\u001b[0;32m    975\u001b[0m         \u001b[0mself\u001b[0m\u001b[1;33m.\u001b[0m\u001b[0mhave_run\u001b[0m\u001b[1;33m[\u001b[0m\u001b[0mcommand\u001b[0m\u001b[1;33m]\u001b[0m \u001b[1;33m=\u001b[0m \u001b[1;36m1\u001b[0m\u001b[1;33m\u001b[0m\u001b[0m\n\u001b[0;32m    976\u001b[0m \u001b[1;33m\u001b[0m\u001b[0m\n",
      "\u001b[1;32m~\\Anaconda3\\lib\\site-packages\\Cython\\Distutils\\old_build_ext.py\u001b[0m in \u001b[0;36mrun\u001b[1;34m(self)\u001b[0m\n\u001b[0;32m    183\u001b[0m             \u001b[0moptimization\u001b[0m\u001b[1;33m.\u001b[0m\u001b[0mdisable_optimization\u001b[0m\u001b[1;33m(\u001b[0m\u001b[1;33m)\u001b[0m\u001b[1;33m\u001b[0m\u001b[0m\n\u001b[0;32m    184\u001b[0m \u001b[1;33m\u001b[0m\u001b[0m\n\u001b[1;32m--> 185\u001b[1;33m         \u001b[0m_build_ext\u001b[0m\u001b[1;33m.\u001b[0m\u001b[0mbuild_ext\u001b[0m\u001b[1;33m.\u001b[0m\u001b[0mrun\u001b[0m\u001b[1;33m(\u001b[0m\u001b[0mself\u001b[0m\u001b[1;33m)\u001b[0m\u001b[1;33m\u001b[0m\u001b[0m\n\u001b[0m\u001b[0;32m    186\u001b[0m \u001b[1;33m\u001b[0m\u001b[0m\n\u001b[0;32m    187\u001b[0m     \u001b[1;32mdef\u001b[0m \u001b[0mbuild_extensions\u001b[0m\u001b[1;33m(\u001b[0m\u001b[0mself\u001b[0m\u001b[1;33m)\u001b[0m\u001b[1;33m:\u001b[0m\u001b[1;33m\u001b[0m\u001b[0m\n",
      "\u001b[1;32m~\\Anaconda3\\lib\\distutils\\command\\build_ext.py\u001b[0m in \u001b[0;36mrun\u001b[1;34m(self)\u001b[0m\n\u001b[0;32m    337\u001b[0m \u001b[1;33m\u001b[0m\u001b[0m\n\u001b[0;32m    338\u001b[0m         \u001b[1;31m# Now actually compile and link everything.\u001b[0m\u001b[1;33m\u001b[0m\u001b[1;33m\u001b[0m\u001b[0m\n\u001b[1;32m--> 339\u001b[1;33m         \u001b[0mself\u001b[0m\u001b[1;33m.\u001b[0m\u001b[0mbuild_extensions\u001b[0m\u001b[1;33m(\u001b[0m\u001b[1;33m)\u001b[0m\u001b[1;33m\u001b[0m\u001b[0m\n\u001b[0m\u001b[0;32m    340\u001b[0m \u001b[1;33m\u001b[0m\u001b[0m\n\u001b[0;32m    341\u001b[0m     \u001b[1;32mdef\u001b[0m \u001b[0mcheck_extensions_list\u001b[0m\u001b[1;33m(\u001b[0m\u001b[0mself\u001b[0m\u001b[1;33m,\u001b[0m \u001b[0mextensions\u001b[0m\u001b[1;33m)\u001b[0m\u001b[1;33m:\u001b[0m\u001b[1;33m\u001b[0m\u001b[0m\n",
      "\u001b[1;32m~\\Anaconda3\\lib\\site-packages\\Cython\\Distutils\\old_build_ext.py\u001b[0m in \u001b[0;36mbuild_extensions\u001b[1;34m(self)\u001b[0m\n\u001b[0;32m    191\u001b[0m         \u001b[1;32mfor\u001b[0m \u001b[0mext\u001b[0m \u001b[1;32min\u001b[0m \u001b[0mself\u001b[0m\u001b[1;33m.\u001b[0m\u001b[0mextensions\u001b[0m\u001b[1;33m:\u001b[0m\u001b[1;33m\u001b[0m\u001b[0m\n\u001b[0;32m    192\u001b[0m             \u001b[0mext\u001b[0m\u001b[1;33m.\u001b[0m\u001b[0msources\u001b[0m \u001b[1;33m=\u001b[0m \u001b[0mself\u001b[0m\u001b[1;33m.\u001b[0m\u001b[0mcython_sources\u001b[0m\u001b[1;33m(\u001b[0m\u001b[0mext\u001b[0m\u001b[1;33m.\u001b[0m\u001b[0msources\u001b[0m\u001b[1;33m,\u001b[0m \u001b[0mext\u001b[0m\u001b[1;33m)\u001b[0m\u001b[1;33m\u001b[0m\u001b[0m\n\u001b[1;32m--> 193\u001b[1;33m             \u001b[0mself\u001b[0m\u001b[1;33m.\u001b[0m\u001b[0mbuild_extension\u001b[0m\u001b[1;33m(\u001b[0m\u001b[0mext\u001b[0m\u001b[1;33m)\u001b[0m\u001b[1;33m\u001b[0m\u001b[0m\n\u001b[0m\u001b[0;32m    194\u001b[0m \u001b[1;33m\u001b[0m\u001b[0m\n\u001b[0;32m    195\u001b[0m     \u001b[1;32mdef\u001b[0m \u001b[0mcython_sources\u001b[0m\u001b[1;33m(\u001b[0m\u001b[0mself\u001b[0m\u001b[1;33m,\u001b[0m \u001b[0msources\u001b[0m\u001b[1;33m,\u001b[0m \u001b[0mextension\u001b[0m\u001b[1;33m)\u001b[0m\u001b[1;33m:\u001b[0m\u001b[1;33m\u001b[0m\u001b[0m\n",
      "\u001b[1;32m~\\Anaconda3\\lib\\distutils\\command\\build_ext.py\u001b[0m in \u001b[0;36mbuild_extension\u001b[1;34m(self, ext)\u001b[0m\n\u001b[0;32m    531\u001b[0m                                          \u001b[0mdebug\u001b[0m\u001b[1;33m=\u001b[0m\u001b[0mself\u001b[0m\u001b[1;33m.\u001b[0m\u001b[0mdebug\u001b[0m\u001b[1;33m,\u001b[0m\u001b[1;33m\u001b[0m\u001b[0m\n\u001b[0;32m    532\u001b[0m                                          \u001b[0mextra_postargs\u001b[0m\u001b[1;33m=\u001b[0m\u001b[0mextra_args\u001b[0m\u001b[1;33m,\u001b[0m\u001b[1;33m\u001b[0m\u001b[0m\n\u001b[1;32m--> 533\u001b[1;33m                                          depends=ext.depends)\n\u001b[0m\u001b[0;32m    534\u001b[0m \u001b[1;33m\u001b[0m\u001b[0m\n\u001b[0;32m    535\u001b[0m         \u001b[1;31m# XXX outdated variable, kept here in case third-part code\u001b[0m\u001b[1;33m\u001b[0m\u001b[1;33m\u001b[0m\u001b[0m\n",
      "\u001b[1;32m~\\Anaconda3\\lib\\distutils\\_msvccompiler.py\u001b[0m in \u001b[0;36mcompile\u001b[1;34m(self, sources, output_dir, macros, include_dirs, debug, extra_preargs, extra_postargs, depends)\u001b[0m\n\u001b[0;32m    343\u001b[0m \u001b[1;33m\u001b[0m\u001b[0m\n\u001b[0;32m    344\u001b[0m         \u001b[1;32mif\u001b[0m \u001b[1;32mnot\u001b[0m \u001b[0mself\u001b[0m\u001b[1;33m.\u001b[0m\u001b[0minitialized\u001b[0m\u001b[1;33m:\u001b[0m\u001b[1;33m\u001b[0m\u001b[0m\n\u001b[1;32m--> 345\u001b[1;33m             \u001b[0mself\u001b[0m\u001b[1;33m.\u001b[0m\u001b[0minitialize\u001b[0m\u001b[1;33m(\u001b[0m\u001b[1;33m)\u001b[0m\u001b[1;33m\u001b[0m\u001b[0m\n\u001b[0m\u001b[0;32m    346\u001b[0m         compile_info = self._setup_compile(output_dir, macros, include_dirs,\n\u001b[0;32m    347\u001b[0m                                            sources, depends, extra_postargs)\n",
      "\u001b[1;32m~\\Anaconda3\\lib\\distutils\\_msvccompiler.py\u001b[0m in \u001b[0;36minitialize\u001b[1;34m(self, plat_name)\u001b[0m\n\u001b[0;32m    236\u001b[0m         \u001b[0mplat_spec\u001b[0m \u001b[1;33m=\u001b[0m \u001b[0mPLAT_TO_VCVARS\u001b[0m\u001b[1;33m[\u001b[0m\u001b[0mplat_name\u001b[0m\u001b[1;33m]\u001b[0m\u001b[1;33m\u001b[0m\u001b[0m\n\u001b[0;32m    237\u001b[0m \u001b[1;33m\u001b[0m\u001b[0m\n\u001b[1;32m--> 238\u001b[1;33m         \u001b[0mvc_env\u001b[0m \u001b[1;33m=\u001b[0m \u001b[0m_get_vc_env\u001b[0m\u001b[1;33m(\u001b[0m\u001b[0mplat_spec\u001b[0m\u001b[1;33m)\u001b[0m\u001b[1;33m\u001b[0m\u001b[0m\n\u001b[0m\u001b[0;32m    239\u001b[0m         \u001b[1;32mif\u001b[0m \u001b[1;32mnot\u001b[0m \u001b[0mvc_env\u001b[0m\u001b[1;33m:\u001b[0m\u001b[1;33m\u001b[0m\u001b[0m\n\u001b[0;32m    240\u001b[0m             raise DistutilsPlatformError(\"Unable to find a compatible \"\n",
      "\u001b[1;32m~\\Anaconda3\\lib\\distutils\\_msvccompiler.py\u001b[0m in \u001b[0;36m_get_vc_env\u001b[1;34m(plat_spec)\u001b[0m\n\u001b[0;32m    132\u001b[0m     \u001b[0mvcvarsall\u001b[0m\u001b[1;33m,\u001b[0m \u001b[0mvcruntime\u001b[0m \u001b[1;33m=\u001b[0m \u001b[0m_find_vcvarsall\u001b[0m\u001b[1;33m(\u001b[0m\u001b[0mplat_spec\u001b[0m\u001b[1;33m)\u001b[0m\u001b[1;33m\u001b[0m\u001b[0m\n\u001b[0;32m    133\u001b[0m     \u001b[1;32mif\u001b[0m \u001b[1;32mnot\u001b[0m \u001b[0mvcvarsall\u001b[0m\u001b[1;33m:\u001b[0m\u001b[1;33m\u001b[0m\u001b[0m\n\u001b[1;32m--> 134\u001b[1;33m         \u001b[1;32mraise\u001b[0m \u001b[0mDistutilsPlatformError\u001b[0m\u001b[1;33m(\u001b[0m\u001b[1;34m\"Unable to find vcvarsall.bat\"\u001b[0m\u001b[1;33m)\u001b[0m\u001b[1;33m\u001b[0m\u001b[0m\n\u001b[0m\u001b[0;32m    135\u001b[0m \u001b[1;33m\u001b[0m\u001b[0m\n\u001b[0;32m    136\u001b[0m     \u001b[1;32mtry\u001b[0m\u001b[1;33m:\u001b[0m\u001b[1;33m\u001b[0m\u001b[0m\n",
      "\u001b[1;31mImportError\u001b[0m: Building module fast_classes failed: ['distutils.errors.DistutilsPlatformError: Unable to find vcvarsall.bat\\n']"
     ]
    }
   ],
   "source": [
    "import pyximport\n",
    "pyximport.install()\n",
    "\n",
    "from fast_classes import Vector,Particle"
   ]
  },
  {
   "cell_type": "markdown",
   "metadata": {},
   "source": [
    "If your system does not have the necessary components configured and you get an error when importing the classes above, then you need to fall back to the Python classes you defined and wait a little longer for your simulations to run."
   ]
  },
  {
   "cell_type": "markdown",
   "metadata": {},
   "source": [
    "Now create a simulation of 200 particles in 100 length box, with 0.5 for the x/y components of the momenta then simulate 10,000 steps with dt=0.25 (it may take a while)."
   ]
  },
  {
   "cell_type": "code",
   "execution_count": 3,
   "metadata": {
    "collapsed": true
   },
   "outputs": [],
   "source": [
    "from numpy.random import random\n",
    "\n",
    "def particles_gen(N, box_length):\n",
    "    init_random=[]\n",
    "    radius=1\n",
    "    for p in range(1,N+1):\n",
    "        pos_x=random()*(box_length-2*radius)+radius   #avoid initial position too close to the walls\n",
    "        pos_y=random()*(box_length-2*radius)+radius\n",
    "        pos=Vector(pos_x,pos_y)\n",
    "        mom_x=0.5                \n",
    "        mom_y=0.5\n",
    "        mom=Vector(mom_x,mom_y)\n",
    "        init_random.append(Particle(pos,mom,radius,1))\n",
    "    return init_random"
   ]
  },
  {
   "cell_type": "markdown",
   "metadata": {},
   "source": [
    "Animate the trajectory on the cell below"
   ]
  },
  {
   "cell_type": "code",
   "execution_count": null,
   "metadata": {
    "collapsed": true
   },
   "outputs": [],
   "source": []
  },
  {
   "cell_type": "markdown",
   "metadata": {},
   "source": [
    "## Saving your simulation\n",
    "\n",
    "Although not affecting the physical behaviour of the simulated system, it is extremely useful to be able to save the results of our simulations. We will often want to save a simulation so we switch off the notebook but still be able to come back to either analyse or even continue the simulation at a later date.\n",
    "\n",
    "Python allows any object to be saved to disk using the Pickle library. Lets try it out. For this purpose we will create some particles and generate a simulation object *shortsim* with 200 steps"
   ]
  },
  {
   "cell_type": "code",
   "execution_count": 4,
   "metadata": {},
   "outputs": [
    {
     "data": {
      "text/plain": [
       "<matplotlib.animation.FuncAnimation at 0x49745c0>"
      ]
     },
     "execution_count": 4,
     "metadata": {},
     "output_type": "execute_result"
    }
   ],
   "source": [
    "%run gas_2d\n",
    "particles=particles_gen(200,100)\n",
    "    \n",
    "sim=Simulation(particles=particles,box_length=100,dt=0.25)\n",
    "\n",
    "for i in range(15000):\n",
    "    sim.step()\n",
    "animate_trajectory(sim)"
   ]
  },
  {
   "cell_type": "code",
   "execution_count": 5,
   "metadata": {},
   "outputs": [
    {
     "data": {
      "text/plain": [
       "0.0628318530717957"
      ]
     },
     "execution_count": 5,
     "metadata": {},
     "output_type": "execute_result"
    }
   ],
   "source": [
    "sim.density"
   ]
  },
  {
   "cell_type": "markdown",
   "metadata": {},
   "source": [
    "Now we'll use pickle to save it (note we will need to import the pickle module). This involves:\n",
    "\n",
    "* Opening a binary file for writing by using the open function with the 'wb' flag.\n",
    "* Calling pickle's dump function to dump our simulation object into the file (requires pickle has been imported).\n",
    "* (When using the with construction, the file is closed after writing)\n",
    "\n",
    "Below we pick the file name test_simulation.dat but in general you can choose whichever filename you wish."
   ]
  },
  {
   "cell_type": "code",
   "execution_count": 6,
   "metadata": {
    "collapsed": true
   },
   "outputs": [],
   "source": [
    "import pickle"
   ]
  },
  {
   "cell_type": "code",
   "execution_count": 7,
   "metadata": {
    "collapsed": true
   },
   "outputs": [],
   "source": [
    "with open('long_simulation2.dat','wb') as data_f:\n",
    "    pickle.dump(sim,data_f)"
   ]
  },
  {
   "cell_type": "markdown",
   "metadata": {},
   "source": [
    "To extract our simulation from the file we have created requires:\n",
    "    \n",
    "* Opening a binary file for reading by using the open function with the 'rb' flag.\n",
    "* Calling pickle's load function to extract our simulation object from the file (requires pickle has been imported).\n",
    "\n",
    "So to extract the simulation we just saved we would execute:"
   ]
  },
  {
   "cell_type": "code",
   "execution_count": 8,
   "metadata": {
    "collapsed": true
   },
   "outputs": [],
   "source": [
    "with open('long_simulation2.dat','rb') as data_f:\n",
    "    loaded_sim = pickle.load(data_f)"
   ]
  },
  {
   "cell_type": "code",
   "execution_count": 9,
   "metadata": {},
   "outputs": [
    {
     "data": {
      "text/plain": [
       "<matplotlib.animation.FuncAnimation at 0x5150e080>"
      ]
     },
     "execution_count": 9,
     "metadata": {},
     "output_type": "execute_result"
    }
   ],
   "source": [
    "animate_trajectory(loaded_sim)"
   ]
  },
  {
   "cell_type": "markdown",
   "metadata": {},
   "source": [
    "We can now add further steps to the simulation/and or run analysis on it."
   ]
  },
  {
   "cell_type": "code",
   "execution_count": 22,
   "metadata": {},
   "outputs": [
    {
     "data": {
      "text/plain": [
       "<matplotlib.animation.FuncAnimation at 0x28b2cd04c18>"
      ]
     },
     "execution_count": 22,
     "metadata": {},
     "output_type": "execute_result"
    }
   ],
   "source": [
    "for step in range(200):\n",
    "    loaded_sim.step()\n",
    "    \n",
    "animate_trajectory(loaded_sim)"
   ]
  },
  {
   "cell_type": "markdown",
   "metadata": {},
   "source": [
    "An important thing to be aware of is that if you update or change your classes in any way (adding attributes or modifying methods), your pickled file will no longer be loadable because your class definition does not match the stored object."
   ]
  },
  {
   "cell_type": "markdown",
   "metadata": {},
   "source": [
    "# Looking at Physical Quantities - Writing your report"
   ]
  },
  {
   "cell_type": "markdown",
   "metadata": {},
   "source": [
    "Write a short report in the form of a Jupyter notebook where you analyse the results of your simulations. Below are some items that should guide your analysis.\n",
    "\n",
    "In your analysis you will probably be writing some functions. You could write these as methods on the simulation class, but it is probably better to write these in the report notebook as functions which receive a simulation object as an argument.\n",
    "\n",
    "Your report might be short, but it should include figures (possibly some code) and comments on the results you obtain. "
   ]
  },
  {
   "cell_type": "markdown",
   "metadata": {},
   "source": [
    "### A note on units and density of the system\n",
    "\n",
    "We have been a bit sloppy with the use of units while building our simulation, in fact we have not addressed this issue at all! When we write dt=0.25, do we mean that the time step is 0.25 femtoseconds, or 0.25 years? Same question arises about for box size or particle mass. This is not an issue when it comes to the \"correctness\" of the result, or the qualitative behaviour of the simulated system, but it does become an issue when we want to compare quantities with experiments.\n",
    "\n",
    "We are free to choose our unit system, but when we want to simulate a specific physical system (for example, a container of Xe atoms at T=300K), we must have a  particle_radius/box_length ratio that is consistent with the system you want to simulate, or an initial momentum that is consistent with the target temperature.\n",
    "\n",
    "Since we did not pay attention to our choice of parameters, we are not quite sure what physical system we have been simulating. In the analysis below, we will just focus on the qualitative behaviour of the system in an arbitrary system of units.\n",
    "\n",
    "One quantity that is very useful to characterise the system and remains meaningful in any system of units is the density, taken here as the fraction of the area occupied by the particles compared to the total area of the box.\n",
    "\n",
    "* Add a density attribute to your Simulation class and calculate its value in the \\_\\_init\\_\\_ method.\n",
    "\n",
    "Systems with low densities can be seen as gases while high densities will behave more like liquids. For higher densities still, when the particles start being packed in space, the system will have the properties of a solid."
   ]
  },
  {
   "cell_type": "markdown",
   "metadata": {},
   "source": [
    "### Energy as a function of time\n",
    "Using your simulation trajectory, produce a plot of total (kinetic) energy versus time for the simulation."
   ]
  },
  {
   "cell_type": "code",
   "execution_count": null,
   "metadata": {
    "collapsed": true
   },
   "outputs": [],
   "source": []
  },
  {
   "cell_type": "markdown",
   "metadata": {},
   "source": [
    "### Distribution of speeds\n",
    "Every recorded state defines a distribution of particle velocities and particle speeds. \n",
    "\n",
    "Plot the evolution of the standard deviation of the particle speeds as a function of time, and see if you have reached equilibrium or if you need to run your simulation for longer."
   ]
  },
  {
   "cell_type": "markdown",
   "metadata": {},
   "source": [
    "Below is a skeleton for a function *plot_speeds* that accepts as its argument an integer defining the particular time step we are interested in and will plot the histogram of speeds present at that time step. (You may need to run %matplotlib to get the interactive plot to work). Fill out this function and use it to find out how many time steps your simulation takes untill the distribution no longer changes significantly."
   ]
  },
  {
   "cell_type": "markdown",
   "metadata": {},
   "source": [
    "    from ipywidgets import interact\n",
    "    from matplotlib.pyplot import *\n",
    "\n",
    "    @interact(t=(0,1000,1))\n",
    "    def plot_speeds(t):\n",
    "        pass"
   ]
  },
  {
   "cell_type": "markdown",
   "metadata": {},
   "source": [
    "To get a better distribution we need better statistics, so a simulation with a higher number of particles will work better. A simulation with a high rate of collisions (higher density) will also equilibrate quicker."
   ]
  },
  {
   "cell_type": "markdown",
   "metadata": {},
   "source": [
    "For a configuration after the equilibrium is reached, produce two histograms: one of the *x* component of the velocity for all particles; and another with of the speed of the particles. Overlay and compare these histograms with the theoretical distributions. \n",
    "\n",
    "The probability distribution for a component of the velocity, i.e. the probability $\\rho_x$ of finding a particle with *x* component of velocity $v_x$, should be gaussian\n",
    "\n",
    "$$\\rho_x(v_x)=\\sqrt{\\frac{m}{2 \\pi k_B T}} \\exp\\left(-\\frac{mv^2}{2k_BT}\\right)$$\n",
    "\n",
    "Where $m$ is the mass, $k_B$ is Boltzmann's constant and $T$ is the temperature. The Maxwell-Boltzmann distribution of speeds in 2D is:\n",
    "    \n",
    "$$\\rho(v)=\\frac{m v}{k_B T} \\exp\\left(-\\frac{mv^2}{2k_BT}\\right)$$ \n",
    "\n",
    "The relationship between the temperature and the average energy for a 2D ideal gas is:\n",
    "\n",
    "$$\\langle E \\rangle= k_BT$$\n",
    "\n",
    "Workout the average energy per particle for your simulation and use this value along with the mass you gave your particles to plot your distributions."
   ]
  },
  {
   "cell_type": "markdown",
   "metadata": {},
   "source": [
    "### Distribution of positions\n",
    "\n",
    "Produce a density profile of the system along the *x* direction. To do this choose a fraction of the trajectory where the system is in equilibrium and histogram the *x* position of the particles. (To improve statistics you should accumulate many timesteps in a single histogram).\n",
    "\n",
    "Is the result you obtain what you expected?"
   ]
  },
  {
   "cell_type": "markdown",
   "metadata": {},
   "source": [
    "## Optional (hard!)"
   ]
  },
  {
   "cell_type": "markdown",
   "metadata": {},
   "source": [
    "Except for the first case below, the tasks suggested here are harder and can take a significant time to complete. **You are not expected to complete any of them, and it is possible to obtain full marks without completing this part of the project**. These tasks are presented as suggestions of ways in which the simulations could be improved. Contact the demonstrators if you want to discuss implementing any of these features."
   ]
  },
  {
   "cell_type": "markdown",
   "metadata": {},
   "source": [
    "### Expansion of the gas\n",
    "\n",
    "Build a simulation where all particles are randomly distributed but only on the left half of the box. The right half of the box is empty. Momenta of the particles can be randomly distributed.\n",
    "\n",
    "Run the simulation and observe the result.\n",
    "\n",
    "As a function of time, count the number of particles on each side of the box, and plot them on the same figure. How long does it take to reach equilibrium? Does it change, if you change the maximum initial momentum?"
   ]
  },
  {
   "cell_type": "markdown",
   "metadata": {},
   "source": [
    "### Mixing"
   ]
  },
  {
   "cell_type": "markdown",
   "metadata": {},
   "source": [
    "You can use the program you developed to study diffusion and mixing. You can start a simulation with different particles on the left and right halves of the box (what distinguishes the particles could be a physical attribute such as mass, or a fictitious one such as colour). Your simulation could look [something like this](http://www.imperial.ac.uk/chemistry-teaching/chemicalequilibria/moleculesmixing2.html). Plot the number of particles of each type on each side of the box as a function of time."
   ]
  },
  {
   "cell_type": "markdown",
   "metadata": {},
   "source": [
    "### Pressure on the container walls"
   ]
  },
  {
   "cell_type": "markdown",
   "metadata": {},
   "source": [
    "Can you modify the boundary code so that you can record the pressure being exerted on the box during each time step and hence produce a plot of pressure vs. time? Does your simulation agree with the ideal gas equations?\n",
    "\n",
    "You can plot the pressure for changing system density. You may be able to observe a phase transition."
   ]
  },
  {
   "cell_type": "markdown",
   "metadata": {},
   "source": [
    "### Heat transfer across the boundary"
   ]
  },
  {
   "cell_type": "markdown",
   "metadata": {},
   "source": [
    "At the moment the system we are simulating is isolated: there are no exchanges of mass or energy with the surroundings. We could however allow for the transfer of heat at the boundary, in which case collisions with the walls would no longer be elastic. What would happen if you had walls that were warmer/cooler than the gas?\n",
    "\n",
    "Implement the heat change with the box walls and look how the total energy of the gas changes with time."
   ]
  },
  {
   "cell_type": "markdown",
   "metadata": {},
   "source": [
    "### Simulating properties of the bulk"
   ]
  },
  {
   "cell_type": "markdown",
   "metadata": {},
   "source": [
    "#### Periodic boundary conditions\n",
    "The systems we have been simulating have a very large surface area to volume ratio (or in this case, large perimeter to area ratio). Contrast the particle radius and the box length you have been using, with the radius of a molecule compared with a 1 litre container. Our simulations thus greatly overestimate boundary effects as we saw when plotting the density profile of the system, and are therefore unsuitable to study bulk properties.\n",
    "\n",
    "A very common technique to study bulk properties is to use [periodic boundary conditions](https://en.wikipedia.org/wiki/Periodic_boundary_conditions). In this case the walls are completely suppressed and a particle crossing the boundary on one side of the box is placed on the opposing side of the box, keeping the same momentum. Thus simulating an \"infinite\" box.\n",
    "\n",
    "Implement a simulation class with periodic boundary conditions.\n",
    "\n",
    "#### Radial distribution function\n",
    "One quantity often used to describe the structure of fluids is the [radial distribution function g(r)](https://en.wikipedia.org/wiki/Radial_distribution_function). This quantity measures the probability of 2 particles being at a distance r from each other. Make a plot of the g(r) for one of your simulations."
   ]
  },
  {
   "cell_type": "markdown",
   "metadata": {},
   "source": [
    "### Speeding up the simulations"
   ]
  },
  {
   "cell_type": "markdown",
   "metadata": {},
   "source": [
    "Our simulation is quite slow (you can see where the code is spending its time by including %%prun at the top of a cell and then executing your simulation code). Most of the computational expense is in the particle collisions because there are N(N-1)/2 pairs of particles. One way to reduce this expense is to divide the box up into quadrants, keep track of which quadrant the particles are in and then when executing the particle_collision code only look for collisions between pairs of particles in the same quadrant. Care needs to be taken when thinking about particles on the edges of the quadrants. Can you speed up the code in this way?"
   ]
  },
  {
   "cell_type": "code",
   "execution_count": null,
   "metadata": {
    "collapsed": true
   },
   "outputs": [],
   "source": [
    "%%prun\n",
    "\n",
    "pass"
   ]
  },
  {
   "cell_type": "markdown",
   "metadata": {},
   "source": [
    "# Bibliography"
   ]
  },
  {
   "cell_type": "markdown",
   "metadata": {},
   "source": [
    "* W. Krauth, [Statistical Mechanics: Algorithms and Computations](http://imp-primo.hosted.exlibrisgroup.com/ICL_VU1:LRSCOP_44IMP:44IMP_ALMA_DS2146738160001591), Oxford University Press, 2006"
   ]
  }
 ],
 "metadata": {
  "anaconda-cloud": {},
  "kernelspec": {
   "display_name": "Python 3",
   "language": "python",
   "name": "python3"
  },
  "language_info": {
   "codemirror_mode": {
    "name": "ipython",
    "version": 3
   },
   "file_extension": ".py",
   "mimetype": "text/x-python",
   "name": "python",
   "nbconvert_exporter": "python",
   "pygments_lexer": "ipython3",
   "version": "3.6.1"
  }
 },
 "nbformat": 4,
 "nbformat_minor": 1
}
