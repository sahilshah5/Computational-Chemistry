{
 "cells": [
  {
   "cell_type": "markdown",
   "metadata": {},
   "source": [
    "# Introduction to programming - Assignment 2017/2018"
   ]
  },
  {
   "cell_type": "markdown",
   "metadata": {},
   "source": [
    "**Submit to Blackboard before Friday, 2nd of March at 18:00.**\n",
    "\n",
    "**5 marks attainable, corresponding to 40% of the course grade (provided the attendance criteria have been met)**"
   ]
  },
  {
   "cell_type": "markdown",
   "metadata": {},
   "source": [
    "Disufide bonds between polymer chains determine their molecular structure, properties and function. In polypeptides they are responsible for protein's tertiary and quaternary structure (as well as your [hair style](http://dx.doi.org/10.1039/B604537P)), and in artificial rubber they can improve the performance of tyres.\n",
    "\n",
    "In this exercise you should write a standalone program that when executed prompts the user for the name of an XYZ file, and after the user enters this name the program prints out all disulfide bonds present in the structure with no repetitions. The output should have the following format:\n",
    "\n",
    "    : S(label1)-S(label2)\n",
    "    : S(label3)-S(label4)\n",
    "    : ...\n",
    "\n",
    "where *labelX* is the position of the atom in the sequence of the XYZ file, starting with 1 for the first atom up to the total number of atoms in the structure (this is the label displayed by molecular visualisers such as Avogadro). For example:\n",
    "\n",
    "    : S(32)-S(137)\n",
    "    : S(437)-S(99)\n",
    "    : ...\n",
    "    \n",
    "It is important that the start with a colon (:), and the labels are enclose in round brackets, as this will be used to test the output of your program. Your program can output any other text you wish above or below your result (as long as it does *not* start with a colon).\n",
    "\n",
    "<a href=\"http://openbabel.org/wiki/XYZ_(format)#Additional_Comments\">XYZ files</a> contain information about atom positions but have no information about chemical bonding. Chemical bond information must be determined by comparing interatomic distances to the sum of the covalent radius of the atoms involved. We will take the covalent radius of sulfur to be 1.2&Aring; (this is bigger than the actual value, but we want to make sure we identify stretched bonds which are likely to show up in proteins).\n",
    "\n",
    "Accompanying this notebook is the file <a href=\"neuraminidase.xyz\">neuraminidase.xyz</a> containing the structure of Neuraminidase protein found in the surface of the influenza virus, together with a non-sulfur-containing molecule and\n",
    "crystallization water molecules. Full marks will be awarded to any implementation that produces the correct result against the neuraminidase.xyz file and a blind test case.\n",
    "\n",
    "If your implementation is functional (i.e. your program does not crash) but does not fully work for a generic case, partial marks will be awarded for correct implementation of the functions below."
   ]
  },
  {
   "cell_type": "markdown",
   "metadata": {},
   "source": [
    "## Implementation suggestion"
   ]
  },
  {
   "cell_type": "markdown",
   "metadata": {},
   "source": [
    "A working solution can be obtained by appropriately combining the following functions."
   ]
  },
  {
   "cell_type": "markdown",
   "metadata": {},
   "source": [
    "### parse_line(*number*,*string*) - 1 mark"
   ]
  },
  {
   "cell_type": "markdown",
   "metadata": {},
   "source": [
    "This function should receive one number and one string (a line of the XYZ file) as its arguments, and return a list of the form:\n",
    "\n",
    "    [number,element_symbol,coordinate_list]\n",
    "\n",
    "where number is the number given as argument to the function, element_symbol is a string with the chemical symbol letter(s), and coordinate_list is a list of numbers with the atom coordinates. For example:\n",
    "\n",
    "    [372,'C',[4.36500, 10.95900, 46.49400]]"
   ]
  },
  {
   "cell_type": "markdown",
   "metadata": {},
   "source": [
    "### distance(*list1*,*list2*) - 1 mark"
   ]
  },
  {
   "cell_type": "markdown",
   "metadata": {},
   "source": [
    "This function receives two lists as arguments, each list contains the coordinates of a point in 3D space. The function should return the distance between these two points in space."
   ]
  },
  {
   "cell_type": "markdown",
   "metadata": {},
   "source": [
    "### is_bridge(*list1*,*list2*) - 1 mark"
   ]
  },
  {
   "cell_type": "markdown",
   "metadata": {},
   "source": [
    "This function receives two lists as arguments, each in the same form as the output of function *parse_line()*. It should return the boolean True if the two atoms represented by list1 and list2 correspond to bonded sulfur atoms. It should return False if that is not the case."
   ]
  },
  {
   "cell_type": "markdown",
   "metadata": {},
   "source": [
    "### formatter(*list1*,*list2*) - 1 mark"
   ]
  },
  {
   "cell_type": "markdown",
   "metadata": {},
   "source": [
    "This function receives two lists as arguments, each in the same form as the output of function *parse_line()* (they can correspond to any atom, not necessarily sulfur), and return a string of the form:\n",
    "\n",
    "    ': element_symbol1(number1)-element_symbol2(number2)'\n",
    "    \n",
    "For example:\n",
    "\n",
    "    ': Cl(2)-Ca(1)'"
   ]
  },
  {
   "cell_type": "markdown",
   "metadata": {},
   "source": [
    "## Instructions"
   ]
  },
  {
   "cell_type": "markdown",
   "metadata": {},
   "source": [
    "You should submit to Blackboard a single file called bridgeS.py, containing a standalone Python script with your program. Your program should not crash when given a well formatted XYZ file. Any program that does not fulfil this criteria will not be considered.\n",
    "\n",
    "In the same zip archive you will find a template for bridgeS.py. Separate the function definition from the rest of your program which you should write inside the *if* block provided.\n",
    "\n",
    "If you choose to follow the suggested implementation, in order to qualify for partial marks, it is important that you define the functions name and argument order *exactly* as listed above. We will test that parse_line(), distance(), is_bridge() and formatter() are present and behave appropriately. Functions that work correctly but are called different names will not result in partial marks being awarded.\n",
    "\n",
    "If you encounter difficulties, you are invited to ask questions in the forum set up for the course on Blackboard."
   ]
  },
  {
   "cell_type": "code",
   "execution_count": 11,
   "metadata": {},
   "outputs": [
    {
     "name": "stdout",
     "output_type": "stream",
     "text": [
      "Populating the interactive namespace from numpy and matplotlib\n"
     ]
    },
    {
     "name": "stderr",
     "output_type": "stream",
     "text": [
      "C:\\anaconda\\lib\\site-packages\\IPython\\core\\magics\\pylab.py:161: UserWarning: pylab import has clobbered these variables: ['f', 'number']\n",
      "`%matplotlib` prevents importing * from pylab and numpy\n",
      "  \"\\n`%matplotlib` prevents importing * from pylab and numpy\"\n"
     ]
    }
   ],
   "source": [
    "#Template for a program to identify disulfide bridges on an XYZ file\n",
    "\n",
    "#Write first any import statements that you need in your program\n",
    "%pylab inline\n",
    "\n",
    "\n",
    "\n",
    "#Define here any functions you will be using\n",
    "def parse_line(number, string):\n",
    "    \"Return a list of number, element symbol and coordinates\"\n",
    "    l=string.split()\n",
    "    sym=str(l[0])\n",
    "    coordx=float(l[1])\n",
    "    coordy=float(l[2])\n",
    "    coordz=float(l[3])\n",
    "    coordinates=[coordx, coordy, coordz]\n",
    "    parse=[number,sym,coordinates]\n",
    "    return parse\n",
    "\n",
    "def distance(list1, list2):\n",
    "    \"Give the distance between 2 sets of coordinates\"\n",
    "    x1=float(list1[0])\n",
    "    y1=float(list1[1])\n",
    "    z1=float(list1[2])\n",
    "    x2=float(list2[0])\n",
    "    y2=float(list2[1])\n",
    "    z2=float(list2[2])\n",
    "    dist = ( (x1-x2)**2 + (y1-y2)**2 + (z1-z2)**2 )**0.5\n",
    "    return dist\n",
    "\n",
    "def isBridge(list1, list2):\n",
    "    \"Is there a bond?\"\n",
    "    if distance(list1, list2) <= 2.4 and distance(list1, list2)!=0:\n",
    "        bond = True\n",
    "    else:\n",
    "        bond = False\n",
    "    return bond\n",
    "\n",
    "def formatter(list1, list2):\n",
    "    \"Show bonded atoms\"\n",
    "    el_sym1= str(list1[1])\n",
    "    num1=str(list1[0])\n",
    "    el_sym2= str(list2[1])\n",
    "    num2=str(list2[0])\n",
    "    lin=\":\"+el_sym1+\"(\"+num1+\")-\"+el_sym2+\"(\"+num2+\")\"\n",
    "    return lin\n",
    "\n",
    "\n",
    "#The following if statement does not affect the working of the program,\n",
    "#but will allow to test your functions even if the rest of the program\n",
    "#does not work\n",
    "\n",
    "if __name__==\"__main__\":\n",
    "\n",
    "    #Remove the pass statement below and write the rest of the\n",
    "    #program inside this if block\n",
    "    #Do not forget identation\n",
    "\n",
    "    pass"
   ]
  },
  {
   "cell_type": "code",
   "execution_count": 30,
   "metadata": {},
   "outputs": [
    {
     "name": "stdout",
     "output_type": "stream",
     "text": [
      "Filename?neuraminidase.xyz\n"
     ]
    },
    {
     "data": {
      "text/plain": [
       "[[88, 'S', [6.558, 30.111, 40.407]],\n",
       " [343, 'S', [8.319, 17.844, 45.514]],\n",
       " [381, 'S', [6.413, 17.091, 45.67]],\n",
       " [763, 'S', [20.729, 6.04, 51.614]],\n",
       " [820, 'S', [19.757, 14.621, 43.733]],\n",
       " [876, 'S', [23.352, 10.688, 43.037]],\n",
       " [897, 'S', [21.333, 6.8, 53.433]],\n",
       " [1197, 'S', [20.771, 14.863, 45.482]],\n",
       " [1210, 'S', [19.432, 15.01, 40.16]],\n",
       " [1245, 'S', [21.113, 13.956, 39.727]],\n",
       " [1566, 'S', [26.882, 23.445, 50.88]],\n",
       " [1578, 'S', [22.802, 22.474, 47.311]],\n",
       " [1649, 'S', [24.07, 23.827, 46.386]],\n",
       " [1662, 'S', [26.671, 25.537, 51.099]],\n",
       " [1823, 'S', [29.995, 17.046, 35.201]],\n",
       " [1889, 'S', [28.154, 40.545, 48.999]],\n",
       " [2021, 'S', [29.901, 41.51, 49.461]],\n",
       " [2321, 'S', [12.079, 31.787, 55.138]],\n",
       " [2580, 'S', [12.2, 26.388, 43.431]],\n",
       " [2648, 'S', [6.277, 30.682, 38.457]],\n",
       " [2682, 'S', [7.762, 24.415, 47.562]],\n",
       " [2898, 'S', [4.655, 27.638, 56.151]],\n",
       " [2899, 'S', [5.358, 29.024, 56.189]],\n",
       " [2907, 'S', [5.966, 24.578, 48.6]]]"
      ]
     },
     "execution_count": 30,
     "metadata": {},
     "output_type": "execute_result"
    }
   ],
   "source": [
    "file_in=input(\"Filename?\")\n",
    "with open(file_in, 'r') as f:\n",
    "    f1=list(f)\n",
    "    f2=f1[2:]\n",
    "    s_data=[]\n",
    "    number=0\n",
    "    for line in f2:\n",
    "        number=number+1\n",
    "        if \"S\" in line.split():\n",
    "            #number= len(list)[-1]-1\n",
    "            v=parse_line(number,line)\n",
    "            s_data=s_data +[v]\n",
    "s_data"
   ]
  },
  {
   "cell_type": "code",
   "execution_count": 29,
   "metadata": {},
   "outputs": [
    {
     "name": "stdout",
     "output_type": "stream",
     "text": [
      ":S(90)-S(2650)\n",
      ":S(345)-S(383)\n",
      ":S(765)-S(899)\n",
      ":S(822)-S(1199)\n",
      ":S(1212)-S(1247)\n",
      ":S(1568)-S(1664)\n",
      ":S(1580)-S(1651)\n",
      ":S(1891)-S(2023)\n",
      ":S(2684)-S(2909)\n",
      ":S(2900)-S(2901)\n"
     ]
    }
   ],
   "source": [
    "bonds=[]\n",
    "for i in s_data:\n",
    "    coord=i[2]\n",
    "    for j in s_data:\n",
    "        isBridge(coord,j[2])\n",
    "        if isBridge(coord,j[2])==True:\n",
    "            bonds=bonds+[formatter(i,j)]\n",
    "            if formatter(j,i) not in bonds:\n",
    "                print(formatter(i,j))"
   ]
  },
  {
   "cell_type": "code",
   "execution_count": null,
   "metadata": {
    "collapsed": true
   },
   "outputs": [],
   "source": []
  }
 ],
 "metadata": {
  "anaconda-cloud": {},
  "kernelspec": {
   "display_name": "Python 3",
   "language": "python",
   "name": "python3"
  },
  "language_info": {
   "codemirror_mode": {
    "name": "ipython",
    "version": 3
   },
   "file_extension": ".py",
   "mimetype": "text/x-python",
   "name": "python",
   "nbconvert_exporter": "python",
   "pygments_lexer": "ipython3",
   "version": "3.6.1"
  }
 },
 "nbformat": 4,
 "nbformat_minor": 1
}
