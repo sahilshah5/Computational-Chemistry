{
 "cells": [
  {
   "cell_type": "markdown",
   "metadata": {},
   "source": [
    "## Settings"
   ]
  },
  {
   "cell_type": "markdown",
   "metadata": {},
   "source": [
    "We will ask you to do something to make things easier during the lab. You only need to run the cell here below. It contains few lines of code that will change two lines from the script that ASE uses to run GULP calculations. Once the file has been modified it should not change, but if you want to be sure to have the right version, just run the cell below again and see the output message that you get."
   ]
  },
  {
   "cell_type": "code",
   "execution_count": 1,
   "metadata": {},
   "outputs": [
    {
     "name": "stdout",
     "output_type": "stream",
     "text": [
      "The changes have been succesfully applied\n"
     ]
    }
   ],
   "source": [
    "from ase.calculators import gulp\n",
    "import inspect\n",
    "\n",
    "#Identify where the gulp module we are using is imported from (the path of the gulp.py file)\n",
    "file_p = inspect.getfile(gulp)\n",
    "\n",
    "#Save the gulp.py file into a python list called 'lines'\n",
    "lines = open(file_p).read().splitlines()\n",
    "\n",
    "#First check if the file has already been modified. If this is the case, the first line will match\n",
    "#'The file has already been modified: you are good to go!'.\n",
    "#Otherwise, the loop looks for the two lines to modify and replaces them with the correct one\n",
    "#Finally a message to let you know that all went well is printed!\n",
    "if lines[0] == '#gulp.py customised for the MgO TE lab':\n",
    "    print('The file has already been modified: you are good to go!')   \n",
    "else:\n",
    "    for i, line in enumerate(lines):\n",
    "        if line.find(\"cell_params = self.atoms.get_cell_lengths_and_angles()\") != -1:\n",
    "            lines[i+1] = \"            s += 'cell\\\\n{0} {1} {2} {3} {4} {5}\\\\n'.format(*(np.around(cell_params,4)))\"\n",
    "        if line.find(\"self.optimized = None\") != -1:\n",
    "            lines[i+2] = \"            m = re.match(r'\\s*Total\\s*\\S+\\s*energy\\s*=\\s*(\\S+)\\s*eV', line)\"\n",
    "    open(file_p,'w').write(\"#gulp.py customised for the MgO TE lab\\n\")\n",
    "    open(file_p,'a').write('\\n'.join(lines))\n",
    "    print('The changes have been succesfully applied')"
   ]
  },
  {
   "cell_type": "code",
   "execution_count": null,
   "metadata": {},
   "outputs": [],
   "source": []
  }
 ],
 "metadata": {
  "kernelspec": {
   "display_name": "Python 3",
   "language": "python",
   "name": "python3"
  },
  "language_info": {
   "codemirror_mode": {
    "name": "ipython",
    "version": 3
   },
   "file_extension": ".py",
   "mimetype": "text/x-python",
   "name": "python",
   "nbconvert_exporter": "python",
   "pygments_lexer": "ipython3",
   "version": "3.6.6"
  }
 },
 "nbformat": 4,
 "nbformat_minor": 2
}
