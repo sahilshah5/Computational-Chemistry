{
 "cells": [
  {
   "cell_type": "markdown",
   "metadata": {},
   "source": [
    "# Introduction to Molecular Modelling - Workshop 2"
   ]
  },
  {
   "cell_type": "markdown",
   "metadata": {},
   "source": [
    "[Dr. Kim Jelfs](mailto:k.jelfs@imperial.ac.uk) and [Dr. João Pedro Malhado](mailto:malhado@imperial.ac.uk), Department of Chemistry, Imperial College London"
   ]
  },
  {
   "cell_type": "markdown",
   "metadata": {},
   "source": [
    "If text is in <font color=\"#3399ff\">blue</font>, then there is a question related to that text in the Blackboard Quiz for today's Workshop.\n",
    "\n",
    "First we need to include libraries for plotting and numerical functions by executing\n",
    "\n",
    "    %pylab inline"
   ]
  },
  {
   "cell_type": "code",
   "execution_count": null,
   "metadata": {
    "collapsed": false
   },
   "outputs": [],
   "source": []
  },
  {
   "cell_type": "markdown",
   "metadata": {},
   "source": [
    "## Introduction to SMILES notation\n",
    "\n",
    "SMILES stands for **S**implified **M**olecular-**I**nput **L**ine **E**ntry **S**ystem and can be used to describe molecular structures as strings - Dr. Anna Barnard introduced these to you in the CIT lecture last term. We will visualise the 3D structures of SMILES strings using Avogadro today, but we could also use special Python Libaries for Chemistry to do it within our Python Notebook ([RDKit](http://www.rdkit.org/)). SMILES notations can be a useful way to represent molecules as a string of characters rather than a set of coordinates, yet it is simple to convert between the two.\n",
    "\n",
    "The key rules of SMILES codes are:\n",
    "\n",
    "1. **Atoms** are represented by their chemical element symbol. For example [Ru]. For elements in typical organic molecules, such as 'C', 'N', 'O', 'Br', 'Cl', 'S', 'P', 'B' etc, you do not need the square brackets.\n",
    "\n",
    "2. **Bonds** between aliphatic carbons are assumed to single, unless stated otherwise. Therefore **CC** is a single carbon-carbon, whereas C=C is a double carbon-carbon bond. For a triple bond you use '#'.\n",
    "\n",
    "3. **Hydrogen** atoms are automatically accounted for in organic molecules, so you do not need to explicitly include them.\n",
    "\n",
    "3. **Aromatic** atoms are written with a small letter - i.e. 'c', 'n', 'o' etc.\n",
    "\n",
    "4. You can form **rings** by using numbers to label atoms that are connected. For example CCCCCC is a linear hexane molecule, whereas C1CCCCC1 is a cyclohexane.\n",
    "\n",
    "5. You can do **branching** with parentheses, for example CC(C)C is 2-methylpropane.\n",
    "\n",
    "6. You can assign specific **stereochemistry** around a double bond with \"/\" and \"\\\" characters, e.g. Br/C=C/Br is cis and Br/C=C\\Br is trans. For stereochemistry around a chiral carbon you use '@' and '@@' for opposite enantiomers, include the atoms with stereochemistry in square brackets and you must explicitly type the lightest atom e.g. Cl$\\lbrack$C@@H$\\rbrack$(C)N is this chiral molecule:\n",
    "\n",
    "<img src=\"Workshop2_data/Image_files/chiral_molecule_for_smiles.PNG\" style=\"max-width:100%; width: 20%\"/>\n",
    "\n",
    "## Exercise 5 - SMILES notation\n",
    "\n",
    "To convert a SMILES string to a 3D structure in Avogadro: Go to Build $\\rightarrow$ Insert $\\rightarrow$ SMILES, then type in your SMILES code. Avogadro will then come up with a rough geometry. Use the Auto-Optimiser when you don't get a sensible conformation.\n",
    "\n",
    "Insert the correct SMILES codes into the box below each of the following molecules - check them in Avogadro each time."
   ]
  },
  {
   "cell_type": "markdown",
   "metadata": {},
   "source": [
    "* 2-hexanol CC(O)CCCC"
   ]
  },
  {
   "cell_type": "markdown",
   "metadata": {
    "collapsed": true
   },
   "source": [
    " "
   ]
  },
  {
   "cell_type": "markdown",
   "metadata": {},
   "source": [
    "* Benzene c1ccccc1"
   ]
  },
  {
   "cell_type": "markdown",
   "metadata": {
    "collapsed": true
   },
   "source": [
    " "
   ]
  },
  {
   "cell_type": "markdown",
   "metadata": {},
   "source": [
    "* Toluene c1(C)ccccc1"
   ]
  },
  {
   "cell_type": "markdown",
   "metadata": {
    "collapsed": true
   },
   "source": [
    " "
   ]
  },
  {
   "cell_type": "markdown",
   "metadata": {},
   "source": [
    "* Vanillin: c1(O)c(OC)cc(C=O)cc1\n",
    "\n",
    "<img align=\"left\" src=\"Workshop2_data/Image_files/vanillin.PNG\" style=\"max-width:100%; width: 20%\"/>"
   ]
  },
  {
   "cell_type": "markdown",
   "metadata": {
    "collapsed": true
   },
   "source": [
    " "
   ]
  },
  {
   "cell_type": "markdown",
   "metadata": {},
   "source": [
    "* L-Alanine (make sure your SMILES code gets the right chirality in 3D): N[C@@H](C)C(=O)O\n",
    "\n",
    "<img align=\"left\" src=\"Workshop2_data/Image_files/alanine.PNG\" style=\"max-width:100%; width: 15%\"/>"
   ]
  },
  {
   "cell_type": "markdown",
   "metadata": {
    "collapsed": true
   },
   "source": [
    " "
   ]
  },
  {
   "cell_type": "markdown",
   "metadata": {},
   "source": [
    "## When SMILES turn to frowns..."
   ]
  },
  {
   "cell_type": "markdown",
   "metadata": {},
   "source": [
    "Below is a SMILES code for a porous organic imine molecule and an image of its conformation from a X-ray diffraction crystal structure (*Nature Materials* 8, 973 **2009**). Load this SMILES code into Avogadro. You should see how poor the 'rough' geometry is for Avogadro. Can you get the structure closer by manually manipulating the atoms, in combination with the Auto-Opt tool? Don't worry about getting it exactly right!\n",
    "\n",
    "    c1(C=NCCN=Cc2cc(C=NCCN=Cc3cc(C=NCC5)cc(C=NCC6)c3)cc(C=NCCN=Cc4cc(C=NCC7)cc(C=N6)c4)c2)cc(C=N7)cc(C=N5)c1\n",
    "    \n",
    "<img src=\"Workshop2_data/Image_files/CC1_image.png\" style=\"max-width:100%; width: 40%\"/>\n",
    "\n",
    "\n",
    "### An important lesson about the danger of using Auto-Opt without application of chemical intuition or further modelling studies.\n",
    "When the SMILES code is converted to a 3D structure by Avogadro, then a relatively simple algorithm is used to construct the geometry. You saw above how this works ok for simple molecules, but it fails for molecules with more complex 3D structures, such as this macrocylic porous organic imine molecule. What you may also have seen for some of your attempts, is that whilst a sensible geometry is constructed, when you use Auto-Opt it may not necessarily reach what you expect to be the lowest energy conformation for a system. We will revisit this in the next workshop, but for now, consider the two images below. These images are plots of a molecule's potential energy surface; on the left a contour map is shown and on the right a 3D plot is shown. If the initial structure you generate is closest to **local minimum, 1**, then the Auto-Opt tool will minimise the molecule's energy such that you reach the conformation that is the bottom of **local minimum, 1**. That is why with the above SMILES example, you needed to manually manipulate the structure until the Auto-Opt gave a more sensible structure - this is equivalent to trying to reach **global minimum, 2**; in our case the the conformation that is also the conformation in the experimentally reported crystal structure. In computational chemistry, **a lot** of effort is dedicated to the exploration of potential energy surfaces.\n",
    "\n",
    "**TAKE HOME MESSAGE**: Just because a structure is \"optimised\", it **does not** mean it is the lowest energy conformation for that structure or one that is likely to be experimentally observed.\n",
    "\n",
    "<img src=\"Workshop2_data/Image_files/PES_explan.png\" style=\"max-width:100%; width: 80%\"/>"
   ]
  },
  {
   "cell_type": "markdown",
   "metadata": {},
   "source": [
    "## Introduction to visualising solid state crystal structures in Mercury\n",
    "\n",
    "So far we have mostly been visualising individual molecules in Avogadro (or, in the case of graphite, a slab of that substance). When we want to visualise a solid state crystal structure, we will typically use other software that is better suited to this. The one we will use today is called Mercury (https://www.ccdc.cam.ac.uk/solutions/csd-system/components/mercury/) and makes visualisations of crystal structures easy. You can also install Mercury on your own computer - see accompanying handout for more information on how to do this.\n",
    "\n",
    "Open up Mercury: Start $\\rightarrow$ All Programs $\\rightarrow$  Mercury.\n",
    "\n",
    "Work out how to do the following:\n",
    "\n",
    "* Using the \"Structure Navigator\" on the right-hand side of the screen, navigate through structures in the database (Mercury comes with a database of 1000's of structures from the Cambridge Structural Database (CSD) - we'll be investigating these later). For now just take a look at a few of the structures.\n",
    "\n",
    "* Work out how to zoom in and out and how to rotate the unit cell.\n",
    "\n",
    "* Tick the \"Packing\" box in the Display Options menu (typically at the bottom of the window). This will show you the full unit cell of the system. Remember, with a periodic structure, anything coming out of the cell on one side is actually re-entering the cell on the opposite side (e.g. like a character running across a screen on a simple video game - they reenter on the opposite side.)"
   ]
  },
  {
   "cell_type": "markdown",
   "metadata": {},
   "source": [
    "## Exercise 6 - Look at the crystal structure of thalidomide"
   ]
  },
  {
   "cell_type": "markdown",
   "metadata": {},
   "source": [
    "A crystal structure of thalidomide (from *J. Chem. Soc. B*, 1073, **1971**) is in the \"Structure_files\" folder (where you opened the molecular structures from earlier). The file is called **thalidomide.cif**; a \"**.cif**\" file is a **C**rystallographic **I**nformation **F**ile, typically this would be the structure file that crystallographers will generate when they solve a crystal structure using X-ray diffraction.\n",
    "\n",
    "Open this file in Mercury by going to \"File $\\rightarrow$ Open\" and then navigating to the file. \n",
    "\n",
    "With the \"Packing\" display option ticked, you can now try out the following display options:\n",
    "\n",
    "* Go to \"Display $\\rightarrow$ Styles\" and choose in turn \"Ball and Stick\", then \"Spacefill\". With the spacefill option, think about how efficiently the molecules are packing. Typically molecules will be packing so as to minimise void space (effectively this increases the non-bonding interactions and therefore is a more stable crystal packing). Most organic molecules will display *polymorphism* - where a substance exists in more than one solid state form. This can be a big problem in pharmaceuticals - different polymorphs can have different physical and chemical properties and  biological activities. Moreover, a company can typically only patent *known* polymorphs, therefore if a competitor manages to crystallise a new polymorph, this could allow them to circumvent the patent.\n",
    "\n",
    "* Click the box in Display options to show \"H-bond\", this is more easily visualised with the \"Ball and Stick\" option. Take a look at the structure, do you think hydrogen-bonding is a significant factor in this solid state form of thalidomide?\n",
    "\n",
    "* Go to \"Calculate $\\rightarrow$ Packing/Slicing\" and click on \"2 x 2 x 2\", this will display a 2x2x2 *supercell* of the unit cell i.e. 8 cells in total. This should help you get a better idea of the 3D solid state structure.\n",
    "\n",
    "* Try out changing the \"Colour:\" option (typically at the top of the window) to \"by Symmetry equivalence\", all molecules that are symmetry equivalent are now shown in the same colour.\n",
    "\n",
    "* Save an image of your structure, \"File $\\rightarrow$ Save As\" and choose an image file type (e.g. **.png .tiff .bmp .jpeg**) \n",
    "\n",
    "* As an aside, if you ever want to 3D print a molecule - it's easy to get the input file for the printing by saving your molecule in Mercury: \"File $\\rightarrow$ Print in 3D\". More details here: https://www.ccdc.cam.ac.uk/Community/blog/post-56/\n",
    "\n",
    "* If you click on the \"More Info\" button, you can scroll through and get a lot of information about the structure (it will vary with different **cif** files as to precisely what information is provided). <font color=\"#3399ff\">Take a look at this information for your thalidomide structure.</font>\n",
    "\n",
    "* Mercury can also simulate a powder X-ray diffraction pattern for the system - click on \"Powder...\" in the Display Options at the bottom. This can play a role in helping you to work out the solid state structure of a substance you've synthesised.\n",
    "\n",
    "* Finally, look at the chirality of the system, <font color=\"#3399ff\">is this an enantiopure solid state structure (and if so, is it *R* or *S*?) or is it a racemate solid state structure?</font>"
   ]
  },
  {
   "cell_type": "markdown",
   "metadata": {},
   "source": [
    "## Introduction to searching the CCDC for structures with ConQuest\n",
    "\n",
    "We can use some other software from the Cambridge Crystallographic Database Centre, called ConQuest, to search for structures that are deposited in the Cambridge Structural Database (CSD). The CSD was established in 1965 and is a repository for small molecule organic and metal-organic crystal structures (https://www.ccdc.cam.ac.uk/solutions/csd-system/components/CSD/). There are currently over 800,000 structures and this is continually increasing, as it is routine for researchers who are reporting new crystal structures in a journal article to deposit that structure in the CSD. This is an excellent resource, not only for finding the solid state structures of a substance, but also for analysing trends in systems.\n",
    "\n",
    "The software we will use to search for structures is called ConQuest. It is installed on all the Chemistry cluster computers - just navigate to:\n",
    "Start $\\rightarrow$ All Programs $\\rightarrow$  ConQuest.\n",
    "\n",
    "* The first time you open ConQuest on the cluster, you will be asked to accept the license agreement and then to choose the file location for saving any files resulting from searches (it is up to you whether you want to use the default location or another location).\n",
    "\n",
    "* Now a ConQuest search window should have opened up.\n",
    "\n",
    "* When we search for structures, we can \"Build Queries\" using any of the categories that are shown as buttons on the left hand side of the window, or indeed any combination of these. Try clicking on each of these categories to see what they would involve, for example:\n",
    "\n",
    "    1. \"Draw\" - you can draw the chemical sketch of the molecule or fragment that you are looking for in a substance.\n",
    "    \n",
    "    2. \"Author/Journal\" - if you are reading a paper and want to see if a crystal structure was reported for that substance, you can enter information about the journal reference.\n",
    "    \n",
    "    3. \"Name/Class\" - you can search for a compound name (e.g. hydrazine) or chemical class (e.g. porphyrins).\n",
    "    \n",
    "    4. \"Elements\" - you can specify that you require certain elements to be in the substance or set other restrictions on the elements.\n",
    "    \n",
    "    5. \"Formula\"\n",
    "    \n",
    "    6. \"Spacegroup\" - you can specify features of the symmetry of the system (more about this in later lecture courses!).\n",
    "    \n",
    "    7. \"Unit cell\" - if you have a rough idea of the unit cell dimensions of a structure.\n",
    "    \n",
    "    8. \"Density\"\n",
    "    \n",
    "    9. \"Refcode\" - this could be reported in a paper, so you could very quickly look up that structure. Indeed, this \"refcode\" is what the structures are labelled as in the right hand \"Structure Navigator\" toolbar in Mercury.\n",
    "    \n",
    "    \n",
    "* Now let's try to find the solid state structure for thalidomide. First click on \"Draw\". Now draw the chemical structure of thalidomide. The drawing of structures is similar to in ChemDraw, but with some differences - it will require some trial and error to work out how to do this, but remember you can always use \"Ctrl-Z\" to undo an action, or use the \"Erase\" button to delete atoms/bonds. You don't need to worry about the 3D geometry of the molecule (or specifying the stereochemistry), but what needs to be correct is the connectivity of the bonding. \n",
    "\n",
    "* When you have the structure drawn, go to 'Atoms' $\\rightarrow$ 'Hydrogen' $\\rightarrow$ 'Generate' $\\rightarrow$ 'All atoms', this will add in any missing hydrogen atoms - if you don't do this you will get too many structures.\n",
    "\n",
    "* When you are happy with the structure, click on the \"Search\" button. Click to select the filter \"3D coordinates determined\" - because we want structures where the coordinates are determined (as opposed to structures that just contain the unit cell parameters, but where the actual atom coordinates have not been determined).\n",
    "\n",
    "* If your search has worked correctly, then you should have found 5 deposited structures - and the refcodes of them should be encouraging that you have found thalidomide. The refcodes are \"THALID12, THALID03, THALID10, THALID11, ZORBEP\". It is quite common for several structures to be deposited with the same 6 letters at the start (i.e. \"THALID\"), but with different numbers at the end, these are just different forms/reports of the same substance.\n",
    "\n",
    "* If your search has not worked and these are not the structures you have, then don't worry, try again. You should go back to the \"Build Queries\" tab. You can either start a new query, by clicking on the \"Draw\" button again, or you can go to your original query, \"Query 1\" and click \"edit\" to try to edit that query to get the correct structure. If you're stuck, then ask a demonstrator.\n",
    "\n",
    "* Once you have the right structure codes in your \"View Results\" tab, use the options on the left to look through different features of the different structures. You can see how the 5 structures come from reports of 5 different journal articles by different authors, that the X-ray crystal structure was solved at different temperatures (in the \"Experimental\" information) and sometimes information like the \"habit\" of the crystals is provided - this is the shape of the crystals themselves (in the \"Crystal\" information).\n",
    "\n",
    "* Now you know the refcodes, you can also look at the structures in Mercury. If you open Mercury again, then in the \"Structure Navigator\" on the right hand side, enter \"THALID\" and it will move to that part of the database. Have a look at how the structures vary. THALID01 is a structure without the atom coordinates (just the cell parameters - the size of the unit cell - were determined), therefore it didn't turn up in your ConQuest search (and is not so interesting to us). THALID11 and THALID03 are pretty much the same - you can see this if you tick the \"Multiple Structures\" box at the bottom of the \"Structure Navigator\" and then select one structure after another - you will see they overlay (although there are small differences in atomic positions). Can you work out which are racemates and which are enantiopure solid state structures?\n",
    "\n",
    "* In other searches, you might want to just download and save the crystal structure (**.cif**) from Conquest directly. To do this, select the structure(s) you want to download, then go to \"File $\\rightarrow$ Export Entries As $\\rightarrow$ and save as a **.cif**. Alternatively you can export directly to Mercury with \"File $\\rightarrow$ View Entries in Mercury\"."
   ]
  },
  {
   "cell_type": "markdown",
   "metadata": {},
   "source": [
    "## Exercise 7 - Examine models of substances that you have made/will make this year in Organic and Inorganic synthesis labs.\n",
    "\n",
    "### Substances you made in \"Introduction to Synthesis Lab\" in Term 1\n",
    "\n",
    "* **Copper iodide (CuI)**: you made the \"gamma\" form of this, $\\gamma$-CuI (*The Canadian Mineralogist* 35 785-786 **1997**). Open this structure, **gamma_CuI.cif**, in Mercury - the structure is in the \"SyntheticLabStructures\" folder. Now compare this to another form that is found elsewhere in the phase diagram of CuI - the $\\beta$-CuI form - found between 390 and 440°C (*Crystal Structures* 1 85-237 **1963**) - the structure file is called **beta_CuI.cif**. Make sure you have the \"Packing\" button ticked and a supercell displayed for the $\\beta$-CuI structure, so that you can see it properly. \n",
    "Look at the Cu-I bond lengths in each system (you can do this via the \"More Info\" button in Mercury, rather than needing to manually measure them yourself). Also take a look at the density - if you can't see a density reported in your Structure tab, then click the \"Customise...\" button and add \"Density (CCDC)\", then it should appear. <font color=\"#3399ff\">how do bond lengths compare across the forms? Did you synthesise the more or less dense form in the lab? Does it make sense that this would be the more stable form at room temperature?</font> You should be able to see that the coordination numbers for both Cu and I are 4 in each of the forms.\n",
    "\n",
    "* **Click reaction**: build a model of the product of your click reaction between phenyl acetylene and benzyl azide (as below). Before you do this, ask yourself whether you expect the molecule to be planar or not? When you have a model, auto-optimise with MMFF94s. When you are confident you have a low energy structure (perhaps compare with your neighbours), then save this model as a **.xyz** file in the \"Structures_built_in_lab\" folder. Is it a planar structure?\n",
    "\n",
    "    <img src=\"Workshop2_data/Image_files/Click_product.png\" style=\"max-width:100%; width: 65%\"/>\n",
    "\n",
    "    Now search the CSD to see if any crystal structures have been reported for this structure (it is up to you what search parameters you use). <font color=\"#3399ff\">What are the first 6 letters of the refcode for this structure?</font> Look at the structure(s) in Mercury, how do they compare to what you just drew manually? Report in the below box the number of structure(s) you found and if it was more than one, then what were the main differences between the structure(s) and your structure?"
   ]
  },
  {
   "cell_type": "markdown",
   "metadata": {
    "collapsed": true
   },
   "source": [
    " "
   ]
  },
  {
   "cell_type": "markdown",
   "metadata": {},
   "source": [
    "### Substances you will make in the Synthesis Labs in Term 3"
   ]
  },
  {
   "cell_type": "markdown",
   "metadata": {},
   "source": [
    "* **Metal complex structures**: You will synthesise three transition metal complexes, which you will be finding out more about in Dr. James Wilton-Ely's lecture course in Term 3. These compounds are:\n",
    "\n",
    "    1. [CuCl$_4$][(CH$_3$CH$_2$)$_2$NH$_2$]$_2$\n",
    "\n",
    "    2. [NiCl$_2$(PPh$_3$)$_2$]\n",
    "\n",
    "    3. [NiCl$_2$(dppe)] (dppe = 1,2-bis(diphenylphosphino)ethane, i.e. Ph$_2$PCH$_2$CH$_2$PPh$_2$)\n",
    "\n",
    "    In the lab you will use infra-red and ultraviolet spectroscopy to probe their coordination geometries (e.g. are the four coordinate complexes square planar or tetrahedral geometry?). For the second complex, build a model - you will have to just pick a geometry and isomer for now (in the lab you will be asked to think about the number of isomers for each). This is a complex with 4 ligands, two Cl groups (each forming Ni-Cl bonds) and two PPh$_3$ groups (each forming Ni-PPh$_{3}$ bonds).\n",
    "    \n",
    "    **Hint**: Using the \"Build $\\rightarrow$ Insert $\\rightarrow$ Fragment\" option could save you some effort in drawing the ligands. Use Auto-Opt, you might need to try a few different forcefields - what do you notice about how the forcefields deal with these transition metal complexes? How 'right' can you get your model to look? In later computational labs, you will use Quantum Mechanical simulations to model transition metal complexes. This is a lesson about forcefields - they don't work well for systems they haven't been parameterised to describe (and the forcefields available in Avogadro are generally for organic systems and not transition metal complexes). Save your best guess at a structure as a **.xyz** file.    "
   ]
  },
  {
   "cell_type": "markdown",
   "metadata": {},
   "source": [
    "* **Hydration of alkenes**: You learned about the hydration of alkenes in Dr. Mountford's course in Term 1. In Term 3 you will perform the acid-catalysed hydration of 1-hexene, as below. Construct the product of the reaction, 2-hexanol, thinking about why you get a regioselective hydration (you covered this last term) and why getting an enantioselective hydration to produce chiral alcohols is still an active area of research. Use Auto-Opt and your chemical intuition to get a low energy structure and then save your molecule as a **.xyz** file.\n",
    "\n",
    "    <img src=\"Workshop2_data/Image_files/alkene_hydration.png\" style=\"max-width:100%; width: 50%\"/>\n",
    "\n",
    "    Now search the CSD to see if any crystal structures have been reported for this substance. <font color=\"#3399ff\">What features do you observe in the crystal structures you find? Co-crystals (i.e. the crystal structure contains more than one molecular component)? Disorder of the 2-hexanol atomic positions (where the atomic coordinates of the 2-hexanol are poorly resolved in the crystal structure (i.e the atomic coordinates give a unreasonable conformation of 2-hexanol)?</font> "
   ]
  },
  {
   "cell_type": "markdown",
   "metadata": {
    "collapsed": true
   },
   "source": [
    "### More help:"
   ]
  },
  {
   "cell_type": "markdown",
   "metadata": {},
   "source": [
    "* Avogadro tutorials: http://avogadro.cc/wiki/Category:Tutorials\n",
    "\n",
    "* Mercury tutorials/user guide: [https://www.ccdc.cam.ac.uk/support-and-resources](https://www.ccdc.cam.ac.uk/support-and-resources/CCDCResources/?rt=-1&mc=-1&p=0e7591ad-2201-e411-99f5-00505686f06e&so=0)\n",
    "\n",
    "* Books with good information on Molecular Modelling for beginners:\n",
    "    1. Molecular Modelling: Principles and Applications, A. R. Leach, 2nd Edition, Pearson.\n",
    "    2. Understanding Molecular Simulation, D. Frenkel & B. Smit, 2nd Edition, Academic Press.\n",
    "    3. Essentials of Computational Chemistry, C. J. Cramer, 2nd Edition, Wiley."
   ]
  },
  {
   "cell_type": "markdown",
   "metadata": {},
   "source": [
    "### <font color=\"red\">IMPORTANT</font>\n",
    "\n",
    "Now submit **ALL** the files you've saved and this completed and saved notebook onto Blackboard as a **single zip file**. \n",
    "\n",
    "To do this, navigate to the files in Windows Explorer, highlight the notebook and all the folders that contain the files you've saved. Then right-click, point to 'Send to', and then click 'Compressed (zipped) folder'. This should create a zip file in the same location. Upload this zip file to Blackboard. \n",
    "\n",
    "<font color=\"red\">*Note*</font>: When marking last year, we found many people only uploaded the notebook and not all the files they'd created as well. Double-check you have uploaded all the files as a single zip file - you could check this by redownloading the zip file from Blackboard and opening it to check. If you're still not sure, check with a demonstrator. We will expect the files you've created *as well as* the notebook when we check your uploads."
   ]
  }
 ],
 "metadata": {
  "kernelspec": {
   "display_name": "Python [default]",
   "language": "python",
   "name": "python3"
  },
  "language_info": {
   "codemirror_mode": {
    "name": "ipython",
    "version": 3
   },
   "file_extension": ".py",
   "mimetype": "text/x-python",
   "name": "python",
   "nbconvert_exporter": "python",
   "pygments_lexer": "ipython3",
   "version": "3.5.2"
  }
 },
 "nbformat": 4,
 "nbformat_minor": 0
}
