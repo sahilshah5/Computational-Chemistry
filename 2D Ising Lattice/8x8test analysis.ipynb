{
 "cells": [
  {
   "cell_type": "code",
   "execution_count": 10,
   "metadata": {},
   "outputs": [
    {
     "name": "stdout",
     "output_type": "stream",
     "text": [
      "Populating the interactive namespace from numpy and matplotlib\n"
     ]
    }
   ],
   "source": [
    "%pylab inline"
   ]
  },
  {
   "cell_type": "code",
   "execution_count": 32,
   "metadata": {
    "collapsed": true
   },
   "outputs": [],
   "source": [
    "x8data=np.loadtxt('8x8test.dat')"
   ]
  },
  {
   "cell_type": "code",
   "execution_count": 33,
   "metadata": {},
   "outputs": [
    {
     "data": {
      "text/plain": [
       "array([[  2.50000000e-01,  -1.28000000e+02,   1.63840000e+04,\n",
       "          6.40000000e+01,   4.09600000e+03],\n",
       "       [  7.50000000e-01,  -1.28000000e+02,   1.63840000e+04,\n",
       "          6.40000000e+01,   4.09600000e+03],\n",
       "       [  1.25000000e+00,  -1.26827157e+02,   1.60951194e+04,\n",
       "          6.35928299e+01,   4.04616983e+03],\n",
       "       [  1.75000000e+00,  -1.06797000e+02,   1.15551960e+04,\n",
       "         -3.45030000e+01,   1.64206040e+03],\n",
       "       [  2.25000000e+00,  -8.98602000e+01,   8.27042800e+03,\n",
       "         -1.15051000e+01,   8.83364200e+02],\n",
       "       [  2.75000000e+00,  -7.62620000e+01,   6.11459520e+03,\n",
       "          1.10696000e+01,   5.46790800e+02],\n",
       "       [  3.25000000e+00,  -6.26586000e+01,   4.16916400e+03,\n",
       "         -2.60660000e+00,   3.20314800e+02],\n",
       "       [  3.75000000e+00,  -5.04993680e+01,   2.80843280e+03,\n",
       "          5.01053289e-01,   2.52348787e+02],\n",
       "       [  4.25000000e+00,  -4.26411842e+01,   2.05281532e+03,\n",
       "          4.18267821e-01,   1.92973111e+02],\n",
       "       [  4.75000000e+00,  -3.76870000e+01,   1.62024240e+03,\n",
       "          6.74000000e-02,   2.07306400e+02]])"
      ]
     },
     "execution_count": 33,
     "metadata": {},
     "output_type": "execute_result"
    }
   ],
   "source": [
    "x8data"
   ]
  },
  {
   "cell_type": "code",
   "execution_count": 34,
   "metadata": {},
   "outputs": [
    {
     "data": {
      "text/plain": [
       "array([ 0.25,  0.75,  1.25,  1.75,  2.25,  2.75,  3.25,  3.75,  4.25,  4.75])"
      ]
     },
     "execution_count": 34,
     "metadata": {},
     "output_type": "execute_result"
    }
   ],
   "source": [
    "x = x8data[:,0]\n",
    "x"
   ]
  },
  {
   "cell_type": "code",
   "execution_count": 35,
   "metadata": {
    "collapsed": true
   },
   "outputs": [],
   "source": [
    "energy = x8data[:,1]/64\n",
    "mag = x8data[:,3]/64"
   ]
  },
  {
   "cell_type": "code",
   "execution_count": 56,
   "metadata": {},
   "outputs": [
    {
     "data": {
      "text/plain": [
       "Text(0, 0.5, 'Energy per spin')"
      ]
     },
     "execution_count": 56,
     "metadata": {},
     "output_type": "execute_result"
    },
    {
     "data": {
      "image/png": "[encoded data removed]",
      "text/plain": [
       "<Figure size 432x288 with 1 Axes>"
      ]
     },
     "metadata": {},
     "output_type": "display_data"
    }
   ],
   "source": [
    "plt.plot(x, energy, 'x')\n",
    "plt.errorbar(x,energy,yerr=stee)\n",
    "xlabel(\"Temperature\")\n",
    "ylabel(\"Energy per spin\")"
   ]
  },
  {
   "cell_type": "code",
   "execution_count": 49,
   "metadata": {
    "collapsed": true
   },
   "outputs": [],
   "source": [
    "var = x8data[:,2]/64/64 - (x8data[:,1]/64)**2\n",
    "std = var**0.5"
   ]
  },
  {
   "cell_type": "code",
   "execution_count": 55,
   "metadata": {},
   "outputs": [
    {
     "data": {
      "text/plain": [
       "array([ 0.        ,  0.        ,  0.00015619,  0.00060434,  0.00069099,\n",
       "        0.00085396,  0.00077034,  0.00079403,  0.00075672,  0.00069865])"
      ]
     },
     "execution_count": 55,
     "metadata": {},
     "output_type": "execute_result"
    }
   ],
   "source": [
    "stee=std/((100000)**0.5)\n",
    "stee"
   ]
  },
  {
   "cell_type": "code",
   "execution_count": 62,
   "metadata": {},
   "outputs": [
    {
     "data": {
      "text/plain": [
       "array([  0.00000000e+00,   0.00000000e+00,   7.19735588e-05,\n",
       "         1.05002254e-03,   1.35406368e-03,   1.01773190e-03,\n",
       "         8.74888995e-04,   7.84520860e-04,   6.86074806e-04,\n",
       "         7.11412714e-04])"
      ]
     },
     "execution_count": 62,
     "metadata": {},
     "output_type": "execute_result"
    }
   ],
   "source": [
    "varm = x8data[:,4]/64/64 - (x8data[:,3]/64)**2\n",
    "stdm = varm**0.5\n",
    "stem=stdm/((100000)**0.5)\n",
    "stem"
   ]
  },
  {
   "cell_type": "code",
   "execution_count": 63,
   "metadata": {},
   "outputs": [
    {
     "data": {
      "text/plain": [
       "Text(0, 0.5, 'Magnetisation per spin')"
      ]
     },
     "execution_count": 63,
     "metadata": {},
     "output_type": "execute_result"
    },
    {
     "data": {
      "image/png": "[encoded data removed]",
      "text/plain": [
       "<Figure size 432x288 with 1 Axes>"
      ]
     },
     "metadata": {},
     "output_type": "display_data"
    }
   ],
   "source": [
    "plt.plot(x, mag, 'x')\n",
    "plt.errorbar(x,mag,yerr=stem)\n",
    "xlabel(\"Temperature\")\n",
    "ylabel(\"Magnetisation per spin\")"
   ]
  },
  {
   "cell_type": "code",
   "execution_count": null,
   "metadata": {
    "collapsed": true
   },
   "outputs": [],
   "source": []
  }
 ],
 "metadata": {
  "kernelspec": {
   "display_name": "Python 3",
   "language": "python",
   "name": "python3"
  },
  "language_info": {
   "codemirror_mode": {
    "name": "ipython",
    "version": 3
   },
   "file_extension": ".py",
   "mimetype": "text/x-python",
   "name": "python",
   "nbconvert_exporter": "python",
   "pygments_lexer": "ipython3",
   "version": "3.6.3"
  }
 },
 "nbformat": 4,
 "nbformat_minor": 2
}
