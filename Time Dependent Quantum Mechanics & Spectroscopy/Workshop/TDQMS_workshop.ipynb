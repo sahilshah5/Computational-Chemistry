{
 "cells": [
  {
   "cell_type": "markdown",
   "metadata": {},
   "source": [
    "# Time-dependent Quantum Mechanics workshop\n",
    "\n",
    "The aim of this workshop is to explore the dynamics of a few simple 1D quantum models and characterise their dynamics.\n",
    "\n",
    "## Note on the system of units\n",
    "\n",
    "All the code we will be using in this workshop is written in the atomic system of units, which is characterised by setting the value of the following constants to unity:\n",
    "\n",
    "* Electron mass m<sub>e</sub>=1.\n",
    "* Magnitude of the electron charge e=1.\n",
    "* Reduced Plank's constant &hbar;=1\n",
    "* Coulomb's constant 1/(4&pi;&epsilon;<sub>0</sub>)=1.\n",
    "\n",
    "This results in the following unit relations:\n",
    "\n",
    "| Dimension | Atomic unit | Conversion to SI |\n",
    "| --------- | ----------- | ---------------- |\n",
    "| time | atomic time unit | 0.02419 fs |\n",
    "| length | Bohr (a<sub>0</sub>) | 0.5292 &Aring; |\n",
    "| mass | electron mass (m<sub>e</sub>) | 9.109&times;10<sup>-31</sup>kg |\n",
    "| energy | Hartree (E<sub>h</sub>) | 4.360&times;10<sup>-18</sup>J |\n",
    "\n",
    "For the type os systems we are using, the following relations for mass and energy are probably more useful: 1&nbsp;m<sub>e</sub> = 5.486&times;10<sup>-4</sup>&nbsp;g.mol<sup>-1</sup> and 1&nbsp;E<sub>h</sub> = 27.21&nbsp;eV."
   ]
  },
  {
   "cell_type": "markdown",
   "metadata": {},
   "source": [
    "## Discrete representation of the wavefunction\n",
    "\n",
    "As a mathematical object, the wavefunction &psi;(x,t) is a complex (as in containing both real and imaginary parts) continuous function of x and t. Such continuous representation is not practical for a computer implementation, so both space and time are discretised in small intervals.\n",
    "x can be represented as an array of real numbers representing a 1D grid of points in space. &psi; is going to be an array of complex numbers with the values of &psi; for each position of x at a given time t.\n",
    "\n",
    "Let us start plotting some wavefunctions."
   ]
  },
  {
   "cell_type": "code",
   "execution_count": 35,
   "metadata": {},
   "outputs": [
    {
     "name": "stdout",
     "output_type": "stream",
     "text": [
      "Using matplotlib backend: Qt5Agg\n",
      "Populating the interactive namespace from numpy and matplotlib\n"
     ]
    },
    {
     "name": "stderr",
     "output_type": "stream",
     "text": [
      "C:\\Users\\sahil\\Anaconda3\\lib\\site-packages\\IPython\\core\\magics\\pylab.py:160: UserWarning: pylab import has clobbered these variables: ['angle', 'gamma']\n",
      "`%matplotlib` prevents importing * from pylab and numpy\n",
      "  \"\\n`%matplotlib` prevents importing * from pylab and numpy\"\n"
     ]
    }
   ],
   "source": [
    "%pylab\n",
    "# we don't use the inline version of the command as the animations of the wavefunctions\n",
    "# we will be seeing must run outside of the notebook. All the plots will show up on a\n",
    "# separate window, but that is ok."
   ]
  },
  {
   "cell_type": "markdown",
   "metadata": {},
   "source": [
    "The function gwp() below gives the values of a gaussian wavepacket wavefunction for a point in space for a given set of parameters."
   ]
  },
  {
   "cell_type": "code",
   "execution_count": 2,
   "metadata": {
    "collapsed": true
   },
   "outputs": [],
   "source": [
    "def gwp(x,xc,pc,alpha,gamma):\n",
    "    \"\"\"Gaussian wavepacket in one dimension.\"\"\"\n",
    "    \n",
    "    return (2/pi*real(alpha))**0.25 * exp(-alpha*(x-xc)**2 + 1j*pc*(x-xc) + 1j*gamma)"
   ]
  },
  {
   "cell_type": "markdown",
   "metadata": {},
   "source": [
    "Set up a grid in space, choose some parameters, and plot the wavefunction (look at the magnitude, real and imaginary parts)."
   ]
  },
  {
   "cell_type": "code",
   "execution_count": 3,
   "metadata": {
    "collapsed": true
   },
   "outputs": [],
   "source": [
    "x=linspace(-1,2,1000)\n",
    "xc=1\n",
    "pc=1\n",
    "alpha=1\n",
    "gamma=1\n",
    "plot(x, imag(gwp(x,xc,pc,alpha, gamma)),label='Imaginary')\n",
    "plot(x, real(gwp(x,xc,pc,alpha, gamma)),label='Real')\n",
    "plot(x, abs(gwp(x,xc,pc,alpha, gamma)),label='Modulus')\n",
    "xlabel('x')\n",
    "ylabel('$\\psi$')\n",
    "legend()\n",
    "show()"
   ]
  },
  {
   "cell_type": "markdown",
   "metadata": {},
   "source": [
    "## Propagating the wavefunction in time\n",
    "\n",
    "From the accompanying file qdyn.py we will be using the following two functions:"
   ]
  },
  {
   "cell_type": "code",
   "execution_count": 4,
   "metadata": {
    "collapsed": true
   },
   "outputs": [],
   "source": [
    "from qdyn import propagator, animate_dynamics"
   ]
  },
  {
   "cell_type": "markdown",
   "metadata": {},
   "source": [
    "The function propagator() is responsible for evolving in time the wavefunction &psi;(x,t<sub>0</sub>) by a given time interval (time step) &Delta;t, to obtain &psi;(x,t<sub>0</sub>+&Delta;t). This operation is achieved by applying the time-evolution operator (or propagator):\n",
    "\n",
    "$$\\psi(x,t_0+\\Delta t)=e^{-i \\hat{H} \\Delta t}\\psi(x,t_0).$$\n",
    "\n",
    "(Recall that in our system of units &hbar;=1.)\n",
    "\n",
    "The evolution of the system in time will depend on the form of the Hamiltonian, more specifically on the form of the potential V(x). Below are defined a few simple potential functions."
   ]
  },
  {
   "cell_type": "code",
   "execution_count": 5,
   "metadata": {
    "collapsed": true
   },
   "outputs": [],
   "source": [
    "def V_flat(x):\n",
    "    \"A flat potential\"\n",
    "    \n",
    "    return 0*x\n",
    "\n",
    "def V_step(x,pos,height):\n",
    "    \"Step potential\"\n",
    "    \n",
    "    result=zeros(len(x))\n",
    "    result[x>pos]=height\n",
    "    return result\n",
    "\n",
    "def V_harm(x,x0,k):\n",
    "    \"Harmonic oscillator\"\n",
    "    \n",
    "    return k/2*(x-x0)**2"
   ]
  },
  {
   "cell_type": "markdown",
   "metadata": {},
   "source": [
    "Let us now use the function propagator() to propagate the wavefunction you have defined above on a flat potential by one small time step. Look at the help/documentation provided with the propagator() function to see what parameters it needs."
   ]
  },
  {
   "cell_type": "code",
   "execution_count": 13,
   "metadata": {
    "collapsed": true
   },
   "outputs": [],
   "source": [
    "propagator?"
   ]
  },
  {
   "cell_type": "markdown",
   "metadata": {},
   "source": [
    "You need to choose the mass of the system. It could be for example the reduced mass of the O<sub>2</sub> molecule. For the time step &Delta;t=50au is usually small enough. Make sure that your space grid is also big enough to \"include all\" the wavepacket."
   ]
  },
  {
   "cell_type": "code",
   "execution_count": 6,
   "metadata": {
    "collapsed": true
   },
   "outputs": [],
   "source": [
    "m=32 #reduced mass of O2 in atomic units\n",
    "dt=50 #time step in atomic units\n",
    "\n",
    "new_wf=propagator(x,gwp(x,xc,pc,alpha, gamma),m,dt,V_flat)"
   ]
  },
  {
   "cell_type": "markdown",
   "metadata": {},
   "source": [
    "Plot on the same figure the wavefunction before and after the propagation and see what happened."
   ]
  },
  {
   "cell_type": "code",
   "execution_count": 31,
   "metadata": {},
   "outputs": [
    {
     "name": "stderr",
     "output_type": "stream",
     "text": [
      "C:\\Users\\sahil\\Anaconda3\\lib\\site-packages\\numpy\\core\\numeric.py:531: ComplexWarning: Casting complex values to real discards the imaginary part\n",
      "  return array(a, dtype, copy=False, order=order)\n"
     ]
    }
   ],
   "source": [
    "x=linspace(-10,50,10000)\n",
    "xc=1\n",
    "pc=100\n",
    "alpha=1\n",
    "gamma=10000\n",
    "m=14583 #reduced mass of O2 in atomic units\n",
    "dt=500 #time step in atomic units\n",
    "\n",
    "new_wf=propagator(x,gwp(x,xc,pc,alpha, gamma),m,dt,V_flat)\n",
    "plot(x, imag(gwp(x,xc,pc,alpha, gamma)),label='Imaginary')\n",
    "plot(x, real(gwp(x,xc,pc,alpha, gamma)),label='Real')\n",
    "plot(x, abs(gwp(x,xc,pc,alpha, gamma)),label='Modulus')\n",
    "plot(x,new_wf, label='Propagating')\n",
    "plot(x, imag(new_wf),label='Imaginary Propagating')\n",
    "plot(x, real(new_wf),label='Real Propagating')\n",
    "xlabel('x')\n",
    "ylabel('$\\psi$')\n",
    "legend()\n",
    "show()"
   ]
  },
  {
   "cell_type": "markdown",
   "metadata": {},
   "source": [
    "To actually study the evolution of the wavefunction in time, we need to repeatedly apply the propagator and record the wavefunction after each time step propagation. We will thus construct a 2D array where each row in the wavefunction values for all points in space at a particular time t."
   ]
  },
  {
   "cell_type": "code",
   "execution_count": 8,
   "metadata": {
    "collapsed": true
   },
   "outputs": [],
   "source": [
    "# Define the space grid\n",
    "x=linspace(-20,20,10000)\n",
    "# Define the initial wavefunction. You can choose a gaussian wavepacket.\n",
    "x=linspace(-10,50,10000)\n",
    "xc=1\n",
    "pc=1\n",
    "alpha=5\n",
    "gamma=10\n",
    "psi0=gwp(x,xc,pc,alpha, gamma)\n",
    "\n",
    "# Add the initial wavefunction to the array with the wavefunction evolution\n",
    "wf_dynamics=array([psi0])\n",
    "\n",
    "for steps in range(100): # How many time steps/how many times to apply the propagator\n",
    "    psi=propagator(x,wf_dynamics[-1],m,dt,V_flat) # Apply the propagator to the last element in the array\n",
    "    wf_dynamics=append(wf_dynamics,[psi],axis=0) # Add the new wavefunction to the array"
   ]
  },
  {
   "cell_type": "markdown",
   "metadata": {},
   "source": [
    "It is important you understand how the code above is working as it is a template to use every time we want to propagate a wavefunction.\n",
    "\n",
    "Now that we have an array with the wavefunction at different moments in time we can plot them in sequence to produce an animation using the function animate_dynamics(). (Check the function help to see how it is used.)"
   ]
  },
  {
   "cell_type": "code",
   "execution_count": 32,
   "metadata": {
    "collapsed": true
   },
   "outputs": [],
   "source": [
    "animate_dynamics?"
   ]
  },
  {
   "cell_type": "code",
   "execution_count": 42,
   "metadata": {},
   "outputs": [
    {
     "data": {
      "text/plain": [
       "<matplotlib.animation.FuncAnimation at 0x1a5530c51d0>"
      ]
     },
     "execution_count": 42,
     "metadata": {},
     "output_type": "execute_result"
    }
   ],
   "source": [
    "animate_dynamics(x,wf_dynamics,dt,V_flat(x))"
   ]
  },
  {
   "cell_type": "markdown",
   "metadata": {},
   "source": [
    "Depending on the number of steps in your dynamics and how you set up the system, the wavepacket might have reached the end of the space grid. If this happened you will see strage (unphysical) artifacts first appearing in the opposite end of the grid and expanding to all of the wavefunction. These are due to the technical implementation of the propagator, and it is important to be able to identify when it happens, since the results from that moment in time onwards are *completely unphysical* and cannot be used. **The remedy is to repeat the propagation with a bigger space grid.**\n",
    "\n",
    "If your wavepacket did not reach the end of the grid, increase the number of time steps such as to observe the anomalous results."
   ]
  },
  {
   "cell_type": "markdown",
   "metadata": {},
   "source": [
    "### Step potential\n",
    "\n",
    "Let us consider a system which has a step potential at a given position x=pos. Set up a system starting as a gaussian wavepacket localised on x&lt;pos part of the grid and a positive momentum, such that its centre moves to higher x values."
   ]
  },
  {
   "cell_type": "code",
   "execution_count": 43,
   "metadata": {},
   "outputs": [
    {
     "data": {
      "text/plain": [
       "<matplotlib.animation.FuncAnimation at 0x1a54d78e5f8>"
      ]
     },
     "execution_count": 43,
     "metadata": {},
     "output_type": "execute_result"
    }
   ],
   "source": [
    "x=linspace(-10,10,10000)\n",
    "pos= 5\n",
    "height=0.75\n",
    "xc=1\n",
    "pc=1\n",
    "alpha=5\n",
    "gamma=10\n",
    "psi0=gwp(x,xc,pc,alpha, gamma)\n",
    "\n",
    "# Add the initial wavefunction to the array with the wavefunction evolution\n",
    "wf_dynamics=array([psi0])\n",
    "\n",
    "for steps in range(100): # How many time steps/how many times to apply the propagator\n",
    "    psi=propagator(x,wf_dynamics[-1],m,dt,V_step,pos,height) # Apply the propagator to the last element in the array\n",
    "    wf_dynamics=append(wf_dynamics,[psi],axis=0) # Add the new wavefunction to the array\n",
    "animate_dynamics(x,wf_dynamics,dt,V_step(x,pos,height))"
   ]
  },
  {
   "cell_type": "markdown",
   "metadata": {},
   "source": [
    "Choose the hight of the potential step, propagate the system in time and record the dynamics."
   ]
  },
  {
   "cell_type": "code",
   "execution_count": null,
   "metadata": {
    "collapsed": true
   },
   "outputs": [],
   "source": []
  },
  {
   "cell_type": "markdown",
   "metadata": {},
   "source": [
    "Look at the dynamics of the system. Make sure you don't observe end of grid artifacts. If so, repeat the dynamics by adjusting the size of the space grid, the position of the step or the initial position of the wavepacket."
   ]
  },
  {
   "cell_type": "code",
   "execution_count": null,
   "metadata": {
    "collapsed": true
   },
   "outputs": [],
   "source": []
  },
  {
   "cell_type": "markdown",
   "metadata": {},
   "source": [
    "Repeat the dynamics adjusting the hight of the potential step (or the initial momentum of the wavepacket), such that you can observe tunneling and transmission over the step potential."
   ]
  },
  {
   "cell_type": "markdown",
   "metadata": {},
   "source": [
    "### Harmonic oscillator\n",
    "\n",
    "The function eigen_ho() below give the eigenfunctions of the harmonic oscillator centred at x=0 of any vibrational quantum number v."
   ]
  },
  {
   "cell_type": "code",
   "execution_count": 18,
   "metadata": {
    "collapsed": true
   },
   "outputs": [],
   "source": [
    "from numpy.polynomial.hermite import hermval\n",
    "\n",
    "def eigen_ho(x,v,m,k):\n",
    "    \"\"\"Calculates the eigenfunction of the harmonic oscillator system.\n",
    "    \n",
    "    Arguments\n",
    "    x: is a space coordinate.\n",
    "    v: is the vibrational quantum number.\n",
    "    m: is the mas of the system.\n",
    "    k: is the force constant of the harmonic potential.\n",
    "    \"\"\"\n",
    "    \n",
    "    hermite_sum=zeros(v+1)\n",
    "    hermite_sum[-1]=1\n",
    "    return 1/(2**v * math.factorial(v))**0.5 * (((m*k)**0.5)/pi)**0.25 * np.e**(-x**2 * ((m*k)**0.5)/2) * hermval((m*k)**0.25 * x,hermite_sum) "
   ]
  },
  {
   "cell_type": "markdown",
   "metadata": {},
   "source": [
    "Consider an initial state which is one of the eigenstates of the system and propagate it in time.\n",
    "\n",
    "You can try to use a frequency for the harmonic oscillator corresponding to some physical system (a diatomic molecule for example), or just choose an arbitrary value of 1, 2, 10, something else."
   ]
  },
  {
   "cell_type": "code",
   "execution_count": 47,
   "metadata": {},
   "outputs": [
    {
     "data": {
      "text/plain": [
       "<matplotlib.animation.FuncAnimation at 0x1a553097eb8>"
      ]
     },
     "execution_count": 47,
     "metadata": {},
     "output_type": "execute_result"
    }
   ],
   "source": [
    "x=linspace(-10,10,10000)\n",
    "x0=0\n",
    "v=0\n",
    "m=10000\n",
    "k=0.01\n",
    "psi0=eigen_ho(x,v,m,k)\n",
    "\n",
    "# Add the initial wavefunction to the array with the wavefunction evolution\n",
    "wf_dynamics=array([psi0])\n",
    "\n",
    "for steps in range(100): # How many time steps/how many times to apply the propagator\n",
    "    psi=propagator(x,wf_dynamics[-1],m,dt,V_harm,x0,k) # Apply the propagator to the last element in the array\n",
    "    wf_dynamics=append(wf_dynamics,[psi],axis=0) # Add the new wavefunction to the array\n",
    "animate_dynamics(x,wf_dynamics,dt,V_harm(x,x0,k))"
   ]
  },
  {
   "cell_type": "markdown",
   "metadata": {},
   "source": [
    "Consider now an initial state which is a linear combination of the first 2 eigenstates of the harmonic oscillator. Observe how the wavefunction evolves in time in this case."
   ]
  },
  {
   "cell_type": "code",
   "execution_count": 26,
   "metadata": {
    "collapsed": true
   },
   "outputs": [],
   "source": [
    "def LC(x,c0,c1,v,m,k):\n",
    "    lc=c0*eigen_ho(x,v,m,k)+c1*eigen_ho(x,v,m,k)\n",
    "    return lc"
   ]
  },
  {
   "cell_type": "code",
   "execution_count": 30,
   "metadata": {},
   "outputs": [
    {
     "data": {
      "text/plain": [
       "<matplotlib.animation.FuncAnimation at 0x1a54d994b70>"
      ]
     },
     "execution_count": 30,
     "metadata": {},
     "output_type": "execute_result"
    }
   ],
   "source": [
    "x=linspace(-10,10,10000)\n",
    "x0=0\n",
    "v=0\n",
    "m=10000\n",
    "k=0.01\n",
    "c0=1\n",
    "c1=2\n",
    "xc=1\n",
    "pc=1\n",
    "alpha=5\n",
    "gamma=10\n",
    "psi0=LC(x,c0,c1,v,m,k)\n",
    "\n",
    "# Add the initial wavefunction to the array with the wavefunction evolution\n",
    "wf_dynamics=array([psi0])\n",
    "\n",
    "for steps in range(100): # How many time steps/how many times to apply the propagator\n",
    "    psi=propagator(x,wf_dynamics[-1],m,dt,V_harm,x0,k) # Apply the propagator to the last element in the array\n",
    "    wf_dynamics=append(wf_dynamics,[psi],axis=0) # Add the new wavefunction to the array\n",
    "animate_dynamics(x,wf_dynamics,dt,V_harm(x,x0,k))"
   ]
  },
  {
   "cell_type": "markdown",
   "metadata": {},
   "source": [
    "Build an initial gaussian wavepacket on an harmonic potential and propagate it in time.\n",
    "\n",
    "The condition on the &alpha; gaussian wavepacket parameter to obtain a coherent state is (in atomic units):\n",
    "\n",
    "$$\\alpha_0=\\frac{m \\omega}{2}=\\frac{\\sqrt{m k}}{2},$$\n",
    "\n",
    "where &omega; and *k* are the numerical frequency and the force constant of the harmonic potential respectively.\n",
    "\n",
    "Inspect the dynamics both of a coherent state, and a so called squeezed state."
   ]
  },
  {
   "cell_type": "code",
   "execution_count": 41,
   "metadata": {},
   "outputs": [
    {
     "data": {
      "text/plain": [
       "<matplotlib.animation.FuncAnimation at 0x1a54dded8d0>"
      ]
     },
     "execution_count": 41,
     "metadata": {},
     "output_type": "execute_result"
    }
   ],
   "source": [
    "x=linspace(-10,10,10000)\n",
    "x0=0\n",
    "v=0\n",
    "m=10000\n",
    "k=0.01\n",
    "c0=1\n",
    "c1=2\n",
    "xc=1\n",
    "pc=1\n",
    "alpha=5\n",
    "gamma=10\n",
    "psi0=gwp(x,xc,pc,alpha, gamma)\n",
    "\n",
    "# Add the initial wavefunction to the array with the wavefunction evolution\n",
    "wf_dynamics=array([psi0])\n",
    "\n",
    "for steps in range(100): # How many time steps/how many times to apply the propagator\n",
    "    psi=propagator(x,wf_dynamics[-1],m,dt,V_harm,x0,k) # Apply the propagator to the last element in the array\n",
    "    wf_dynamics=append(wf_dynamics,[psi],axis=0) # Add the new wavefunction to the array\n",
    "animate_dynamics(x,wf_dynamics,dt,V_harm(x,x0,k))"
   ]
  },
  {
   "cell_type": "code",
   "execution_count": null,
   "metadata": {
    "collapsed": true
   },
   "outputs": [],
   "source": []
  },
  {
   "cell_type": "markdown",
   "metadata": {},
   "source": [
    "### Other potentials\n",
    "\n",
    "Time permitting, explore the dynamics in other potentials: something anharmonic (for example 4<sup>th</sup> order in x), the Morse potential, a smooth activation barrier,...\n",
    "\n",
    "Before you do that, please make sure you obtain below an autocorrelation function and a spectrum of the systems you tried so far."
   ]
  },
  {
   "cell_type": "markdown",
   "metadata": {},
   "source": [
    "## Autocorrelation function\n",
    "\n",
    "Now that we are equipped with a 2D array with the wavefunction at several moments in time, we can calculate the autocorrelation function of the system for those values of t.\n",
    "\n",
    "$$\\langle \\psi(0) | \\psi(t) \\rangle = \\int_{-\\infty}^{\\infty} \\psi^*(x,0)\\psi(x,t) dx.$$\n",
    "\n",
    "The integral in practice will not involve infinity, but will be an integral of our space grid of points.\n",
    "\n",
    "Such integral can be calculated using the trapezoidal rule implemented in Numpy function [trapz](https://docs.scipy.org/doc/numpy/reference/generated/numpy.trapz.html)."
   ]
  },
  {
   "cell_type": "code",
   "execution_count": null,
   "metadata": {
    "collapsed": true
   },
   "outputs": [],
   "source": [
    "from numpy import trapz"
   ]
  },
  {
   "cell_type": "markdown",
   "metadata": {},
   "source": [
    "To test the working of the integration let us use it in a known case:"
   ]
  },
  {
   "cell_type": "code",
   "execution_count": 33,
   "metadata": {},
   "outputs": [
    {
     "data": {
      "text/plain": [
       "0.99997902075083211"
      ]
     },
     "execution_count": 33,
     "metadata": {},
     "output_type": "execute_result"
    }
   ],
   "source": [
    "angle=linspace(0,pi/2,100)\n",
    "\n",
    "# Note the somewhat unusual order of the arguments\n",
    "trapz(cos(angle),angle)"
   ]
  },
  {
   "cell_type": "markdown",
   "metadata": {},
   "source": [
    "For a dynamics run stored in a 2D array wf_dynamics, consider the result of the following operation which is an intermediate step in the calculation of the autocorrelation function\n",
    "\n",
    "    conj(wf_dynamics[0])*wf_dynamics\n",
    "\n",
    "Calculate and plot the autocorrelation function for one of the harmonic oscillator cases you studied above."
   ]
  },
  {
   "cell_type": "code",
   "execution_count": 40,
   "metadata": {},
   "outputs": [
    {
     "name": "stderr",
     "output_type": "stream",
     "text": [
      "C:\\Users\\sahil\\Anaconda3\\lib\\site-packages\\numpy\\core\\numeric.py:531: ComplexWarning: Casting complex values to real discards the imaginary part\n",
      "  return array(a, dtype, copy=False, order=order)\n"
     ]
    },
    {
     "data": {
      "text/plain": [
       "[<matplotlib.lines.Line2D at 0x1a55033f3c8>]"
      ]
     },
     "execution_count": 40,
     "metadata": {},
     "output_type": "execute_result"
    }
   ],
   "source": [
    "auto_function=trapz(conj(wf_dynamics[0])*wf_dynamics, x)\n",
    "N=arange(len(auto_function))\n",
    "t=dt*N\n",
    "plot(t,auto_function)"
   ]
  },
  {
   "cell_type": "code",
   "execution_count": 39,
   "metadata": {},
   "outputs": [
    {
     "data": {
      "text/plain": [
       "101"
      ]
     },
     "execution_count": 39,
     "metadata": {},
     "output_type": "execute_result"
    }
   ],
   "source": [
    "range"
   ]
  },
  {
   "cell_type": "markdown",
   "metadata": {},
   "source": [
    "## The spectrum"
   ]
  },
  {
   "cell_type": "markdown",
   "metadata": {
    "collapsed": true
   },
   "source": [
    "The power spectrum of the system is calculated by doing the inverse Fourier transform of the autocorrelation function\n",
    "\n",
    "$$S(\\omega)=\\frac{1}{\\sqrt{2 \\pi}}\\int_{-\\infty}^\\infty \\langle \\psi(0) | \\psi(t) \\rangle e^{i \\omega t} d t$$\n",
    "\n",
    "Once more we need to discretise the integral and consider the limits with the interval of time for which we have autocorrelation function values. This is done by performing a discrete Fourier transform, which is implemented in the [numpy.fft](https://docs.scipy.org/doc/numpy/reference/routines.fft.html) submodule."
   ]
  },
  {
   "cell_type": "code",
   "execution_count": 44,
   "metadata": {
    "collapsed": true
   },
   "outputs": [],
   "source": [
    "from numpy.fft import fft,ifft,fftshift,ifftshift,fftfreq"
   ]
  },
  {
   "cell_type": "markdown",
   "metadata": {},
   "source": [
    "Even without going into the full details of the algorithm of the discrete Fourier transform, there are some details that we need to be aware of.\n",
    "\n",
    "The discrete Fourier transform receives an array with the values of the function at discrete values in time, and returns an array with the values of the transformed function at discrete values of frequency.\n",
    "\n",
    "Let us look at an example:"
   ]
  },
  {
   "cell_type": "code",
   "execution_count": 45,
   "metadata": {
    "collapsed": true
   },
   "outputs": [],
   "source": [
    "time=linspace(0,20,200) # Define a grid in time\n",
    "\n",
    "gauss_t=e**(-time**2/4) # Define a gaussian function of time\n",
    "\n",
    "# Obtain the Fourier transform of gauss_t. Note that the values are shifted by fftshit()\n",
    "gauss_w=fftshift(fft(gauss_t,norm=\"ortho\")) \n",
    "\n",
    "# Obtain the grid of frequency values. The d keyword specifies the spacing between time points.\n",
    "frequency=fftshift(fftfreq(len(time),d=0.1)) \n",
    "\n",
    "plot(frequency,abs(gauss_w)) # Plot the transformed function\n",
    "show()"
   ]
  },
  {
   "cell_type": "markdown",
   "metadata": {},
   "source": [
    "Note that because of the inner working of the Fast Fourier Transform algorithm we are using, the result of the fft() (and fftfreq()) functions is out of order: first all the positive frequency values are given and then all the negative values. The use of the fftshift() function give us arrays which are in the expected increasing frequency order.\n",
    "\n",
    "The resolution &Delta;&omega; of the frequency grid depends on the total length of the time interval (the time range), so if N is the number of points in the time grid and &Delta;t the spacing between them, then\n",
    "\n",
    "$$\\Delta\\omega=\\frac{\\sqrt{2\\pi}}{N \\Delta t}.$$\n",
    "\n",
    "The range of the frequency grid, spanning from [-&Omega;,&Omega;] depends on the resolution of the time grid:\n",
    "\n",
    "$$\\Omega=\\frac{\\sqrt{\\pi}}{\\Delta t}.$$\n",
    "\n",
    "If we thus want to increase the resolution of our spectrum, we must run the dynamics for longer and obtain the autocorrelation function at longer times. If we want to increase the range of frequencies in our spectrum (namely inspect high frequency components) we must use a smaller time step when propagating the wavefunction.\n",
    "\n",
    "We can now do the Fourier transform of our autocorrelation function to obtain the spectrum."
   ]
  },
  {
   "cell_type": "code",
   "execution_count": null,
   "metadata": {
    "collapsed": true
   },
   "outputs": [],
   "source": []
  }
 ],
 "metadata": {
  "kernelspec": {
   "display_name": "Python 3",
   "language": "python",
   "name": "python3"
  },
  "language_info": {
   "codemirror_mode": {
    "name": "ipython",
    "version": 3
   },
   "file_extension": ".py",
   "mimetype": "text/x-python",
   "name": "python",
   "nbconvert_exporter": "python",
   "pygments_lexer": "ipython3",
   "version": "3.6.3"
  }
 },
 "nbformat": 4,
 "nbformat_minor": 2
}
