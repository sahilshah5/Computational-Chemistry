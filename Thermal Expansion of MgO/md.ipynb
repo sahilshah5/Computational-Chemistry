{
 "cells": [
  {
   "cell_type": "markdown",
   "metadata": {},
   "source": [
    "# The Thermal Expansion of MgO - Molecular Dynamics"
   ]
  },
  {
   "cell_type": "markdown",
   "metadata": {},
   "source": [
    "Finally, we are going to calculate the volume of the MgO crystal, at different temperatures, by using molecular dynamics. <br>\n",
    "\n",
    "Molecular Dynamics is a technique for allowing a system to evolve in time according to Newton's second law. The atoms simply follow the trajectories that they would in reality and we can then compute properties as time averages of their behaviour.<br>\n",
    "\n",
    "First of all an initial configuration and initial velocities need to be assigned - here the initial configuration will be that of ideal MgO and the velocities will be random but scaled to produce roughly the target temperature.<br>\n",
    "\n",
    "MD computes the final volume at the requested temperature by using the Verlet algorithm:<br>\n",
    "    - Compute the forces on the atoms (F).\n",
    "    - Compute the accelerations a=F/m\n",
    "    - Update the velocities: Vnew = Vold + a * dt\n",
    "    - Update the positions of the atoms: Rnew = Rold + Vnew * dt\n",
    "    - Repeat until average properties like E and T settle down\n",
    "    - Once settled measure some properties.\n",
    "\n",
    "First, run the calculation for T=100K, a window will open to show you the cell used for this calculation. Then animate the motion of the atoms by using the cell below.<br>\n",
    "\n",
    "Increase the T from 100K in 100K intervals. As in the previous exercise you can do so by manually changing the T value in the input below, or you can write a for loop that will do that for you.\n",
    "\n",
    "\n",
    "<br><br>"
   ]
  },
  {
   "cell_type": "code",
   "execution_count": 2,
   "metadata": {},
   "outputs": [
    {
     "name": "stdout",
     "output_type": "stream",
     "text": [
      "100  (K) - Optimised Volume =  599.395871\n",
      "200  (K) - Optimised Volume =  600.717540\n",
      "300  (K) - Optimised Volume =  602.519445\n",
      "400  (K) - Optimised Volume =  604.131946\n",
      "500  (K) - Optimised Volume =  606.349864\n",
      "600  (K) - Optimised Volume =  608.202458\n",
      "700  (K) - Optimised Volume =  609.868299\n",
      "800  (K) - Optimised Volume =  611.745502\n",
      "900  (K) - Optimised Volume =  614.053593\n",
      "1000  (K) - Optimised Volume =  615.771646\n",
      "1100  (K) - Optimised Volume =  616.577072\n",
      "1200  (K) - Optimised Volume =  617.546364\n",
      "1300  (K) - Optimised Volume =  619.299785\n",
      "1400  (K) - Optimised Volume =  622.392857\n",
      "1500  (K) - Optimised Volume =  625.569894\n",
      "1600  (K) - Optimised Volume =  628.442520\n",
      "1700  (K) - Optimised Volume =  631.385027\n",
      "1800  (K) - Optimised Volume =  632.954446\n",
      "1900  (K) - Optimised Volume =  634.114118\n",
      "2000  (K) - Optimised Volume =  637.710825\n",
      "2100  (K) - Optimised Volume =  639.965565\n",
      "2200  (K) - Optimised Volume =  640.845050\n",
      "2300  (K) - Optimised Volume =  643.521629\n",
      "2400  (K) - Optimised Volume =  645.379390\n",
      "2500  (K) - Optimised Volume =  646.785384\n",
      "2600  (K) - Optimised Volume =  657.849444\n",
      "2700  (K) - Optimised Volume =  659.924701\n",
      "2800  (K) - Optimised Volume =  667.541364\n",
      "2900  (K) - Optimised Volume =  665.357700\n",
      "3000  (K) - Optimised Volume =  668.202153\n"
     ]
    }
   ],
   "source": [
    "#the imports first, always\n",
    "import numpy as np\n",
    "import re\n",
    "import os\n",
    "from ase.build import make_supercell\n",
    "from ase.io import Trajectory\n",
    "from ase.build import cut\n",
    "from os import remove\n",
    "from ase.spacegroup import crystal\n",
    "from ase.visualize import view\n",
    "from ase.calculators.gulp import GULP\n",
    "\n",
    "#SELECT THE TEMPERATURE\n",
    "T_range = np.arange(100,3100,100)\n",
    "# generate the crystal starting from a geometry that is close to the optimised one\n",
    "a = 4.1\n",
    "#generate the conventional cell\n",
    "MgO = crystal('MgO',basis=[[0.0,0.0,0.0],[0.5,0.5,0.5]],spacegroup=225,cellpar=[a, a, a, 90, 90, 90],primitive_cell=False)\n",
    "\n",
    "#select the size of the supercell\n",
    "supercell = 2\n",
    "#create the supercell\n",
    "MgO_SC_MD = make_supercell(MgO, supercell*np.identity(3))\n",
    "#visualise the cell\n",
    "view(MgO_SC_MD)\n",
    "\n",
    "for T in T_range:\n",
    "\n",
    "#name of the calculation\n",
    "    label='mgo_SC_MD_{}'.format(T)\n",
    "#select the options for the calculations\n",
    "    options = ['integrator leapfrog verlet',\n",
    "'ensemble npt 0.005 0.005',\n",
    "'temperature {}'.format(T),\n",
    "'equil 0.50 ps',\n",
    "'produ 0.50 ps',\n",
    "'timestep 0.001 ps',\n",
    "'sample 0.005 ps',\n",
    "'iterations 5 ',\n",
    "'dump every 5 noover {}.grs'.format(label)]\n",
    "#run the calculation\n",
    "    calc = GULP(label=label,keywords='conp md', library='ionic.lib', options=options)\n",
    "    MgO_SC_MD.calc = calc\n",
    "    MgO_SC_MD.get_potential_energy()\n",
    "#look for the optimised volume in the output\n",
    "    for line in reversed(list(open(label+'.got'))):\n",
    "        a = re.match(r'\\s*Cell volume\\s*\\S+\\s*\\S+\\s*=\\s*(\\S+)\\s*(\\S+)', line)\n",
    "        if a:\n",
    "            V_final = a.group(2)\n",
    "            print(T, ' (K) - Optimised Volume = ', a.group(2))\n",
    "            break\n",
    "#write the trajectory file to show the movement of the atoms at the temperature of the simulation\n",
    "traj = Trajectory('{}K.trj'.format(label), 'w')    \n",
    "for t in range(1,52):\n",
    "    with open('{}_{}.grs'.format(label,t)) as o:\n",
    "        pos_out = o.readlines()\n",
    "        new_cell = np.zeros((3, 3), dtype=float)\n",
    "        new_pos = np.zeros((MgO_SC_MD.get_number_of_atoms(), 3), dtype=float)\n",
    "        for i,line in enumerate(pos_out):\n",
    "            m =  re.match(r'vectors', line)\n",
    "            if m:\n",
    "                for j in range(0,3):\n",
    "                    new_cell[j] = [float(x) for x in pos_out[i+j+1].split()]\n",
    "            n = re.match(r'cartesian',line)\n",
    "            if n:\n",
    "                for j in range(0,MgO_SC_MD.get_number_of_atoms()):\n",
    "                    first = pos_out[i+j+1].split()\n",
    "                    first = first[2:5]\n",
    "                    new_pos[j] = [float(x) for x in pos_out[i+j+1].split()[2:5]]    \n",
    "        MgO_SC_MD.set_cell(new_cell)\n",
    "        MgO_SC_MD.set_positions(new_pos)\n",
    "        MgO_SC_MD_out = MgO_SC_MD\n",
    "        MgO_SC_MD_out = cut(MgO_SC_MD, origo=(MgO_SC_MD.get_center_of_mass(scaled=True)),extend=1.01)\n",
    "        traj.write(MgO_SC_MD_out)\n",
    "traj.close()\n",
    "#removing the files we don't need anymore to leave the directory clean\n",
    "for i in range(1,52):\n",
    "    if os.path.exists('./mgo_SC_MD_{}_{}.grs'.format(T,i)):\n",
    "        os.remove('./mgo_SC_MD_{}_{}.grs'.format(T,i))\n",
    "    else:\n",
    "        break\n"
   ]
  },
  {
   "cell_type": "code",
   "execution_count": 6,
   "metadata": {},
   "outputs": [
    {
     "name": "stdout",
     "output_type": "stream",
     "text": [
      "Figure(632.456x400)\n"
     ]
    }
   ],
   "source": [
    "#use this cell to animate the motion of the atoms. You will have to change the name of the .trj file\n",
    "! ase gui mgo_SC_MD_100K.trj 2> tmp"
   ]
  },
  {
   "cell_type": "markdown",
   "metadata": {},
   "source": [
    "**Questions**:<br>\n",
    "1. How is the cell we are using here different from the previous ones?<br>\n",
    "    - Why do we need a larger cell?<br>\n",
    "    - Is the cell we are using large enough? Explain why <br>\n",
    "    <br>\n",
    "2. Replot your data from the quasi-harmonic approximation calculations as, cell volume per formula unit vs temperature, and add some points from the MD runs at a few suitable temperatures.<br>\n",
    "    - How does the thermal expansion predicted by MD compare to that predicted by the quasi-harmonic approximation?<br>\n",
    "    - Why do the two methods produce different answers? How does the difference depend on temperature?<br>\n",
    "    \n",
    "    - What would happen to the cell volume at very high temperature in MD?<br>"
   ]
  },
  {
   "cell_type": "code",
   "execution_count": 1,
   "metadata": {},
   "outputs": [],
   "source": [
    "LD=[18.83646, 18.838231, 18.856162, 18.88998, 18.932453,\n",
    "    18.980046, 19.031143, 19.084962, 19.141205, 19.1995,\n",
    "    19.25986, 19.322305, 19.387173, 19.454059, 19.523336,\n",
    "    19.595184, 19.66983, 19.747549, 19.828679, 19.913637,\n",
    "    20.002943, 20.097259,20.197442, 20.304633, 20.420411,\n",
    "    20.547053, 20.688043,20.851781, 21.04992, 21.319006]\n",
    "LDT=[0,100,200,300,400,500,600,700,800,900,1000,1100,1200,1300,1400,1500,1600,1700,1800,1900,2000,2100,2200,2300,2400,2500,2600,2700,2800,2900]"
   ]
  },
  {
   "cell_type": "code",
   "execution_count": 2,
   "metadata": {},
   "outputs": [],
   "source": [
    "MD=[599.395871, 600.717540, 602.519445,  604.131946,  606.349864,\n",
    "    608.202458, 609.868299, 611.745502,  614.053593,  615.771646,\n",
    "    616.577072, 617.546364, 619.299785,  622.392857,  625.569894,\n",
    "    628.442520, 631.385027, 632.954446,  634.114118,  637.710825,\n",
    "    639.965565, 640.845050, 643.521629,  645.379390,  646.785384,\n",
    "    657.849444, 659.924701, 667.541364,  665.357700,  668.202153]\n",
    "MDT=LDT=[100,200,300,400,500,600,700,800,900,1000,1100,1200,1300,1400,1500,1600,1700,1800,1900,2000,2100,2200,2300,2400,2500,2600,2700,2800,2900,3000]"
   ]
  },
  {
   "cell_type": "code",
   "execution_count": 5,
   "metadata": {},
   "outputs": [
    {
     "name": "stdout",
     "output_type": "stream",
     "text": [
      "Populating the interactive namespace from numpy and matplotlib\n"
     ]
    },
    {
     "data": {
      "image/png": "[encoded data removed]",
      "text/plain": [
       "<Figure size 432x288 with 1 Axes>"
      ]
     },
     "metadata": {
      "needs_background": "light"
     },
     "output_type": "display_data"
    }
   ],
   "source": [
    "%pylab inline\n",
    "MD1=np.array(MD)/32\n",
    "plt.plot(MDT,MD1,label='Molecular Dynamics')\n",
    "plt.plot(LDT,LD, label='Lattice Dynamics')\n",
    "plt.xlabel('Temperature /K')\n",
    "plt.ylabel('Formula Unit Cell Volume /Å^3')\n",
    "plt.legend()\n",
    "plt.show()"
   ]
  },
  {
   "cell_type": "code",
   "execution_count": null,
   "metadata": {},
   "outputs": [],
   "source": []
  }
 ],
 "metadata": {
  "kernelspec": {
   "display_name": "Python 3",
   "language": "python",
   "name": "python3"
  },
  "language_info": {
   "codemirror_mode": {
    "name": "ipython",
    "version": 3
   },
   "file_extension": ".py",
   "mimetype": "text/x-python",
   "name": "python",
   "nbconvert_exporter": "python",
   "pygments_lexer": "ipython3",
   "version": "3.6.6"
  }
 },
 "nbformat": 4,
 "nbformat_minor": 2
}
