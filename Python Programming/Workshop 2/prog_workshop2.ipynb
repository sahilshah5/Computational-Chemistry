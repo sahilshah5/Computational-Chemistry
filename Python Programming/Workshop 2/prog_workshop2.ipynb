{
 "cells": [
  {
   "cell_type": "markdown",
   "metadata": {},
   "source": [
    "# Introduction to programming 2"
   ]
  },
  {
   "cell_type": "markdown",
   "metadata": {},
   "source": [
    "Clyde Fare and João Pedro Malhado, Imperial College London (contact: [python@imperial.ac.uk](mailto:python@imperial.ac.uk))\n",
    "\n",
    "\n",
    "This notebook is licensed under a [Creative Commons Attribution 4.0 (CC-by) license](http://creativecommons.org/licenses/by/4.0)"
   ]
  },
  {
   "cell_type": "markdown",
   "metadata": {},
   "source": [
    "## Overview"
   ]
  },
  {
   "cell_type": "markdown",
   "metadata": {},
   "source": [
    "You are by now familiar with the basic \"pieces\" that form a program is the form of variables of different types. We have also introduced *if* statements as a mechanism to introduce \"adaptability\" into the code according to circumstances. In this workshop we will introduce loops, which are the major work horse in many programming languages.\n",
    "\n",
    "In the second part of the workshop we will see how to build new functions, which provide a mechanism to break down code into smaller functional pieces."
   ]
  },
  {
   "cell_type": "markdown",
   "metadata": {},
   "source": [
    "## Revision on data types, lists, an a little more"
   ]
  },
  {
   "cell_type": "markdown",
   "metadata": {},
   "source": [
    "In the previous workshop of this series we looked at different data types used in programing, and associated operations. Different types of numbers (integers, floating point, complex); strings; booleans; and the data grouping type list. The function *type()* tests for the data type of a given object.\n",
    "\n",
    "    one=1\n",
    "    type(one==1)"
   ]
  },
  {
   "cell_type": "code",
   "execution_count": 1,
   "metadata": {},
   "outputs": [
    {
     "data": {
      "text/plain": [
       "bool"
      ]
     },
     "execution_count": 1,
     "metadata": {},
     "output_type": "execute_result"
    }
   ],
   "source": [
    "one=1\n",
    "type(one==1)"
   ]
  },
  {
   "cell_type": "markdown",
   "metadata": {},
   "source": [
    "Do you apreciate the difference between '=' and '==' above?\n",
    "The following expression encapsulates several of the concepts introduced in the previous workshop\n",
    "\n",
    "    mixtype=[1.0,\"1\",1,2j**2/(-4),[3**0]]"
   ]
  },
  {
   "cell_type": "code",
   "execution_count": 2,
   "metadata": {},
   "outputs": [],
   "source": [
    "mixtype=[1.0,\"1\",1,2j**2/(-4),[3**0]]"
   ]
  },
  {
   "cell_type": "markdown",
   "metadata": {},
   "source": [
    "What is the data type of the variable just defined?"
   ]
  },
  {
   "cell_type": "code",
   "execution_count": 3,
   "metadata": {},
   "outputs": [
    {
     "data": {
      "text/plain": [
       "list"
      ]
     },
     "execution_count": 3,
     "metadata": {},
     "output_type": "execute_result"
    }
   ],
   "source": [
    "type(mixtype)"
   ]
  },
  {
   "cell_type": "markdown",
   "metadata": {},
   "source": [
    "Can you identify the data type of all elements of the mixtype list? Use the cell below to test the different elements of the list."
   ]
  },
  {
   "cell_type": "code",
   "execution_count": 4,
   "metadata": {
    "scrolled": true
   },
   "outputs": [
    {
     "data": {
      "text/plain": [
       "float"
      ]
     },
     "execution_count": 4,
     "metadata": {},
     "output_type": "execute_result"
    }
   ],
   "source": [
    "type(0.1)"
   ]
  },
  {
   "cell_type": "code",
   "execution_count": 5,
   "metadata": {},
   "outputs": [
    {
     "data": {
      "text/plain": [
       "str"
      ]
     },
     "execution_count": 5,
     "metadata": {},
     "output_type": "execute_result"
    }
   ],
   "source": [
    "type(\"1\")"
   ]
  },
  {
   "cell_type": "code",
   "execution_count": 6,
   "metadata": {},
   "outputs": [
    {
     "data": {
      "text/plain": [
       "complex"
      ]
     },
     "execution_count": 6,
     "metadata": {},
     "output_type": "execute_result"
    }
   ],
   "source": [
    "type(2j**2/(-4))"
   ]
  },
  {
   "cell_type": "markdown",
   "metadata": {},
   "source": [
    "What is the data type of the element inside the last element of mixtype?"
   ]
  },
  {
   "cell_type": "code",
   "execution_count": 13,
   "metadata": {},
   "outputs": [
    {
     "data": {
      "text/plain": [
       "list"
      ]
     },
     "execution_count": 13,
     "metadata": {},
     "output_type": "execute_result"
    }
   ],
   "source": [
    "type(mixtype[4])"
   ]
  },
  {
   "cell_type": "markdown",
   "metadata": {},
   "source": [
    "How to proceed to retrieve last three elements of mixtype?"
   ]
  },
  {
   "cell_type": "code",
   "execution_count": 12,
   "metadata": {},
   "outputs": [
    {
     "data": {
      "text/plain": [
       "[1, (1-0j), [1]]"
      ]
     },
     "execution_count": 12,
     "metadata": {},
     "output_type": "execute_result"
    }
   ],
   "source": [
    "mixtype[2:]"
   ]
  },
  {
   "cell_type": "markdown",
   "metadata": {},
   "source": [
    "To achieve these tasks we have retrieved parts of the content of the list by specifying its position on the list, or equivalently its index. We can also test for the presence of a given element inside the list by using the keyword *in*\n",
    "\n",
    "    0 in mixtype"
   ]
  },
  {
   "cell_type": "code",
   "execution_count": 14,
   "metadata": {},
   "outputs": [
    {
     "data": {
      "text/plain": [
       "False"
      ]
     },
     "execution_count": 14,
     "metadata": {},
     "output_type": "execute_result"
    }
   ],
   "source": [
    "0 in mixtype"
   ]
  },
  {
   "cell_type": "markdown",
   "metadata": {},
   "source": [
    "Note that the output of the operation is not the element of the list but a boolean. The construction\n",
    "\n",
    "    0 in mixtype\n",
    "\n",
    "could be translated into english as the question\n",
    "\n",
    "    Is 0 inside mixtype?\n",
    "    \n",
    "This is a \"yes or no\" question, and thus the boolean reply.\n",
    "\n",
    "Now pose a \"question\" on mixtype that would be True."
   ]
  },
  {
   "cell_type": "code",
   "execution_count": 15,
   "metadata": {},
   "outputs": [
    {
     "data": {
      "text/plain": [
       "True"
      ]
     },
     "execution_count": 15,
     "metadata": {},
     "output_type": "execute_result"
    }
   ],
   "source": [
    "1 in mixtype"
   ]
  },
  {
   "cell_type": "markdown",
   "metadata": {},
   "source": [
    "In the last workshop we noticed the analogy between lists and strings. The keyword *in* can also be used to test for substrings inside strings\n",
    "\n",
    "    \"banana\" in \"bananarama\""
   ]
  },
  {
   "cell_type": "code",
   "execution_count": 16,
   "metadata": {},
   "outputs": [
    {
     "data": {
      "text/plain": [
       "True"
      ]
     },
     "execution_count": 16,
     "metadata": {},
     "output_type": "execute_result"
    }
   ],
   "source": [
    "\"banana\" in \"bananarama\""
   ]
  },
  {
   "cell_type": "markdown",
   "metadata": {},
   "source": [
    "We can use the boolean result of this operation in an *if* statement\n",
    "\n",
    "    if \"banana\" in \"bananarama\":\n",
    "        result=\"I love the eighties!\"\n",
    "    else:\n",
    "        result=\"Please choose a more exciting fruit\"\n",
    "        \n",
    "    result"
   ]
  },
  {
   "cell_type": "code",
   "execution_count": 19,
   "metadata": {},
   "outputs": [
    {
     "data": {
      "text/plain": [
       "'I love the eighties!'"
      ]
     },
     "execution_count": 19,
     "metadata": {},
     "output_type": "execute_result"
    }
   ],
   "source": [
    "if \"banana\" in \"bananarama\":\n",
    "    result=\"I love the eighties!\"\n",
    "else:\n",
    "    result=\"Please choose a more exciting fruit\"\n",
    "result"
   ]
  },
  {
   "cell_type": "markdown",
   "metadata": {},
   "source": [
    "## Repeating instructions: loops"
   ]
  },
  {
   "cell_type": "markdown",
   "metadata": {},
   "source": [
    "The main use of machines is to do things people cannot do, or to repeat the same task many times over. Computers are particularly suited to repeat logical tasks, and can do this in a much more efficient way than people. When programming a computer, repeating tasks is achieved via *loops*, which are a corner stone of many programming languages.\n",
    "\n",
    "In Python there are two types of loops: *for* loops are used when the number of repetitions is known *a priori*; *while* loops repeat the instruction until a specific test condition fails. We will look at how these two types of loops work in more detail."
   ]
  },
  {
   "cell_type": "markdown",
   "metadata": {},
   "source": [
    "### For loops"
   ]
  },
  {
   "cell_type": "markdown",
   "metadata": {},
   "source": [
    "Before starting looking at *for* loops, it is useful to look at the function *range()*. In doing so, we remind ourselves of how to obtain information about a particular function, or any other defined object. This is done by appending a question mark after the object name\n",
    "\n",
    "    range?"
   ]
  },
  {
   "cell_type": "code",
   "execution_count": 20,
   "metadata": {},
   "outputs": [],
   "source": [
    "range?"
   ]
  },
  {
   "cell_type": "markdown",
   "metadata": {},
   "source": [
    "On the window that poped up below, we can see the information about what the function *range* does. You should not be shy about using this functionality, use it whenever you have doubts about what a given object is or does.\n",
    "\n",
    "As the documentation about the function suggets, the range() function generates a virtual sequence of numbers, a sort of a counter, technically an iterator. If we use the function on its own we don't quite see what is happening\n",
    "\n",
    "    range(6)"
   ]
  },
  {
   "cell_type": "code",
   "execution_count": 21,
   "metadata": {},
   "outputs": [
    {
     "data": {
      "text/plain": [
       "range(0, 6)"
      ]
     },
     "execution_count": 21,
     "metadata": {},
     "output_type": "execute_result"
    }
   ],
   "source": [
    "range(6)"
   ]
  },
  {
   "cell_type": "markdown",
   "metadata": {},
   "source": [
    "Things become clearer when we make the result of the function range() explicit by transforming it into a list\n",
    "\n",
    "    list(range(6))"
   ]
  },
  {
   "cell_type": "code",
   "execution_count": 22,
   "metadata": {},
   "outputs": [
    {
     "data": {
      "text/plain": [
       "[0, 1, 2, 3, 4, 5]"
      ]
     },
     "execution_count": 22,
     "metadata": {},
     "output_type": "execute_result"
    }
   ],
   "source": [
    "list(range(6))"
   ]
  },
  {
   "cell_type": "markdown",
   "metadata": {},
   "source": [
    "When the function range is called with one argument, range() creates a sequence of numbers starting from 0 up to, but not including, the number specified. In this case, a sequence starting from 0 and ending in 5.\n",
    "\n",
    "A sequence starting on any other value can be created, by calling range() with 2 arguments\n",
    "\n",
    "    list(range(2,6))"
   ]
  },
  {
   "cell_type": "code",
   "execution_count": 23,
   "metadata": {},
   "outputs": [
    {
     "data": {
      "text/plain": [
       "[2, 3, 4, 5]"
      ]
     },
     "execution_count": 23,
     "metadata": {},
     "output_type": "execute_result"
    }
   ],
   "source": [
    "list(range(2,6))"
   ]
  },
  {
   "cell_type": "markdown",
   "metadata": {},
   "source": [
    "The number sequence is incremented by one by default, but we can specify any other increment with a third argument\n",
    "\n",
    "    list(range(0,10,2))"
   ]
  },
  {
   "cell_type": "code",
   "execution_count": 24,
   "metadata": {},
   "outputs": [
    {
     "data": {
      "text/plain": [
       "[0, 2, 4, 6, 8]"
      ]
     },
     "execution_count": 24,
     "metadata": {},
     "output_type": "execute_result"
    }
   ],
   "source": [
    "list(range(0,10,2))"
   ]
  },
  {
   "cell_type": "markdown",
   "metadata": {},
   "source": [
    "A decreasing sequence can be specifies with a negative step value, and in this case the start of the sequence is greater than the end\n",
    "\n",
    "    list(range(6,0,-1))"
   ]
  },
  {
   "cell_type": "code",
   "execution_count": 25,
   "metadata": {},
   "outputs": [
    {
     "data": {
      "text/plain": [
       "[6, 5, 4, 3, 2, 1]"
      ]
     },
     "execution_count": 25,
     "metadata": {},
     "output_type": "execute_result"
    }
   ],
   "source": [
    "list(range(6,0,-1))"
   ]
  },
  {
   "cell_type": "markdown",
   "metadata": {},
   "source": [
    "Now that we have a counter at hand, we can use it to guide a for loop. A very simple piece of code involving a for loop, that repeatedly prints a string to the screen, would be:\n",
    "\n",
    "    for i in range(20):\n",
    "        print(\"All work and no play makes Jack a dull boy.\")\n",
    "    print(\"I had enough!\")"
   ]
  },
  {
   "cell_type": "code",
   "execution_count": 26,
   "metadata": {},
   "outputs": [
    {
     "name": "stdout",
     "output_type": "stream",
     "text": [
      "All work and no play makes jack a dull boy.\n",
      "All work and no play makes jack a dull boy.\n",
      "All work and no play makes jack a dull boy.\n",
      "All work and no play makes jack a dull boy.\n",
      "All work and no play makes jack a dull boy.\n",
      "All work and no play makes jack a dull boy.\n",
      "All work and no play makes jack a dull boy.\n",
      "All work and no play makes jack a dull boy.\n",
      "All work and no play makes jack a dull boy.\n",
      "All work and no play makes jack a dull boy.\n",
      "All work and no play makes jack a dull boy.\n",
      "All work and no play makes jack a dull boy.\n",
      "All work and no play makes jack a dull boy.\n",
      "All work and no play makes jack a dull boy.\n",
      "All work and no play makes jack a dull boy.\n",
      "All work and no play makes jack a dull boy.\n",
      "All work and no play makes jack a dull boy.\n",
      "All work and no play makes jack a dull boy.\n",
      "All work and no play makes jack a dull boy.\n",
      "All work and no play makes jack a dull boy.\n",
      "I had enough!\n"
     ]
    }
   ],
   "source": [
    "for i in range(20):\n",
    "    print(\"All work and no play makes jack a dull boy.\")\n",
    "print(\"I had enough!\")"
   ]
  },
  {
   "cell_type": "markdown",
   "metadata": {},
   "source": [
    "Let us analyse in a bit more detail how this code is operating. The first line\n",
    "\n",
    "    for i in range(20):\n",
    "    \n",
    "iniciates the loop. In plain english it could read something like:\n",
    "\n",
    "    For each element we choose to call 'i' in the virtual counter range(20), execute the code that follows.\n",
    "\n",
    "Since our virtual counter has 20 elements, the loop will run 20 times.\n",
    "\n",
    "As with the *if* statement before, below the initial line and indented, we write the instructions to be executed at each loop cycle: the loop body. In this case, we print a string to the screen.\n",
    "\n",
    "The last print statement in our piece of code is not indented, it is **not** part of the loop body, and therefore will be executed after the loop has finished and only once.\n",
    "\n",
    "We re-examine the first line of the *for* loop to note that the element *i* is a variable that takes on a different value of range(20) (in this case) for each cycle of the loop. As with any variable, we could have used any name that we see fit, and we could use that variable within the loop body\n",
    "\n",
    "    for counter_number in range(1,20,2):\n",
    "        print(\"Sheep number \",counter_number)\n",
    "    print(\"The shepherd counted\",counter_number,\"sheep\")"
   ]
  },
  {
   "cell_type": "code",
   "execution_count": 27,
   "metadata": {},
   "outputs": [
    {
     "name": "stdout",
     "output_type": "stream",
     "text": [
      "Sheep number 1\n",
      "Sheep number 3\n",
      "Sheep number 5\n",
      "Sheep number 7\n",
      "Sheep number 9\n",
      "Sheep number 11\n",
      "Sheep number 13\n",
      "Sheep number 15\n",
      "Sheep number 17\n",
      "Sheep number 19\n",
      "The shepherd counted 19 sheep\n"
     ]
    }
   ],
   "source": [
    "for counter_number in range(1,20,2):\n",
    "    print(\"Sheep number\", counter_number)\n",
    "print(\"The shepherd counted\",counter_number,\"sheep\") "
   ]
  },
  {
   "cell_type": "markdown",
   "metadata": {},
   "source": [
    "Note that after the loop ends the loop variable can still be used and has the last value assigned.\n",
    "\n",
    "Instead of range(), we can also use any list in the loop definition. The loop variable will assume each value on the list, and the loop stops when the list reaches the end.\n",
    "\n",
    "    for item in [0,\"Wittgenstein\",1/137,\"孔夫子\"]:\n",
    "        print(\"List element \",item)"
   ]
  },
  {
   "cell_type": "code",
   "execution_count": 28,
   "metadata": {},
   "outputs": [
    {
     "name": "stdout",
     "output_type": "stream",
     "text": [
      "List element  0\n",
      "List element  Wittgenstein\n",
      "List element  0.0072992700729927005\n",
      "List element  孔夫子\n"
     ]
    }
   ],
   "source": [
    "for item in [0,\"Wittgenstein\",1/137,\"孔夫子\"]:\n",
    "    print(\"List element \",item)"
   ]
  },
  {
   "cell_type": "markdown",
   "metadata": {},
   "source": [
    "So far we have looked only at very simple loop bodies with only one print statement. In general, the loop body will contain some more sophisticated operation\n",
    "\n",
    "    for item in [0,\"Wittgenstein\",1/137,\"孔夫子\"]:\n",
    "        if type(item)==str:\n",
    "            print(item)\n",
    "        else:\n",
    "            print(\"Do not bother\")"
   ]
  },
  {
   "cell_type": "code",
   "execution_count": 29,
   "metadata": {},
   "outputs": [
    {
     "name": "stdout",
     "output_type": "stream",
     "text": [
      "Do not bother\n",
      "Wittgenstein\n",
      "Do not bother\n",
      "孔夫子\n"
     ]
    }
   ],
   "source": [
    "for item in [0,\"Wittgenstein\",1/137,\"孔夫子\"]:\n",
    "    if type(item)==str:\n",
    "        print(item)\n",
    "    else:\n",
    "        print(\"Do not bother\")"
   ]
  },
  {
   "cell_type": "markdown",
   "metadata": {},
   "source": [
    "*Loops are a fundamental part of programming, it is very important that you understand how they work. If there is anything that is not clear in the examples above, please ask a demonstrator.*"
   ]
  },
  {
   "cell_type": "markdown",
   "metadata": {},
   "source": [
    "#### Some loops in action"
   ]
  },
  {
   "cell_type": "markdown",
   "metadata": {},
   "source": [
    "Loops are the work horse of many programs, and when writing programs the future more often than not you will be using at least one loop. Now that we have some basic understanding of the *for* loop functionality, we will look at some examples where it is used to perform some meaningful tasks.\n",
    "\n",
    "We will now pretend that we don't know about the existence of function *len()* and will want to determine the length of a list *l* using a loop. First it is important to acknowledge that we could determine the length of a list by adding 1 repeatedly for each element of the list. Indeed the simple act of counting consists of successively incrementing our \"counter\" by 1. The recognition of the existence of a repetitive pattern is what indicates that we can use a loop to achieve the task.\n",
    "\n",
    "In order to determine the length of a list, we can define a variable *length* which we will update in the loop body as we \"travel\" through the list\n",
    "\n",
    "    l=[0,\"Wittgenstein\",1/137,\"孔夫子\"]\n",
    "    \n",
    "    length=0\n",
    "    for i in l:\n",
    "        length=length+1\n",
    "    length"
   ]
  },
  {
   "cell_type": "code",
   "execution_count": 30,
   "metadata": {},
   "outputs": [
    {
     "data": {
      "text/plain": [
       "4"
      ]
     },
     "execution_count": 30,
     "metadata": {},
     "output_type": "execute_result"
    }
   ],
   "source": [
    "l=[0,\"Wittgenstein\", 1/137,\"孔夫子\"]\n",
    "\n",
    "length=0\n",
    "for i in l:\n",
    "    length=length+1\n",
    "length"
   ]
  },
  {
   "cell_type": "markdown",
   "metadata": {},
   "source": [
    "This type of general structure is fairly common when using loops. \n",
    "\n",
    "* Define a *result* variable (in this case called *length*)\n",
    "* Give it an appropriate starting value (in our case, before the loop starts, we have not counted in any elements yet so we set length=0)\n",
    "* Set up the loop, where it starts and where it ends (in this case we loop over all elements of the list *l*)\n",
    "* Update the result variable in the loop body (we redefine the length variable at each step by adding 1 to the current value: length=length+1)\n",
    "* When the loop ends we should have the result variable should have the value we are looking for\n",
    "\n",
    "Note that in this case we are not making use of the loop variable *i* which is taking each value in the list, but we need to specify it in defining the loop.\n",
    "\n",
    "To make clearer how the loop is operating, we can insert a few print() statements. Note that inside the loop the print() statement comes after the *length* variable changes\n",
    "\n",
    "    length=0\n",
    "    print(\"Before the loop starts, length=\",length)\n",
    "    \n",
    "    for i in l:\n",
    "       length=length+1\n",
    "       print(\"In this loop cycle, the list element is \",i,\", and length=\",length)\n",
    "       \n",
    "    print(\"At the end of the loop, length=\",length)\n",
    "    length"
   ]
  },
  {
   "cell_type": "code",
   "execution_count": 31,
   "metadata": {},
   "outputs": [
    {
     "name": "stdout",
     "output_type": "stream",
     "text": [
      "Before the loop starts, length= 0\n",
      "In this loop cycle, the list element is  0 , and length= 1\n",
      "In this loop cycle, the list element is  Wittgenstein , and length= 2\n",
      "In this loop cycle, the list element is  0.0072992700729927005 , and length= 3\n",
      "In this loop cycle, the list element is  孔夫子 , and length= 4\n",
      "At the end of the loop, length= 4\n"
     ]
    },
    {
     "data": {
      "text/plain": [
       "4"
      ]
     },
     "execution_count": 31,
     "metadata": {},
     "output_type": "execute_result"
    }
   ],
   "source": [
    "length=0\n",
    "print(\"Before the loop starts, length=\", length)\n",
    "\n",
    "for i in l:\n",
    "    length=length+1\n",
    "    print(\"In this loop cycle, the list element is \",i,\", and length=\", length)\n",
    "    \n",
    "print(\"At the end of the loop, length=\", length)\n",
    "length"
   ]
  },
  {
   "cell_type": "markdown",
   "metadata": {},
   "source": [
    "Try now to adapt the code above to count the number of elements of the list *l* which are of type string. You can store this value as variable *string_count*."
   ]
  },
  {
   "cell_type": "code",
   "execution_count": 33,
   "metadata": {},
   "outputs": [
    {
     "data": {
      "text/plain": [
       "2"
      ]
     },
     "execution_count": 33,
     "metadata": {},
     "output_type": "execute_result"
    }
   ],
   "source": [
    "string_count=0\n",
    "\n",
    "for i in l:\n",
    "    if type(i)==str:\n",
    "        string_count=string_count+1\n",
    "string_count\n",
    "    "
   ]
  },
  {
   "cell_type": "markdown",
   "metadata": {},
   "source": [
    "Another example is how to calculate the factorial of a number *n* using a loop (we again pretend that such a function does not exist in the math python module). Once more, it is important to recognise that the calculation of a factorial can be seen as a repetition of multiplications of increasing integer numbers up to *n*.\n",
    "\n",
    "Following the same general structure as before: we define the result variable as *factorial*; set up a loop going from 1 to *n*; update *factorial* in the loop body.\n",
    "\n",
    "    n=99\n",
    "    \n",
    "    factorial=1\n",
    "    for i in range(1,n+1):\n",
    "        factorial=factorial*i\n",
    "    factorial"
   ]
  },
  {
   "cell_type": "code",
   "execution_count": 37,
   "metadata": {},
   "outputs": [
    {
     "data": {
      "text/plain": [
       "933262154439441526816992388562667004907159682643816214685929638952175999932299156089414639761565182862536979208272237582511852109168640000000000000000000000"
      ]
     },
     "execution_count": 37,
     "metadata": {},
     "output_type": "execute_result"
    }
   ],
   "source": [
    "n=99\n",
    "\n",
    "factorial=1\n",
    "for i in range(1,n+1):\n",
    "    factorial=factorial*i\n",
    "factorial"
   ]
  },
  {
   "cell_type": "markdown",
   "metadata": {},
   "source": [
    "That is a big number!\n",
    "\n",
    "Note the use of n+1 when using range(). Is it clear why we did it that way?\n",
    "\n",
    "If it is not clear how the code above is operating, choose a smaller value of *n* and insert some print() statements to guide you.\n",
    "If it is still not clear, do ask a demonstrator.\n",
    "\n",
    "#### Building lists\n",
    "\n",
    "Loops can be used to build lists. This is very useful and we will be doing this many times. To build a list we start with an empty list and repeatedly add new elements to it.\n",
    "\n",
    "Let us build a list with integer powers of 11 between -5 and 5.\n",
    "\n",
    "    powers11=[]\n",
    "    for i in range(-5,6):\n",
    "        powers11=powers11+[11**i]\n",
    "    powers11"
   ]
  },
  {
   "cell_type": "code",
   "execution_count": 38,
   "metadata": {},
   "outputs": [
    {
     "data": {
      "text/plain": [
       "[6.209213230591551e-06,\n",
       " 6.830134553650706e-05,\n",
       " 0.0007513148009015778,\n",
       " 0.008264462809917356,\n",
       " 0.09090909090909091,\n",
       " 1,\n",
       " 11,\n",
       " 121,\n",
       " 1331,\n",
       " 14641,\n",
       " 161051]"
      ]
     },
     "execution_count": 38,
     "metadata": {},
     "output_type": "execute_result"
    }
   ],
   "source": [
    "powers11=[]\n",
    "for i in range(-5,6):\n",
    "    powers11=powers11+[11**i]\n",
    "powers11"
   ]
  },
  {
   "cell_type": "markdown",
   "metadata": {},
   "source": [
    "The way we are incrementaly building the list is by at each cyle creating a single element list with the element we wish to add (in this case [11\\*\\*i]) and using the list concatenation operator '+' to join it to the existing list.\n",
    "\n",
    "The use of loops is very common when dealing with lists and transformations on lists. This is because we often want to apply a given operation or test to all elements of the list. As an example we will look on how to extract all the multiples of 3 from a list.\n",
    "\n",
    "We will go through all the elements of the list (here we will take a sequence of numbers between 1 and 20), test if the element is a multiple of 3, and if this is true we add this element to our result variable. The result variable is thus a new list, we will call mult3, that is initially empty and we incremently construct inside the loop.\n",
    "\n",
    "    sequence=list(range(1,21))\n",
    "    \n",
    "    mult3=[]\n",
    "    for i in sequence:\n",
    "        if i%3 == 0:\n",
    "            mult3=mult3+[i]\n",
    "    mult3"
   ]
  },
  {
   "cell_type": "code",
   "execution_count": 39,
   "metadata": {},
   "outputs": [
    {
     "data": {
      "text/plain": [
       "[3, 6, 9, 12, 15, 18]"
      ]
     },
     "execution_count": 39,
     "metadata": {},
     "output_type": "execute_result"
    }
   ],
   "source": [
    "sequence=list(range(1,21))\n",
    "\n",
    "mult3=[]\n",
    "for i in sequence:\n",
    "    if i%3==0:\n",
    "        mult3=mult3+[i]\n",
    "mult3"
   ]
  },
  {
   "cell_type": "markdown",
   "metadata": {},
   "source": [
    "A given element is only added to the mult3 list if the remainder of its division by 3 is zero."
   ]
  },
  {
   "cell_type": "markdown",
   "metadata": {},
   "source": [
    "### While loops"
   ]
  },
  {
   "cell_type": "markdown",
   "metadata": {},
   "source": [
    "An alternative form of introducing repetition in a program is by using a *while* loop, which is slightly more general than the *for* loop. Instead of repeating a piece of code a fixed number of times (which can be equal to the length of a list) like a *for* loop, a *while* repeats the action until a given test stops being True (i.e. becomes False).\n",
    "\n",
    "The *while* loop can be seen as an hybrid between an *if* statement and a *for* loop: an *if* statement executes a block of code **if** the result of a given test is True; a *while* loop repeatedly executes a block of code **while** the result of the test is True.\n",
    "\n",
    "We will look at an example where we are summing powers of 0.5 from 0 to 10 to see how the *while* loop works\n",
    "\n",
    "    s=0\n",
    "    i=0\n",
    "    while i<=10:\n",
    "        s=s+0.5**i\n",
    "        i=i+1\n",
    "    s"
   ]
  },
  {
   "cell_type": "code",
   "execution_count": 40,
   "metadata": {},
   "outputs": [
    {
     "data": {
      "text/plain": [
       "1.9990234375"
      ]
     },
     "execution_count": 40,
     "metadata": {},
     "output_type": "execute_result"
    }
   ],
   "source": [
    "s=0\n",
    "i=0\n",
    "while i<=10:\n",
    "    s=s+0.5**i\n",
    "    i=i+1\n",
    "s"
   ]
  },
  {
   "cell_type": "markdown",
   "metadata": {},
   "source": [
    "In the first two lines we are setting up variables that will manipulate in the loop. In the line\n",
    "\n",
    "    while i<=10:\n",
    "\n",
    "we are setting up the loop, including the test i<=10. Since the variable *i* has the value 0 when entering the loop, the test is true and the idented loop body below this line will repeatedly execute until the variable *i* is no longer less or equal to 10.\n",
    "\n",
    "As with the *for* loop before, we set up a *result* variable, here called *s*, that we initialize to 0 and will increment inside the loop in the line\n",
    "\n",
    "    s=s+0.5**i\n",
    "    \n",
    "Unlike the *for* loop, we must initialize and update a loop variable *i*. The update of the loop variable occurs inside the loop body in line\n",
    "\n",
    "    i=i+1\n",
    "    \n",
    "The update of the loop variable is a crutial step. Without it, *i* would always keep the value 0, the test i<=10 would always be True and the loop would continue for all eternity (in theory). This type of infinit loop is not an uncommon bug in programming, and is easy to fall into with a *while* loop. You can give it a try by removing the line of code that updates *i* and executing th cell. Your notebook is now locked in an infinite loop. **Do not panic.** Go to the 'Kernel' tab on the notebook menu and 'Interrupt' the kernel execution. *Lesson is: watch out for your test condition and make sure the loop will stop at some point.*"
   ]
  },
  {
   "cell_type": "markdown",
   "metadata": {},
   "source": [
    "A situation where using a *while* loop is advantageous is when performing a search for the first element in a sequence. We don't necessarily want to go through all the elements, we simple want to find the first. For example, the following code counts after how many characters does the first sentence in the text (represented by a string) has. Let us first define the text."
   ]
  },
  {
   "cell_type": "code",
   "execution_count": 41,
   "metadata": {},
   "outputs": [],
   "source": [
    "macbeth='''To-morrow, and to-morrow, and to-morrow,\n",
    "Creeps in this petty pace from day to day,\n",
    "To the last syllable of recorded time;\n",
    "And all our yesterdays have lighted fools\n",
    "The way to dusty death. Out, out, brief candle!\n",
    "Life's but a walking shadow, a poor player\n",
    "That struts and frets his hour upon the stage\n",
    "And then is heard no more. It is a tale\n",
    "Told by an idiot, full of sound and fury\n",
    "Signifying nothing.'''"
   ]
  },
  {
   "cell_type": "markdown",
   "metadata": {},
   "source": [
    "The code would look like\n",
    "\n",
    "    i=0\n",
    "    while macbeth[i]!= '.':\n",
    "        i=i+1\n",
    "    i"
   ]
  },
  {
   "cell_type": "code",
   "execution_count": 42,
   "metadata": {},
   "outputs": [
    {
     "data": {
      "text/plain": [
       "187"
      ]
     },
     "execution_count": 42,
     "metadata": {},
     "output_type": "execute_result"
    }
   ],
   "source": [
    "i=0\n",
    "while macbeth[i]!='.':\n",
    "    i=i+1\n",
    "i"
   ]
  },
  {
   "cell_type": "markdown",
   "metadata": {},
   "source": [
    "The loop will stop when pointing to the position *i* of the string with the full stop.\n",
    "\n",
    "We have been a bit careless writing this code however, the first sentence could have ended with a question or exclamation mark. Further, we could have a rather poorly written text with no punctuation, in which case our code would yield an infinite loop and block the computer. We should thus add the condition to stop the cycle if *i* reaches or exceeds the length of the string. Such safeguards could look like\n",
    "\n",
    "    i=0\n",
    "    while i<len(macbeth) and macbeth[i] not in '.!?':\n",
    "        i=i+1\n",
    "    i"
   ]
  },
  {
   "cell_type": "code",
   "execution_count": 44,
   "metadata": {},
   "outputs": [
    {
     "data": {
      "text/plain": [
       "187"
      ]
     },
     "execution_count": 44,
     "metadata": {},
     "output_type": "execute_result"
    }
   ],
   "source": [
    "i=0\n",
    "while i<len(macbeth) and macbeth[i] not in '.!?':\n",
    "    i=i+1\n",
    "i"
   ]
  },
  {
   "cell_type": "markdown",
   "metadata": {},
   "source": [
    "Is it clear how our test is working?\n",
    "\n",
    "How would we write code to determine the size of the second sentence in the string using a *while* loop? (You can for example define a variable *sentence_count* and use it in the test condition.)"
   ]
  },
  {
   "cell_type": "code",
   "execution_count": 47,
   "metadata": {},
   "outputs": [
    {
     "data": {
      "text/plain": [
       "211"
      ]
     },
     "execution_count": 47,
     "metadata": {},
     "output_type": "execute_result"
    }
   ],
   "source": [
    "i=188\n",
    "while 187<i<len(macbeth) and macbeth[i] not in '.!?':\n",
    "    i=i+1\n",
    "i"
   ]
  },
  {
   "cell_type": "code",
   "execution_count": 49,
   "metadata": {},
   "outputs": [
    {
     "data": {
      "text/plain": [
       "4"
      ]
     },
     "execution_count": 49,
     "metadata": {},
     "output_type": "execute_result"
    }
   ],
   "source": [
    "sentence_count=0\n",
    "for i in macbeth:\n",
    "    if i in '.!?':\n",
    "        sentence_count=sentence_count+1\n",
    "sentence_count"
   ]
  },
  {
   "cell_type": "markdown",
   "metadata": {},
   "source": [
    "Even if most tasks can be performed using either a *for* or a *while* loop, depending on the particular situation, it can be more \"natural\" to write code using one or the other."
   ]
  },
  {
   "cell_type": "markdown",
   "metadata": {},
   "source": [
    "## Summary"
   ]
  },
  {
   "cell_type": "markdown",
   "metadata": {},
   "source": [
    "Loops are fundamental operations in many programming languages as they provide repetition and many complex tasks can be achieved by repetition of many simpler steps. In Python there are tow basic types of loops: *for* and *while* loops.\n",
    "\n",
    "*for* loops are more suited when the number of repetitions is known is some form *a priori*, or when we wish to select every element of a list or string.\n",
    "\n",
    "*while* loops are more general, they imply repetition while a specific test yields True. It is important to make sure that the loop body will induce changes that will stop the loop at some stage.\n",
    "\n",
    "In both cases, a frequent construct is to set up a *result* variable that is consecutivelly updated inside a loop to achieve the intended value.\n",
    "\n",
    "With loops, we finish introducing the basic pieces of programming: we have the canvas and brushes, the rest will be the landscape to create the painting. (In reality we could do just with integer numbers, sums, an infinite list, *if* statements, and a loop, but [such machinery](http://planetmath.org/unlimitedregistermachine) would provide a very unsatisfactory programming experience, so Python provides some more functionality for our comfort)."
   ]
  },
  {
   "cell_type": "markdown",
   "metadata": {},
   "source": [
    "## Exercises"
   ]
  },
  {
   "cell_type": "markdown",
   "metadata": {},
   "source": [
    "### F count"
   ]
  },
  {
   "cell_type": "markdown",
   "metadata": {},
   "source": [
    "Write some code to count the number of F letters in the following sentence\n",
    "\n",
    "    eyetrick=\"Finished files are the result of years of scientific study combined with the experience of years.\"\n",
    "\n",
    "Do you agree with the answer you obtain from the computer?"
   ]
  },
  {
   "cell_type": "code",
   "execution_count": 52,
   "metadata": {},
   "outputs": [
    {
     "data": {
      "text/plain": [
       "6"
      ]
     },
     "execution_count": 52,
     "metadata": {},
     "output_type": "execute_result"
    }
   ],
   "source": [
    "eyetrick=\"Finished files are the result of years of scientific study combined with the experience of years.\"\n",
    "f=0\n",
    "for i in eyetrick:\n",
    "    if i in 'F,f':\n",
    "        f=f+1\n",
    "f"
   ]
  },
  {
   "cell_type": "markdown",
   "metadata": {},
   "source": [
    "### Column from a 2D list"
   ]
  },
  {
   "cell_type": "markdown",
   "metadata": {},
   "source": [
    "As we have seen before, it is rather straighforward to extract a column from an array. There is no direct process of doing the same thing when dealing with lists. Using a loop, write a piece of code that would extract the second column of *table*\n",
    "\n",
    "    table=[[ 1, 2, 3, 4],\n",
    "           [ 5, 6, 7, 8],\n",
    "           [ 9,10,11,12],\n",
    "           [13,14,15,16]]"
   ]
  },
  {
   "cell_type": "code",
   "execution_count": 44,
   "metadata": {},
   "outputs": [
    {
     "data": {
      "text/plain": [
       "[2, 6, 10, 14]"
      ]
     },
     "execution_count": 44,
     "metadata": {},
     "output_type": "execute_result"
    }
   ],
   "source": [
    "table=[[ 1, 2, 3, 4],\n",
    "       [ 5, 6, 7, 8],\n",
    "       [ 9,10,11,12],\n",
    "       [13,14,15,16]]\n",
    "\n",
    "\n",
    "seccol=[]\n",
    "for row in table:\n",
    "    seccol=seccol+[row[1]]\n",
    "seccol"
   ]
  },
  {
   "cell_type": "markdown",
   "metadata": {},
   "source": [
    "Change your code such as to give you the first two columns of *table*"
   ]
  },
  {
   "cell_type": "code",
   "execution_count": 47,
   "metadata": {},
   "outputs": [
    {
     "data": {
      "text/plain": [
       "[[1, 2], [5, 6], [9, 10], [13, 14]]"
      ]
     },
     "execution_count": 47,
     "metadata": {},
     "output_type": "execute_result"
    }
   ],
   "source": [
    "twocol=[]\n",
    "for i in table:\n",
    "    twocol=twocol+[i[0:2]]\n",
    "twocol"
   ]
  },
  {
   "cell_type": "markdown",
   "metadata": {},
   "source": [
    "### Hello many"
   ]
  },
  {
   "cell_type": "markdown",
   "metadata": {},
   "source": [
    "Write some code that returns a string of the form \"Hello name1 and name2 and name3 and... nameN! How are you?\", where the names are of famous scientists taken from the following list\n",
    "\n",
    "    names=[\"Ἀριστοτέλης\",\"جابر بن حیان\",\"Lavoisier\",\"Менделе́ев\",\"இராமன்\",\"福井\"]\n",
    "    \n",
    "(Your solution should work for a list on any length)"
   ]
  },
  {
   "cell_type": "code",
   "execution_count": 56,
   "metadata": {},
   "outputs": [
    {
     "data": {
      "text/plain": [
       "'Hello Ἀριστοτέλης and جابر بن حیان and Lavoisier and Менделе́ев and இராமன் and 福井! How are you?'"
      ]
     },
     "execution_count": 56,
     "metadata": {},
     "output_type": "execute_result"
    }
   ],
   "source": [
    "names=[\"Ἀριστοτέλης\",\"جابر بن حیان\",\"Lavoisier\",\"Менделе́ев\",\"இராமன்\",\"福井\"]\n",
    "h=\"Hello \" + names[0]\n",
    "for i in names[1:]:\n",
    "    h= h+ \" and \"+ i\n",
    "h=h+\"! How are you?\"\n",
    "h"
   ]
  },
  {
   "cell_type": "markdown",
   "metadata": {},
   "source": [
    "### Total characters"
   ]
  },
  {
   "cell_type": "markdown",
   "metadata": {},
   "source": [
    "Calculate the total amount of characters in the list *names* above (i.e. the sum of the number of characters of each element)."
   ]
  },
  {
   "cell_type": "code",
   "execution_count": 60,
   "metadata": {},
   "outputs": [
    {
     "data": {
      "text/plain": [
       "50"
      ]
     },
     "execution_count": 60,
     "metadata": {},
     "output_type": "execute_result"
    }
   ],
   "source": [
    "co=0\n",
    "for name in names:\n",
    "    co=co+len(name)\n",
    "co"
   ]
  },
  {
   "cell_type": "markdown",
   "metadata": {},
   "source": [
    "# Part 2"
   ]
  },
  {
   "cell_type": "markdown",
   "metadata": {},
   "source": [
    "## Packaging more complex instructions"
   ]
  },
  {
   "cell_type": "markdown",
   "metadata": {},
   "source": [
    "As mentioned above, we are now equiped to tackle most problems in programming and build complex program from the relatively simple pieces of language we covered. However, it is convenient, and in practical terms even essential, to provide structure to our programs by grouping instructions together in order to achieve a more complex task.\n",
    "To perform more complex operations on data we will be using two mechanisms made available by the Python language: *functions* and *methods*.\n",
    "\n",
    "So far we have already come across some simple functions, such as type(), len(), float(), print() or range(). To make use of a function, the general syntax is:\n",
    "\n",
    "    function_name(function_arguments)\n",
    "    \n",
    "and we will obtain the result of the function operation on the argument. In the example\n",
    "    \n",
    "    len(\"count me in\")"
   ]
  },
  {
   "cell_type": "code",
   "execution_count": 4,
   "metadata": {},
   "outputs": [
    {
     "data": {
      "text/plain": [
       "11"
      ]
     },
     "execution_count": 4,
     "metadata": {},
     "output_type": "execute_result"
    }
   ],
   "source": [
    "len(\"count me in\")"
   ]
  },
  {
   "cell_type": "markdown",
   "metadata": {},
   "source": [
    "len is the function name, which as we have seen counts the number of characters in a string; \"count me in\" is the string the function is operating on; the result of the operation is on the Out[] cell. Naturaly we can store the result of the function on a variable\n",
    "\n",
    "    letter_count=len(\"count me in\")"
   ]
  },
  {
   "cell_type": "code",
   "execution_count": 5,
   "metadata": {},
   "outputs": [],
   "source": [
    "letter_count=len(\"count me in\")"
   ]
  },
  {
   "cell_type": "markdown",
   "metadata": {},
   "source": [
    "    letter_count"
   ]
  },
  {
   "cell_type": "code",
   "execution_count": 6,
   "metadata": {},
   "outputs": [
    {
     "data": {
      "text/plain": [
       "11"
      ]
     },
     "execution_count": 6,
     "metadata": {},
     "output_type": "execute_result"
    }
   ],
   "source": [
    "letter_count"
   ]
  },
  {
   "cell_type": "markdown",
   "metadata": {},
   "source": [
    "Functions can accept more than one argument, in which case they are separated by commas.\n",
    "\n",
    "    days=365\n",
    "    print(\"A year has\",days,\"days\")"
   ]
  },
  {
   "cell_type": "code",
   "execution_count": 7,
   "metadata": {},
   "outputs": [
    {
     "name": "stdout",
     "output_type": "stream",
     "text": [
      "A day has 365 days\n"
     ]
    }
   ],
   "source": [
    "days=365\n",
    "print(\"A day has\", days, \"days\")"
   ]
  },
  {
   "cell_type": "markdown",
   "metadata": {},
   "source": [
    "The print functions is being called with 3 arguments, two strings and one variable which is a number. Note once more that print does not give an output, it is just printing to the screen all the arguments separated by spaces. It is thus not very useful to assign the result of print to a variable\n",
    "\n",
    "    unresult=print(\"pointless\")"
   ]
  },
  {
   "cell_type": "code",
   "execution_count": 8,
   "metadata": {},
   "outputs": [
    {
     "name": "stdout",
     "output_type": "stream",
     "text": [
      "pointless\n"
     ]
    }
   ],
   "source": [
    "unresult=print(\"pointless\")"
   ]
  },
  {
   "cell_type": "markdown",
   "metadata": {},
   "source": [
    "    unresult"
   ]
  },
  {
   "cell_type": "code",
   "execution_count": 9,
   "metadata": {},
   "outputs": [],
   "source": [
    "unresult"
   ]
  },
  {
   "cell_type": "markdown",
   "metadata": {},
   "source": [
    "There are a number of inbuilt functions in python to perform different tasks, these are listed in the [official documentation](http://docs.python.org/3/library/functions.html), we will make use of a few relevant ones but shall otherwise not insist on them. Much more useful will be to build our own custom made functions. We will see how to do this presently, but first we will look at another mechanism we haven't encoutered yet: *methods*.\n",
    "\n",
    "Methods are similar to functions but they are more tightly related to the objects they act on. For example, a pertinent operation when operating on strings would be to give the same string all in capital letters. This can be done via a specific string method.\n",
    "First let us define the string variable\n",
    "\n",
    "    a=\"i shall be big\""
   ]
  },
  {
   "cell_type": "code",
   "execution_count": 10,
   "metadata": {},
   "outputs": [],
   "source": [
    "a=\"i shall be big\""
   ]
  },
  {
   "cell_type": "markdown",
   "metadata": {},
   "source": [
    "To check what specific methods are available to strings, we can write the variable name followed by a dot '.' and press the tab key on the keyboad\n",
    "\n",
    "    a."
   ]
  },
  {
   "cell_type": "code",
   "execution_count": 11,
   "metadata": {},
   "outputs": [
    {
     "ename": "SyntaxError",
     "evalue": "invalid syntax (<ipython-input-11-a0d310e2b5e6>, line 1)",
     "output_type": "error",
     "traceback": [
      "\u001b[1;36m  File \u001b[1;32m\"<ipython-input-11-a0d310e2b5e6>\"\u001b[1;36m, line \u001b[1;32m1\u001b[0m\n\u001b[1;33m    a.\u001b[0m\n\u001b[1;37m      ^\u001b[0m\n\u001b[1;31mSyntaxError\u001b[0m\u001b[1;31m:\u001b[0m invalid syntax\n"
     ]
    }
   ],
   "source": [
    "a."
   ]
  },
  {
   "cell_type": "markdown",
   "metadata": {},
   "source": [
    "In the drop-down list all methods that can be applied to variable *a* are displayed. The method *.upper()* is the one that will perform our intended task\n",
    "\n",
    "    a.upper()"
   ]
  },
  {
   "cell_type": "code",
   "execution_count": 12,
   "metadata": {},
   "outputs": [
    {
     "data": {
      "text/plain": [
       "'I SHALL BE BIG'"
      ]
     },
     "execution_count": 12,
     "metadata": {},
     "output_type": "execute_result"
    }
   ],
   "source": [
    "a.upper()"
   ]
  },
  {
   "cell_type": "markdown",
   "metadata": {},
   "source": [
    "The general syntax is thus\n",
    "\n",
    "    variable_name.method_name(optional_arguments)\n",
    "\n",
    "During this course we shall not be defining our own methods, but we will be using some useful pre-existing ones."
   ]
  },
  {
   "cell_type": "markdown",
   "metadata": {},
   "source": [
    "### Defining new functions"
   ]
  },
  {
   "cell_type": "markdown",
   "metadata": {},
   "source": [
    "Any moderatly useful program can become big, encompassing hundreds or thousands of lines of code. In order to work with such codes in a manageble way, it is important to group code functionality in logical pieces that perform a specific task, and that can be reused whenever needed.\n",
    "Creating our own functions is a way of packaging such functionality.\n",
    "\n",
    "As with variables above, there is an analogy between functions in programming and in mathematics.\n",
    "A mathematical function is an operation that receives a number as an argument and returns another number based on the value of the argument. When we write the mathematical expression\n",
    "\n",
    "$$f(x)=x^2-1 ,$$\n",
    "\n",
    "we are defining an operation named $f$, which for a given value of the argument $x$ will give back a result $x^2-1$. Once more, $x$ takes one particular value at the time, it can be any value, but only one each time.\n",
    "\n",
    "While in mathematics, functions mostly receive numbers and return numbers, in programming the concept of a function is largely extended. As we've seen above for example, functions can return strings, or receive strings as arguments and return numbers, or package any other type of instruction. One simple idea remains: functions are operations that receive arguments and return a result based on the arguments it has received.\n",
    "\n",
    "Let us look at a practical example and how we would convert it into a function. Let us consider the case where we have two strings, str1 and str2, and we want to form one string from these two joined by a dash '-'.\n",
    "\n",
    "    str1=\"post\"\n",
    "    str2=\"meridiem\"\n",
    "    \n",
    "How would you accomplish the task in this case?"
   ]
  },
  {
   "cell_type": "code",
   "execution_count": 13,
   "metadata": {},
   "outputs": [],
   "source": [
    "str1=\"post\"\n",
    "str2=\"meridiem\""
   ]
  },
  {
   "cell_type": "code",
   "execution_count": 14,
   "metadata": {},
   "outputs": [
    {
     "data": {
      "text/plain": [
       "'post-meridiem'"
      ]
     },
     "execution_count": 14,
     "metadata": {},
     "output_type": "execute_result"
    }
   ],
   "source": [
    "str1+'-'+str2"
   ]
  },
  {
   "cell_type": "markdown",
   "metadata": {},
   "source": [
    "This task was relativelly simple, but if we want to repeat it for 300 other pairs of strings, even for such a simple task, we could benefit from encapsulating this operation into a function. We will call our function *merge*\n",
    "\n",
    "    def merge(a,b):\n",
    "        \"Merge two strings with a dash.\"\n",
    "        c= a + '-' + b\n",
    "        return c"
   ]
  },
  {
   "cell_type": "code",
   "execution_count": 15,
   "metadata": {},
   "outputs": [],
   "source": [
    "def merge(a,b):\n",
    "    \"Merge two strings with a dash.\"\n",
    "    c=a+'-'+b\n",
    "    return c"
   ]
  },
  {
   "cell_type": "markdown",
   "metadata": {},
   "source": [
    "We will analyse how the function definition works, but first you should use the function merge we just defined to accomplish the same result as above."
   ]
  },
  {
   "cell_type": "code",
   "execution_count": 16,
   "metadata": {},
   "outputs": [
    {
     "data": {
      "text/plain": [
       "'post-meridiem'"
      ]
     },
     "execution_count": 16,
     "metadata": {},
     "output_type": "execute_result"
    }
   ],
   "source": [
    "merge(\"post\",\"meridiem\")"
   ]
  },
  {
   "cell_type": "markdown",
   "metadata": {},
   "source": [
    "#### Step 1: function signature"
   ]
  },
  {
   "cell_type": "markdown",
   "metadata": {},
   "source": [
    "The function *signature* corresponds to the first line in the function definition and specifies some important information\n",
    "\n",
    "    def merge(a,b):\n",
    "\n",
    "It starts with the keyword *def*, which tells Python that we are *defining* a function. Then comes a space, and the name of our function, in this case *merge*. After, an open parenthesis, the comma-separated function arguments. In this case the function has two arguments we are calling *a* and *b*. After the arguments, a close parenthesis, and a colon.\n",
    "\n",
    "The number of arguments depends highly on what the function does. We can even have a function with no arguments\n",
    "\n",
    "    def function_name():\n",
    "\n",
    "or one argument\n",
    "\n",
    "    def function_name(x1):\n",
    "\n",
    "or any other number of arguments.\n",
    "\n",
    "An important point to note is that the argument labels *a* and *b* we chose for our function are not variables we may have defined outside the function. They will be \"names\" used solely inside the function, just as the $x$ in $f(x)=x^2$ is just a label that could be called $w$ as in $f(w)=w^2$."
   ]
  },
  {
   "cell_type": "markdown",
   "metadata": {},
   "source": [
    "#### Step 1.5: document string"
   ]
  },
  {
   "cell_type": "markdown",
   "metadata": {},
   "source": [
    "After our signature line we can add a piece of text enclosed in quotes explaining to the human reader what the function is doing. This is calles a *docstring*.\n",
    "\n",
    "    def merge(a,b):\n",
    "        \"Merge two strings with a dash.\"\n",
    "        \n",
    "This is a matter of best practice. The docstring has no effect on the operation of the function, but when functions get very complicated and many lines long, or we start having many functions to work with, it is very useful to have a short explanation text.\n",
    "\n",
    "The docstring is shown when the question mark is used to gather information about the function\n",
    "\n",
    "    merge?"
   ]
  },
  {
   "cell_type": "code",
   "execution_count": 17,
   "metadata": {},
   "outputs": [],
   "source": [
    "merge?"
   ]
  },
  {
   "cell_type": "markdown",
   "metadata": {},
   "source": [
    "#### Step 2: do useful work inside the function"
   ]
  },
  {
   "cell_type": "markdown",
   "metadata": {},
   "source": [
    "Underneath the function signature and document string  we do the useful work. As with if statements and loops before, **everything inside the function is indented**, so Python knows that it is a part of the function.\n",
    "\n",
    "    def merge(a,b):\n",
    "        \"Merge two strings with a dash.\"\n",
    "        c= a + '-' + b\n",
    "        \n",
    "In the function body we can use the function arguments *a* and *b* just as we have used variables. In this case we are storing the result of the operation *a + '-' + b* into the local variable *c*. It is important to note that both the function arguments *a* and *b*, as well as variables defined inside the function, are not afected by the values of the variables of the same name defined outside the function\n",
    "\n",
    "    a=1\n",
    "    b=2\n",
    "    c=3\n",
    "    merge('no','entry')"
   ]
  },
  {
   "cell_type": "code",
   "execution_count": 18,
   "metadata": {},
   "outputs": [
    {
     "data": {
      "text/plain": [
       "'no-entry'"
      ]
     },
     "execution_count": 18,
     "metadata": {},
     "output_type": "execute_result"
    }
   ],
   "source": [
    "a=1\n",
    "b=2\n",
    "c=3\n",
    "merge('no', 'entry')"
   ]
  },
  {
   "cell_type": "markdown",
   "metadata": {},
   "source": [
    "We can check what value the variable c at the moment\n",
    "\n",
    "    c"
   ]
  },
  {
   "cell_type": "code",
   "execution_count": 19,
   "metadata": {},
   "outputs": [
    {
     "data": {
      "text/plain": [
       "3"
      ]
     },
     "execution_count": 19,
     "metadata": {},
     "output_type": "execute_result"
    }
   ],
   "source": [
    "c"
   ]
  },
  {
   "cell_type": "markdown",
   "metadata": {},
   "source": [
    "We see that even though there is a variable *c* inside the function *merge*, which when we call the function will assume a given value, that variable is local to the function and is isolated from the global variable with the same name *c*, which conserves the same value as before."
   ]
  },
  {
   "cell_type": "markdown",
   "metadata": {},
   "source": [
    "#### Step 3: return something"
   ]
  },
  {
   "cell_type": "markdown",
   "metadata": {},
   "source": [
    "Although it is possible to create functions which produce no output (the function *print* is an example of this), most functions yield an output of one form or the other, such that it can be assigned to a variable.\n",
    "\n",
    "The output of a function is controled by the *return* keyword\n",
    "\n",
    "    def merge(a,b):\n",
    "        \"Merge two strings with a dash.\"\n",
    "        c= a + '-' + b\n",
    "        return c\n",
    "\n",
    "In the case of the function *merge*, the output will be the value of the local variable *c* defined in the body of the function.\n",
    "\n",
    "We could have defined the function *merge* without making use of the local variable *c* and giving exactly the same output\n",
    "\n",
    "    def merge(a,b):\n",
    "        \"Merge two strings with a dash.\"\n",
    "        return a + '-' + b\n",
    "        \n",
    "\n",
    "Once the *return* statement of the function is executed, we are done with the function -- we don't get to do any more work. That means if we have a function like this:\n",
    "\n",
    "    def merge(a,b):\n",
    "        \"Merge two strings with a dash.\"\n",
    "        c= a + '-' + b\n",
    "        return c\n",
    "        print(\"This is meant to be really clever!\")\n",
    "        \n",
    "The print statement will never be executed. Try it below."
   ]
  },
  {
   "cell_type": "code",
   "execution_count": 20,
   "metadata": {},
   "outputs": [],
   "source": [
    "def merge(a,b):\n",
    "    \"Merge two strings with a dash.\"\n",
    "    c= a + '-' + b\n",
    "    return c\n",
    "    print(\"This is meant to be really clever!\")"
   ]
  },
  {
   "cell_type": "markdown",
   "metadata": {},
   "source": [
    "Now that we covered how to define functions, define the function $f(x)=x^2-1$ we considered above. Do not forget to give an appropriate docstring."
   ]
  },
  {
   "cell_type": "code",
   "execution_count": 21,
   "metadata": {},
   "outputs": [],
   "source": [
    "def f(a):\n",
    "    \"Square the number and take 1\"\n",
    "    b=a**2-1\n",
    "    return b"
   ]
  },
  {
   "cell_type": "markdown",
   "metadata": {},
   "source": [
    "Use the function to produce a list with the results of the function $f$ for integer values of the argument between 0 and 10."
   ]
  },
  {
   "cell_type": "code",
   "execution_count": 26,
   "metadata": {},
   "outputs": [
    {
     "data": {
      "text/plain": [
       "[0, 1, 2, 3, 4, 5, 6, 7, 8, 9, 10]"
      ]
     },
     "execution_count": 26,
     "metadata": {},
     "output_type": "execute_result"
    }
   ],
   "source": [
    "x=list(range(11))\n",
    "x"
   ]
  },
  {
   "cell_type": "code",
   "execution_count": 36,
   "metadata": {},
   "outputs": [
    {
     "data": {
      "text/plain": [
       "[-1, 0, 3, 8, 15, 24, 35, 48, 63, 80, 99]"
      ]
     },
     "execution_count": 36,
     "metadata": {},
     "output_type": "execute_result"
    }
   ],
   "source": [
    "y=[]\n",
    "for i in x:\n",
    "    y=y+[f(i)]\n",
    "y"
   ]
  },
  {
   "cell_type": "markdown",
   "metadata": {},
   "source": [
    "## Summary"
   ]
  },
  {
   "cell_type": "markdown",
   "metadata": {},
   "source": [
    "Even simple programs can quickly grow to hundreds or thousands of code lines. Structuring programs using functions and methods is essential to make programs scallable and manageable.\n",
    "\n",
    "Functions in programming are similar to functions in mathematics, except that they are not limited to dealing with numbers. Functions are operations that receive arguments and return a result based on the arguments it has received."
   ]
  },
  {
   "cell_type": "markdown",
   "metadata": {},
   "source": [
    "## Exercises"
   ]
  },
  {
   "cell_type": "markdown",
   "metadata": {},
   "source": [
    "In these exercises you will write functions that perform a particular task. For the exercises we are using this docstring to specify how we want the function to behave. It shows examples of the function being used along with what output we expect to be produced.\n",
    "\n",
    "The exercises consist in **completing** the body of the function (bellow the docstring) such as to achieve the desired functionality. You should also test the functions on seperate cells to check they are working as intended."
   ]
  },
  {
   "cell_type": "markdown",
   "metadata": {},
   "source": [
    "### Make HTML"
   ]
  },
  {
   "cell_type": "markdown",
   "metadata": {},
   "source": [
    "Web pages are written in hypertext markup language ([HTML](http://www.w3schools.com/tags/default.asp)), which consists in enclosing the text of the documents between tags that specify its function in the document. For example, \"&lt;p&gt;A paragraph of text&lt;/p&gt;\" causes the string \"A paragraph of text\" to be identified as a paragraph in the document. In this example, the \"p\" tag surrounds the string \"A paragraph of text\" starting with &lt;p&gt; and ending with &lt;/p&gt;. Given a string *tag* and a string *word*, return the word with HTML tags around it as \"&lt;tag&gt;word&lt;/tag&gt;\". "
   ]
  },
  {
   "cell_type": "code",
   "execution_count": 68,
   "metadata": {},
   "outputs": [],
   "source": [
    "def make_HTML(tag, word):\n",
    "    r'''\n",
    "    >>> make_HTML('p', 'A paragraph')\n",
    "    '<p>A paragraph</p>'\n",
    "    >>> make_HTML('h1', 'Title of the document')\n",
    "    '<h1>Title of the document</h1>'\n",
    "    >>> make_HTML('code', 'variable')\n",
    "    '<code>variable</code>'\n",
    "    '''\n",
    "    w=\"<\"+tag+\">\"+word+\"</\"+tag+\">\"\n",
    "    return w"
   ]
  },
  {
   "cell_type": "code",
   "execution_count": 70,
   "metadata": {},
   "outputs": [
    {
     "data": {
      "text/plain": [
       "'<hi>ella</hi>'"
      ]
     },
     "execution_count": 70,
     "metadata": {},
     "output_type": "execute_result"
    }
   ],
   "source": [
    "tag=\"hi\"\n",
    "word=\"ella\"\n",
    "hey=make_HTML(tag, word)\n",
    "hey"
   ]
  },
  {
   "cell_type": "markdown",
   "metadata": {},
   "source": [
    "### Stretch string"
   ]
  },
  {
   "cell_type": "markdown",
   "metadata": {},
   "source": [
    "Given a string and an integer *stretch_number*, return a string in which each character of the original string is repeated stretch_number times."
   ]
  },
  {
   "cell_type": "code",
   "execution_count": 80,
   "metadata": {},
   "outputs": [],
   "source": [
    "\n",
    "def stretch_string(string, stretch_number):\n",
    "    r'''\n",
    "    >>> stretch_string('banana', 2)\n",
    "    'bbaannaannaa'\n",
    "    >>> stretch_string('apple', 3)\n",
    "    'aaappppppllleee'\n",
    "    >>> stretch_string('fig', 4)\n",
    "    'ffffiiiigggg'\n",
    "    '''\n",
    "    v=\"\"\n",
    "    for letter in string:\n",
    "        v=v+letter*stretch_number\n",
    "    return v"
   ]
  },
  {
   "cell_type": "code",
   "execution_count": 81,
   "metadata": {},
   "outputs": [
    {
     "data": {
      "text/plain": [
       "'hhhiiissssss'"
      ]
     },
     "execution_count": 81,
     "metadata": {},
     "output_type": "execute_result"
    }
   ],
   "source": [
    "string=\"hiss\"\n",
    "no=3\n",
    "z=stretch_string(string,no)\n",
    "z"
   ]
  },
  {
   "cell_type": "markdown",
   "metadata": {},
   "source": [
    "### Remove vowels"
   ]
  },
  {
   "cell_type": "markdown",
   "metadata": {},
   "source": [
    "Given a lower-case string, return that string with all of the vowels removed."
   ]
  },
  {
   "cell_type": "code",
   "execution_count": 82,
   "metadata": {},
   "outputs": [],
   "source": [
    "def remove_vowels(string):\n",
    "    r'''\n",
    "    >>> remove_vowels('bookkeeper')\n",
    "    'bkkpr'\n",
    "    >>> remove_vowels('almanac')\n",
    "    'lmnc'\n",
    "    >>> remove_vowels('syzygy')\n",
    "    'syzygy'\n",
    "    '''\n",
    "    v=\"\"\n",
    "    for letter in string:\n",
    "        if letter not in \"a,e,i,o,u\":\n",
    "            v=v+letter\n",
    "    return v"
   ]
  },
  {
   "cell_type": "code",
   "execution_count": 83,
   "metadata": {},
   "outputs": [
    {
     "data": {
      "text/plain": [
       "'bkkpr'"
      ]
     },
     "execution_count": 83,
     "metadata": {},
     "output_type": "execute_result"
    }
   ],
   "source": [
    "string=\"bookkeeper\"\n",
    "t=remove_vowels(string)\n",
    "t"
   ]
  },
  {
   "cell_type": "markdown",
   "metadata": {},
   "source": [
    "### Mean"
   ]
  },
  {
   "cell_type": "markdown",
   "metadata": {},
   "source": [
    "The NumPy package has the function mean() to calculate the mean value given a list (or array), but we shall do our own."
   ]
  },
  {
   "cell_type": "code",
   "execution_count": 84,
   "metadata": {},
   "outputs": [],
   "source": [
    "def our_mean(data):\n",
    "    r'''\n",
    "    >>> our_mean([1,2,3])\n",
    "    2.0\n",
    "    >>> our_mean([1,10,100])\n",
    "    37.0\n",
    "    >>> our_mean([0.12,-5,1/137,-3.14159265])\n",
    "    -2.0035733449817519\n",
    "    '''\n",
    "    v=0\n",
    "    for num in data:\n",
    "        v=v+num\n",
    "    w=v/len(data)\n",
    "    return w"
   ]
  },
  {
   "cell_type": "code",
   "execution_count": 85,
   "metadata": {},
   "outputs": [
    {
     "data": {
      "text/plain": [
       "2.5"
      ]
     },
     "execution_count": 85,
     "metadata": {},
     "output_type": "execute_result"
    }
   ],
   "source": [
    "data=[0,1,2,3,4,5]\n",
    "av=our_mean(data)\n",
    "av"
   ]
  },
  {
   "cell_type": "markdown",
   "metadata": {},
   "source": [
    "### Standard deviation"
   ]
  },
  {
   "cell_type": "markdown",
   "metadata": {},
   "source": [
    "Use your function our_mean() you produced above, to create a function that gives the sample standard deviation of a list. As a reminder, the standard deviation can be calculated as\n",
    "\n",
    "$$s_x=\\sqrt{\\frac{\\sum_{i=1}^N (x_i-\\bar{x})^2}{N-1}}$$\n",
    "\n",
    "where $\\bar{x}$ is the sample mean."
   ]
  },
  {
   "cell_type": "code",
   "execution_count": 86,
   "metadata": {},
   "outputs": [],
   "source": [
    "def our_std(data):\n",
    "    r'''\n",
    "    >>> our_std([1,2,3])\n",
    "    1.0\n",
    "    >>> our_std([1,10,100])\n",
    "    54.74486277268398\n",
    "    >>> our_std([0.12,-5,1/137,-3.14159265])\n",
    "    2.5051169675281404\n",
    "    '''\n",
    "    v=0\n",
    "    for num in data:\n",
    "        v=v+(num-our_mean(data))**2\n",
    "    w=(v/(len(data)-1))**0.5\n",
    "    return w"
   ]
  },
  {
   "cell_type": "code",
   "execution_count": 87,
   "metadata": {},
   "outputs": [
    {
     "data": {
      "text/plain": [
       "1.8708286933869707"
      ]
     },
     "execution_count": 87,
     "metadata": {},
     "output_type": "execute_result"
    }
   ],
   "source": [
    "data=[0,1,2,3,4,5]\n",
    "std=our_std(data)\n",
    "std"
   ]
  },
  {
   "cell_type": "markdown",
   "metadata": {},
   "source": [
    "### Spelling bee"
   ]
  },
  {
   "cell_type": "markdown",
   "metadata": {},
   "source": [
    "Given the correct spelling of a word, and the contestant's guessed spelling, return the string \"correct\" if the guess is spelled exactly correctly, \"almost\" if there are at most two mistakes in the spelling, and \"wrong\" if three or more letters are different. You can assume that all guesses are the correct length."
   ]
  },
  {
   "cell_type": "code",
   "execution_count": 90,
   "metadata": {},
   "outputs": [],
   "source": [
    "def spelling_bee(correct, guess):\n",
    "    r'''\n",
    "    >>> spelling_bee('hello', 'hello')\n",
    "    'correct'\n",
    "    >>> spelling_bee('python', 'pithon')\n",
    "    'almost'\n",
    "    >>> spelling_bee('echolocation', 'eckolocashun')\n",
    "    'wrong'\n",
    "    '''\n",
    "    mistakes=0\n",
    "    if correct == guess:\n",
    "        v='correct'\n",
    "    for index in range(len(correct)) :\n",
    "        guess_letter = guess[index]\n",
    "        correct_letter = correct[index]\n",
    "        if correct_letter != guess_letter:\n",
    "            mistakes=mistakes+1\n",
    "    if mistakes == 1 or mistakes == 2:\n",
    "        v='almost'\n",
    "    if mistakes >2:\n",
    "        v='wrong'\n",
    "    return v"
   ]
  },
  {
   "cell_type": "code",
   "execution_count": 93,
   "metadata": {},
   "outputs": [
    {
     "data": {
      "text/plain": [
       "'wrong'"
      ]
     },
     "execution_count": 93,
     "metadata": {},
     "output_type": "execute_result"
    }
   ],
   "source": [
    "spelling_bee('hello', 'hieoo')"
   ]
  },
  {
   "cell_type": "code",
   "execution_count": null,
   "metadata": {
    "collapsed": true
   },
   "outputs": [],
   "source": []
  }
 ],
 "metadata": {
  "anaconda-cloud": {},
  "kernelspec": {
   "display_name": "Python 3",
   "language": "python",
   "name": "python3"
  },
  "language_info": {
   "codemirror_mode": {
    "name": "ipython",
    "version": 3
   },
   "file_extension": ".py",
   "mimetype": "text/x-python",
   "name": "python",
   "nbconvert_exporter": "python",
   "pygments_lexer": "ipython3",
   "version": "3.6.1"
  }
 },
 "nbformat": 4,
 "nbformat_minor": 1
}
