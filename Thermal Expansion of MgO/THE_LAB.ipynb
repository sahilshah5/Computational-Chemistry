{
	"cells": [{
			"cell_type": "markdown",
			"metadata": {},
			"source": [
				"# The Free Energy and Thermal Expansion of MgO\n",
				"\n",
				"**The script for this laboratory was firstly developed by [Dr. Bruno Camino](http://www.linkedin.com/in/bruno-camino-a11b8858) in 2018 following a previous version of the same [laboratory](http://www.ch.ic.ac.uk/harrison/Teaching/Thermal_Expansion/index.html).**"
			]
		},
		{
			"cell_type": "markdown",
			"metadata": {},
			"source": [
				"## Laboratory"
			]
		},
		{
			"cell_type": "markdown",
			"metadata": {},
			"source": [
				"[Settings](settings.ipynb) (You will only need to run this the first time you start the lab on a new computer.)\n",
				"<br>\n",
				"[Generate the structure](Exercises/generate.ipynb)\n",
				"<br>\n",
				"[Optimise the structure](Exercises/optimisation.ipynb)\n",
				"<br>\n",
				"[Phonons of a MgO chain](Exercises/mgo_chain.ipynb)\n",
				"<br>\n",
				"[Phonons and DOS of the MgO bulk](Exercises/phonons_dos.ipynb)\n",
				"<br>\n",
				"[Calculation the Gibbs free energy of MgO](Exercises/free_energy.ipynb)\n",
				"<br>\n",
				"Thermal expansion of MgO:\n",
				"- [Lattice dynamics](Exercises/ld.ipynb)\n",
				"- [Molecular dynamics](Exercises/md.ipynb)\n",
				"<br>\n",
				"<br>\n"
			]
		},
		{
			"cell_type": "markdown",
			"metadata": {},
			"source": [
				" ## Expected plan:\n",
				" By the end of Monday you should have finish with \"Phonons of a MgO chain\".\n",
				" <br>\n",
				" By the end of Tuesday you should have finish with \"Lattice Dynamics\".\n",
				" <br>\n",
				" By the end of Thursday you should have finish all the calculations.\n",
				" <br>\n"
			]
		},
		{
			"cell_type": "markdown",
			"metadata": {},
			"source": [
				"Some of the questions are meant to be open questions.\n",
				" <br>",
				"Please write down the tittle of the questions in the report.\n",
				"<br>"
			]
		}
	],
	"metadata": {
		"kernelspec": {
			"display_name": "Python 3",
			"language": "python",
			"name": "python3"
		},
		"language_info": {
			"codemirror_mode": {
				"name": "ipython",
				"version": 3
			},
			"file_extension": ".py",
			"mimetype": "text/x-python",
			"name": "python",
			"nbconvert_exporter": "python",
			"pygments_lexer": "ipython3",
			"version": "3.6.6"
		}
	},
	"nbformat": 4,
	"nbformat_minor": 2
}